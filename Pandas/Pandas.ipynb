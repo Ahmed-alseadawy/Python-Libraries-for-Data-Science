{
 "cells": [
  {
   "cell_type": "markdown",
   "metadata": {
    "id": "J-sHGTA_qq6-"
   },
   "source": [
    "# **Pandas Library :-**\n",
    "\n",
    "> Pandas is library kit for the Python programming language that can help manipulate data tables and enhance the selection of data or filtering and sorting or data cleaning so pandas can be very powerful for data analysis.  Pandas may be useful in the design of certain machine learning and neural network projects or other major innovations where the Python programming language plays a role. Common tasks attributed to Pandas include converting a Python list, dictionary or array to a Pandas data frame, as well as utilizing database files linked to a JSON or CSV web file.\n",
    "\n",
    "# **The Main Component in Pandas :** \n",
    "\n",
    ">    1.   Pandas Series.\n",
    ">    2.   Pandas Dataframe.\n",
    "  \n",
    "\n",
    "\n",
    "\n",
    "\n",
    "---\n",
    "\n",
    "\n",
    "\n",
    "---\n",
    "\n",
    "\n",
    "\n"
   ]
  },
  {
   "cell_type": "markdown",
   "metadata": {},
   "source": [
    "- [1.Pandas Series](#series)\n",
    "- [Operations in pandas series](#opSeries)\n",
    "- [2.Pandas dataFrame](#dataframe)\n",
    "- [Operations in pandas dataframe](#opdf)\n",
    "- [Operations in pandas dataframe2](#opdf2)\n",
    "- [Access and operate on files in pandas dataframe](#accessFile)\n",
    "\n",
    " \n",
    "\n",
    "\n"
   ]
  },
  {
   "cell_type": "markdown",
   "metadata": {},
   "source": [
    "<h3>What Can Pandas Do?</h3>\n",
    "Pandas gives you answers about the data. Like:\n",
    "\n",
    "Is there a correlation between two or more columns?\n",
    "What is average value?\n",
    "Max value?\n",
    "Min value?\n",
    "Pandas are also able to delete rows that are not relevant, or contains wrong values, like empty or NULL values. This is called <b>cleaning the data."
   ]
  },
  {
   "cell_type": "code",
   "execution_count": 2,
   "metadata": {},
   "outputs": [
    {
     "name": "stdout",
     "output_type": "stream",
     "text": [
      "Requirement already satisfied: pandas in c:\\users\\dell\\anaconda3\\lib\\site-packages (1.2.4)\n",
      "Requirement already satisfied: python-dateutil>=2.7.3 in c:\\users\\dell\\anaconda3\\lib\\site-packages (from pandas) (2.8.1)\n",
      "Requirement already satisfied: numpy>=1.16.5 in c:\\users\\dell\\anaconda3\\lib\\site-packages (from pandas) (1.20.1)\n",
      "Requirement already satisfied: pytz>=2017.3 in c:\\users\\dell\\anaconda3\\lib\\site-packages (from pandas) (2021.1)\n",
      "Requirement already satisfied: six>=1.5 in c:\\users\\dell\\anaconda3\\lib\\site-packages (from python-dateutil>=2.7.3->pandas) (1.15.0)\n"
     ]
    }
   ],
   "source": [
    "#installing pandas\n",
    "pip install pandas"
   ]
  },
  {
   "cell_type": "code",
   "execution_count": 1,
   "metadata": {},
   "outputs": [],
   "source": [
    "#importing the library \n",
    "import pandas as pd"
   ]
  },
  {
   "cell_type": "code",
   "execution_count": 2,
   "metadata": {},
   "outputs": [
    {
     "name": "stdout",
     "output_type": "stream",
     "text": [
      "2.2.2\n"
     ]
    }
   ],
   "source": [
    "print(pd.__version__)"
   ]
  },
  {
   "cell_type": "markdown",
   "metadata": {
    "id": "fDg_cFzZoJns"
   },
   "source": [
    "<a id='series'></a>\n",
    "# **1.Pandas Series** \n",
    "\n",
    "\n",
    "> One-dimensional labeled array capable of holding data of any type (integer, string, float, etc.). The axis labels are collectively called index. Pandas Series is nothing but a column in an excel sheet or feature vector in data set.\n"
   ]
  },
  {
   "cell_type": "code",
   "execution_count": 3,
   "metadata": {
    "id": "VNb7kMQOqhFj"
   },
   "outputs": [],
   "source": [
    "#Importing Libraries\n",
    "import pandas as pd\n",
    "import numpy as np"
   ]
  },
  {
   "cell_type": "markdown",
   "metadata": {
    "id": "5VKXWGLBwL-7"
   },
   "source": [
    "## The ways to build pandas series : \n",
    "\n",
    "\n",
    "\n",
    "\n",
    "\n",
    "\n"
   ]
  },
  {
   "cell_type": "code",
   "execution_count": 4,
   "metadata": {
    "id": "cQGmv27V1NP6"
   },
   "outputs": [],
   "source": [
    "#Creating pandas series from list\n",
    "data_list = [10,20,30]"
   ]
  },
  {
   "cell_type": "code",
   "execution_count": 5,
   "metadata": {
    "colab": {
     "base_uri": "https://localhost:8080/"
    },
    "id": "_q3o3tup1WST",
    "outputId": "17314044-233e-4087-9173-ff0a69c71a68"
   },
   "outputs": [
    {
     "data": {
      "text/plain": [
       "[10, 20, 30]"
      ]
     },
     "execution_count": 5,
     "metadata": {},
     "output_type": "execute_result"
    }
   ],
   "source": [
    "data_list"
   ]
  },
  {
   "cell_type": "code",
   "execution_count": 6,
   "metadata": {
    "colab": {
     "base_uri": "https://localhost:8080/"
    },
    "id": "N4E-MuHJ1RA7",
    "outputId": "9a19bb3d-6e0c-4fc4-aff3-9d01b86aebad"
   },
   "outputs": [
    {
     "data": {
      "text/plain": [
       "0    10\n",
       "1    20\n",
       "2    30\n",
       "dtype: int64"
      ]
     },
     "execution_count": 6,
     "metadata": {},
     "output_type": "execute_result"
    }
   ],
   "source": [
    "# to create a series using pandas we use Series() class in pandas\n",
    "pd.Series(data_list)"
   ]
  },
  {
   "cell_type": "code",
   "execution_count": 7,
   "metadata": {
    "id": "cxqUUgBRqd7g"
   },
   "outputs": [],
   "source": [
    "#Creating pandas series from list with index\n",
    "indx__ = ['fr','sc','th'] \n",
    "data_list = [10,20,30]"
   ]
  },
  {
   "cell_type": "code",
   "execution_count": 8,
   "metadata": {
    "colab": {
     "base_uri": "https://localhost:8080/"
    },
    "id": "6p5ucB9MoJDA",
    "outputId": "358fc5ea-f2fa-4ed5-a21f-27082a7962ca"
   },
   "outputs": [
    {
     "data": {
      "text/plain": [
       "['fr', 'sc', 'th']"
      ]
     },
     "execution_count": 8,
     "metadata": {},
     "output_type": "execute_result"
    }
   ],
   "source": [
    "indx__"
   ]
  },
  {
   "cell_type": "code",
   "execution_count": 9,
   "metadata": {
    "colab": {
     "base_uri": "https://localhost:8080/"
    },
    "id": "ace8j1FJ0RCW",
    "outputId": "278de5dc-cabf-4b5e-f512-a156a6e46b33"
   },
   "outputs": [
    {
     "data": {
      "text/plain": [
       "fr    10\n",
       "sc    20\n",
       "th    30\n",
       "dtype: int64"
      ]
     },
     "execution_count": 9,
     "metadata": {},
     "output_type": "execute_result"
    }
   ],
   "source": [
    "# create a series with indexing the its data\n",
    "pd.Series(data=data_list , index=indx__)"
   ]
  },
  {
   "cell_type": "code",
   "execution_count": 10,
   "metadata": {
    "id": "6M4oYv4o1nv8"
   },
   "outputs": [],
   "source": [
    "#Creating pandas series from dictionary\n",
    "dic = {'A':111, 'B':222,'C':333 ,'D':444 }"
   ]
  },
  {
   "cell_type": "code",
   "execution_count": 11,
   "metadata": {
    "colab": {
     "base_uri": "https://localhost:8080/"
    },
    "id": "429g4VMY16D8",
    "outputId": "b5aa4dad-108a-4452-fb03-15ecd7fd3ce4"
   },
   "outputs": [
    {
     "data": {
      "text/plain": [
       "{'A': 111, 'B': 222, 'C': 333, 'D': 444}"
      ]
     },
     "execution_count": 11,
     "metadata": {},
     "output_type": "execute_result"
    }
   ],
   "source": [
    "dic"
   ]
  },
  {
   "cell_type": "code",
   "execution_count": 12,
   "metadata": {
    "colab": {
     "base_uri": "https://localhost:8080/"
    },
    "id": "XaKnJgGS18v2",
    "outputId": "524716fe-a9a5-43fd-c492-9fbdc6465504"
   },
   "outputs": [
    {
     "data": {
      "text/plain": [
       "A    111\n",
       "B    222\n",
       "C    333\n",
       "D    444\n",
       "dtype: int64"
      ]
     },
     "execution_count": 12,
     "metadata": {},
     "output_type": "execute_result"
    }
   ],
   "source": [
    "# dicyionary's key is concedered the index and the values are the series's values\n",
    "pd.Series(dic)"
   ]
  },
  {
   "cell_type": "code",
   "execution_count": 13,
   "metadata": {
    "colab": {
     "base_uri": "https://localhost:8080/"
    },
    "id": "adzvkkFh2HPI",
    "outputId": "6fb3da1c-5df1-46b1-c605-e72846f48b2e"
   },
   "outputs": [
    {
     "data": {
      "text/plain": [
       "A    111\n",
       "B    222\n",
       "C    333\n",
       "D    444\n",
       "dtype: int64"
      ]
     },
     "execution_count": 13,
     "metadata": {},
     "output_type": "execute_result"
    }
   ],
   "source": [
    "#Anthor way\n",
    "pd.Series(data=list(dic.values()), index = list(dic.keys()))"
   ]
  },
  {
   "cell_type": "code",
   "execution_count": 14,
   "metadata": {
    "id": "livornf1pwEV"
   },
   "outputs": [],
   "source": [
    "#Creating pandas series from numpy array \n",
    "arr = np.arange(1,11,2)"
   ]
  },
  {
   "cell_type": "code",
   "execution_count": 15,
   "metadata": {
    "colab": {
     "base_uri": "https://localhost:8080/"
    },
    "id": "Q_CORDP93LPK",
    "outputId": "dc12ae66-f1bf-4f03-aba1-7e0d7fa06b89"
   },
   "outputs": [
    {
     "data": {
      "text/plain": [
       "A    1\n",
       "B    3\n",
       "C    5\n",
       "D    7\n",
       "E    9\n",
       "dtype: int32"
      ]
     },
     "execution_count": 15,
     "metadata": {},
     "output_type": "execute_result"
    }
   ],
   "source": [
    "pd.Series(arr,index= ['A','B','C','D','E'])   "
   ]
  },
  {
   "cell_type": "markdown",
   "metadata": {
    "id": "5X-qAWJmwurK"
   },
   "source": [
    "<a id='opSeries'></a>\n",
    "## Operations in pandas series : \n",
    "\n",
    "\n"
   ]
  },
  {
   "cell_type": "code",
   "execution_count": 16,
   "metadata": {
    "colab": {
     "base_uri": "https://localhost:8080/"
    },
    "id": "-vL6McBx4G68",
    "outputId": "1fc64d83-68a3-4394-a310-7e1ed54413af"
   },
   "outputs": [
    {
     "data": {
      "text/plain": [
       "Alex              32\n",
       "Kafr el sheikh    34\n",
       "Cairo             40\n",
       "Luxor             45\n",
       "Sinai             42\n",
       "dtype: int64"
      ]
     },
     "execution_count": 16,
     "metadata": {},
     "output_type": "execute_result"
    }
   ],
   "source": [
    "ser_1 = pd.Series([32,34,40,45,42],index=['Alex','Kafr el sheikh','Cairo','Luxor','Sinai'])\n",
    "ser_1"
   ]
  },
  {
   "cell_type": "code",
   "execution_count": 17,
   "metadata": {
    "colab": {
     "base_uri": "https://localhost:8080/"
    },
    "id": "dym7j_zH4Qyy",
    "outputId": "cfd2a214-ec5e-42b9-9b10-1f07e869b16a"
   },
   "outputs": [
    {
     "data": {
      "text/plain": [
       "Index(['Alex', 'Kafr el sheikh', 'Cairo', 'Luxor', 'Sinai'], dtype='object')"
      ]
     },
     "execution_count": 17,
     "metadata": {},
     "output_type": "execute_result"
    }
   ],
   "source": [
    "#getting the indexs in series\n",
    "ser_1.index"
   ]
  },
  {
   "cell_type": "code",
   "execution_count": 18,
   "metadata": {
    "collapsed": false
   },
   "outputs": [
    {
     "data": {
      "text/plain": [
       "Index(['Alex', 'Kafr el sheikh', 'Cairo', 'Luxor', 'Sinai'], dtype='object')"
      ]
     },
     "execution_count": 18,
     "metadata": {},
     "output_type": "execute_result"
    }
   ],
   "source": [
    "ser_1.keys()"
   ]
  },
  {
   "cell_type": "code",
   "execution_count": 19,
   "metadata": {
    "colab": {
     "base_uri": "https://localhost:8080/"
    },
    "id": "66pvQE9a460K",
    "outputId": "66cc846a-7a31-4c0a-87f4-2e56483d3d16"
   },
   "outputs": [
    {
     "data": {
      "text/plain": [
       "array([32, 34, 40, 45, 42], dtype=int64)"
      ]
     },
     "execution_count": 19,
     "metadata": {},
     "output_type": "execute_result"
    }
   ],
   "source": [
    "#getting the values in series\n",
    "ser_1.values"
   ]
  },
  {
   "cell_type": "code",
   "execution_count": 20,
   "metadata": {
    "colab": {
     "base_uri": "https://localhost:8080/"
    },
    "id": "s0FV3rXJ4cIO",
    "outputId": "78978cd9-4e3e-4e3b-a7cf-7046843378d8"
   },
   "outputs": [
    {
     "data": {
      "text/plain": [
       "193"
      ]
     },
     "execution_count": 20,
     "metadata": {},
     "output_type": "execute_result"
    }
   ],
   "source": [
    "#getting the sum of all numbers in series\n",
    "ser_1.sum()"
   ]
  },
  {
   "cell_type": "code",
   "execution_count": 21,
   "metadata": {
    "colab": {
     "base_uri": "https://localhost:8080/"
    },
    "id": "GEzj_RNM4oV6",
    "outputId": "2cea64a9-3dfc-4cd8-cf29-ee528bb5b3f2"
   },
   "outputs": [
    {
     "data": {
      "text/plain": [
       "38.6"
      ]
     },
     "execution_count": 21,
     "metadata": {},
     "output_type": "execute_result"
    }
   ],
   "source": [
    "#getting the average of all numbers in series\n",
    "ser_1.mean()"
   ]
  },
  {
   "cell_type": "code",
   "execution_count": 22,
   "metadata": {
    "colab": {
     "base_uri": "https://localhost:8080/"
    },
    "id": "FEXUt8YL4vMF",
    "outputId": "e928ae6c-e2ea-4bff-a0d7-602aa0ca3cd6"
   },
   "outputs": [
    {
     "data": {
      "text/plain": [
       "40.0"
      ]
     },
     "execution_count": 22,
     "metadata": {},
     "output_type": "execute_result"
    }
   ],
   "source": [
    "#getting the median of all numbers in series\n",
    "ser_1.median()"
   ]
  },
  {
   "cell_type": "code",
   "execution_count": 23,
   "metadata": {
    "colab": {
     "base_uri": "https://localhost:8080/"
    },
    "id": "TH-6Xi0q5H6J",
    "outputId": "3867b94e-aba4-41bc-ac87-471512dc9678"
   },
   "outputs": [
    {
     "data": {
      "text/plain": [
       "45"
      ]
     },
     "execution_count": 23,
     "metadata": {},
     "output_type": "execute_result"
    }
   ],
   "source": [
    "ser_1.max()"
   ]
  },
  {
   "cell_type": "code",
   "execution_count": 24,
   "metadata": {
    "colab": {
     "base_uri": "https://localhost:8080/"
    },
    "id": "eisJoSfJ5JIx",
    "outputId": "19e53861-f012-45bd-ded5-00a8cffd3f8f"
   },
   "outputs": [
    {
     "data": {
      "text/plain": [
       "32"
      ]
     },
     "execution_count": 24,
     "metadata": {},
     "output_type": "execute_result"
    }
   ],
   "source": [
    "ser_1.min()"
   ]
  },
  {
   "cell_type": "code",
   "execution_count": 25,
   "metadata": {
    "colab": {
     "base_uri": "https://localhost:8080/"
    },
    "id": "oOq7rBv55eYP",
    "outputId": "18fe39e3-947b-481f-9db5-87f25c0c7c1d"
   },
   "outputs": [
    {
     "data": {
      "text/plain": [
       "Quena              36\n",
       "Port Said          33\n",
       "Dahab              40\n",
       "Assiuit            45\n",
       "Sharm el sheikh    29\n",
       "dtype: int64"
      ]
     },
     "execution_count": 25,
     "metadata": {},
     "output_type": "execute_result"
    }
   ],
   "source": [
    "ser_2 = pd.Series([36,33,40,45,29],['Quena','Port Said','Dahab','Assiuit','Sharm el sheikh'])\n",
    "ser_2"
   ]
  },
  {
   "cell_type": "code",
   "execution_count": 26,
   "metadata": {
    "colab": {
     "base_uri": "https://localhost:8080/"
    },
    "id": "z5IscISr5uoa",
    "outputId": "54dd4363-24e9-4c30-b3fb-15972e4178cc"
   },
   "outputs": [
    {
     "data": {
      "text/plain": [
       "Alex               32\n",
       "Kafr el sheikh     34\n",
       "Cairo              40\n",
       "Luxor              45\n",
       "Sinai              42\n",
       "Quena              36\n",
       "Port Said          33\n",
       "Dahab              40\n",
       "Assiuit            45\n",
       "Sharm el sheikh    29\n",
       "dtype: int64"
      ]
     },
     "execution_count": 26,
     "metadata": {},
     "output_type": "execute_result"
    }
   ],
   "source": [
    "# append  ser_2 to ser_1 as following\n",
    "ser_3 = pd.concat([ser_1, ser_2])\n",
    "ser_3"
   ]
  },
  {
   "cell_type": "code",
   "execution_count": 27,
   "metadata": {
    "colab": {
     "base_uri": "https://localhost:8080/"
    },
    "id": "jhCsLF2eupBQ",
    "outputId": "732b09a4-da02-4a1d-b3a4-f58faaa4149b"
   },
   "outputs": [
    {
     "data": {
      "text/plain": [
       "<Axes: >"
      ]
     },
     "execution_count": 27,
     "metadata": {},
     "output_type": "execute_result"
    },
    {
     "data": {
      "image/png": "[encoded data removed]",
      "text/plain": [
       "<Figure size 640x480 with 1 Axes>"
      ]
     },
     "metadata": {},
     "output_type": "display_data"
    }
   ],
   "source": [
    "#Ploting with Pandas \n",
    "\n",
    "Data = pd.Series([11,22,33,44,55],index = ['1','2','3','4','5']) \n",
    "Data.plot(kind ='line')"
   ]
  },
  {
   "cell_type": "code",
   "execution_count": 28,
   "metadata": {
    "colab": {
     "base_uri": "https://localhost:8080/"
    },
    "id": "lqLk_eMhvYkp",
    "outputId": "ba1afddb-6c37-44e7-e357-9be9289b9b7d"
   },
   "outputs": [
    {
     "data": {
      "text/plain": [
       "<Axes: >"
      ]
     },
     "execution_count": 28,
     "metadata": {},
     "output_type": "execute_result"
    },
    {
     "data": {
      "image/png": "[encoded data removed]",
      "text/plain": [
       "<Figure size 640x480 with 1 Axes>"
      ]
     },
     "metadata": {},
     "output_type": "display_data"
    }
   ],
   "source": [
    "Data = pd.Series([11,22,33,44,55,66,77,11,22,44],index = ['1','2','3','4','5','6','7','8','9','10']) \n",
    "Data.plot(kind ='pie')"
   ]
  },
  {
   "cell_type": "code",
   "execution_count": 29,
   "metadata": {
    "colab": {
     "base_uri": "https://localhost:8080/"
    },
    "id": "JTcXGWylwHNi",
    "outputId": "3c361eeb-afe4-4f03-c2a7-93d5b77f9cef"
   },
   "outputs": [
    {
     "data": {
      "text/plain": [
       "<Axes: >"
      ]
     },
     "execution_count": 29,
     "metadata": {},
     "output_type": "execute_result"
    },
    {
     "data": {
      "image/png": "[encoded data removed]",
      "text/plain": [
       "<Figure size 640x480 with 1 Axes>"
      ]
     },
     "metadata": {},
     "output_type": "display_data"
    }
   ],
   "source": [
    "Data = pd.Series([11,22,33,44,55],index = ['1','2','3','4','5']) \n",
    "Data.plot(kind ='bar')"
   ]
  },
  {
   "cell_type": "code",
   "execution_count": 30,
   "metadata": {
    "colab": {
     "base_uri": "https://localhost:8080/"
    },
    "id": "Lt2JDjpwwbUl",
    "outputId": "1e3617cd-cc43-4f31-a97d-4a0f557a2a8d"
   },
   "outputs": [
    {
     "data": {
      "text/plain": [
       "<Axes: ylabel='Frequency'>"
      ]
     },
     "execution_count": 30,
     "metadata": {},
     "output_type": "execute_result"
    },
    {
     "data": {
      "image/png": "[encoded data removed]",
      "text/plain": [
       "<Figure size 640x480 with 1 Axes>"
      ]
     },
     "metadata": {},
     "output_type": "display_data"
    }
   ],
   "source": [
    "Data = pd.Series([11,22,33,44,55,66,77,11,22,44],index = ['1','2','3','4','5','6','7','8','9','10']) \n",
    "Data.plot(kind ='hist')"
   ]
  },
  {
   "cell_type": "markdown",
   "metadata": {
    "id": "HWNKB7Qb2M8T"
   },
   "source": [
    "## Indexing and Slicing in pandas series :"
   ]
  },
  {
   "cell_type": "code",
   "execution_count": 31,
   "metadata": {
    "colab": {
     "base_uri": "https://localhost:8080/"
    },
    "id": "qbA03jzr6gpB",
    "outputId": "fee7016e-2e0c-4f00-90dd-a690d7d73802"
   },
   "outputs": [
    {
     "data": {
      "text/plain": [
       "{'2010': 'Inter Milan',\n",
       " '2011': 'Barcelona',\n",
       " '2012': 'Chelsea',\n",
       " '2013': 'Bayren',\n",
       " '2014': 'REAL MADRID',\n",
       " '2015': 'Barcelona ',\n",
       " '2016': 'REAL MADRID',\n",
       " '2017': 'REAL MADRID',\n",
       " '2018': 'REAL MADRID'}"
      ]
     },
     "execution_count": 31,
     "metadata": {},
     "output_type": "execute_result"
    }
   ],
   "source": [
    "UFEA_champions = {'2010' : 'Inter Milan',\n",
    "                 '2011' : 'Barcelona' ,\n",
    "                 '2012' :'Chelsea',\n",
    "                 '2013': 'Bayren',\n",
    "                 '2014':'REAL MADRID',\n",
    "                 '2015' :'Barcelona ' ,\n",
    "                 '2016' :'REAL MADRID',\n",
    "                 '2017' :'REAL MADRID',\n",
    "                 '2018' : 'REAL MADRID'  \n",
    "                  }     \n",
    "UFEA_champions                  "
   ]
  },
  {
   "cell_type": "code",
   "execution_count": 32,
   "metadata": {
    "colab": {
     "base_uri": "https://localhost:8080/"
    },
    "id": "uPMART5m6pQC",
    "outputId": "8f4d776f-7d7b-481e-9636-18691862093f"
   },
   "outputs": [
    {
     "data": {
      "text/plain": [
       "2010    Inter Milan\n",
       "2011      Barcelona\n",
       "2012        Chelsea\n",
       "2013         Bayren\n",
       "2014    REAL MADRID\n",
       "2015     Barcelona \n",
       "2016    REAL MADRID\n",
       "2017    REAL MADRID\n",
       "2018    REAL MADRID\n",
       "dtype: object"
      ]
     },
     "execution_count": 32,
     "metadata": {},
     "output_type": "execute_result"
    }
   ],
   "source": [
    "ser_UFEA_champions = pd.Series(UFEA_champions)           \n",
    "ser_UFEA_champions\n"
   ]
  },
  {
   "cell_type": "code",
   "execution_count": 33,
   "metadata": {
    "colab": {
     "base_uri": "https://localhost:8080/"
    },
    "id": "ysheeDZ67NGw",
    "outputId": "021ac9b3-3dbc-466a-dbb0-f44cd55e267e"
   },
   "outputs": [
    {
     "data": {
      "text/plain": [
       "'Inter Milan'"
      ]
     },
     "execution_count": 33,
     "metadata": {},
     "output_type": "execute_result"
    }
   ],
   "source": [
    "ser_UFEA_champions['2010']"
   ]
  },
  {
   "cell_type": "code",
   "execution_count": 34,
   "metadata": {
    "colab": {
     "base_uri": "https://localhost:8080/"
    },
    "id": "Nb5_4zMI7cnC",
    "outputId": "846c9099-c85d-4c4a-929f-6e9d926215b2"
   },
   "outputs": [
    {
     "data": {
      "text/plain": [
       "'Inter Milan'"
      ]
     },
     "execution_count": 34,
     "metadata": {},
     "output_type": "execute_result"
    }
   ],
   "source": [
    "ser_UFEA_champions.loc['2010'] # loc[index of the value you want as it]"
   ]
  },
  {
   "cell_type": "code",
   "execution_count": 35,
   "metadata": {
    "colab": {
     "base_uri": "https://localhost:8080/"
    },
    "id": "GqIB7uOg7m_Z",
    "outputId": "06004708-ee59-4f1c-9142-72a6aeaea6e9"
   },
   "outputs": [
    {
     "data": {
      "text/plain": [
       "'Inter Milan'"
      ]
     },
     "execution_count": 35,
     "metadata": {},
     "output_type": "execute_result"
    }
   ],
   "source": [
    "ser_UFEA_champions.iloc[0] # iloc[index of the value you want as numbers started from 0]"
   ]
  },
  {
   "cell_type": "code",
   "execution_count": 36,
   "metadata": {
    "colab": {
     "base_uri": "https://localhost:8080/"
    },
    "id": "wrd2_zP27TMv",
    "outputId": "bfc00f4e-0d5f-4d5c-bfe6-9319528a61a6"
   },
   "outputs": [
    {
     "data": {
      "text/plain": [
       "2010    Inter Milan\n",
       "2011      Barcelona\n",
       "2012        Chelsea\n",
       "2013         Bayren\n",
       "2014    REAL MADRID\n",
       "dtype: object"
      ]
     },
     "execution_count": 36,
     "metadata": {},
     "output_type": "execute_result"
    }
   ],
   "source": [
    "ser_UFEA_champions[['2010','2011','2012','2013','2014']] # to selecto select multi values put this as list bit square pracites"
   ]
  },
  {
   "cell_type": "code",
   "execution_count": 37,
   "metadata": {
    "colab": {
     "base_uri": "https://localhost:8080/"
    },
    "id": "7vLLI2Z47aaX",
    "outputId": "059df7a4-b6cb-4c9d-d6af-1443355899f4"
   },
   "outputs": [
    {
     "data": {
      "text/plain": [
       "2010    Inter Milan\n",
       "2011      Barcelona\n",
       "2012        Chelsea\n",
       "2013         Bayren\n",
       "2014    REAL MADRID\n",
       "dtype: object"
      ]
     },
     "execution_count": 37,
     "metadata": {},
     "output_type": "execute_result"
    }
   ],
   "source": [
    "ser_UFEA_champions.loc['2010':'2014'] # to select a range of values"
   ]
  },
  {
   "cell_type": "code",
   "execution_count": 38,
   "metadata": {
    "colab": {
     "base_uri": "https://localhost:8080/"
    },
    "id": "2kRbcl6C74yj",
    "outputId": "b7824b38-3ddd-463a-9c36-bdf230f1972f"
   },
   "outputs": [
    {
     "data": {
      "text/plain": [
       "2010    Inter Milan\n",
       "2011      Barcelona\n",
       "2012        Chelsea\n",
       "2013         Bayren\n",
       "2014    REAL MADRID\n",
       "dtype: object"
      ]
     },
     "execution_count": 38,
     "metadata": {},
     "output_type": "execute_result"
    }
   ],
   "source": [
    "ser_UFEA_champions.iloc[0:5] # to slice or select a range of values by numeric index"
   ]
  },
  {
   "cell_type": "code",
   "execution_count": 39,
   "metadata": {
    "id": "YovB4pDh8Qy7"
   },
   "outputs": [],
   "source": [
    "# to change a specific value in the series as following\n",
    "ser_UFEA_champions['2010']= 'Real-Madrid'"
   ]
  },
  {
   "cell_type": "code",
   "execution_count": 40,
   "metadata": {
    "colab": {
     "base_uri": "https://localhost:8080/"
    },
    "id": "moFbUw2A8eEU",
    "outputId": "68ea451f-6d3f-487f-c2eb-123036bb86eb"
   },
   "outputs": [
    {
     "data": {
      "text/plain": [
       "2010    Real-Madrid\n",
       "2011      Barcelona\n",
       "2012        Chelsea\n",
       "2013         Bayren\n",
       "2014    REAL MADRID\n",
       "2015     Barcelona \n",
       "2016    REAL MADRID\n",
       "2017    REAL MADRID\n",
       "2018    REAL MADRID\n",
       "dtype: object"
      ]
     },
     "execution_count": 40,
     "metadata": {},
     "output_type": "execute_result"
    }
   ],
   "source": [
    "ser_UFEA_champions"
   ]
  },
  {
   "cell_type": "code",
   "execution_count": 41,
   "metadata": {
    "collapsed": false
   },
   "outputs": [
    {
     "data": {
      "text/plain": [
       "a    1\n",
       "b    2\n",
       "c    3\n",
       "d    4\n",
       "e    5\n",
       "f    6\n",
       "g    7\n",
       "h    8\n",
       "i    9\n",
       "Name: Numbers, dtype: int64"
      ]
     },
     "execution_count": 41,
     "metadata": {},
     "output_type": "execute_result"
    }
   ],
   "source": [
    "# to put a specific name to the series use name parameter \n",
    "nums = [1, 2, 3, 4, 5, 6, 7, 8, 9]\n",
    "serNum = pd.Series(nums, index=['a', 'b', 'c', 'd', 'e', 'f', 'g', 'h', 'i'], name='Numbers')\n",
    "serNum"
   ]
  },
  {
   "cell_type": "markdown",
   "metadata": {
    "id": "x8M2jqj_S67d"
   },
   "source": [
    "<a id='dataframe'></a>\n",
    "# **2.Pandas DataFrame**\n",
    "\n",
    "\n",
    "> DataFrame is a 2-dimensional labeled data structure with columns of potentially different types. You can think of it like a spreadsheet or SQL table, or a dict of Series objects. It is generally the most commonly used pandas object.\n",
    "\n",
    "\n",
    "\n",
    "\n",
    "\n",
    "\n",
    "\n",
    "\n",
    "\n",
    "\n",
    "\n"
   ]
  },
  {
   "cell_type": "markdown",
   "metadata": {
    "id": "mfIn8Z0-S6lQ"
   },
   "source": [
    "##The ways to build pandas dataframe : \n",
    "\n",
    "\n",
    "\n"
   ]
  },
  {
   "cell_type": "code",
   "execution_count": 42,
   "metadata": {
    "colab": {
     "base_uri": "https://localhost:8080/"
    },
    "id": "0busdY1tUFhE",
    "outputId": "e203a46b-1d50-485a-eead-b087ea0c73cc"
   },
   "outputs": [
    {
     "data": {
      "text/plain": [
       "2010    Inter Milan\n",
       "2011      Barcelona\n",
       "2012        Chelsea\n",
       "2013         Bayren\n",
       "2014    REAL MADRID\n",
       "2015     Barcelona \n",
       "2016    REAL MADRID\n",
       "2017    REAL MADRID\n",
       "2018    REAL MADRID\n",
       "dtype: object"
      ]
     },
     "execution_count": 42,
     "metadata": {},
     "output_type": "execute_result"
    }
   ],
   "source": [
    "UFEA_champions = {'2010' : 'Inter Milan',\n",
    "                 '2011' : 'Barcelona' ,\n",
    "                 '2012' :'Chelsea',\n",
    "                 '2013': 'Bayren',\n",
    "                 '2014':'REAL MADRID',\n",
    "                 '2015' :'Barcelona ' ,\n",
    "                 '2016' :'REAL MADRID',\n",
    "                 '2017' :'REAL MADRID',\n",
    "                 '2018' : 'REAL MADRID'  \n",
    "                  }     \n",
    "                 \n",
    "ser_UFEA_champions = pd.Series(UFEA_champions)      \n",
    "ser_UFEA_champions            \n"
   ]
  },
  {
   "cell_type": "code",
   "execution_count": 43,
   "metadata": {
    "colab": {
     "base_uri": "https://localhost:8080/"
    },
    "id": "I6UnF4ZjEtxj",
    "outputId": "f322ca93-bafb-4bf0-dc84-df366c84ab4e"
   },
   "outputs": [
    {
     "data": {
      "text/plain": [
       "2010      Atlético Madrid\n",
       "2011             FC Porto\n",
       "2012      Atletico Madrid\n",
       "2013              Chelsea\n",
       "2014              Sevilla\n",
       "2015              Sevilla\n",
       "2016              Sevilla\n",
       "2017    Manchester United\n",
       "2018      Atletico Madrid\n",
       "dtype: object"
      ]
     },
     "execution_count": 43,
     "metadata": {},
     "output_type": "execute_result"
    }
   ],
   "source": [
    "UFEA_leauge = { '2010' :'Atlético Madrid' ,    \n",
    "                '2011' : 'FC Porto' ,        \n",
    "                '2012' : 'Atletico Madrid' ,\n",
    "                '2013' : 'Chelsea' ,\n",
    "                '2014' : 'Sevilla' ,\n",
    "                '2015' : 'Sevilla',\n",
    "                '2016' : 'Sevilla',\n",
    "                '2017' : 'Manchester United',\n",
    "               '2018' : 'Atletico Madrid'\n",
    "                }\n",
    "ser_UFEA_leauge = pd.Series(UFEA_leauge)\n",
    "ser_UFEA_leauge"
   ]
  },
  {
   "cell_type": "code",
   "execution_count": 44,
   "metadata": {
    "colab": {
     "base_uri": "https://localhost:8080/",
     "height": 145
    },
    "id": "8_mH_AXfE-ui",
    "outputId": "b4a4e463-e14a-4833-d1bc-e895b954807f"
   },
   "outputs": [
    {
     "data": {
      "text/html": [
       "<div>\n",
       "<style scoped>\n",
       "    .dataframe tbody tr th:only-of-type {\n",
       "        vertical-align: middle;\n",
       "    }\n",
       "\n",
       "    .dataframe tbody tr th {\n",
       "        vertical-align: top;\n",
       "    }\n",
       "\n",
       "    .dataframe thead th {\n",
       "        text-align: right;\n",
       "    }\n",
       "</style>\n",
       "<table border=\"1\" class=\"dataframe\">\n",
       "  <thead>\n",
       "    <tr style=\"text-align: right;\">\n",
       "      <th></th>\n",
       "      <th>2010</th>\n",
       "      <th>2011</th>\n",
       "      <th>2012</th>\n",
       "      <th>2013</th>\n",
       "      <th>2014</th>\n",
       "      <th>2015</th>\n",
       "      <th>2016</th>\n",
       "      <th>2017</th>\n",
       "      <th>2018</th>\n",
       "    </tr>\n",
       "  </thead>\n",
       "  <tbody>\n",
       "    <tr>\n",
       "      <th>CHAMPIONS</th>\n",
       "      <td>Inter Milan</td>\n",
       "      <td>Barcelona</td>\n",
       "      <td>Chelsea</td>\n",
       "      <td>Bayren</td>\n",
       "      <td>REAL MADRID</td>\n",
       "      <td>Barcelona</td>\n",
       "      <td>REAL MADRID</td>\n",
       "      <td>REAL MADRID</td>\n",
       "      <td>REAL MADRID</td>\n",
       "    </tr>\n",
       "    <tr>\n",
       "      <th>LEAUGE</th>\n",
       "      <td>Atlético Madrid</td>\n",
       "      <td>FC Porto</td>\n",
       "      <td>Atletico Madrid</td>\n",
       "      <td>Chelsea</td>\n",
       "      <td>Sevilla</td>\n",
       "      <td>Sevilla</td>\n",
       "      <td>Sevilla</td>\n",
       "      <td>Manchester United</td>\n",
       "      <td>Atletico Madrid</td>\n",
       "    </tr>\n",
       "  </tbody>\n",
       "</table>\n",
       "</div>"
      ],
      "text/plain": [
       "                      2010       2011             2012     2013         2014  \\\n",
       "CHAMPIONS      Inter Milan  Barcelona          Chelsea   Bayren  REAL MADRID   \n",
       "LEAUGE     Atlético Madrid   FC Porto  Atletico Madrid  Chelsea      Sevilla   \n",
       "\n",
       "                 2015         2016               2017             2018  \n",
       "CHAMPIONS  Barcelona   REAL MADRID        REAL MADRID      REAL MADRID  \n",
       "LEAUGE        Sevilla      Sevilla  Manchester United  Atletico Madrid  "
      ]
     },
     "execution_count": 44,
     "metadata": {},
     "output_type": "execute_result"
    }
   ],
   "source": [
    "#Creating pandas dataframe from pandas series \n",
    "df_UFEA = pd.DataFrame(data = [ser_UFEA_champions,ser_UFEA_leauge]\n",
    "                       ,index = ['CHAMPIONS','LEAUGE'])             \n",
    "df_UFEA\n"
   ]
  },
  {
   "cell_type": "code",
   "execution_count": 45,
   "metadata": {
    "colab": {
     "base_uri": "https://localhost:8080/",
     "height": 173
    },
    "id": "tGhbGXPyyn-6",
    "outputId": "e91391a8-a9cf-40f2-fd2c-159ac96a799f"
   },
   "outputs": [
    {
     "data": {
      "text/html": [
       "<div>\n",
       "<style scoped>\n",
       "    .dataframe tbody tr th:only-of-type {\n",
       "        vertical-align: middle;\n",
       "    }\n",
       "\n",
       "    .dataframe tbody tr th {\n",
       "        vertical-align: top;\n",
       "    }\n",
       "\n",
       "    .dataframe thead th {\n",
       "        text-align: right;\n",
       "    }\n",
       "</style>\n",
       "<table border=\"1\" class=\"dataframe\">\n",
       "  <thead>\n",
       "    <tr style=\"text-align: right;\">\n",
       "      <th></th>\n",
       "      <th>frist</th>\n",
       "      <th>second</th>\n",
       "      <th>third</th>\n",
       "      <th>forth</th>\n",
       "      <th>fifth</th>\n",
       "    </tr>\n",
       "  </thead>\n",
       "  <tbody>\n",
       "    <tr>\n",
       "      <th>A</th>\n",
       "      <td>1</td>\n",
       "      <td>2</td>\n",
       "      <td>3</td>\n",
       "      <td>4</td>\n",
       "      <td>5</td>\n",
       "    </tr>\n",
       "    <tr>\n",
       "      <th>B</th>\n",
       "      <td>11</td>\n",
       "      <td>22</td>\n",
       "      <td>33</td>\n",
       "      <td>44</td>\n",
       "      <td>55</td>\n",
       "    </tr>\n",
       "    <tr>\n",
       "      <th>C</th>\n",
       "      <td>111</td>\n",
       "      <td>222</td>\n",
       "      <td>333</td>\n",
       "      <td>444</td>\n",
       "      <td>555</td>\n",
       "    </tr>\n",
       "    <tr>\n",
       "      <th>D</th>\n",
       "      <td>1111</td>\n",
       "      <td>2222</td>\n",
       "      <td>3333</td>\n",
       "      <td>4444</td>\n",
       "      <td>5555</td>\n",
       "    </tr>\n",
       "  </tbody>\n",
       "</table>\n",
       "</div>"
      ],
      "text/plain": [
       "   frist  second  third  forth  fifth\n",
       "A      1       2      3      4      5\n",
       "B     11      22     33     44     55\n",
       "C    111     222    333    444    555\n",
       "D   1111    2222   3333   4444   5555"
      ]
     },
     "execution_count": 45,
     "metadata": {},
     "output_type": "execute_result"
    }
   ],
   "source": [
    "#Creating pandas dataframe from numpy array \n",
    "import numpy as np\n",
    "my_arr = np.array([\n",
    "                   [1,2,3,4,5],\n",
    "                   [11,22,33,44,55],\n",
    "                   [111,222,333,444,555],\n",
    "                   [1111,2222,3333,4444,5555]])\n",
    "df=pd.DataFrame(my_arr,index=['A','B','C','D'],columns= ['frist','second', 'third','forth','fifth'])\n",
    "df"
   ]
  },
  {
   "cell_type": "code",
   "execution_count": 46,
   "metadata": {
    "colab": {
     "base_uri": "https://localhost:8080/",
     "height": 173
    },
    "id": "alwzvb2obZEJ",
    "outputId": "f28d7cb3-65db-4f33-d630-50f1411a42eb"
   },
   "outputs": [
    {
     "data": {
      "text/html": [
       "<div>\n",
       "<style scoped>\n",
       "    .dataframe tbody tr th:only-of-type {\n",
       "        vertical-align: middle;\n",
       "    }\n",
       "\n",
       "    .dataframe tbody tr th {\n",
       "        vertical-align: top;\n",
       "    }\n",
       "\n",
       "    .dataframe thead th {\n",
       "        text-align: right;\n",
       "    }\n",
       "</style>\n",
       "<table border=\"1\" class=\"dataframe\">\n",
       "  <thead>\n",
       "    <tr style=\"text-align: right;\">\n",
       "      <th></th>\n",
       "      <th>frist</th>\n",
       "      <th>second</th>\n",
       "      <th>third</th>\n",
       "      <th>forth</th>\n",
       "      <th>fifth</th>\n",
       "    </tr>\n",
       "  </thead>\n",
       "  <tbody>\n",
       "    <tr>\n",
       "      <th>A</th>\n",
       "      <td>4</td>\n",
       "      <td>4</td>\n",
       "      <td>4</td>\n",
       "      <td>4</td>\n",
       "      <td>4</td>\n",
       "    </tr>\n",
       "    <tr>\n",
       "      <th>B</th>\n",
       "      <td>4</td>\n",
       "      <td>4</td>\n",
       "      <td>4</td>\n",
       "      <td>4</td>\n",
       "      <td>4</td>\n",
       "    </tr>\n",
       "    <tr>\n",
       "      <th>C</th>\n",
       "      <td>4</td>\n",
       "      <td>4</td>\n",
       "      <td>4</td>\n",
       "      <td>4</td>\n",
       "      <td>4</td>\n",
       "    </tr>\n",
       "    <tr>\n",
       "      <th>D</th>\n",
       "      <td>4</td>\n",
       "      <td>4</td>\n",
       "      <td>4</td>\n",
       "      <td>4</td>\n",
       "      <td>4</td>\n",
       "    </tr>\n",
       "  </tbody>\n",
       "</table>\n",
       "</div>"
      ],
      "text/plain": [
       "   frist  second  third  forth  fifth\n",
       "A      4       4      4      4      4\n",
       "B      4       4      4      4      4\n",
       "C      4       4      4      4      4\n",
       "D      4       4      4      4      4"
      ]
     },
     "execution_count": 46,
     "metadata": {},
     "output_type": "execute_result"
    }
   ],
   "source": [
    "from numpy.random import randint\n",
    "df_1 =  pd.DataFrame(randint(4,5), index=['A','B','C','D'], columns= ['frist','second', 'third','forth','fifth'])\n",
    "df_1\n"
   ]
  },
  {
   "cell_type": "code",
   "execution_count": 47,
   "metadata": {
    "collapsed": false
   },
   "outputs": [
    {
     "data": {
      "text/plain": [
       "4"
      ]
     },
     "execution_count": 47,
     "metadata": {},
     "output_type": "execute_result"
    }
   ],
   "source": [
    "randint(4, 5)# remember that rendint is a function that generate random numbers between 4 and 5"
   ]
  },
  {
   "cell_type": "code",
   "execution_count": 48,
   "metadata": {
    "colab": {
     "base_uri": "https://localhost:8080/",
     "height": 235
    },
    "id": "VB4IdH02crec",
    "outputId": "e54ee6ee-f4a9-4dc4-8259-fb895ba7b7ff"
   },
   "outputs": [
    {
     "data": {
      "text/html": [
       "<div>\n",
       "<style scoped>\n",
       "    .dataframe tbody tr th:only-of-type {\n",
       "        vertical-align: middle;\n",
       "    }\n",
       "\n",
       "    .dataframe tbody tr th {\n",
       "        vertical-align: top;\n",
       "    }\n",
       "\n",
       "    .dataframe thead th {\n",
       "        text-align: right;\n",
       "    }\n",
       "</style>\n",
       "<table border=\"1\" class=\"dataframe\">\n",
       "  <thead>\n",
       "    <tr style=\"text-align: right;\">\n",
       "      <th></th>\n",
       "      <th>frist</th>\n",
       "      <th>second</th>\n",
       "      <th>third</th>\n",
       "      <th>forth</th>\n",
       "      <th>fifth</th>\n",
       "      <th>sixth</th>\n",
       "    </tr>\n",
       "  </thead>\n",
       "  <tbody>\n",
       "    <tr>\n",
       "      <th>A</th>\n",
       "      <td>-0.502230</td>\n",
       "      <td>1.311195</td>\n",
       "      <td>0.767385</td>\n",
       "      <td>-0.481811</td>\n",
       "      <td>0.927331</td>\n",
       "      <td>-0.415042</td>\n",
       "    </tr>\n",
       "    <tr>\n",
       "      <th>B</th>\n",
       "      <td>0.203894</td>\n",
       "      <td>0.619054</td>\n",
       "      <td>1.212701</td>\n",
       "      <td>-0.713419</td>\n",
       "      <td>-0.001143</td>\n",
       "      <td>-0.984422</td>\n",
       "    </tr>\n",
       "    <tr>\n",
       "      <th>C</th>\n",
       "      <td>0.742080</td>\n",
       "      <td>-0.533852</td>\n",
       "      <td>0.062198</td>\n",
       "      <td>-0.169001</td>\n",
       "      <td>-0.075866</td>\n",
       "      <td>0.668926</td>\n",
       "    </tr>\n",
       "    <tr>\n",
       "      <th>D</th>\n",
       "      <td>0.882673</td>\n",
       "      <td>0.233968</td>\n",
       "      <td>-1.079015</td>\n",
       "      <td>0.185482</td>\n",
       "      <td>0.291839</td>\n",
       "      <td>-0.692181</td>\n",
       "    </tr>\n",
       "    <tr>\n",
       "      <th>E</th>\n",
       "      <td>0.930667</td>\n",
       "      <td>1.183712</td>\n",
       "      <td>0.472564</td>\n",
       "      <td>0.965215</td>\n",
       "      <td>-0.959448</td>\n",
       "      <td>0.291177</td>\n",
       "    </tr>\n",
       "    <tr>\n",
       "      <th>F</th>\n",
       "      <td>-1.193302</td>\n",
       "      <td>0.232892</td>\n",
       "      <td>0.840080</td>\n",
       "      <td>-0.198069</td>\n",
       "      <td>0.324611</td>\n",
       "      <td>0.248261</td>\n",
       "    </tr>\n",
       "  </tbody>\n",
       "</table>\n",
       "</div>"
      ],
      "text/plain": [
       "      frist    second     third     forth     fifth     sixth\n",
       "A -0.502230  1.311195  0.767385 -0.481811  0.927331 -0.415042\n",
       "B  0.203894  0.619054  1.212701 -0.713419 -0.001143 -0.984422\n",
       "C  0.742080 -0.533852  0.062198 -0.169001 -0.075866  0.668926\n",
       "D  0.882673  0.233968 -1.079015  0.185482  0.291839 -0.692181\n",
       "E  0.930667  1.183712  0.472564  0.965215 -0.959448  0.291177\n",
       "F -1.193302  0.232892  0.840080 -0.198069  0.324611  0.248261"
      ]
     },
     "execution_count": 48,
     "metadata": {},
     "output_type": "execute_result"
    }
   ],
   "source": [
    "from numpy.random import randn\n",
    "df =  pd.DataFrame(randn(6,6), index=['A','B','C','D','E','F'], columns= 'frist second third forth fifth sixth'.split())\n",
    "df"
   ]
  },
  {
   "cell_type": "markdown",
   "metadata": {
    "id": "t54wtF4ReZHf"
   },
   "source": [
    "## Indexing and Slicing in pandas dataframe :\n",
    "\n",
    "\n"
   ]
  },
  {
   "cell_type": "code",
   "execution_count": 49,
   "metadata": {
    "colab": {
     "base_uri": "https://localhost:8080/",
     "height": 145
    },
    "id": "GZCi7cN2eXdu",
    "outputId": "961d1335-7452-438b-a331-15cb7f52b9ac"
   },
   "outputs": [
    {
     "data": {
      "text/html": [
       "<div>\n",
       "<style scoped>\n",
       "    .dataframe tbody tr th:only-of-type {\n",
       "        vertical-align: middle;\n",
       "    }\n",
       "\n",
       "    .dataframe tbody tr th {\n",
       "        vertical-align: top;\n",
       "    }\n",
       "\n",
       "    .dataframe thead th {\n",
       "        text-align: right;\n",
       "    }\n",
       "</style>\n",
       "<table border=\"1\" class=\"dataframe\">\n",
       "  <thead>\n",
       "    <tr style=\"text-align: right;\">\n",
       "      <th></th>\n",
       "      <th>2010</th>\n",
       "      <th>2011</th>\n",
       "      <th>2012</th>\n",
       "      <th>2013</th>\n",
       "      <th>2014</th>\n",
       "      <th>2015</th>\n",
       "      <th>2016</th>\n",
       "      <th>2017</th>\n",
       "      <th>2018</th>\n",
       "    </tr>\n",
       "  </thead>\n",
       "  <tbody>\n",
       "    <tr>\n",
       "      <th>CHAMPIONS</th>\n",
       "      <td>Inter Milan</td>\n",
       "      <td>Barcelona</td>\n",
       "      <td>Chelsea</td>\n",
       "      <td>Bayren</td>\n",
       "      <td>REAL MADRID</td>\n",
       "      <td>Barcelona</td>\n",
       "      <td>REAL MADRID</td>\n",
       "      <td>REAL MADRID</td>\n",
       "      <td>REAL MADRID</td>\n",
       "    </tr>\n",
       "    <tr>\n",
       "      <th>LEAUGE</th>\n",
       "      <td>Atlético Madrid</td>\n",
       "      <td>FC Porto</td>\n",
       "      <td>Atletico Madrid</td>\n",
       "      <td>Chelsea</td>\n",
       "      <td>Sevilla</td>\n",
       "      <td>Sevilla</td>\n",
       "      <td>Sevilla</td>\n",
       "      <td>Manchester United</td>\n",
       "      <td>Atletico Madrid</td>\n",
       "    </tr>\n",
       "  </tbody>\n",
       "</table>\n",
       "</div>"
      ],
      "text/plain": [
       "                      2010       2011             2012     2013         2014  \\\n",
       "CHAMPIONS      Inter Milan  Barcelona          Chelsea   Bayren  REAL MADRID   \n",
       "LEAUGE     Atlético Madrid   FC Porto  Atletico Madrid  Chelsea      Sevilla   \n",
       "\n",
       "                 2015         2016               2017             2018  \n",
       "CHAMPIONS  Barcelona   REAL MADRID        REAL MADRID      REAL MADRID  \n",
       "LEAUGE        Sevilla      Sevilla  Manchester United  Atletico Madrid  "
      ]
     },
     "execution_count": 49,
     "metadata": {},
     "output_type": "execute_result"
    }
   ],
   "source": [
    "df_UFEA"
   ]
  },
  {
   "cell_type": "code",
   "execution_count": 50,
   "metadata": {
    "colab": {
     "base_uri": "https://localhost:8080/"
    },
    "id": "7cUj7axZewER",
    "outputId": "3f5bf51d-9e2e-44f6-f9a6-d1fc23f6f5d8"
   },
   "outputs": [
    {
     "data": {
      "text/plain": [
       "CHAMPIONS    REAL MADRID\n",
       "LEAUGE           Sevilla\n",
       "Name: 2014, dtype: object"
      ]
     },
     "execution_count": 50,
     "metadata": {},
     "output_type": "execute_result"
    }
   ],
   "source": [
    "df_UFEA['2014']"
   ]
  },
  {
   "cell_type": "code",
   "execution_count": 51,
   "metadata": {
    "colab": {
     "base_uri": "https://localhost:8080/",
     "height": 111
    },
    "id": "Al-SPFs1fPZc",
    "outputId": "4aab1c91-9e4a-46f5-f859-ada1f61b9dcd"
   },
   "outputs": [
    {
     "data": {
      "text/html": [
       "<div>\n",
       "<style scoped>\n",
       "    .dataframe tbody tr th:only-of-type {\n",
       "        vertical-align: middle;\n",
       "    }\n",
       "\n",
       "    .dataframe tbody tr th {\n",
       "        vertical-align: top;\n",
       "    }\n",
       "\n",
       "    .dataframe thead th {\n",
       "        text-align: right;\n",
       "    }\n",
       "</style>\n",
       "<table border=\"1\" class=\"dataframe\">\n",
       "  <thead>\n",
       "    <tr style=\"text-align: right;\">\n",
       "      <th></th>\n",
       "      <th>2011</th>\n",
       "      <th>2012</th>\n",
       "      <th>2013</th>\n",
       "    </tr>\n",
       "  </thead>\n",
       "  <tbody>\n",
       "    <tr>\n",
       "      <th>CHAMPIONS</th>\n",
       "      <td>Barcelona</td>\n",
       "      <td>Chelsea</td>\n",
       "      <td>Bayren</td>\n",
       "    </tr>\n",
       "    <tr>\n",
       "      <th>LEAUGE</th>\n",
       "      <td>FC Porto</td>\n",
       "      <td>Atletico Madrid</td>\n",
       "      <td>Chelsea</td>\n",
       "    </tr>\n",
       "  </tbody>\n",
       "</table>\n",
       "</div>"
      ],
      "text/plain": [
       "                2011             2012     2013\n",
       "CHAMPIONS  Barcelona          Chelsea   Bayren\n",
       "LEAUGE      FC Porto  Atletico Madrid  Chelsea"
      ]
     },
     "execution_count": 51,
     "metadata": {},
     "output_type": "execute_result"
    }
   ],
   "source": [
    "#for many columns\n",
    "df_UFEA[['2011','2012','2013']]"
   ]
  },
  {
   "cell_type": "code",
   "execution_count": 52,
   "metadata": {
    "colab": {
     "base_uri": "https://localhost:8080/"
    },
    "id": "1qjSlvJNf-So",
    "outputId": "08f612f1-f753-45f0-80db-0239c211b494"
   },
   "outputs": [
    {
     "data": {
      "text/plain": [
       "2010    Inter Milan\n",
       "2011      Barcelona\n",
       "2012        Chelsea\n",
       "2013         Bayren\n",
       "2014    REAL MADRID\n",
       "2015     Barcelona \n",
       "2016    REAL MADRID\n",
       "2017    REAL MADRID\n",
       "2018    REAL MADRID\n",
       "Name: CHAMPIONS, dtype: object"
      ]
     },
     "execution_count": 52,
     "metadata": {},
     "output_type": "execute_result"
    }
   ],
   "source": [
    "df_UFEA.loc['CHAMPIONS']"
   ]
  },
  {
   "cell_type": "code",
   "execution_count": 53,
   "metadata": {
    "colab": {
     "base_uri": "https://localhost:8080/"
    },
    "id": "h0fcYieMgiq-",
    "outputId": "a5ac28dd-2024-4f93-c452-3ce8bd937c77"
   },
   "outputs": [
    {
     "data": {
      "text/plain": [
       "2010      Atlético Madrid\n",
       "2011             FC Porto\n",
       "2012      Atletico Madrid\n",
       "2013              Chelsea\n",
       "2014              Sevilla\n",
       "2015              Sevilla\n",
       "2016              Sevilla\n",
       "2017    Manchester United\n",
       "2018      Atletico Madrid\n",
       "Name: LEAUGE, dtype: object"
      ]
     },
     "execution_count": 53,
     "metadata": {},
     "output_type": "execute_result"
    }
   ],
   "source": [
    "df_UFEA.iloc[1]"
   ]
  },
  {
   "cell_type": "code",
   "execution_count": 54,
   "metadata": {
    "colab": {
     "base_uri": "https://localhost:8080/"
    },
    "id": "kIfF-wZeHrmr",
    "outputId": "3cb3e3f0-51c7-4bfa-b09f-b693efed3642"
   },
   "outputs": [
    {
     "data": {
      "text/plain": [
       "2010    Inter Milan\n",
       "2013         Bayren\n",
       "Name: CHAMPIONS, dtype: object"
      ]
     },
     "execution_count": 54,
     "metadata": {},
     "output_type": "execute_result"
    }
   ],
   "source": [
    "df_UFEA.loc['CHAMPIONS'][['2010','2013']]"
   ]
  },
  {
   "cell_type": "code",
   "execution_count": 55,
   "metadata": {
    "colab": {
     "base_uri": "https://localhost:8080/"
    },
    "id": "Oj8xyn8xH4Pd",
    "outputId": "420cad86-65d3-4190-9840-35224ad4e780"
   },
   "outputs": [
    {
     "data": {
      "text/plain": [
       "2012    Atletico Madrid\n",
       "2015            Sevilla\n",
       "Name: LEAUGE, dtype: object"
      ]
     },
     "execution_count": 55,
     "metadata": {},
     "output_type": "execute_result"
    }
   ],
   "source": [
    "df_UFEA.iloc[1][['2012','2015']]"
   ]
  },
  {
   "cell_type": "code",
   "execution_count": 56,
   "metadata": {
    "colab": {
     "base_uri": "https://localhost:8080/",
     "height": 235
    },
    "id": "oJxOt_6Agic9",
    "outputId": "d9a3df6d-027d-4aa4-9838-1f1d149e793c"
   },
   "outputs": [
    {
     "data": {
      "text/html": [
       "<div>\n",
       "<style scoped>\n",
       "    .dataframe tbody tr th:only-of-type {\n",
       "        vertical-align: middle;\n",
       "    }\n",
       "\n",
       "    .dataframe tbody tr th {\n",
       "        vertical-align: top;\n",
       "    }\n",
       "\n",
       "    .dataframe thead th {\n",
       "        text-align: right;\n",
       "    }\n",
       "</style>\n",
       "<table border=\"1\" class=\"dataframe\">\n",
       "  <thead>\n",
       "    <tr style=\"text-align: right;\">\n",
       "      <th></th>\n",
       "      <th>frist</th>\n",
       "      <th>second</th>\n",
       "      <th>third</th>\n",
       "      <th>forth</th>\n",
       "      <th>fifth</th>\n",
       "      <th>sixth</th>\n",
       "    </tr>\n",
       "  </thead>\n",
       "  <tbody>\n",
       "    <tr>\n",
       "      <th>A</th>\n",
       "      <td>0.927592</td>\n",
       "      <td>-1.391286</td>\n",
       "      <td>0.376831</td>\n",
       "      <td>-0.068291</td>\n",
       "      <td>-0.077850</td>\n",
       "      <td>0.369196</td>\n",
       "    </tr>\n",
       "    <tr>\n",
       "      <th>B</th>\n",
       "      <td>-1.032899</td>\n",
       "      <td>0.589884</td>\n",
       "      <td>-0.649170</td>\n",
       "      <td>-1.050882</td>\n",
       "      <td>0.005569</td>\n",
       "      <td>-0.278014</td>\n",
       "    </tr>\n",
       "    <tr>\n",
       "      <th>C</th>\n",
       "      <td>-0.199745</td>\n",
       "      <td>0.494299</td>\n",
       "      <td>-1.310066</td>\n",
       "      <td>-1.407402</td>\n",
       "      <td>0.197917</td>\n",
       "      <td>-0.375453</td>\n",
       "    </tr>\n",
       "    <tr>\n",
       "      <th>D</th>\n",
       "      <td>-1.051133</td>\n",
       "      <td>-0.201811</td>\n",
       "      <td>-0.493902</td>\n",
       "      <td>0.710873</td>\n",
       "      <td>0.218452</td>\n",
       "      <td>-1.733735</td>\n",
       "    </tr>\n",
       "    <tr>\n",
       "      <th>E</th>\n",
       "      <td>-1.073064</td>\n",
       "      <td>0.706864</td>\n",
       "      <td>-0.098536</td>\n",
       "      <td>-1.208187</td>\n",
       "      <td>-0.521293</td>\n",
       "      <td>-1.514036</td>\n",
       "    </tr>\n",
       "    <tr>\n",
       "      <th>F</th>\n",
       "      <td>0.587092</td>\n",
       "      <td>-1.052771</td>\n",
       "      <td>-0.353687</td>\n",
       "      <td>0.049371</td>\n",
       "      <td>0.282244</td>\n",
       "      <td>0.007100</td>\n",
       "    </tr>\n",
       "  </tbody>\n",
       "</table>\n",
       "</div>"
      ],
      "text/plain": [
       "      frist    second     third     forth     fifth     sixth\n",
       "A  0.927592 -1.391286  0.376831 -0.068291 -0.077850  0.369196\n",
       "B -1.032899  0.589884 -0.649170 -1.050882  0.005569 -0.278014\n",
       "C -0.199745  0.494299 -1.310066 -1.407402  0.197917 -0.375453\n",
       "D -1.051133 -0.201811 -0.493902  0.710873  0.218452 -1.733735\n",
       "E -1.073064  0.706864 -0.098536 -1.208187 -0.521293 -1.514036\n",
       "F  0.587092 -1.052771 -0.353687  0.049371  0.282244  0.007100"
      ]
     },
     "execution_count": 56,
     "metadata": {},
     "output_type": "execute_result"
    }
   ],
   "source": [
    "from numpy.random import randn\n",
    "df =  pd.DataFrame(randn(6,6), index=['A','B','C','D','E','F'], columns= 'frist second third forth fifth sixth'.split())\n",
    "df"
   ]
  },
  {
   "cell_type": "code",
   "execution_count": 57,
   "metadata": {
    "colab": {
     "base_uri": "https://localhost:8080/",
     "height": 111
    },
    "id": "BLzH2GXNgdrR",
    "outputId": "6e6d0cf1-e388-45bf-e501-4b4251704f27"
   },
   "outputs": [
    {
     "data": {
      "text/html": [
       "<div>\n",
       "<style scoped>\n",
       "    .dataframe tbody tr th:only-of-type {\n",
       "        vertical-align: middle;\n",
       "    }\n",
       "\n",
       "    .dataframe tbody tr th {\n",
       "        vertical-align: top;\n",
       "    }\n",
       "\n",
       "    .dataframe thead th {\n",
       "        text-align: right;\n",
       "    }\n",
       "</style>\n",
       "<table border=\"1\" class=\"dataframe\">\n",
       "  <thead>\n",
       "    <tr style=\"text-align: right;\">\n",
       "      <th></th>\n",
       "      <th>frist</th>\n",
       "      <th>second</th>\n",
       "      <th>third</th>\n",
       "      <th>forth</th>\n",
       "      <th>fifth</th>\n",
       "      <th>sixth</th>\n",
       "    </tr>\n",
       "  </thead>\n",
       "  <tbody>\n",
       "    <tr>\n",
       "      <th>A</th>\n",
       "      <td>0.927592</td>\n",
       "      <td>-1.391286</td>\n",
       "      <td>0.376831</td>\n",
       "      <td>-0.068291</td>\n",
       "      <td>-0.077850</td>\n",
       "      <td>0.369196</td>\n",
       "    </tr>\n",
       "    <tr>\n",
       "      <th>C</th>\n",
       "      <td>-0.199745</td>\n",
       "      <td>0.494299</td>\n",
       "      <td>-1.310066</td>\n",
       "      <td>-1.407402</td>\n",
       "      <td>0.197917</td>\n",
       "      <td>-0.375453</td>\n",
       "    </tr>\n",
       "  </tbody>\n",
       "</table>\n",
       "</div>"
      ],
      "text/plain": [
       "      frist    second     third     forth     fifth     sixth\n",
       "A  0.927592 -1.391286  0.376831 -0.068291 -0.077850  0.369196\n",
       "C -0.199745  0.494299 -1.310066 -1.407402  0.197917 -0.375453"
      ]
     },
     "execution_count": 57,
     "metadata": {},
     "output_type": "execute_result"
    }
   ],
   "source": [
    "df.loc[['A','C']]        "
   ]
  },
  {
   "cell_type": "code",
   "execution_count": 58,
   "metadata": {
    "colab": {
     "base_uri": "https://localhost:8080/",
     "height": 111
    },
    "id": "FD3bddk-jYF3",
    "outputId": "f0e3acd4-d848-42e3-a117-0c77fea35f2e"
   },
   "outputs": [
    {
     "data": {
      "text/html": [
       "<div>\n",
       "<style scoped>\n",
       "    .dataframe tbody tr th:only-of-type {\n",
       "        vertical-align: middle;\n",
       "    }\n",
       "\n",
       "    .dataframe tbody tr th {\n",
       "        vertical-align: top;\n",
       "    }\n",
       "\n",
       "    .dataframe thead th {\n",
       "        text-align: right;\n",
       "    }\n",
       "</style>\n",
       "<table border=\"1\" class=\"dataframe\">\n",
       "  <thead>\n",
       "    <tr style=\"text-align: right;\">\n",
       "      <th></th>\n",
       "      <th>frist</th>\n",
       "      <th>second</th>\n",
       "      <th>third</th>\n",
       "      <th>forth</th>\n",
       "      <th>fifth</th>\n",
       "      <th>sixth</th>\n",
       "    </tr>\n",
       "  </thead>\n",
       "  <tbody>\n",
       "    <tr>\n",
       "      <th>D</th>\n",
       "      <td>-1.051133</td>\n",
       "      <td>-0.201811</td>\n",
       "      <td>-0.493902</td>\n",
       "      <td>0.710873</td>\n",
       "      <td>0.218452</td>\n",
       "      <td>-1.733735</td>\n",
       "    </tr>\n",
       "    <tr>\n",
       "      <th>F</th>\n",
       "      <td>0.587092</td>\n",
       "      <td>-1.052771</td>\n",
       "      <td>-0.353687</td>\n",
       "      <td>0.049371</td>\n",
       "      <td>0.282244</td>\n",
       "      <td>0.007100</td>\n",
       "    </tr>\n",
       "  </tbody>\n",
       "</table>\n",
       "</div>"
      ],
      "text/plain": [
       "      frist    second     third     forth     fifth     sixth\n",
       "D -1.051133 -0.201811 -0.493902  0.710873  0.218452 -1.733735\n",
       "F  0.587092 -1.052771 -0.353687  0.049371  0.282244  0.007100"
      ]
     },
     "execution_count": 58,
     "metadata": {},
     "output_type": "execute_result"
    }
   ],
   "source": [
    "df.iloc[[3,5]]              "
   ]
  },
  {
   "cell_type": "code",
   "execution_count": 59,
   "metadata": {
    "colab": {
     "base_uri": "https://localhost:8080/",
     "height": 142
    },
    "id": "jveUmUmnjpSn",
    "outputId": "7dad2b23-e3f6-48b3-8c0c-392b97e886d3"
   },
   "outputs": [
    {
     "data": {
      "text/html": [
       "<div>\n",
       "<style scoped>\n",
       "    .dataframe tbody tr th:only-of-type {\n",
       "        vertical-align: middle;\n",
       "    }\n",
       "\n",
       "    .dataframe tbody tr th {\n",
       "        vertical-align: top;\n",
       "    }\n",
       "\n",
       "    .dataframe thead th {\n",
       "        text-align: right;\n",
       "    }\n",
       "</style>\n",
       "<table border=\"1\" class=\"dataframe\">\n",
       "  <thead>\n",
       "    <tr style=\"text-align: right;\">\n",
       "      <th></th>\n",
       "      <th>frist</th>\n",
       "      <th>second</th>\n",
       "      <th>third</th>\n",
       "      <th>forth</th>\n",
       "      <th>fifth</th>\n",
       "      <th>sixth</th>\n",
       "    </tr>\n",
       "  </thead>\n",
       "  <tbody>\n",
       "    <tr>\n",
       "      <th>C</th>\n",
       "      <td>-0.199745</td>\n",
       "      <td>0.494299</td>\n",
       "      <td>-1.310066</td>\n",
       "      <td>-1.407402</td>\n",
       "      <td>0.197917</td>\n",
       "      <td>-0.375453</td>\n",
       "    </tr>\n",
       "    <tr>\n",
       "      <th>D</th>\n",
       "      <td>-1.051133</td>\n",
       "      <td>-0.201811</td>\n",
       "      <td>-0.493902</td>\n",
       "      <td>0.710873</td>\n",
       "      <td>0.218452</td>\n",
       "      <td>-1.733735</td>\n",
       "    </tr>\n",
       "    <tr>\n",
       "      <th>E</th>\n",
       "      <td>-1.073064</td>\n",
       "      <td>0.706864</td>\n",
       "      <td>-0.098536</td>\n",
       "      <td>-1.208187</td>\n",
       "      <td>-0.521293</td>\n",
       "      <td>-1.514036</td>\n",
       "    </tr>\n",
       "  </tbody>\n",
       "</table>\n",
       "</div>"
      ],
      "text/plain": [
       "      frist    second     third     forth     fifth     sixth\n",
       "C -0.199745  0.494299 -1.310066 -1.407402  0.197917 -0.375453\n",
       "D -1.051133 -0.201811 -0.493902  0.710873  0.218452 -1.733735\n",
       "E -1.073064  0.706864 -0.098536 -1.208187 -0.521293 -1.514036"
      ]
     },
     "execution_count": 59,
     "metadata": {},
     "output_type": "execute_result"
    }
   ],
   "source": [
    "df.iloc[2:5]"
   ]
  },
  {
   "cell_type": "code",
   "execution_count": 60,
   "metadata": {
    "colab": {
     "base_uri": "https://localhost:8080/",
     "height": 142
    },
    "id": "cd_pM-cEiW81",
    "outputId": "64ce2263-f7e7-4848-f84e-c66dbf4acd27"
   },
   "outputs": [
    {
     "data": {
      "text/html": [
       "<div>\n",
       "<style scoped>\n",
       "    .dataframe tbody tr th:only-of-type {\n",
       "        vertical-align: middle;\n",
       "    }\n",
       "\n",
       "    .dataframe tbody tr th {\n",
       "        vertical-align: top;\n",
       "    }\n",
       "\n",
       "    .dataframe thead th {\n",
       "        text-align: right;\n",
       "    }\n",
       "</style>\n",
       "<table border=\"1\" class=\"dataframe\">\n",
       "  <thead>\n",
       "    <tr style=\"text-align: right;\">\n",
       "      <th></th>\n",
       "      <th>frist</th>\n",
       "      <th>second</th>\n",
       "      <th>third</th>\n",
       "      <th>forth</th>\n",
       "      <th>fifth</th>\n",
       "      <th>sixth</th>\n",
       "    </tr>\n",
       "  </thead>\n",
       "  <tbody>\n",
       "    <tr>\n",
       "      <th>D</th>\n",
       "      <td>-1.051133</td>\n",
       "      <td>-0.201811</td>\n",
       "      <td>-0.493902</td>\n",
       "      <td>0.710873</td>\n",
       "      <td>0.218452</td>\n",
       "      <td>-1.733735</td>\n",
       "    </tr>\n",
       "    <tr>\n",
       "      <th>E</th>\n",
       "      <td>-1.073064</td>\n",
       "      <td>0.706864</td>\n",
       "      <td>-0.098536</td>\n",
       "      <td>-1.208187</td>\n",
       "      <td>-0.521293</td>\n",
       "      <td>-1.514036</td>\n",
       "    </tr>\n",
       "    <tr>\n",
       "      <th>F</th>\n",
       "      <td>0.587092</td>\n",
       "      <td>-1.052771</td>\n",
       "      <td>-0.353687</td>\n",
       "      <td>0.049371</td>\n",
       "      <td>0.282244</td>\n",
       "      <td>0.007100</td>\n",
       "    </tr>\n",
       "  </tbody>\n",
       "</table>\n",
       "</div>"
      ],
      "text/plain": [
       "      frist    second     third     forth     fifth     sixth\n",
       "D -1.051133 -0.201811 -0.493902  0.710873  0.218452 -1.733735\n",
       "E -1.073064  0.706864 -0.098536 -1.208187 -0.521293 -1.514036\n",
       "F  0.587092 -1.052771 -0.353687  0.049371  0.282244  0.007100"
      ]
     },
     "execution_count": 60,
     "metadata": {},
     "output_type": "execute_result"
    }
   ],
   "source": [
    "df.loc['D':'F']"
   ]
  },
  {
   "cell_type": "code",
   "execution_count": 61,
   "metadata": {
    "colab": {
     "base_uri": "https://localhost:8080/",
     "height": 142
    },
    "id": "PeSE-f-kmXCK",
    "outputId": "699243be-0baf-436e-a149-67f20712bc16"
   },
   "outputs": [
    {
     "data": {
      "text/html": [
       "<div>\n",
       "<style scoped>\n",
       "    .dataframe tbody tr th:only-of-type {\n",
       "        vertical-align: middle;\n",
       "    }\n",
       "\n",
       "    .dataframe tbody tr th {\n",
       "        vertical-align: top;\n",
       "    }\n",
       "\n",
       "    .dataframe thead th {\n",
       "        text-align: right;\n",
       "    }\n",
       "</style>\n",
       "<table border=\"1\" class=\"dataframe\">\n",
       "  <thead>\n",
       "    <tr style=\"text-align: right;\">\n",
       "      <th></th>\n",
       "      <th>third</th>\n",
       "      <th>forth</th>\n",
       "      <th>fifth</th>\n",
       "    </tr>\n",
       "  </thead>\n",
       "  <tbody>\n",
       "    <tr>\n",
       "      <th>D</th>\n",
       "      <td>-0.493902</td>\n",
       "      <td>0.710873</td>\n",
       "      <td>0.218452</td>\n",
       "    </tr>\n",
       "    <tr>\n",
       "      <th>E</th>\n",
       "      <td>-0.098536</td>\n",
       "      <td>-1.208187</td>\n",
       "      <td>-0.521293</td>\n",
       "    </tr>\n",
       "    <tr>\n",
       "      <th>F</th>\n",
       "      <td>-0.353687</td>\n",
       "      <td>0.049371</td>\n",
       "      <td>0.282244</td>\n",
       "    </tr>\n",
       "  </tbody>\n",
       "</table>\n",
       "</div>"
      ],
      "text/plain": [
       "      third     forth     fifth\n",
       "D -0.493902  0.710873  0.218452\n",
       "E -0.098536 -1.208187 -0.521293\n",
       "F -0.353687  0.049371  0.282244"
      ]
     },
     "execution_count": 61,
     "metadata": {},
     "output_type": "execute_result"
    }
   ],
   "source": [
    "df.loc['D':'F','third':'fifth']"
   ]
  },
  {
   "cell_type": "code",
   "execution_count": 62,
   "metadata": {
    "colab": {
     "base_uri": "https://localhost:8080/",
     "height": 111
    },
    "id": "i0NFXV8omrpa",
    "outputId": "e6b730db-4354-4a29-b4fd-9e3825fa46b3"
   },
   "outputs": [
    {
     "data": {
      "text/html": [
       "<div>\n",
       "<style scoped>\n",
       "    .dataframe tbody tr th:only-of-type {\n",
       "        vertical-align: middle;\n",
       "    }\n",
       "\n",
       "    .dataframe tbody tr th {\n",
       "        vertical-align: top;\n",
       "    }\n",
       "\n",
       "    .dataframe thead th {\n",
       "        text-align: right;\n",
       "    }\n",
       "</style>\n",
       "<table border=\"1\" class=\"dataframe\">\n",
       "  <thead>\n",
       "    <tr style=\"text-align: right;\">\n",
       "      <th></th>\n",
       "      <th>third</th>\n",
       "      <th>forth</th>\n",
       "    </tr>\n",
       "  </thead>\n",
       "  <tbody>\n",
       "    <tr>\n",
       "      <th>A</th>\n",
       "      <td>0.376831</td>\n",
       "      <td>-0.068291</td>\n",
       "    </tr>\n",
       "    <tr>\n",
       "      <th>B</th>\n",
       "      <td>-0.649170</td>\n",
       "      <td>-1.050882</td>\n",
       "    </tr>\n",
       "  </tbody>\n",
       "</table>\n",
       "</div>"
      ],
      "text/plain": [
       "      third     forth\n",
       "A  0.376831 -0.068291\n",
       "B -0.649170 -1.050882"
      ]
     },
     "execution_count": 62,
     "metadata": {},
     "output_type": "execute_result"
    }
   ],
   "source": [
    "df.iloc[0:2,2:4]"
   ]
  },
  {
   "cell_type": "code",
   "execution_count": 63,
   "metadata": {
    "colab": {
     "base_uri": "https://localhost:8080/"
    },
    "id": "VDaKPEPBLJil",
    "outputId": "99808efa-4e04-421c-e3ad-447dcd301ee7"
   },
   "outputs": [
    {
     "data": {
      "text/plain": [
       "0.376830858064973"
      ]
     },
     "execution_count": 63,
     "metadata": {},
     "output_type": "execute_result"
    }
   ],
   "source": [
    "#for specific value in a specific column \n",
    "df.loc['A']['third'] "
   ]
  },
  {
   "cell_type": "code",
   "execution_count": 64,
   "metadata": {
    "colab": {
     "base_uri": "https://localhost:8080/"
    },
    "id": "yMSyZfB2Lgue",
    "outputId": "ae4b82a0-3baa-4466-e74f-c10797df92dd"
   },
   "outputs": [
    {
     "data": {
      "text/plain": [
       "-0.6491702936792101"
      ]
     },
     "execution_count": 64,
     "metadata": {},
     "output_type": "execute_result"
    }
   ],
   "source": [
    "#for specific value in a specific column \n",
    "df.iloc[1]['third'] "
   ]
  },
  {
   "cell_type": "code",
   "execution_count": 65,
   "metadata": {
    "colab": {
     "base_uri": "https://localhost:8080/"
    },
    "id": "7epbIJ76LLcm",
    "outputId": "5bb865be-dd66-4c18-af22-5de0fd4cc656"
   },
   "outputs": [
    {
     "data": {
      "text/plain": [
       "D   -0.493902\n",
       "E   -0.098536\n",
       "F   -0.353687\n",
       "Name: third, dtype: float64"
      ]
     },
     "execution_count": 65,
     "metadata": {},
     "output_type": "execute_result"
    }
   ],
   "source": [
    "#for specific mutiple values in a specific column \n",
    "df.loc['D':'F']['third']"
   ]
  },
  {
   "cell_type": "code",
   "execution_count": 66,
   "metadata": {
    "colab": {
     "base_uri": "https://localhost:8080/"
    },
    "id": "CtYgwiGdLUpa",
    "outputId": "5efc38d1-d943-4815-ea5b-ad37f379b429"
   },
   "outputs": [
    {
     "data": {
      "text/plain": [
       "A    0.376831\n",
       "B   -0.649170\n",
       "Name: third, dtype: float64"
      ]
     },
     "execution_count": 66,
     "metadata": {},
     "output_type": "execute_result"
    }
   ],
   "source": [
    "#for specific mutiple values in a specific column \n",
    "df.iloc[0:2,2]"
   ]
  },
  {
   "cell_type": "markdown",
   "metadata": {
    "id": "SVAUoUNaHvXU"
   },
   "source": [
    "<a id='opdf'></a>\n",
    "## Operations in pandas dataframe :\n",
    "\n",
    "1. adding rows and columns\n",
    "\n",
    "2. droping rows and coumns\n",
    "\n",
    "3. conditional extraction\n",
    "\n",
    "4. seting  and reseting index\n",
    "\n",
    "\n"
   ]
  },
  {
   "cell_type": "markdown",
   "metadata": {
    "id": "CmjpcFO9R52i"
   },
   "source": [
    "### Adding Rows and columns "
   ]
  },
  {
   "cell_type": "code",
   "execution_count": 67,
   "metadata": {
    "colab": {
     "base_uri": "https://localhost:8080/",
     "height": 145
    },
    "id": "hXrda_54Igo0",
    "outputId": "d1747f39-115d-4671-ce0b-a52dd6457516"
   },
   "outputs": [
    {
     "data": {
      "text/html": [
       "<div>\n",
       "<style scoped>\n",
       "    .dataframe tbody tr th:only-of-type {\n",
       "        vertical-align: middle;\n",
       "    }\n",
       "\n",
       "    .dataframe tbody tr th {\n",
       "        vertical-align: top;\n",
       "    }\n",
       "\n",
       "    .dataframe thead th {\n",
       "        text-align: right;\n",
       "    }\n",
       "</style>\n",
       "<table border=\"1\" class=\"dataframe\">\n",
       "  <thead>\n",
       "    <tr style=\"text-align: right;\">\n",
       "      <th></th>\n",
       "      <th>2010</th>\n",
       "      <th>2011</th>\n",
       "      <th>2012</th>\n",
       "      <th>2013</th>\n",
       "      <th>2014</th>\n",
       "      <th>2015</th>\n",
       "      <th>2016</th>\n",
       "      <th>2017</th>\n",
       "      <th>2018</th>\n",
       "    </tr>\n",
       "  </thead>\n",
       "  <tbody>\n",
       "    <tr>\n",
       "      <th>CHAMPIONS</th>\n",
       "      <td>Inter Milan</td>\n",
       "      <td>Barcelona</td>\n",
       "      <td>Chelsea</td>\n",
       "      <td>Bayren</td>\n",
       "      <td>REAL MADRID</td>\n",
       "      <td>Barcelona</td>\n",
       "      <td>REAL MADRID</td>\n",
       "      <td>REAL MADRID</td>\n",
       "      <td>REAL MADRID</td>\n",
       "    </tr>\n",
       "    <tr>\n",
       "      <th>LEAUGE</th>\n",
       "      <td>Atlético Madrid</td>\n",
       "      <td>FC Porto</td>\n",
       "      <td>Atletico Madrid</td>\n",
       "      <td>Chelsea</td>\n",
       "      <td>Sevilla</td>\n",
       "      <td>Sevilla</td>\n",
       "      <td>Sevilla</td>\n",
       "      <td>Manchester United</td>\n",
       "      <td>Atletico Madrid</td>\n",
       "    </tr>\n",
       "  </tbody>\n",
       "</table>\n",
       "</div>"
      ],
      "text/plain": [
       "                      2010       2011             2012     2013         2014  \\\n",
       "CHAMPIONS      Inter Milan  Barcelona          Chelsea   Bayren  REAL MADRID   \n",
       "LEAUGE     Atlético Madrid   FC Porto  Atletico Madrid  Chelsea      Sevilla   \n",
       "\n",
       "                 2015         2016               2017             2018  \n",
       "CHAMPIONS  Barcelona   REAL MADRID        REAL MADRID      REAL MADRID  \n",
       "LEAUGE        Sevilla      Sevilla  Manchester United  Atletico Madrid  "
      ]
     },
     "execution_count": 67,
     "metadata": {},
     "output_type": "execute_result"
    }
   ],
   "source": [
    "df_UFEA"
   ]
  },
  {
   "cell_type": "code",
   "execution_count": 68,
   "metadata": {
    "colab": {
     "base_uri": "https://localhost:8080/",
     "height": 145
    },
    "id": "lSjxvjymIgch",
    "outputId": "8fe69d06-82c0-4484-bdd1-eb624514667c"
   },
   "outputs": [
    {
     "data": {
      "text/html": [
       "<div>\n",
       "<style scoped>\n",
       "    .dataframe tbody tr th:only-of-type {\n",
       "        vertical-align: middle;\n",
       "    }\n",
       "\n",
       "    .dataframe tbody tr th {\n",
       "        vertical-align: top;\n",
       "    }\n",
       "\n",
       "    .dataframe thead th {\n",
       "        text-align: right;\n",
       "    }\n",
       "</style>\n",
       "<table border=\"1\" class=\"dataframe\">\n",
       "  <thead>\n",
       "    <tr style=\"text-align: right;\">\n",
       "      <th></th>\n",
       "      <th>2010</th>\n",
       "      <th>2011</th>\n",
       "      <th>2012</th>\n",
       "      <th>2013</th>\n",
       "      <th>2014</th>\n",
       "      <th>2015</th>\n",
       "      <th>2016</th>\n",
       "      <th>2017</th>\n",
       "      <th>2018</th>\n",
       "      <th>2019</th>\n",
       "    </tr>\n",
       "  </thead>\n",
       "  <tbody>\n",
       "    <tr>\n",
       "      <th>CHAMPIONS</th>\n",
       "      <td>Inter Milan</td>\n",
       "      <td>Barcelona</td>\n",
       "      <td>Chelsea</td>\n",
       "      <td>Bayren</td>\n",
       "      <td>REAL MADRID</td>\n",
       "      <td>Barcelona</td>\n",
       "      <td>REAL MADRID</td>\n",
       "      <td>REAL MADRID</td>\n",
       "      <td>REAL MADRID</td>\n",
       "      <td>Liverpool</td>\n",
       "    </tr>\n",
       "    <tr>\n",
       "      <th>LEAUGE</th>\n",
       "      <td>Atlético Madrid</td>\n",
       "      <td>FC Porto</td>\n",
       "      <td>Atletico Madrid</td>\n",
       "      <td>Chelsea</td>\n",
       "      <td>Sevilla</td>\n",
       "      <td>Sevilla</td>\n",
       "      <td>Sevilla</td>\n",
       "      <td>Manchester United</td>\n",
       "      <td>Atletico Madrid</td>\n",
       "      <td>Chelsea</td>\n",
       "    </tr>\n",
       "  </tbody>\n",
       "</table>\n",
       "</div>"
      ],
      "text/plain": [
       "                      2010       2011             2012     2013         2014  \\\n",
       "CHAMPIONS      Inter Milan  Barcelona          Chelsea   Bayren  REAL MADRID   \n",
       "LEAUGE     Atlético Madrid   FC Porto  Atletico Madrid  Chelsea      Sevilla   \n",
       "\n",
       "                 2015         2016               2017             2018  \\\n",
       "CHAMPIONS  Barcelona   REAL MADRID        REAL MADRID      REAL MADRID   \n",
       "LEAUGE        Sevilla      Sevilla  Manchester United  Atletico Madrid   \n",
       "\n",
       "                2019  \n",
       "CHAMPIONS  Liverpool  \n",
       "LEAUGE       Chelsea  "
      ]
     },
     "execution_count": 68,
     "metadata": {},
     "output_type": "execute_result"
    }
   ],
   "source": [
    "#Adding new to the dataframe column\n",
    "df_UFEA['2019'] = ['Liverpool','Chelsea']\n",
    "df_UFEA"
   ]
  },
  {
   "cell_type": "code",
   "execution_count": 69,
   "metadata": {
    "colab": {
     "base_uri": "https://localhost:8080/",
     "height": 204
    },
    "id": "Dm2Wx2PmQO4z",
    "outputId": "a18437bb-2263-43c1-c709-19983621bd6a"
   },
   "outputs": [
    {
     "data": {
      "text/html": [
       "<div>\n",
       "<style scoped>\n",
       "    .dataframe tbody tr th:only-of-type {\n",
       "        vertical-align: middle;\n",
       "    }\n",
       "\n",
       "    .dataframe tbody tr th {\n",
       "        vertical-align: top;\n",
       "    }\n",
       "\n",
       "    .dataframe thead th {\n",
       "        text-align: right;\n",
       "    }\n",
       "</style>\n",
       "<table border=\"1\" class=\"dataframe\">\n",
       "  <thead>\n",
       "    <tr style=\"text-align: right;\">\n",
       "      <th></th>\n",
       "      <th>Temp_Cls</th>\n",
       "    </tr>\n",
       "  </thead>\n",
       "  <tbody>\n",
       "    <tr>\n",
       "      <th>0</th>\n",
       "      <td>-0.582454</td>\n",
       "    </tr>\n",
       "    <tr>\n",
       "      <th>1</th>\n",
       "      <td>-0.718144</td>\n",
       "    </tr>\n",
       "    <tr>\n",
       "      <th>2</th>\n",
       "      <td>0.175106</td>\n",
       "    </tr>\n",
       "    <tr>\n",
       "      <th>3</th>\n",
       "      <td>2.114760</td>\n",
       "    </tr>\n",
       "    <tr>\n",
       "      <th>4</th>\n",
       "      <td>-0.440779</td>\n",
       "    </tr>\n",
       "  </tbody>\n",
       "</table>\n",
       "</div>"
      ],
      "text/plain": [
       "   Temp_Cls\n",
       "0 -0.582454\n",
       "1 -0.718144\n",
       "2  0.175106\n",
       "3  2.114760\n",
       "4 -0.440779"
      ]
     },
     "execution_count": 69,
     "metadata": {},
     "output_type": "execute_result"
    }
   ],
   "source": [
    "\n",
    "df2= pd.DataFrame(data=np.random.randn(5,1), columns=['Temp_Cls'])\n",
    "df2"
   ]
  },
  {
   "cell_type": "code",
   "execution_count": 70,
   "metadata": {
    "colab": {
     "base_uri": "https://localhost:8080/",
     "height": 204
    },
    "id": "vrunZWffQY-Z",
    "outputId": "0bd3303d-1cf2-4787-f6f0-8d1accd25965"
   },
   "outputs": [
    {
     "data": {
      "text/html": [
       "<div>\n",
       "<style scoped>\n",
       "    .dataframe tbody tr th:only-of-type {\n",
       "        vertical-align: middle;\n",
       "    }\n",
       "\n",
       "    .dataframe tbody tr th {\n",
       "        vertical-align: top;\n",
       "    }\n",
       "\n",
       "    .dataframe thead th {\n",
       "        text-align: right;\n",
       "    }\n",
       "</style>\n",
       "<table border=\"1\" class=\"dataframe\">\n",
       "  <thead>\n",
       "    <tr style=\"text-align: right;\">\n",
       "      <th></th>\n",
       "      <th>Temp_Cls</th>\n",
       "      <th>Temp_Fah</th>\n",
       "    </tr>\n",
       "  </thead>\n",
       "  <tbody>\n",
       "    <tr>\n",
       "      <th>0</th>\n",
       "      <td>-0.582454</td>\n",
       "      <td>30.951583</td>\n",
       "    </tr>\n",
       "    <tr>\n",
       "      <th>1</th>\n",
       "      <td>-0.718144</td>\n",
       "      <td>30.707340</td>\n",
       "    </tr>\n",
       "    <tr>\n",
       "      <th>2</th>\n",
       "      <td>0.175106</td>\n",
       "      <td>32.315191</td>\n",
       "    </tr>\n",
       "    <tr>\n",
       "      <th>3</th>\n",
       "      <td>2.114760</td>\n",
       "      <td>35.806567</td>\n",
       "    </tr>\n",
       "    <tr>\n",
       "      <th>4</th>\n",
       "      <td>-0.440779</td>\n",
       "      <td>31.206598</td>\n",
       "    </tr>\n",
       "  </tbody>\n",
       "</table>\n",
       "</div>"
      ],
      "text/plain": [
       "   Temp_Cls   Temp_Fah\n",
       "0 -0.582454  30.951583\n",
       "1 -0.718144  30.707340\n",
       "2  0.175106  32.315191\n",
       "3  2.114760  35.806567\n",
       "4 -0.440779  31.206598"
      ]
     },
     "execution_count": 70,
     "metadata": {},
     "output_type": "execute_result"
    }
   ],
   "source": [
    "#Adding column\n",
    "# fahrenheit\n",
    "df2['Temp_Fah'] = df2['Temp_Cls'] * (9/5) + 32\n",
    "df2"
   ]
  },
  {
   "cell_type": "code",
   "execution_count": 71,
   "metadata": {
    "colab": {
     "base_uri": "https://localhost:8080/",
     "height": 193
    },
    "id": "7Mp9EHW4SFrZ",
    "outputId": "d00c7b26-7651-46be-f61c-edf1ceecc407"
   },
   "outputs": [
    {
     "data": {
      "text/html": [
       "<div>\n",
       "<style scoped>\n",
       "    .dataframe tbody tr th:only-of-type {\n",
       "        vertical-align: middle;\n",
       "    }\n",
       "\n",
       "    .dataframe tbody tr th {\n",
       "        vertical-align: top;\n",
       "    }\n",
       "\n",
       "    .dataframe thead th {\n",
       "        text-align: right;\n",
       "    }\n",
       "</style>\n",
       "<table border=\"1\" class=\"dataframe\">\n",
       "  <thead>\n",
       "    <tr style=\"text-align: right;\">\n",
       "      <th></th>\n",
       "      <th>2010</th>\n",
       "      <th>2011</th>\n",
       "      <th>2012</th>\n",
       "      <th>2013</th>\n",
       "      <th>2014</th>\n",
       "      <th>2015</th>\n",
       "      <th>2016</th>\n",
       "      <th>2017</th>\n",
       "      <th>2018</th>\n",
       "      <th>2019</th>\n",
       "    </tr>\n",
       "  </thead>\n",
       "  <tbody>\n",
       "    <tr>\n",
       "      <th>CHAMPIONS</th>\n",
       "      <td>Inter Milan</td>\n",
       "      <td>Barcelona</td>\n",
       "      <td>Chelsea</td>\n",
       "      <td>Bayren</td>\n",
       "      <td>REAL MADRID</td>\n",
       "      <td>Barcelona</td>\n",
       "      <td>REAL MADRID</td>\n",
       "      <td>REAL MADRID</td>\n",
       "      <td>REAL MADRID</td>\n",
       "      <td>Liverpool</td>\n",
       "    </tr>\n",
       "    <tr>\n",
       "      <th>LEAUGE</th>\n",
       "      <td>Atlético Madrid</td>\n",
       "      <td>FC Porto</td>\n",
       "      <td>Atletico Madrid</td>\n",
       "      <td>Chelsea</td>\n",
       "      <td>Sevilla</td>\n",
       "      <td>Sevilla</td>\n",
       "      <td>Sevilla</td>\n",
       "      <td>Manchester United</td>\n",
       "      <td>Atletico Madrid</td>\n",
       "      <td>Chelsea</td>\n",
       "    </tr>\n",
       "    <tr>\n",
       "      <th>SUPER</th>\n",
       "      <td>Atlético Madrid</td>\n",
       "      <td>Barcelona</td>\n",
       "      <td>Atlético Madrid</td>\n",
       "      <td>Bayern</td>\n",
       "      <td>Real Madrid</td>\n",
       "      <td>Barcelona</td>\n",
       "      <td>Real Madrid</td>\n",
       "      <td>Real Madrid</td>\n",
       "      <td>Atlético Madrid</td>\n",
       "      <td>Liverpool</td>\n",
       "    </tr>\n",
       "  </tbody>\n",
       "</table>\n",
       "</div>"
      ],
      "text/plain": [
       "                      2010       2011             2012     2013         2014  \\\n",
       "CHAMPIONS      Inter Milan  Barcelona          Chelsea   Bayren  REAL MADRID   \n",
       "LEAUGE     Atlético Madrid   FC Porto  Atletico Madrid  Chelsea      Sevilla   \n",
       "SUPER      Atlético Madrid  Barcelona  Atlético Madrid   Bayern  Real Madrid   \n",
       "\n",
       "                 2015         2016               2017             2018  \\\n",
       "CHAMPIONS  Barcelona   REAL MADRID        REAL MADRID      REAL MADRID   \n",
       "LEAUGE        Sevilla      Sevilla  Manchester United  Atletico Madrid   \n",
       "SUPER       Barcelona  Real Madrid        Real Madrid  Atlético Madrid   \n",
       "\n",
       "                2019  \n",
       "CHAMPIONS  Liverpool  \n",
       "LEAUGE       Chelsea  \n",
       "SUPER      Liverpool  "
      ]
     },
     "execution_count": 71,
     "metadata": {},
     "output_type": "execute_result"
    }
   ],
   "source": [
    "#Adding rows \n",
    "df_UFEA.loc['SUPER'] =  ['Atlético Madrid','Barcelona','Atlético Madrid','Bayern','Real Madrid','Barcelona','Real Madrid','Real Madrid','Atlético Madrid','Liverpool']\n",
    "                          \n",
    "df_UFEA                         "
   ]
  },
  {
   "cell_type": "markdown",
   "metadata": {
    "id": "2BI0GygdTNuS"
   },
   "source": [
    "### Dropping rows and columns"
   ]
  },
  {
   "cell_type": "code",
   "execution_count": 72,
   "metadata": {
    "colab": {
     "base_uri": "https://localhost:8080/"
    },
    "id": "LGaFerfnKiE-",
    "outputId": "546c9fca-3a5c-4222-fabe-bdd8cb99bd02"
   },
   "outputs": [
    {
     "data": {
      "text/html": [
       "<div>\n",
       "<style scoped>\n",
       "    .dataframe tbody tr th:only-of-type {\n",
       "        vertical-align: middle;\n",
       "    }\n",
       "\n",
       "    .dataframe tbody tr th {\n",
       "        vertical-align: top;\n",
       "    }\n",
       "\n",
       "    .dataframe thead th {\n",
       "        text-align: right;\n",
       "    }\n",
       "</style>\n",
       "<table border=\"1\" class=\"dataframe\">\n",
       "  <thead>\n",
       "    <tr style=\"text-align: right;\">\n",
       "      <th></th>\n",
       "      <th>2010</th>\n",
       "      <th>2011</th>\n",
       "      <th>2012</th>\n",
       "      <th>2013</th>\n",
       "      <th>2014</th>\n",
       "      <th>2015</th>\n",
       "      <th>2016</th>\n",
       "      <th>2017</th>\n",
       "      <th>2018</th>\n",
       "    </tr>\n",
       "  </thead>\n",
       "  <tbody>\n",
       "    <tr>\n",
       "      <th>CHAMPIONS</th>\n",
       "      <td>Inter Milan</td>\n",
       "      <td>Barcelona</td>\n",
       "      <td>Chelsea</td>\n",
       "      <td>Bayren</td>\n",
       "      <td>REAL MADRID</td>\n",
       "      <td>Barcelona</td>\n",
       "      <td>REAL MADRID</td>\n",
       "      <td>REAL MADRID</td>\n",
       "      <td>REAL MADRID</td>\n",
       "    </tr>\n",
       "    <tr>\n",
       "      <th>LEAUGE</th>\n",
       "      <td>Atlético Madrid</td>\n",
       "      <td>FC Porto</td>\n",
       "      <td>Atletico Madrid</td>\n",
       "      <td>Chelsea</td>\n",
       "      <td>Sevilla</td>\n",
       "      <td>Sevilla</td>\n",
       "      <td>Sevilla</td>\n",
       "      <td>Manchester United</td>\n",
       "      <td>Atletico Madrid</td>\n",
       "    </tr>\n",
       "    <tr>\n",
       "      <th>SUPER</th>\n",
       "      <td>Atlético Madrid</td>\n",
       "      <td>Barcelona</td>\n",
       "      <td>Atlético Madrid</td>\n",
       "      <td>Bayern</td>\n",
       "      <td>Real Madrid</td>\n",
       "      <td>Barcelona</td>\n",
       "      <td>Real Madrid</td>\n",
       "      <td>Real Madrid</td>\n",
       "      <td>Atlético Madrid</td>\n",
       "    </tr>\n",
       "  </tbody>\n",
       "</table>\n",
       "</div>"
      ],
      "text/plain": [
       "                      2010       2011             2012     2013         2014  \\\n",
       "CHAMPIONS      Inter Milan  Barcelona          Chelsea   Bayren  REAL MADRID   \n",
       "LEAUGE     Atlético Madrid   FC Porto  Atletico Madrid  Chelsea      Sevilla   \n",
       "SUPER      Atlético Madrid  Barcelona  Atlético Madrid   Bayern  Real Madrid   \n",
       "\n",
       "                 2015         2016               2017             2018  \n",
       "CHAMPIONS  Barcelona   REAL MADRID        REAL MADRID      REAL MADRID  \n",
       "LEAUGE        Sevilla      Sevilla  Manchester United  Atletico Madrid  \n",
       "SUPER       Barcelona  Real Madrid        Real Madrid  Atlético Madrid  "
      ]
     },
     "execution_count": 72,
     "metadata": {},
     "output_type": "execute_result"
    }
   ],
   "source": [
    "#Removing column without saving\n",
    "#axis = 1 delete from columns \n",
    "df_UFEA.drop('2019',axis =1 )"
   ]
  },
  {
   "cell_type": "code",
   "execution_count": 73,
   "metadata": {
    "colab": {
     "base_uri": "https://localhost:8080/"
    },
    "id": "Pveqo9-IIfss",
    "outputId": "9b6336d8-4860-4e10-dc62-0b49626ba239"
   },
   "outputs": [
    {
     "data": {
      "text/html": [
       "<div>\n",
       "<style scoped>\n",
       "    .dataframe tbody tr th:only-of-type {\n",
       "        vertical-align: middle;\n",
       "    }\n",
       "\n",
       "    .dataframe tbody tr th {\n",
       "        vertical-align: top;\n",
       "    }\n",
       "\n",
       "    .dataframe thead th {\n",
       "        text-align: right;\n",
       "    }\n",
       "</style>\n",
       "<table border=\"1\" class=\"dataframe\">\n",
       "  <thead>\n",
       "    <tr style=\"text-align: right;\">\n",
       "      <th></th>\n",
       "      <th>2010</th>\n",
       "      <th>2011</th>\n",
       "      <th>2012</th>\n",
       "      <th>2013</th>\n",
       "      <th>2014</th>\n",
       "      <th>2015</th>\n",
       "      <th>2016</th>\n",
       "      <th>2017</th>\n",
       "      <th>2018</th>\n",
       "      <th>2019</th>\n",
       "    </tr>\n",
       "  </thead>\n",
       "  <tbody>\n",
       "    <tr>\n",
       "      <th>CHAMPIONS</th>\n",
       "      <td>Inter Milan</td>\n",
       "      <td>Barcelona</td>\n",
       "      <td>Chelsea</td>\n",
       "      <td>Bayren</td>\n",
       "      <td>REAL MADRID</td>\n",
       "      <td>Barcelona</td>\n",
       "      <td>REAL MADRID</td>\n",
       "      <td>REAL MADRID</td>\n",
       "      <td>REAL MADRID</td>\n",
       "      <td>Liverpool</td>\n",
       "    </tr>\n",
       "    <tr>\n",
       "      <th>LEAUGE</th>\n",
       "      <td>Atlético Madrid</td>\n",
       "      <td>FC Porto</td>\n",
       "      <td>Atletico Madrid</td>\n",
       "      <td>Chelsea</td>\n",
       "      <td>Sevilla</td>\n",
       "      <td>Sevilla</td>\n",
       "      <td>Sevilla</td>\n",
       "      <td>Manchester United</td>\n",
       "      <td>Atletico Madrid</td>\n",
       "      <td>Chelsea</td>\n",
       "    </tr>\n",
       "    <tr>\n",
       "      <th>SUPER</th>\n",
       "      <td>Atlético Madrid</td>\n",
       "      <td>Barcelona</td>\n",
       "      <td>Atlético Madrid</td>\n",
       "      <td>Bayern</td>\n",
       "      <td>Real Madrid</td>\n",
       "      <td>Barcelona</td>\n",
       "      <td>Real Madrid</td>\n",
       "      <td>Real Madrid</td>\n",
       "      <td>Atlético Madrid</td>\n",
       "      <td>Liverpool</td>\n",
       "    </tr>\n",
       "  </tbody>\n",
       "</table>\n",
       "</div>"
      ],
      "text/plain": [
       "                      2010       2011             2012     2013         2014  \\\n",
       "CHAMPIONS      Inter Milan  Barcelona          Chelsea   Bayren  REAL MADRID   \n",
       "LEAUGE     Atlético Madrid   FC Porto  Atletico Madrid  Chelsea      Sevilla   \n",
       "SUPER      Atlético Madrid  Barcelona  Atlético Madrid   Bayern  Real Madrid   \n",
       "\n",
       "                 2015         2016               2017             2018  \\\n",
       "CHAMPIONS  Barcelona   REAL MADRID        REAL MADRID      REAL MADRID   \n",
       "LEAUGE        Sevilla      Sevilla  Manchester United  Atletico Madrid   \n",
       "SUPER       Barcelona  Real Madrid        Real Madrid  Atlético Madrid   \n",
       "\n",
       "                2019  \n",
       "CHAMPIONS  Liverpool  \n",
       "LEAUGE       Chelsea  \n",
       "SUPER      Liverpool  "
      ]
     },
     "execution_count": 73,
     "metadata": {},
     "output_type": "execute_result"
    }
   ],
   "source": [
    "df_UFEA"
   ]
  },
  {
   "cell_type": "code",
   "execution_count": 74,
   "metadata": {
    "colab": {
     "base_uri": "https://localhost:8080/"
    },
    "id": "1_fEIRCCTtOY",
    "outputId": "4d85cca9-5f3a-4576-fe94-98fd47ff27d2"
   },
   "outputs": [
    {
     "data": {
      "text/html": [
       "<div>\n",
       "<style scoped>\n",
       "    .dataframe tbody tr th:only-of-type {\n",
       "        vertical-align: middle;\n",
       "    }\n",
       "\n",
       "    .dataframe tbody tr th {\n",
       "        vertical-align: top;\n",
       "    }\n",
       "\n",
       "    .dataframe thead th {\n",
       "        text-align: right;\n",
       "    }\n",
       "</style>\n",
       "<table border=\"1\" class=\"dataframe\">\n",
       "  <thead>\n",
       "    <tr style=\"text-align: right;\">\n",
       "      <th></th>\n",
       "      <th>2010</th>\n",
       "      <th>2011</th>\n",
       "      <th>2012</th>\n",
       "      <th>2013</th>\n",
       "      <th>2014</th>\n",
       "      <th>2015</th>\n",
       "      <th>2016</th>\n",
       "      <th>2019</th>\n",
       "    </tr>\n",
       "  </thead>\n",
       "  <tbody>\n",
       "    <tr>\n",
       "      <th>CHAMPIONS</th>\n",
       "      <td>Inter Milan</td>\n",
       "      <td>Barcelona</td>\n",
       "      <td>Chelsea</td>\n",
       "      <td>Bayren</td>\n",
       "      <td>REAL MADRID</td>\n",
       "      <td>Barcelona</td>\n",
       "      <td>REAL MADRID</td>\n",
       "      <td>Liverpool</td>\n",
       "    </tr>\n",
       "    <tr>\n",
       "      <th>LEAUGE</th>\n",
       "      <td>Atlético Madrid</td>\n",
       "      <td>FC Porto</td>\n",
       "      <td>Atletico Madrid</td>\n",
       "      <td>Chelsea</td>\n",
       "      <td>Sevilla</td>\n",
       "      <td>Sevilla</td>\n",
       "      <td>Sevilla</td>\n",
       "      <td>Chelsea</td>\n",
       "    </tr>\n",
       "    <tr>\n",
       "      <th>SUPER</th>\n",
       "      <td>Atlético Madrid</td>\n",
       "      <td>Barcelona</td>\n",
       "      <td>Atlético Madrid</td>\n",
       "      <td>Bayern</td>\n",
       "      <td>Real Madrid</td>\n",
       "      <td>Barcelona</td>\n",
       "      <td>Real Madrid</td>\n",
       "      <td>Liverpool</td>\n",
       "    </tr>\n",
       "  </tbody>\n",
       "</table>\n",
       "</div>"
      ],
      "text/plain": [
       "                      2010       2011             2012     2013         2014  \\\n",
       "CHAMPIONS      Inter Milan  Barcelona          Chelsea   Bayren  REAL MADRID   \n",
       "LEAUGE     Atlético Madrid   FC Porto  Atletico Madrid  Chelsea      Sevilla   \n",
       "SUPER      Atlético Madrid  Barcelona  Atlético Madrid   Bayern  Real Madrid   \n",
       "\n",
       "                 2015         2016       2019  \n",
       "CHAMPIONS  Barcelona   REAL MADRID  Liverpool  \n",
       "LEAUGE        Sevilla      Sevilla    Chelsea  \n",
       "SUPER       Barcelona  Real Madrid  Liverpool  "
      ]
     },
     "execution_count": 74,
     "metadata": {},
     "output_type": "execute_result"
    }
   ],
   "source": [
    "#Removing mutiple (put as list) columns without saving\n",
    "df_UFEA.drop(columns=['2018','2017'],axis =1)"
   ]
  },
  {
   "cell_type": "code",
   "execution_count": 75,
   "metadata": {
    "id": "JcNVUrEvNcuW"
   },
   "outputs": [],
   "source": [
    "\n",
    "#Removing column with saving\n",
    "df_UFEA.drop('2019',axis =1 ,inplace=True)"
   ]
  },
  {
   "cell_type": "code",
   "execution_count": 76,
   "metadata": {
    "colab": {
     "base_uri": "https://localhost:8080/"
    },
    "id": "6gJhM8WlPWFr",
    "outputId": "0cf0e021-337e-47db-bf4a-4017127249f4"
   },
   "outputs": [
    {
     "data": {
      "text/html": [
       "<div>\n",
       "<style scoped>\n",
       "    .dataframe tbody tr th:only-of-type {\n",
       "        vertical-align: middle;\n",
       "    }\n",
       "\n",
       "    .dataframe tbody tr th {\n",
       "        vertical-align: top;\n",
       "    }\n",
       "\n",
       "    .dataframe thead th {\n",
       "        text-align: right;\n",
       "    }\n",
       "</style>\n",
       "<table border=\"1\" class=\"dataframe\">\n",
       "  <thead>\n",
       "    <tr style=\"text-align: right;\">\n",
       "      <th></th>\n",
       "      <th>2010</th>\n",
       "      <th>2011</th>\n",
       "      <th>2012</th>\n",
       "      <th>2013</th>\n",
       "      <th>2014</th>\n",
       "      <th>2015</th>\n",
       "      <th>2016</th>\n",
       "      <th>2017</th>\n",
       "      <th>2018</th>\n",
       "    </tr>\n",
       "  </thead>\n",
       "  <tbody>\n",
       "    <tr>\n",
       "      <th>CHAMPIONS</th>\n",
       "      <td>Inter Milan</td>\n",
       "      <td>Barcelona</td>\n",
       "      <td>Chelsea</td>\n",
       "      <td>Bayren</td>\n",
       "      <td>REAL MADRID</td>\n",
       "      <td>Barcelona</td>\n",
       "      <td>REAL MADRID</td>\n",
       "      <td>REAL MADRID</td>\n",
       "      <td>REAL MADRID</td>\n",
       "    </tr>\n",
       "    <tr>\n",
       "      <th>LEAUGE</th>\n",
       "      <td>Atlético Madrid</td>\n",
       "      <td>FC Porto</td>\n",
       "      <td>Atletico Madrid</td>\n",
       "      <td>Chelsea</td>\n",
       "      <td>Sevilla</td>\n",
       "      <td>Sevilla</td>\n",
       "      <td>Sevilla</td>\n",
       "      <td>Manchester United</td>\n",
       "      <td>Atletico Madrid</td>\n",
       "    </tr>\n",
       "    <tr>\n",
       "      <th>SUPER</th>\n",
       "      <td>Atlético Madrid</td>\n",
       "      <td>Barcelona</td>\n",
       "      <td>Atlético Madrid</td>\n",
       "      <td>Bayern</td>\n",
       "      <td>Real Madrid</td>\n",
       "      <td>Barcelona</td>\n",
       "      <td>Real Madrid</td>\n",
       "      <td>Real Madrid</td>\n",
       "      <td>Atlético Madrid</td>\n",
       "    </tr>\n",
       "  </tbody>\n",
       "</table>\n",
       "</div>"
      ],
      "text/plain": [
       "                      2010       2011             2012     2013         2014  \\\n",
       "CHAMPIONS      Inter Milan  Barcelona          Chelsea   Bayren  REAL MADRID   \n",
       "LEAUGE     Atlético Madrid   FC Porto  Atletico Madrid  Chelsea      Sevilla   \n",
       "SUPER      Atlético Madrid  Barcelona  Atlético Madrid   Bayern  Real Madrid   \n",
       "\n",
       "                 2015         2016               2017             2018  \n",
       "CHAMPIONS  Barcelona   REAL MADRID        REAL MADRID      REAL MADRID  \n",
       "LEAUGE        Sevilla      Sevilla  Manchester United  Atletico Madrid  \n",
       "SUPER       Barcelona  Real Madrid        Real Madrid  Atlético Madrid  "
      ]
     },
     "execution_count": 76,
     "metadata": {},
     "output_type": "execute_result"
    }
   ],
   "source": [
    "df_UFEA"
   ]
  },
  {
   "cell_type": "code",
   "execution_count": 77,
   "metadata": {
    "colab": {
     "base_uri": "https://localhost:8080/"
    },
    "id": "4Duhkm0CK7rD",
    "outputId": "031d5435-1267-4d8c-d4f7-3b7c30758a5d"
   },
   "outputs": [
    {
     "data": {
      "text/html": [
       "<div>\n",
       "<style scoped>\n",
       "    .dataframe tbody tr th:only-of-type {\n",
       "        vertical-align: middle;\n",
       "    }\n",
       "\n",
       "    .dataframe tbody tr th {\n",
       "        vertical-align: top;\n",
       "    }\n",
       "\n",
       "    .dataframe thead th {\n",
       "        text-align: right;\n",
       "    }\n",
       "</style>\n",
       "<table border=\"1\" class=\"dataframe\">\n",
       "  <thead>\n",
       "    <tr style=\"text-align: right;\">\n",
       "      <th></th>\n",
       "      <th>2010</th>\n",
       "      <th>2011</th>\n",
       "      <th>2012</th>\n",
       "      <th>2013</th>\n",
       "      <th>2014</th>\n",
       "      <th>2015</th>\n",
       "      <th>2016</th>\n",
       "      <th>2017</th>\n",
       "      <th>2018</th>\n",
       "    </tr>\n",
       "  </thead>\n",
       "  <tbody>\n",
       "    <tr>\n",
       "      <th>LEAUGE</th>\n",
       "      <td>Atlético Madrid</td>\n",
       "      <td>FC Porto</td>\n",
       "      <td>Atletico Madrid</td>\n",
       "      <td>Chelsea</td>\n",
       "      <td>Sevilla</td>\n",
       "      <td>Sevilla</td>\n",
       "      <td>Sevilla</td>\n",
       "      <td>Manchester United</td>\n",
       "      <td>Atletico Madrid</td>\n",
       "    </tr>\n",
       "    <tr>\n",
       "      <th>SUPER</th>\n",
       "      <td>Atlético Madrid</td>\n",
       "      <td>Barcelona</td>\n",
       "      <td>Atlético Madrid</td>\n",
       "      <td>Bayern</td>\n",
       "      <td>Real Madrid</td>\n",
       "      <td>Barcelona</td>\n",
       "      <td>Real Madrid</td>\n",
       "      <td>Real Madrid</td>\n",
       "      <td>Atlético Madrid</td>\n",
       "    </tr>\n",
       "  </tbody>\n",
       "</table>\n",
       "</div>"
      ],
      "text/plain": [
       "                   2010       2011             2012     2013         2014  \\\n",
       "LEAUGE  Atlético Madrid   FC Porto  Atletico Madrid  Chelsea      Sevilla   \n",
       "SUPER   Atlético Madrid  Barcelona  Atlético Madrid   Bayern  Real Madrid   \n",
       "\n",
       "             2015         2016               2017             2018  \n",
       "LEAUGE    Sevilla      Sevilla  Manchester United  Atletico Madrid  \n",
       "SUPER   Barcelona  Real Madrid        Real Madrid  Atlético Madrid  "
      ]
     },
     "execution_count": 77,
     "metadata": {},
     "output_type": "execute_result"
    }
   ],
   "source": [
    "#Removing ROW without saving\n",
    "#axis = 0 to delet from rows\n",
    "df_UFEA.drop('CHAMPIONS',axis =0)"
   ]
  },
  {
   "cell_type": "code",
   "execution_count": 78,
   "metadata": {
    "colab": {
     "base_uri": "https://localhost:8080/"
    },
    "id": "uGCU9SmBQn0A",
    "outputId": "32b4ae45-6cf5-4041-a31c-e6ac86db8362"
   },
   "outputs": [
    {
     "data": {
      "text/html": [
       "<div>\n",
       "<style scoped>\n",
       "    .dataframe tbody tr th:only-of-type {\n",
       "        vertical-align: middle;\n",
       "    }\n",
       "\n",
       "    .dataframe tbody tr th {\n",
       "        vertical-align: top;\n",
       "    }\n",
       "\n",
       "    .dataframe thead th {\n",
       "        text-align: right;\n",
       "    }\n",
       "</style>\n",
       "<table border=\"1\" class=\"dataframe\">\n",
       "  <thead>\n",
       "    <tr style=\"text-align: right;\">\n",
       "      <th></th>\n",
       "      <th>2010</th>\n",
       "      <th>2011</th>\n",
       "      <th>2012</th>\n",
       "      <th>2013</th>\n",
       "      <th>2014</th>\n",
       "      <th>2015</th>\n",
       "      <th>2016</th>\n",
       "      <th>2017</th>\n",
       "      <th>2018</th>\n",
       "    </tr>\n",
       "  </thead>\n",
       "  <tbody>\n",
       "    <tr>\n",
       "      <th>CHAMPIONS</th>\n",
       "      <td>Inter Milan</td>\n",
       "      <td>Barcelona</td>\n",
       "      <td>Chelsea</td>\n",
       "      <td>Bayren</td>\n",
       "      <td>REAL MADRID</td>\n",
       "      <td>Barcelona</td>\n",
       "      <td>REAL MADRID</td>\n",
       "      <td>REAL MADRID</td>\n",
       "      <td>REAL MADRID</td>\n",
       "    </tr>\n",
       "    <tr>\n",
       "      <th>LEAUGE</th>\n",
       "      <td>Atlético Madrid</td>\n",
       "      <td>FC Porto</td>\n",
       "      <td>Atletico Madrid</td>\n",
       "      <td>Chelsea</td>\n",
       "      <td>Sevilla</td>\n",
       "      <td>Sevilla</td>\n",
       "      <td>Sevilla</td>\n",
       "      <td>Manchester United</td>\n",
       "      <td>Atletico Madrid</td>\n",
       "    </tr>\n",
       "    <tr>\n",
       "      <th>SUPER</th>\n",
       "      <td>Atlético Madrid</td>\n",
       "      <td>Barcelona</td>\n",
       "      <td>Atlético Madrid</td>\n",
       "      <td>Bayern</td>\n",
       "      <td>Real Madrid</td>\n",
       "      <td>Barcelona</td>\n",
       "      <td>Real Madrid</td>\n",
       "      <td>Real Madrid</td>\n",
       "      <td>Atlético Madrid</td>\n",
       "    </tr>\n",
       "  </tbody>\n",
       "</table>\n",
       "</div>"
      ],
      "text/plain": [
       "                      2010       2011             2012     2013         2014  \\\n",
       "CHAMPIONS      Inter Milan  Barcelona          Chelsea   Bayren  REAL MADRID   \n",
       "LEAUGE     Atlético Madrid   FC Porto  Atletico Madrid  Chelsea      Sevilla   \n",
       "SUPER      Atlético Madrid  Barcelona  Atlético Madrid   Bayern  Real Madrid   \n",
       "\n",
       "                 2015         2016               2017             2018  \n",
       "CHAMPIONS  Barcelona   REAL MADRID        REAL MADRID      REAL MADRID  \n",
       "LEAUGE        Sevilla      Sevilla  Manchester United  Atletico Madrid  \n",
       "SUPER       Barcelona  Real Madrid        Real Madrid  Atlético Madrid  "
      ]
     },
     "execution_count": 78,
     "metadata": {},
     "output_type": "execute_result"
    }
   ],
   "source": [
    "df_UFEA"
   ]
  },
  {
   "cell_type": "code",
   "execution_count": 79,
   "metadata": {
    "id": "jfseV4QMK7ZA"
   },
   "outputs": [],
   "source": [
    "#Removing ROW with saving\n",
    "#df_UFEA.drop('CHAMPIONS',axis =0,inplace=True)"
   ]
  },
  {
   "cell_type": "markdown",
   "metadata": {
    "id": "X5z_ZxOmVzwE"
   },
   "source": [
    "### Conditional Extraction  "
   ]
  },
  {
   "cell_type": "code",
   "execution_count": 80,
   "metadata": {
    "colab": {
     "base_uri": "https://localhost:8080/"
    },
    "id": "jnvsJddJIff8",
    "outputId": "fd818891-c9f0-4f49-d496-7dfbc7c5ed5b"
   },
   "outputs": [
    {
     "data": {
      "text/html": [
       "<div>\n",
       "<style scoped>\n",
       "    .dataframe tbody tr th:only-of-type {\n",
       "        vertical-align: middle;\n",
       "    }\n",
       "\n",
       "    .dataframe tbody tr th {\n",
       "        vertical-align: top;\n",
       "    }\n",
       "\n",
       "    .dataframe thead th {\n",
       "        text-align: right;\n",
       "    }\n",
       "</style>\n",
       "<table border=\"1\" class=\"dataframe\">\n",
       "  <thead>\n",
       "    <tr style=\"text-align: right;\">\n",
       "      <th></th>\n",
       "      <th>frist</th>\n",
       "      <th>second</th>\n",
       "      <th>third</th>\n",
       "      <th>forth</th>\n",
       "      <th>fifth</th>\n",
       "      <th>sixth</th>\n",
       "    </tr>\n",
       "  </thead>\n",
       "  <tbody>\n",
       "    <tr>\n",
       "      <th>A</th>\n",
       "      <td>0.927592</td>\n",
       "      <td>-1.391286</td>\n",
       "      <td>0.376831</td>\n",
       "      <td>-0.068291</td>\n",
       "      <td>-0.077850</td>\n",
       "      <td>0.369196</td>\n",
       "    </tr>\n",
       "    <tr>\n",
       "      <th>B</th>\n",
       "      <td>-1.032899</td>\n",
       "      <td>0.589884</td>\n",
       "      <td>-0.649170</td>\n",
       "      <td>-1.050882</td>\n",
       "      <td>0.005569</td>\n",
       "      <td>-0.278014</td>\n",
       "    </tr>\n",
       "    <tr>\n",
       "      <th>C</th>\n",
       "      <td>-0.199745</td>\n",
       "      <td>0.494299</td>\n",
       "      <td>-1.310066</td>\n",
       "      <td>-1.407402</td>\n",
       "      <td>0.197917</td>\n",
       "      <td>-0.375453</td>\n",
       "    </tr>\n",
       "    <tr>\n",
       "      <th>D</th>\n",
       "      <td>-1.051133</td>\n",
       "      <td>-0.201811</td>\n",
       "      <td>-0.493902</td>\n",
       "      <td>0.710873</td>\n",
       "      <td>0.218452</td>\n",
       "      <td>-1.733735</td>\n",
       "    </tr>\n",
       "    <tr>\n",
       "      <th>E</th>\n",
       "      <td>-1.073064</td>\n",
       "      <td>0.706864</td>\n",
       "      <td>-0.098536</td>\n",
       "      <td>-1.208187</td>\n",
       "      <td>-0.521293</td>\n",
       "      <td>-1.514036</td>\n",
       "    </tr>\n",
       "    <tr>\n",
       "      <th>F</th>\n",
       "      <td>0.587092</td>\n",
       "      <td>-1.052771</td>\n",
       "      <td>-0.353687</td>\n",
       "      <td>0.049371</td>\n",
       "      <td>0.282244</td>\n",
       "      <td>0.007100</td>\n",
       "    </tr>\n",
       "  </tbody>\n",
       "</table>\n",
       "</div>"
      ],
      "text/plain": [
       "      frist    second     third     forth     fifth     sixth\n",
       "A  0.927592 -1.391286  0.376831 -0.068291 -0.077850  0.369196\n",
       "B -1.032899  0.589884 -0.649170 -1.050882  0.005569 -0.278014\n",
       "C -0.199745  0.494299 -1.310066 -1.407402  0.197917 -0.375453\n",
       "D -1.051133 -0.201811 -0.493902  0.710873  0.218452 -1.733735\n",
       "E -1.073064  0.706864 -0.098536 -1.208187 -0.521293 -1.514036\n",
       "F  0.587092 -1.052771 -0.353687  0.049371  0.282244  0.007100"
      ]
     },
     "execution_count": 80,
     "metadata": {},
     "output_type": "execute_result"
    }
   ],
   "source": [
    "df"
   ]
  },
  {
   "cell_type": "code",
   "execution_count": 81,
   "metadata": {
    "colab": {
     "base_uri": "https://localhost:8080/"
    },
    "id": "xSzSmA1gWjye",
    "outputId": "32782e92-7f46-412b-bb6d-e9cbdee3eeab"
   },
   "outputs": [
    {
     "data": {
      "text/html": [
       "<div>\n",
       "<style scoped>\n",
       "    .dataframe tbody tr th:only-of-type {\n",
       "        vertical-align: middle;\n",
       "    }\n",
       "\n",
       "    .dataframe tbody tr th {\n",
       "        vertical-align: top;\n",
       "    }\n",
       "\n",
       "    .dataframe thead th {\n",
       "        text-align: right;\n",
       "    }\n",
       "</style>\n",
       "<table border=\"1\" class=\"dataframe\">\n",
       "  <thead>\n",
       "    <tr style=\"text-align: right;\">\n",
       "      <th></th>\n",
       "      <th>frist</th>\n",
       "      <th>second</th>\n",
       "      <th>third</th>\n",
       "      <th>forth</th>\n",
       "      <th>fifth</th>\n",
       "      <th>sixth</th>\n",
       "    </tr>\n",
       "  </thead>\n",
       "  <tbody>\n",
       "    <tr>\n",
       "      <th>A</th>\n",
       "      <td>0.927592</td>\n",
       "      <td>-1.391286</td>\n",
       "      <td>0.376831</td>\n",
       "      <td>-0.068291</td>\n",
       "      <td>-0.077850</td>\n",
       "      <td>0.369196</td>\n",
       "    </tr>\n",
       "    <tr>\n",
       "      <th>F</th>\n",
       "      <td>0.587092</td>\n",
       "      <td>-1.052771</td>\n",
       "      <td>-0.353687</td>\n",
       "      <td>0.049371</td>\n",
       "      <td>0.282244</td>\n",
       "      <td>0.007100</td>\n",
       "    </tr>\n",
       "  </tbody>\n",
       "</table>\n",
       "</div>"
      ],
      "text/plain": [
       "      frist    second     third     forth     fifth     sixth\n",
       "A  0.927592 -1.391286  0.376831 -0.068291 -0.077850  0.369196\n",
       "F  0.587092 -1.052771 -0.353687  0.049371  0.282244  0.007100"
      ]
     },
     "execution_count": 81,
     "metadata": {},
     "output_type": "execute_result"
    }
   ],
   "source": [
    "#Conditional Extraction of Data \n",
    "#Postive number in frist column \n",
    "postive_frist = df[df['frist']>0]\n",
    "postive_frist"
   ]
  },
  {
   "cell_type": "code",
   "execution_count": 82,
   "metadata": {
    "colab": {
     "base_uri": "https://localhost:8080/"
    },
    "id": "YO7R6LaCWjdF",
    "outputId": "644e0ab6-e2d7-435d-8cae-3698c18da410"
   },
   "outputs": [
    {
     "data": {
      "text/html": [
       "<div>\n",
       "<style scoped>\n",
       "    .dataframe tbody tr th:only-of-type {\n",
       "        vertical-align: middle;\n",
       "    }\n",
       "\n",
       "    .dataframe tbody tr th {\n",
       "        vertical-align: top;\n",
       "    }\n",
       "\n",
       "    .dataframe thead th {\n",
       "        text-align: right;\n",
       "    }\n",
       "</style>\n",
       "<table border=\"1\" class=\"dataframe\">\n",
       "  <thead>\n",
       "    <tr style=\"text-align: right;\">\n",
       "      <th></th>\n",
       "      <th>frist</th>\n",
       "      <th>second</th>\n",
       "      <th>third</th>\n",
       "      <th>forth</th>\n",
       "      <th>fifth</th>\n",
       "      <th>sixth</th>\n",
       "    </tr>\n",
       "  </thead>\n",
       "  <tbody>\n",
       "    <tr>\n",
       "      <th>B</th>\n",
       "      <td>-1.032899</td>\n",
       "      <td>0.589884</td>\n",
       "      <td>-0.649170</td>\n",
       "      <td>-1.050882</td>\n",
       "      <td>0.005569</td>\n",
       "      <td>-0.278014</td>\n",
       "    </tr>\n",
       "    <tr>\n",
       "      <th>C</th>\n",
       "      <td>-0.199745</td>\n",
       "      <td>0.494299</td>\n",
       "      <td>-1.310066</td>\n",
       "      <td>-1.407402</td>\n",
       "      <td>0.197917</td>\n",
       "      <td>-0.375453</td>\n",
       "    </tr>\n",
       "    <tr>\n",
       "      <th>D</th>\n",
       "      <td>-1.051133</td>\n",
       "      <td>-0.201811</td>\n",
       "      <td>-0.493902</td>\n",
       "      <td>0.710873</td>\n",
       "      <td>0.218452</td>\n",
       "      <td>-1.733735</td>\n",
       "    </tr>\n",
       "    <tr>\n",
       "      <th>E</th>\n",
       "      <td>-1.073064</td>\n",
       "      <td>0.706864</td>\n",
       "      <td>-0.098536</td>\n",
       "      <td>-1.208187</td>\n",
       "      <td>-0.521293</td>\n",
       "      <td>-1.514036</td>\n",
       "    </tr>\n",
       "    <tr>\n",
       "      <th>F</th>\n",
       "      <td>0.587092</td>\n",
       "      <td>-1.052771</td>\n",
       "      <td>-0.353687</td>\n",
       "      <td>0.049371</td>\n",
       "      <td>0.282244</td>\n",
       "      <td>0.007100</td>\n",
       "    </tr>\n",
       "  </tbody>\n",
       "</table>\n",
       "</div>"
      ],
      "text/plain": [
       "      frist    second     third     forth     fifth     sixth\n",
       "B -1.032899  0.589884 -0.649170 -1.050882  0.005569 -0.278014\n",
       "C -0.199745  0.494299 -1.310066 -1.407402  0.197917 -0.375453\n",
       "D -1.051133 -0.201811 -0.493902  0.710873  0.218452 -1.733735\n",
       "E -1.073064  0.706864 -0.098536 -1.208187 -0.521293 -1.514036\n",
       "F  0.587092 -1.052771 -0.353687  0.049371  0.282244  0.007100"
      ]
     },
     "execution_count": 82,
     "metadata": {},
     "output_type": "execute_result"
    }
   ],
   "source": [
    "#Conditional Extraction of Data \n",
    "#Negative number in third column \n",
    "negative_third = df[df['third']<0]\n",
    "negative_third"
   ]
  },
  {
   "cell_type": "code",
   "execution_count": 83,
   "metadata": {
    "colab": {
     "base_uri": "https://localhost:8080/"
    },
    "id": "g3t-cjQbIfYh",
    "outputId": "86a3ab77-1080-4a49-bcf9-6e93fbe006b8"
   },
   "outputs": [
    {
     "data": {
      "text/html": [
       "<div>\n",
       "<style scoped>\n",
       "    .dataframe tbody tr th:only-of-type {\n",
       "        vertical-align: middle;\n",
       "    }\n",
       "\n",
       "    .dataframe tbody tr th {\n",
       "        vertical-align: top;\n",
       "    }\n",
       "\n",
       "    .dataframe thead th {\n",
       "        text-align: right;\n",
       "    }\n",
       "</style>\n",
       "<table border=\"1\" class=\"dataframe\">\n",
       "  <thead>\n",
       "    <tr style=\"text-align: right;\">\n",
       "      <th></th>\n",
       "      <th>frist</th>\n",
       "      <th>second</th>\n",
       "      <th>third</th>\n",
       "      <th>forth</th>\n",
       "      <th>fifth</th>\n",
       "      <th>sixth</th>\n",
       "    </tr>\n",
       "  </thead>\n",
       "  <tbody>\n",
       "  </tbody>\n",
       "</table>\n",
       "</div>"
      ],
      "text/plain": [
       "Empty DataFrame\n",
       "Columns: [frist, second, third, forth, fifth, sixth]\n",
       "Index: []"
      ]
     },
     "execution_count": 83,
     "metadata": {},
     "output_type": "execute_result"
    }
   ],
   "source": [
    "#Conditional Extraction of Data \n",
    "#Row and columns of postive number\n",
    "postive_df = df[ (df['frist']>0) & (df['second']>0) & (df['third']>0) & (df['forth']>0) & (df['fifth']>0) & (df['sixth']>0)]\n",
    "postive_df"
   ]
  },
  {
   "cell_type": "code",
   "execution_count": 84,
   "metadata": {
    "colab": {
     "base_uri": "https://localhost:8080/"
    },
    "id": "wSlTNZFmHxyD",
    "outputId": "6541e105-9d9d-4f08-c781-a2911aea1b73"
   },
   "outputs": [
    {
     "data": {
      "text/html": [
       "<div>\n",
       "<style scoped>\n",
       "    .dataframe tbody tr th:only-of-type {\n",
       "        vertical-align: middle;\n",
       "    }\n",
       "\n",
       "    .dataframe tbody tr th {\n",
       "        vertical-align: top;\n",
       "    }\n",
       "\n",
       "    .dataframe thead th {\n",
       "        text-align: right;\n",
       "    }\n",
       "</style>\n",
       "<table border=\"1\" class=\"dataframe\">\n",
       "  <thead>\n",
       "    <tr style=\"text-align: right;\">\n",
       "      <th></th>\n",
       "      <th>frist</th>\n",
       "      <th>second</th>\n",
       "      <th>third</th>\n",
       "      <th>forth</th>\n",
       "      <th>fifth</th>\n",
       "      <th>sixth</th>\n",
       "    </tr>\n",
       "  </thead>\n",
       "  <tbody>\n",
       "  </tbody>\n",
       "</table>\n",
       "</div>"
      ],
      "text/plain": [
       "Empty DataFrame\n",
       "Columns: [frist, second, third, forth, fifth, sixth]\n",
       "Index: []"
      ]
     },
     "execution_count": 84,
     "metadata": {},
     "output_type": "execute_result"
    }
   ],
   "source": [
    "#Conditional Extraction of Data \n",
    "#Row and columns of negative number \n",
    "negative_df = df[ (df['frist']<0) & (df['second']<0) & (df['third']<0) & (df['forth']<0) & (df['fifth']<0) & (df['sixth']<0) ]\n",
    "negative_df"
   ]
  },
  {
   "cell_type": "code",
   "execution_count": 85,
   "metadata": {
    "colab": {
     "base_uri": "https://localhost:8080/"
    },
    "id": "IgujTN2kZG4t",
    "outputId": "b39d6f12-1ed8-4eef-b219-52851c4b5098"
   },
   "outputs": [
    {
     "data": {
      "text/html": [
       "<div>\n",
       "<style scoped>\n",
       "    .dataframe tbody tr th:only-of-type {\n",
       "        vertical-align: middle;\n",
       "    }\n",
       "\n",
       "    .dataframe tbody tr th {\n",
       "        vertical-align: top;\n",
       "    }\n",
       "\n",
       "    .dataframe thead th {\n",
       "        text-align: right;\n",
       "    }\n",
       "</style>\n",
       "<table border=\"1\" class=\"dataframe\">\n",
       "  <thead>\n",
       "    <tr style=\"text-align: right;\">\n",
       "      <th></th>\n",
       "      <th>frist</th>\n",
       "      <th>second</th>\n",
       "      <th>third</th>\n",
       "      <th>forth</th>\n",
       "      <th>fifth</th>\n",
       "    </tr>\n",
       "  </thead>\n",
       "  <tbody>\n",
       "    <tr>\n",
       "      <th>AA</th>\n",
       "      <td>10</td>\n",
       "      <td>20</td>\n",
       "      <td>30</td>\n",
       "      <td>40</td>\n",
       "      <td>50</td>\n",
       "    </tr>\n",
       "    <tr>\n",
       "      <th>BB</th>\n",
       "      <td>60</td>\n",
       "      <td>70</td>\n",
       "      <td>80</td>\n",
       "      <td>90</td>\n",
       "      <td>10</td>\n",
       "    </tr>\n",
       "    <tr>\n",
       "      <th>CC</th>\n",
       "      <td>110</td>\n",
       "      <td>120</td>\n",
       "      <td>130</td>\n",
       "      <td>140</td>\n",
       "      <td>150</td>\n",
       "    </tr>\n",
       "    <tr>\n",
       "      <th>DD</th>\n",
       "      <td>132</td>\n",
       "      <td>44</td>\n",
       "      <td>5</td>\n",
       "      <td>12</td>\n",
       "      <td>666</td>\n",
       "    </tr>\n",
       "  </tbody>\n",
       "</table>\n",
       "</div>"
      ],
      "text/plain": [
       "    frist  second  third  forth  fifth\n",
       "AA     10      20     30     40     50\n",
       "BB     60      70     80     90     10\n",
       "CC    110     120    130    140    150\n",
       "DD    132      44      5     12    666"
      ]
     },
     "execution_count": 85,
     "metadata": {},
     "output_type": "execute_result"
    }
   ],
   "source": [
    "my_arr = np.array([\n",
    "                   [10,20,30,40,50],\n",
    "                   [60,70,80,90,10],\n",
    "                   [110,120,130,140,150],\n",
    "                   [132,44,5,12,666]])\n",
    "df_ = pd.DataFrame(my_arr,index=['AA','BB','CC','DD'],columns= ['frist','second', 'third','forth','fifth'])\n",
    "df_"
   ]
  },
  {
   "cell_type": "code",
   "execution_count": 86,
   "metadata": {
    "colab": {
     "base_uri": "https://localhost:8080/"
    },
    "id": "dScYdknBZkLU",
    "outputId": "8b9f35db-99f1-4f3e-d0fd-a61a18f703d6"
   },
   "outputs": [
    {
     "data": {
      "text/html": [
       "<div>\n",
       "<style scoped>\n",
       "    .dataframe tbody tr th:only-of-type {\n",
       "        vertical-align: middle;\n",
       "    }\n",
       "\n",
       "    .dataframe tbody tr th {\n",
       "        vertical-align: top;\n",
       "    }\n",
       "\n",
       "    .dataframe thead th {\n",
       "        text-align: right;\n",
       "    }\n",
       "</style>\n",
       "<table border=\"1\" class=\"dataframe\">\n",
       "  <thead>\n",
       "    <tr style=\"text-align: right;\">\n",
       "      <th></th>\n",
       "      <th>frist</th>\n",
       "      <th>second</th>\n",
       "      <th>third</th>\n",
       "      <th>forth</th>\n",
       "      <th>fifth</th>\n",
       "    </tr>\n",
       "  </thead>\n",
       "  <tbody>\n",
       "    <tr>\n",
       "      <th>AA</th>\n",
       "      <td>10</td>\n",
       "      <td>20</td>\n",
       "      <td>30</td>\n",
       "      <td>40</td>\n",
       "      <td>50</td>\n",
       "    </tr>\n",
       "    <tr>\n",
       "      <th>CC</th>\n",
       "      <td>110</td>\n",
       "      <td>120</td>\n",
       "      <td>130</td>\n",
       "      <td>140</td>\n",
       "      <td>150</td>\n",
       "    </tr>\n",
       "  </tbody>\n",
       "</table>\n",
       "</div>"
      ],
      "text/plain": [
       "    frist  second  third  forth  fifth\n",
       "AA     10      20     30     40     50\n",
       "CC    110     120    130    140    150"
      ]
     },
     "execution_count": 86,
     "metadata": {},
     "output_type": "execute_result"
    }
   ],
   "source": [
    "\n",
    "df_ [df_ ['frist'].isin([10,110])]\n"
   ]
  },
  {
   "cell_type": "markdown",
   "metadata": {
    "id": "ODkjtFJsb7H4"
   },
   "source": [
    "### Setting  and Reseting indexs"
   ]
  },
  {
   "cell_type": "code",
   "execution_count": 87,
   "metadata": {
    "colab": {
     "base_uri": "https://localhost:8080/",
     "height": 235
    },
    "id": "ppu_iis9c4aw",
    "outputId": "7ed6c095-9af2-432a-bb7f-bb7067a7c0fe"
   },
   "outputs": [
    {
     "data": {
      "text/html": [
       "<div>\n",
       "<style scoped>\n",
       "    .dataframe tbody tr th:only-of-type {\n",
       "        vertical-align: middle;\n",
       "    }\n",
       "\n",
       "    .dataframe tbody tr th {\n",
       "        vertical-align: top;\n",
       "    }\n",
       "\n",
       "    .dataframe thead th {\n",
       "        text-align: right;\n",
       "    }\n",
       "</style>\n",
       "<table border=\"1\" class=\"dataframe\">\n",
       "  <thead>\n",
       "    <tr style=\"text-align: right;\">\n",
       "      <th></th>\n",
       "      <th>frist</th>\n",
       "      <th>second</th>\n",
       "      <th>third</th>\n",
       "      <th>forth</th>\n",
       "      <th>fifth</th>\n",
       "      <th>sixth</th>\n",
       "    </tr>\n",
       "  </thead>\n",
       "  <tbody>\n",
       "    <tr>\n",
       "      <th>A</th>\n",
       "      <td>0.927592</td>\n",
       "      <td>-1.391286</td>\n",
       "      <td>0.376831</td>\n",
       "      <td>-0.068291</td>\n",
       "      <td>-0.077850</td>\n",
       "      <td>0.369196</td>\n",
       "    </tr>\n",
       "    <tr>\n",
       "      <th>B</th>\n",
       "      <td>-1.032899</td>\n",
       "      <td>0.589884</td>\n",
       "      <td>-0.649170</td>\n",
       "      <td>-1.050882</td>\n",
       "      <td>0.005569</td>\n",
       "      <td>-0.278014</td>\n",
       "    </tr>\n",
       "    <tr>\n",
       "      <th>C</th>\n",
       "      <td>-0.199745</td>\n",
       "      <td>0.494299</td>\n",
       "      <td>-1.310066</td>\n",
       "      <td>-1.407402</td>\n",
       "      <td>0.197917</td>\n",
       "      <td>-0.375453</td>\n",
       "    </tr>\n",
       "    <tr>\n",
       "      <th>D</th>\n",
       "      <td>-1.051133</td>\n",
       "      <td>-0.201811</td>\n",
       "      <td>-0.493902</td>\n",
       "      <td>0.710873</td>\n",
       "      <td>0.218452</td>\n",
       "      <td>-1.733735</td>\n",
       "    </tr>\n",
       "    <tr>\n",
       "      <th>E</th>\n",
       "      <td>-1.073064</td>\n",
       "      <td>0.706864</td>\n",
       "      <td>-0.098536</td>\n",
       "      <td>-1.208187</td>\n",
       "      <td>-0.521293</td>\n",
       "      <td>-1.514036</td>\n",
       "    </tr>\n",
       "    <tr>\n",
       "      <th>F</th>\n",
       "      <td>0.587092</td>\n",
       "      <td>-1.052771</td>\n",
       "      <td>-0.353687</td>\n",
       "      <td>0.049371</td>\n",
       "      <td>0.282244</td>\n",
       "      <td>0.007100</td>\n",
       "    </tr>\n",
       "  </tbody>\n",
       "</table>\n",
       "</div>"
      ],
      "text/plain": [
       "      frist    second     third     forth     fifth     sixth\n",
       "A  0.927592 -1.391286  0.376831 -0.068291 -0.077850  0.369196\n",
       "B -1.032899  0.589884 -0.649170 -1.050882  0.005569 -0.278014\n",
       "C -0.199745  0.494299 -1.310066 -1.407402  0.197917 -0.375453\n",
       "D -1.051133 -0.201811 -0.493902  0.710873  0.218452 -1.733735\n",
       "E -1.073064  0.706864 -0.098536 -1.208187 -0.521293 -1.514036\n",
       "F  0.587092 -1.052771 -0.353687  0.049371  0.282244  0.007100"
      ]
     },
     "execution_count": 87,
     "metadata": {},
     "output_type": "execute_result"
    }
   ],
   "source": [
    "df"
   ]
  },
  {
   "cell_type": "code",
   "execution_count": 88,
   "metadata": {
    "colab": {
     "base_uri": "https://localhost:8080/",
     "height": 235
    },
    "id": "gaYsdD3Ic74b",
    "outputId": "6693e77a-60b5-4da0-f9f5-02c28e89d027"
   },
   "outputs": [
    {
     "data": {
      "text/html": [
       "<div>\n",
       "<style scoped>\n",
       "    .dataframe tbody tr th:only-of-type {\n",
       "        vertical-align: middle;\n",
       "    }\n",
       "\n",
       "    .dataframe tbody tr th {\n",
       "        vertical-align: top;\n",
       "    }\n",
       "\n",
       "    .dataframe thead th {\n",
       "        text-align: right;\n",
       "    }\n",
       "</style>\n",
       "<table border=\"1\" class=\"dataframe\">\n",
       "  <thead>\n",
       "    <tr style=\"text-align: right;\">\n",
       "      <th></th>\n",
       "      <th>frist</th>\n",
       "      <th>second</th>\n",
       "      <th>third</th>\n",
       "      <th>forth</th>\n",
       "      <th>fifth</th>\n",
       "      <th>sixth</th>\n",
       "      <th>index</th>\n",
       "    </tr>\n",
       "  </thead>\n",
       "  <tbody>\n",
       "    <tr>\n",
       "      <th>A</th>\n",
       "      <td>0.927592</td>\n",
       "      <td>-1.391286</td>\n",
       "      <td>0.376831</td>\n",
       "      <td>-0.068291</td>\n",
       "      <td>-0.077850</td>\n",
       "      <td>0.369196</td>\n",
       "      <td>1st</td>\n",
       "    </tr>\n",
       "    <tr>\n",
       "      <th>B</th>\n",
       "      <td>-1.032899</td>\n",
       "      <td>0.589884</td>\n",
       "      <td>-0.649170</td>\n",
       "      <td>-1.050882</td>\n",
       "      <td>0.005569</td>\n",
       "      <td>-0.278014</td>\n",
       "      <td>2nd</td>\n",
       "    </tr>\n",
       "    <tr>\n",
       "      <th>C</th>\n",
       "      <td>-0.199745</td>\n",
       "      <td>0.494299</td>\n",
       "      <td>-1.310066</td>\n",
       "      <td>-1.407402</td>\n",
       "      <td>0.197917</td>\n",
       "      <td>-0.375453</td>\n",
       "      <td>3rd</td>\n",
       "    </tr>\n",
       "    <tr>\n",
       "      <th>D</th>\n",
       "      <td>-1.051133</td>\n",
       "      <td>-0.201811</td>\n",
       "      <td>-0.493902</td>\n",
       "      <td>0.710873</td>\n",
       "      <td>0.218452</td>\n",
       "      <td>-1.733735</td>\n",
       "      <td>4th</td>\n",
       "    </tr>\n",
       "    <tr>\n",
       "      <th>E</th>\n",
       "      <td>-1.073064</td>\n",
       "      <td>0.706864</td>\n",
       "      <td>-0.098536</td>\n",
       "      <td>-1.208187</td>\n",
       "      <td>-0.521293</td>\n",
       "      <td>-1.514036</td>\n",
       "      <td>5th</td>\n",
       "    </tr>\n",
       "    <tr>\n",
       "      <th>F</th>\n",
       "      <td>0.587092</td>\n",
       "      <td>-1.052771</td>\n",
       "      <td>-0.353687</td>\n",
       "      <td>0.049371</td>\n",
       "      <td>0.282244</td>\n",
       "      <td>0.007100</td>\n",
       "      <td>6th</td>\n",
       "    </tr>\n",
       "  </tbody>\n",
       "</table>\n",
       "</div>"
      ],
      "text/plain": [
       "      frist    second     third     forth     fifth     sixth index\n",
       "A  0.927592 -1.391286  0.376831 -0.068291 -0.077850  0.369196   1st\n",
       "B -1.032899  0.589884 -0.649170 -1.050882  0.005569 -0.278014   2nd\n",
       "C -0.199745  0.494299 -1.310066 -1.407402  0.197917 -0.375453   3rd\n",
       "D -1.051133 -0.201811 -0.493902  0.710873  0.218452 -1.733735   4th\n",
       "E -1.073064  0.706864 -0.098536 -1.208187 -0.521293 -1.514036   5th\n",
       "F  0.587092 -1.052771 -0.353687  0.049371  0.282244  0.007100   6th"
      ]
     },
     "execution_count": 88,
     "metadata": {},
     "output_type": "execute_result"
    }
   ],
   "source": [
    "newind = ['1st', '2nd', '3rd', '4th', '5th','6th']\n",
    "df['index'] = newind\n",
    "df"
   ]
  },
  {
   "cell_type": "code",
   "execution_count": 89,
   "metadata": {
    "colab": {
     "base_uri": "https://localhost:8080/",
     "height": 266
    },
    "id": "vCXC4uFxdOH7",
    "outputId": "372cce69-c9b4-47eb-dca8-e6bb060aa02e"
   },
   "outputs": [
    {
     "data": {
      "text/html": [
       "<div>\n",
       "<style scoped>\n",
       "    .dataframe tbody tr th:only-of-type {\n",
       "        vertical-align: middle;\n",
       "    }\n",
       "\n",
       "    .dataframe tbody tr th {\n",
       "        vertical-align: top;\n",
       "    }\n",
       "\n",
       "    .dataframe thead th {\n",
       "        text-align: right;\n",
       "    }\n",
       "</style>\n",
       "<table border=\"1\" class=\"dataframe\">\n",
       "  <thead>\n",
       "    <tr style=\"text-align: right;\">\n",
       "      <th></th>\n",
       "      <th>frist</th>\n",
       "      <th>second</th>\n",
       "      <th>third</th>\n",
       "      <th>forth</th>\n",
       "      <th>fifth</th>\n",
       "      <th>sixth</th>\n",
       "      <th>index</th>\n",
       "    </tr>\n",
       "    <tr>\n",
       "      <th>index</th>\n",
       "      <th></th>\n",
       "      <th></th>\n",
       "      <th></th>\n",
       "      <th></th>\n",
       "      <th></th>\n",
       "      <th></th>\n",
       "      <th></th>\n",
       "    </tr>\n",
       "  </thead>\n",
       "  <tbody>\n",
       "    <tr>\n",
       "      <th>1st</th>\n",
       "      <td>0.927592</td>\n",
       "      <td>-1.391286</td>\n",
       "      <td>0.376831</td>\n",
       "      <td>-0.068291</td>\n",
       "      <td>-0.077850</td>\n",
       "      <td>0.369196</td>\n",
       "      <td>1st</td>\n",
       "    </tr>\n",
       "    <tr>\n",
       "      <th>2nd</th>\n",
       "      <td>-1.032899</td>\n",
       "      <td>0.589884</td>\n",
       "      <td>-0.649170</td>\n",
       "      <td>-1.050882</td>\n",
       "      <td>0.005569</td>\n",
       "      <td>-0.278014</td>\n",
       "      <td>2nd</td>\n",
       "    </tr>\n",
       "    <tr>\n",
       "      <th>3rd</th>\n",
       "      <td>-0.199745</td>\n",
       "      <td>0.494299</td>\n",
       "      <td>-1.310066</td>\n",
       "      <td>-1.407402</td>\n",
       "      <td>0.197917</td>\n",
       "      <td>-0.375453</td>\n",
       "      <td>3rd</td>\n",
       "    </tr>\n",
       "    <tr>\n",
       "      <th>4th</th>\n",
       "      <td>-1.051133</td>\n",
       "      <td>-0.201811</td>\n",
       "      <td>-0.493902</td>\n",
       "      <td>0.710873</td>\n",
       "      <td>0.218452</td>\n",
       "      <td>-1.733735</td>\n",
       "      <td>4th</td>\n",
       "    </tr>\n",
       "    <tr>\n",
       "      <th>5th</th>\n",
       "      <td>-1.073064</td>\n",
       "      <td>0.706864</td>\n",
       "      <td>-0.098536</td>\n",
       "      <td>-1.208187</td>\n",
       "      <td>-0.521293</td>\n",
       "      <td>-1.514036</td>\n",
       "      <td>5th</td>\n",
       "    </tr>\n",
       "    <tr>\n",
       "      <th>6th</th>\n",
       "      <td>0.587092</td>\n",
       "      <td>-1.052771</td>\n",
       "      <td>-0.353687</td>\n",
       "      <td>0.049371</td>\n",
       "      <td>0.282244</td>\n",
       "      <td>0.007100</td>\n",
       "      <td>6th</td>\n",
       "    </tr>\n",
       "  </tbody>\n",
       "</table>\n",
       "</div>"
      ],
      "text/plain": [
       "          frist    second     third     forth     fifth     sixth index\n",
       "index                                                                  \n",
       "1st    0.927592 -1.391286  0.376831 -0.068291 -0.077850  0.369196   1st\n",
       "2nd   -1.032899  0.589884 -0.649170 -1.050882  0.005569 -0.278014   2nd\n",
       "3rd   -0.199745  0.494299 -1.310066 -1.407402  0.197917 -0.375453   3rd\n",
       "4th   -1.051133 -0.201811 -0.493902  0.710873  0.218452 -1.733735   4th\n",
       "5th   -1.073064  0.706864 -0.098536 -1.208187 -0.521293 -1.514036   5th\n",
       "6th    0.587092 -1.052771 -0.353687  0.049371  0.282244  0.007100   6th"
      ]
     },
     "execution_count": 89,
     "metadata": {},
     "output_type": "execute_result"
    }
   ],
   "source": [
    "# Creating index from columns \n",
    "#drop = False is for deleting columns from the dataset or not \n",
    "df.set_index('index',inplace=True , drop = False)\n",
    "df"
   ]
  },
  {
   "cell_type": "code",
   "execution_count": 90,
   "metadata": {
    "colab": {
     "base_uri": "https://localhost:8080/",
     "height": 266
    },
    "id": "EnjkN_W4d0Rg",
    "outputId": "92599659-b90c-49c5-b3d5-da79653391a9"
   },
   "outputs": [
    {
     "data": {
      "text/html": [
       "<div>\n",
       "<style scoped>\n",
       "    .dataframe tbody tr th:only-of-type {\n",
       "        vertical-align: middle;\n",
       "    }\n",
       "\n",
       "    .dataframe tbody tr th {\n",
       "        vertical-align: top;\n",
       "    }\n",
       "\n",
       "    .dataframe thead th {\n",
       "        text-align: right;\n",
       "    }\n",
       "</style>\n",
       "<table border=\"1\" class=\"dataframe\">\n",
       "  <thead>\n",
       "    <tr style=\"text-align: right;\">\n",
       "      <th></th>\n",
       "      <th>frist</th>\n",
       "      <th>second</th>\n",
       "      <th>third</th>\n",
       "      <th>forth</th>\n",
       "      <th>fifth</th>\n",
       "      <th>sixth</th>\n",
       "    </tr>\n",
       "    <tr>\n",
       "      <th>index</th>\n",
       "      <th></th>\n",
       "      <th></th>\n",
       "      <th></th>\n",
       "      <th></th>\n",
       "      <th></th>\n",
       "      <th></th>\n",
       "    </tr>\n",
       "  </thead>\n",
       "  <tbody>\n",
       "    <tr>\n",
       "      <th>1st</th>\n",
       "      <td>0.927592</td>\n",
       "      <td>-1.391286</td>\n",
       "      <td>0.376831</td>\n",
       "      <td>-0.068291</td>\n",
       "      <td>-0.077850</td>\n",
       "      <td>0.369196</td>\n",
       "    </tr>\n",
       "    <tr>\n",
       "      <th>2nd</th>\n",
       "      <td>-1.032899</td>\n",
       "      <td>0.589884</td>\n",
       "      <td>-0.649170</td>\n",
       "      <td>-1.050882</td>\n",
       "      <td>0.005569</td>\n",
       "      <td>-0.278014</td>\n",
       "    </tr>\n",
       "    <tr>\n",
       "      <th>3rd</th>\n",
       "      <td>-0.199745</td>\n",
       "      <td>0.494299</td>\n",
       "      <td>-1.310066</td>\n",
       "      <td>-1.407402</td>\n",
       "      <td>0.197917</td>\n",
       "      <td>-0.375453</td>\n",
       "    </tr>\n",
       "    <tr>\n",
       "      <th>4th</th>\n",
       "      <td>-1.051133</td>\n",
       "      <td>-0.201811</td>\n",
       "      <td>-0.493902</td>\n",
       "      <td>0.710873</td>\n",
       "      <td>0.218452</td>\n",
       "      <td>-1.733735</td>\n",
       "    </tr>\n",
       "    <tr>\n",
       "      <th>5th</th>\n",
       "      <td>-1.073064</td>\n",
       "      <td>0.706864</td>\n",
       "      <td>-0.098536</td>\n",
       "      <td>-1.208187</td>\n",
       "      <td>-0.521293</td>\n",
       "      <td>-1.514036</td>\n",
       "    </tr>\n",
       "    <tr>\n",
       "      <th>6th</th>\n",
       "      <td>0.587092</td>\n",
       "      <td>-1.052771</td>\n",
       "      <td>-0.353687</td>\n",
       "      <td>0.049371</td>\n",
       "      <td>0.282244</td>\n",
       "      <td>0.007100</td>\n",
       "    </tr>\n",
       "  </tbody>\n",
       "</table>\n",
       "</div>"
      ],
      "text/plain": [
       "          frist    second     third     forth     fifth     sixth\n",
       "index                                                            \n",
       "1st    0.927592 -1.391286  0.376831 -0.068291 -0.077850  0.369196\n",
       "2nd   -1.032899  0.589884 -0.649170 -1.050882  0.005569 -0.278014\n",
       "3rd   -0.199745  0.494299 -1.310066 -1.407402  0.197917 -0.375453\n",
       "4th   -1.051133 -0.201811 -0.493902  0.710873  0.218452 -1.733735\n",
       "5th   -1.073064  0.706864 -0.098536 -1.208187 -0.521293 -1.514036\n",
       "6th    0.587092 -1.052771 -0.353687  0.049371  0.282244  0.007100"
      ]
     },
     "execution_count": 90,
     "metadata": {},
     "output_type": "execute_result"
    }
   ],
   "source": [
    "# Creating index from columns \n",
    "#drop = False is for deleting columns from the dataset or not \n",
    "df.set_index('index',inplace=True , drop = True)\n",
    "df"
   ]
  },
  {
   "cell_type": "code",
   "execution_count": 91,
   "metadata": {
    "colab": {
     "base_uri": "https://localhost:8080/",
     "height": 235
    },
    "id": "-kEeSyWCfH6g",
    "outputId": "431d504d-de4d-4046-fc79-1c0b1b7e84cb"
   },
   "outputs": [
    {
     "data": {
      "text/html": [
       "<div>\n",
       "<style scoped>\n",
       "    .dataframe tbody tr th:only-of-type {\n",
       "        vertical-align: middle;\n",
       "    }\n",
       "\n",
       "    .dataframe tbody tr th {\n",
       "        vertical-align: top;\n",
       "    }\n",
       "\n",
       "    .dataframe thead th {\n",
       "        text-align: right;\n",
       "    }\n",
       "</style>\n",
       "<table border=\"1\" class=\"dataframe\">\n",
       "  <thead>\n",
       "    <tr style=\"text-align: right;\">\n",
       "      <th></th>\n",
       "      <th>index</th>\n",
       "      <th>frist</th>\n",
       "      <th>second</th>\n",
       "      <th>third</th>\n",
       "      <th>forth</th>\n",
       "      <th>fifth</th>\n",
       "      <th>sixth</th>\n",
       "    </tr>\n",
       "  </thead>\n",
       "  <tbody>\n",
       "    <tr>\n",
       "      <th>0</th>\n",
       "      <td>1st</td>\n",
       "      <td>0.927592</td>\n",
       "      <td>-1.391286</td>\n",
       "      <td>0.376831</td>\n",
       "      <td>-0.068291</td>\n",
       "      <td>-0.077850</td>\n",
       "      <td>0.369196</td>\n",
       "    </tr>\n",
       "    <tr>\n",
       "      <th>1</th>\n",
       "      <td>2nd</td>\n",
       "      <td>-1.032899</td>\n",
       "      <td>0.589884</td>\n",
       "      <td>-0.649170</td>\n",
       "      <td>-1.050882</td>\n",
       "      <td>0.005569</td>\n",
       "      <td>-0.278014</td>\n",
       "    </tr>\n",
       "    <tr>\n",
       "      <th>2</th>\n",
       "      <td>3rd</td>\n",
       "      <td>-0.199745</td>\n",
       "      <td>0.494299</td>\n",
       "      <td>-1.310066</td>\n",
       "      <td>-1.407402</td>\n",
       "      <td>0.197917</td>\n",
       "      <td>-0.375453</td>\n",
       "    </tr>\n",
       "    <tr>\n",
       "      <th>3</th>\n",
       "      <td>4th</td>\n",
       "      <td>-1.051133</td>\n",
       "      <td>-0.201811</td>\n",
       "      <td>-0.493902</td>\n",
       "      <td>0.710873</td>\n",
       "      <td>0.218452</td>\n",
       "      <td>-1.733735</td>\n",
       "    </tr>\n",
       "    <tr>\n",
       "      <th>4</th>\n",
       "      <td>5th</td>\n",
       "      <td>-1.073064</td>\n",
       "      <td>0.706864</td>\n",
       "      <td>-0.098536</td>\n",
       "      <td>-1.208187</td>\n",
       "      <td>-0.521293</td>\n",
       "      <td>-1.514036</td>\n",
       "    </tr>\n",
       "    <tr>\n",
       "      <th>5</th>\n",
       "      <td>6th</td>\n",
       "      <td>0.587092</td>\n",
       "      <td>-1.052771</td>\n",
       "      <td>-0.353687</td>\n",
       "      <td>0.049371</td>\n",
       "      <td>0.282244</td>\n",
       "      <td>0.007100</td>\n",
       "    </tr>\n",
       "  </tbody>\n",
       "</table>\n",
       "</div>"
      ],
      "text/plain": [
       "  index     frist    second     third     forth     fifth     sixth\n",
       "0   1st  0.927592 -1.391286  0.376831 -0.068291 -0.077850  0.369196\n",
       "1   2nd -1.032899  0.589884 -0.649170 -1.050882  0.005569 -0.278014\n",
       "2   3rd -0.199745  0.494299 -1.310066 -1.407402  0.197917 -0.375453\n",
       "3   4th -1.051133 -0.201811 -0.493902  0.710873  0.218452 -1.733735\n",
       "4   5th -1.073064  0.706864 -0.098536 -1.208187 -0.521293 -1.514036\n",
       "5   6th  0.587092 -1.052771 -0.353687  0.049371  0.282244  0.007100"
      ]
     },
     "execution_count": 91,
     "metadata": {},
     "output_type": "execute_result"
    }
   ],
   "source": [
    "df.reset_index(inplace=True)\n",
    "df"
   ]
  },
  {
   "cell_type": "markdown",
   "metadata": {
    "id": "Tcbsz3U7HvCp"
   },
   "source": [
    "<a id='opdf2'></a>\n",
    "\n",
    "## Operations in pandas dataframe 2 :\n",
    "\n",
    "\n",
    "\n"
   ]
  },
  {
   "cell_type": "code",
   "execution_count": 92,
   "metadata": {
    "colab": {
     "base_uri": "https://localhost:8080/",
     "height": 193
    },
    "id": "xxSMfAiaxcuX",
    "outputId": "a9161d6b-ded4-46a4-cc9b-5b228179d633"
   },
   "outputs": [
    {
     "data": {
      "text/html": [
       "<div>\n",
       "<style scoped>\n",
       "    .dataframe tbody tr th:only-of-type {\n",
       "        vertical-align: middle;\n",
       "    }\n",
       "\n",
       "    .dataframe tbody tr th {\n",
       "        vertical-align: top;\n",
       "    }\n",
       "\n",
       "    .dataframe thead th {\n",
       "        text-align: right;\n",
       "    }\n",
       "</style>\n",
       "<table border=\"1\" class=\"dataframe\">\n",
       "  <thead>\n",
       "    <tr style=\"text-align: right;\">\n",
       "      <th></th>\n",
       "      <th>2010</th>\n",
       "      <th>2011</th>\n",
       "      <th>2012</th>\n",
       "      <th>2013</th>\n",
       "      <th>2014</th>\n",
       "      <th>2015</th>\n",
       "      <th>2016</th>\n",
       "      <th>2017</th>\n",
       "      <th>2018</th>\n",
       "    </tr>\n",
       "  </thead>\n",
       "  <tbody>\n",
       "    <tr>\n",
       "      <th>CHAMPIONS</th>\n",
       "      <td>Inter Milan</td>\n",
       "      <td>Barcelona</td>\n",
       "      <td>Chelsea</td>\n",
       "      <td>Bayren</td>\n",
       "      <td>REAL MADRID</td>\n",
       "      <td>Barcelona</td>\n",
       "      <td>REAL MADRID</td>\n",
       "      <td>REAL MADRID</td>\n",
       "      <td>REAL MADRID</td>\n",
       "    </tr>\n",
       "    <tr>\n",
       "      <th>LEAUGE</th>\n",
       "      <td>Atlético Madrid</td>\n",
       "      <td>FC Porto</td>\n",
       "      <td>Atletico Madrid</td>\n",
       "      <td>Chelsea</td>\n",
       "      <td>Sevilla</td>\n",
       "      <td>Sevilla</td>\n",
       "      <td>Sevilla</td>\n",
       "      <td>Manchester United</td>\n",
       "      <td>Atletico Madrid</td>\n",
       "    </tr>\n",
       "    <tr>\n",
       "      <th>SUPER</th>\n",
       "      <td>Atlético Madrid</td>\n",
       "      <td>Barcelona</td>\n",
       "      <td>Atlético Madrid</td>\n",
       "      <td>Bayern</td>\n",
       "      <td>Real Madrid</td>\n",
       "      <td>Barcelona</td>\n",
       "      <td>Real Madrid</td>\n",
       "      <td>Real Madrid</td>\n",
       "      <td>Atlético Madrid</td>\n",
       "    </tr>\n",
       "  </tbody>\n",
       "</table>\n",
       "</div>"
      ],
      "text/plain": [
       "                      2010       2011             2012     2013         2014  \\\n",
       "CHAMPIONS      Inter Milan  Barcelona          Chelsea   Bayren  REAL MADRID   \n",
       "LEAUGE     Atlético Madrid   FC Porto  Atletico Madrid  Chelsea      Sevilla   \n",
       "SUPER      Atlético Madrid  Barcelona  Atlético Madrid   Bayern  Real Madrid   \n",
       "\n",
       "                 2015         2016               2017             2018  \n",
       "CHAMPIONS  Barcelona   REAL MADRID        REAL MADRID      REAL MADRID  \n",
       "LEAUGE        Sevilla      Sevilla  Manchester United  Atletico Madrid  \n",
       "SUPER       Barcelona  Real Madrid        Real Madrid  Atlético Madrid  "
      ]
     },
     "execution_count": 92,
     "metadata": {},
     "output_type": "execute_result"
    }
   ],
   "source": [
    "# Copy of DataFrame\n",
    "copy_ufea = df_UFEA.copy()\n",
    "copy_ufea "
   ]
  },
  {
   "cell_type": "code",
   "execution_count": 93,
   "metadata": {
    "colab": {
     "base_uri": "https://localhost:8080/",
     "height": 328
    },
    "id": "0Gr4j2qpxrtC",
    "outputId": "dd6d82d1-e7f3-41ca-bd88-362582e9eaa9"
   },
   "outputs": [
    {
     "data": {
      "text/html": [
       "<div>\n",
       "<style scoped>\n",
       "    .dataframe tbody tr th:only-of-type {\n",
       "        vertical-align: middle;\n",
       "    }\n",
       "\n",
       "    .dataframe tbody tr th {\n",
       "        vertical-align: top;\n",
       "    }\n",
       "\n",
       "    .dataframe thead th {\n",
       "        text-align: right;\n",
       "    }\n",
       "</style>\n",
       "<table border=\"1\" class=\"dataframe\">\n",
       "  <thead>\n",
       "    <tr style=\"text-align: right;\">\n",
       "      <th></th>\n",
       "      <th>CHAMPIONS</th>\n",
       "      <th>LEAUGE</th>\n",
       "      <th>SUPER</th>\n",
       "    </tr>\n",
       "  </thead>\n",
       "  <tbody>\n",
       "    <tr>\n",
       "      <th>2010</th>\n",
       "      <td>Inter Milan</td>\n",
       "      <td>Atlético Madrid</td>\n",
       "      <td>Atlético Madrid</td>\n",
       "    </tr>\n",
       "    <tr>\n",
       "      <th>2011</th>\n",
       "      <td>Barcelona</td>\n",
       "      <td>FC Porto</td>\n",
       "      <td>Barcelona</td>\n",
       "    </tr>\n",
       "    <tr>\n",
       "      <th>2012</th>\n",
       "      <td>Chelsea</td>\n",
       "      <td>Atletico Madrid</td>\n",
       "      <td>Atlético Madrid</td>\n",
       "    </tr>\n",
       "    <tr>\n",
       "      <th>2013</th>\n",
       "      <td>Bayren</td>\n",
       "      <td>Chelsea</td>\n",
       "      <td>Bayern</td>\n",
       "    </tr>\n",
       "    <tr>\n",
       "      <th>2014</th>\n",
       "      <td>REAL MADRID</td>\n",
       "      <td>Sevilla</td>\n",
       "      <td>Real Madrid</td>\n",
       "    </tr>\n",
       "    <tr>\n",
       "      <th>2015</th>\n",
       "      <td>Barcelona</td>\n",
       "      <td>Sevilla</td>\n",
       "      <td>Barcelona</td>\n",
       "    </tr>\n",
       "    <tr>\n",
       "      <th>2016</th>\n",
       "      <td>REAL MADRID</td>\n",
       "      <td>Sevilla</td>\n",
       "      <td>Real Madrid</td>\n",
       "    </tr>\n",
       "    <tr>\n",
       "      <th>2017</th>\n",
       "      <td>REAL MADRID</td>\n",
       "      <td>Manchester United</td>\n",
       "      <td>Real Madrid</td>\n",
       "    </tr>\n",
       "    <tr>\n",
       "      <th>2018</th>\n",
       "      <td>REAL MADRID</td>\n",
       "      <td>Atletico Madrid</td>\n",
       "      <td>Atlético Madrid</td>\n",
       "    </tr>\n",
       "  </tbody>\n",
       "</table>\n",
       "</div>"
      ],
      "text/plain": [
       "        CHAMPIONS             LEAUGE            SUPER\n",
       "2010  Inter Milan    Atlético Madrid  Atlético Madrid\n",
       "2011    Barcelona           FC Porto        Barcelona\n",
       "2012      Chelsea    Atletico Madrid  Atlético Madrid\n",
       "2013       Bayren            Chelsea           Bayern\n",
       "2014  REAL MADRID            Sevilla      Real Madrid\n",
       "2015   Barcelona             Sevilla        Barcelona\n",
       "2016  REAL MADRID            Sevilla      Real Madrid\n",
       "2017  REAL MADRID  Manchester United      Real Madrid\n",
       "2018  REAL MADRID    Atletico Madrid  Atlético Madrid"
      ]
     },
     "execution_count": 93,
     "metadata": {},
     "output_type": "execute_result"
    }
   ],
   "source": [
    "#Getting transpose of dataset (make rows columns and columns rows)\n",
    "copy_ufea= copy_ufea.T\n",
    "copy_ufea"
   ]
  },
  {
   "cell_type": "code",
   "execution_count": 94,
   "metadata": {
    "colab": {
     "background_save": true,
     "base_uri": "https://localhost:8080/"
    },
    "id": "p4bQlYW0cGo5",
    "outputId": "6c3ee4a3-01e9-492c-95be-3827254bb6b0"
   },
   "outputs": [
    {
     "data": {
      "text/plain": [
       "SUPER\n",
       "Atlético Madrid    3\n",
       "Real Madrid        3\n",
       "Barcelona          2\n",
       "Bayern             1\n",
       "Name: count, dtype: int64"
      ]
     },
     "execution_count": 94,
     "metadata": {},
     "output_type": "execute_result"
    }
   ],
   "source": [
    "copy_ufea['SUPER'].value_counts() # return the count of each value in the column"
   ]
  },
  {
   "cell_type": "code",
   "execution_count": 95,
   "metadata": {
    "colab": {
     "background_save": true,
     "base_uri": "https://localhost:8080/"
    },
    "id": "_SpQdzB8fhPW",
    "outputId": "071b4423-f46b-48e0-af37-ffab6f753a46"
   },
   "outputs": [
    {
     "data": {
      "text/plain": [
       "CHAMPIONS\n",
       "REAL MADRID    4\n",
       "Inter Milan    1\n",
       "Barcelona      1\n",
       "Chelsea        1\n",
       "Bayren         1\n",
       "Barcelona      1\n",
       "Name: count, dtype: int64"
      ]
     },
     "execution_count": 95,
     "metadata": {},
     "output_type": "execute_result"
    }
   ],
   "source": [
    "copy_ufea['CHAMPIONS'].value_counts() "
   ]
  },
  {
   "cell_type": "code",
   "execution_count": 96,
   "metadata": {
    "colab": {
     "background_save": true,
     "base_uri": "https://localhost:8080/"
    },
    "id": "QKo5DTrOyfJp",
    "outputId": "8f8115ab-a4e2-4204-b010-7f762facfe52"
   },
   "outputs": [
    {
     "data": {
      "text/plain": [
       "array(['Atlético Madrid', 'Barcelona', 'Bayern', 'Real Madrid'],\n",
       "      dtype=object)"
      ]
     },
     "execution_count": 96,
     "metadata": {},
     "output_type": "execute_result"
    }
   ],
   "source": [
    "copy_ufea['SUPER'].unique() # return the unique values in the column"
   ]
  },
  {
   "cell_type": "code",
   "execution_count": 97,
   "metadata": {
    "colab": {
     "background_save": true,
     "base_uri": "https://localhost:8080/"
    },
    "id": "yqLZ4elJ0nbo",
    "outputId": "2eae0b0d-ffc0-492d-f7c5-d2606c1bb2df"
   },
   "outputs": [
    {
     "data": {
      "text/plain": [
       "4"
      ]
     },
     "execution_count": 97,
     "metadata": {},
     "output_type": "execute_result"
    }
   ],
   "source": [
    "copy_ufea['SUPER'].nunique() # return the number of unique values in the column"
   ]
  },
  {
   "cell_type": "code",
   "execution_count": 98,
   "metadata": {
    "colab": {
     "background_save": true
    },
    "id": "HJuQFLQq2UFk"
   },
   "outputs": [],
   "source": [
    "del copy_ufea # to delete the dataset"
   ]
  },
  {
   "cell_type": "code",
   "execution_count": 99,
   "metadata": {
    "colab": {
     "background_save": true,
     "base_uri": "https://localhost:8080/"
    },
    "id": "oGCh5UFq3wYs",
    "outputId": "46906d94-e8c7-4471-96c8-901f1670326e"
   },
   "outputs": [
    {
     "data": {
      "text/plain": [
       "array([1.2, 1.7, 2.2, 2.7, 3.2, 3.7, 4.2, 4.7])"
      ]
     },
     "execution_count": 99,
     "metadata": {},
     "output_type": "execute_result"
    }
   ],
   "source": [
    "data=np.arange(1.2,5,0.5)\n",
    "data"
   ]
  },
  {
   "cell_type": "code",
   "execution_count": 100,
   "metadata": {
    "colab": {
     "background_save": true,
     "base_uri": "https://localhost:8080/",
     "height": 297
    },
    "id": "lUbgJu9Q4NeH",
    "outputId": "a0c40e83-dcbf-4bab-c7b3-51fc6b58d16a"
   },
   "outputs": [
    {
     "data": {
      "text/html": [
       "<div>\n",
       "<style scoped>\n",
       "    .dataframe tbody tr th:only-of-type {\n",
       "        vertical-align: middle;\n",
       "    }\n",
       "\n",
       "    .dataframe tbody tr th {\n",
       "        vertical-align: top;\n",
       "    }\n",
       "\n",
       "    .dataframe thead th {\n",
       "        text-align: right;\n",
       "    }\n",
       "</style>\n",
       "<table border=\"1\" class=\"dataframe\">\n",
       "  <thead>\n",
       "    <tr style=\"text-align: right;\">\n",
       "      <th></th>\n",
       "      <th>Radius</th>\n",
       "    </tr>\n",
       "  </thead>\n",
       "  <tbody>\n",
       "    <tr>\n",
       "      <th>r_1</th>\n",
       "      <td>1.2</td>\n",
       "    </tr>\n",
       "    <tr>\n",
       "      <th>r_2</th>\n",
       "      <td>1.7</td>\n",
       "    </tr>\n",
       "    <tr>\n",
       "      <th>r_3</th>\n",
       "      <td>2.2</td>\n",
       "    </tr>\n",
       "    <tr>\n",
       "      <th>r_4</th>\n",
       "      <td>2.7</td>\n",
       "    </tr>\n",
       "    <tr>\n",
       "      <th>r_5</th>\n",
       "      <td>3.2</td>\n",
       "    </tr>\n",
       "    <tr>\n",
       "      <th>r_6</th>\n",
       "      <td>3.7</td>\n",
       "    </tr>\n",
       "    <tr>\n",
       "      <th>r_7</th>\n",
       "      <td>4.2</td>\n",
       "    </tr>\n",
       "    <tr>\n",
       "      <th>r_8</th>\n",
       "      <td>4.7</td>\n",
       "    </tr>\n",
       "  </tbody>\n",
       "</table>\n",
       "</div>"
      ],
      "text/plain": [
       "     Radius\n",
       "r_1     1.2\n",
       "r_2     1.7\n",
       "r_3     2.2\n",
       "r_4     2.7\n",
       "r_5     3.2\n",
       "r_6     3.7\n",
       "r_7     4.2\n",
       "r_8     4.7"
      ]
     },
     "execution_count": 100,
     "metadata": {},
     "output_type": "execute_result"
    }
   ],
   "source": [
    "r_df = pd.DataFrame(data=data,index= ['r_1','r_2','r_3','r_4','r_5','r_6','r_7','r_8'], columns=['Radius'])\n",
    "r_df"
   ]
  },
  {
   "cell_type": "code",
   "execution_count": 101,
   "metadata": {
    "colab": {
     "background_save": true
    },
    "id": "O_W4t0gP5TkQ"
   },
   "outputs": [],
   "source": [
    "def area_of_circle(r):\n",
    "    return 3.14 * (r ** 2)"
   ]
  },
  {
   "cell_type": "code",
   "execution_count": 102,
   "metadata": {
    "colab": {
     "background_save": true
    },
    "id": "x1yzn5k25agN"
   },
   "outputs": [],
   "source": [
    "def circumference (r):\n",
    "    return 3.14 * r* 2"
   ]
  },
  {
   "cell_type": "code",
   "execution_count": 103,
   "metadata": {
    "colab": {
     "background_save": true,
     "base_uri": "https://localhost:8080/",
     "height": 297
    },
    "id": "z6W_3SKv5kHv",
    "outputId": "6936cd4a-99be-4425-b982-a9e32f872143"
   },
   "outputs": [
    {
     "data": {
      "text/html": [
       "<div>\n",
       "<style scoped>\n",
       "    .dataframe tbody tr th:only-of-type {\n",
       "        vertical-align: middle;\n",
       "    }\n",
       "\n",
       "    .dataframe tbody tr th {\n",
       "        vertical-align: top;\n",
       "    }\n",
       "\n",
       "    .dataframe thead th {\n",
       "        text-align: right;\n",
       "    }\n",
       "</style>\n",
       "<table border=\"1\" class=\"dataframe\">\n",
       "  <thead>\n",
       "    <tr style=\"text-align: right;\">\n",
       "      <th></th>\n",
       "      <th>Radius</th>\n",
       "      <th>area of circle</th>\n",
       "      <th>circumference</th>\n",
       "    </tr>\n",
       "  </thead>\n",
       "  <tbody>\n",
       "    <tr>\n",
       "      <th>r_1</th>\n",
       "      <td>1.2</td>\n",
       "      <td>4.5216</td>\n",
       "      <td>7.536</td>\n",
       "    </tr>\n",
       "    <tr>\n",
       "      <th>r_2</th>\n",
       "      <td>1.7</td>\n",
       "      <td>9.0746</td>\n",
       "      <td>10.676</td>\n",
       "    </tr>\n",
       "    <tr>\n",
       "      <th>r_3</th>\n",
       "      <td>2.2</td>\n",
       "      <td>15.1976</td>\n",
       "      <td>13.816</td>\n",
       "    </tr>\n",
       "    <tr>\n",
       "      <th>r_4</th>\n",
       "      <td>2.7</td>\n",
       "      <td>22.8906</td>\n",
       "      <td>16.956</td>\n",
       "    </tr>\n",
       "    <tr>\n",
       "      <th>r_5</th>\n",
       "      <td>3.2</td>\n",
       "      <td>32.1536</td>\n",
       "      <td>20.096</td>\n",
       "    </tr>\n",
       "    <tr>\n",
       "      <th>r_6</th>\n",
       "      <td>3.7</td>\n",
       "      <td>42.9866</td>\n",
       "      <td>23.236</td>\n",
       "    </tr>\n",
       "    <tr>\n",
       "      <th>r_7</th>\n",
       "      <td>4.2</td>\n",
       "      <td>55.3896</td>\n",
       "      <td>26.376</td>\n",
       "    </tr>\n",
       "    <tr>\n",
       "      <th>r_8</th>\n",
       "      <td>4.7</td>\n",
       "      <td>69.3626</td>\n",
       "      <td>29.516</td>\n",
       "    </tr>\n",
       "  </tbody>\n",
       "</table>\n",
       "</div>"
      ],
      "text/plain": [
       "     Radius  area of circle  circumference\n",
       "r_1     1.2          4.5216          7.536\n",
       "r_2     1.7          9.0746         10.676\n",
       "r_3     2.2         15.1976         13.816\n",
       "r_4     2.7         22.8906         16.956\n",
       "r_5     3.2         32.1536         20.096\n",
       "r_6     3.7         42.9866         23.236\n",
       "r_7     4.2         55.3896         26.376\n",
       "r_8     4.7         69.3626         29.516"
      ]
     },
     "execution_count": 103,
     "metadata": {},
     "output_type": "execute_result"
    }
   ],
   "source": [
    "r_df['area of circle'] = r_df['Radius'].apply(area_of_circle)\n",
    "r_df['circumference'] = r_df['Radius'].map(circumference)\n",
    "r_df\n"
   ]
  },
  {
   "cell_type": "code",
   "execution_count": 104,
   "metadata": {
    "colab": {
     "background_save": true,
     "base_uri": "https://localhost:8080/",
     "height": 297
    },
    "id": "aNsfe1LO6NsA",
    "outputId": "b3c3ad36-eeca-44c3-eeb8-a2155843e9c6"
   },
   "outputs": [
    {
     "data": {
      "text/html": [
       "<div>\n",
       "<style scoped>\n",
       "    .dataframe tbody tr th:only-of-type {\n",
       "        vertical-align: middle;\n",
       "    }\n",
       "\n",
       "    .dataframe tbody tr th {\n",
       "        vertical-align: top;\n",
       "    }\n",
       "\n",
       "    .dataframe thead th {\n",
       "        text-align: right;\n",
       "    }\n",
       "</style>\n",
       "<table border=\"1\" class=\"dataframe\">\n",
       "  <thead>\n",
       "    <tr style=\"text-align: right;\">\n",
       "      <th></th>\n",
       "      <th>Radius</th>\n",
       "      <th>area of circle</th>\n",
       "      <th>circumference</th>\n",
       "      <th>area_lambda</th>\n",
       "    </tr>\n",
       "  </thead>\n",
       "  <tbody>\n",
       "    <tr>\n",
       "      <th>r_1</th>\n",
       "      <td>1.2</td>\n",
       "      <td>4.5216</td>\n",
       "      <td>7.536</td>\n",
       "      <td>4.5216</td>\n",
       "    </tr>\n",
       "    <tr>\n",
       "      <th>r_2</th>\n",
       "      <td>1.7</td>\n",
       "      <td>9.0746</td>\n",
       "      <td>10.676</td>\n",
       "      <td>9.0746</td>\n",
       "    </tr>\n",
       "    <tr>\n",
       "      <th>r_3</th>\n",
       "      <td>2.2</td>\n",
       "      <td>15.1976</td>\n",
       "      <td>13.816</td>\n",
       "      <td>15.1976</td>\n",
       "    </tr>\n",
       "    <tr>\n",
       "      <th>r_4</th>\n",
       "      <td>2.7</td>\n",
       "      <td>22.8906</td>\n",
       "      <td>16.956</td>\n",
       "      <td>22.8906</td>\n",
       "    </tr>\n",
       "    <tr>\n",
       "      <th>r_5</th>\n",
       "      <td>3.2</td>\n",
       "      <td>32.1536</td>\n",
       "      <td>20.096</td>\n",
       "      <td>32.1536</td>\n",
       "    </tr>\n",
       "    <tr>\n",
       "      <th>r_6</th>\n",
       "      <td>3.7</td>\n",
       "      <td>42.9866</td>\n",
       "      <td>23.236</td>\n",
       "      <td>42.9866</td>\n",
       "    </tr>\n",
       "    <tr>\n",
       "      <th>r_7</th>\n",
       "      <td>4.2</td>\n",
       "      <td>55.3896</td>\n",
       "      <td>26.376</td>\n",
       "      <td>55.3896</td>\n",
       "    </tr>\n",
       "    <tr>\n",
       "      <th>r_8</th>\n",
       "      <td>4.7</td>\n",
       "      <td>69.3626</td>\n",
       "      <td>29.516</td>\n",
       "      <td>69.3626</td>\n",
       "    </tr>\n",
       "  </tbody>\n",
       "</table>\n",
       "</div>"
      ],
      "text/plain": [
       "     Radius  area of circle  circumference  area_lambda\n",
       "r_1     1.2          4.5216          7.536       4.5216\n",
       "r_2     1.7          9.0746         10.676       9.0746\n",
       "r_3     2.2         15.1976         13.816      15.1976\n",
       "r_4     2.7         22.8906         16.956      22.8906\n",
       "r_5     3.2         32.1536         20.096      32.1536\n",
       "r_6     3.7         42.9866         23.236      42.9866\n",
       "r_7     4.2         55.3896         26.376      55.3896\n",
       "r_8     4.7         69.3626         29.516      69.3626"
      ]
     },
     "execution_count": 104,
     "metadata": {},
     "output_type": "execute_result"
    }
   ],
   "source": [
    "# apply(poly function) functionused to apply a polynomial function a specific column\n",
    "r_df['area_lambda'] = r_df['Radius'].apply(lambda r: 3.14 * (r ** 2))\n",
    "r_df"
   ]
  },
  {
   "cell_type": "code",
   "execution_count": 105,
   "metadata": {
    "colab": {
     "background_save": true,
     "base_uri": "https://localhost:8080/"
    },
    "id": "VBJ1ko2z6fyy",
    "outputId": "986a4376-699c-4320-fcf7-c50df7cee173"
   },
   "outputs": [
    {
     "data": {
      "text/plain": [
       "Radius             2.9500\n",
       "area of circle    31.4471\n",
       "circumference     18.5260\n",
       "area_lambda       31.4471\n",
       "dtype: float64"
      ]
     },
     "execution_count": 105,
     "metadata": {},
     "output_type": "execute_result"
    }
   ],
   "source": [
    "r_df.mean() # return the mean of each column in the dataset"
   ]
  },
  {
   "cell_type": "code",
   "execution_count": 106,
   "metadata": {
    "colab": {
     "background_save": true,
     "base_uri": "https://localhost:8080/"
    },
    "id": "FC2D3Ud28TxA",
    "outputId": "3edd63a3-ab5d-4294-997e-f8c8a522f731"
   },
   "outputs": [
    {
     "data": {
      "text/plain": [
       "r_1     4.4448\n",
       "r_2     7.6313\n",
       "r_3    11.6028\n",
       "r_4    16.3593\n",
       "r_5    21.9008\n",
       "r_6    28.2273\n",
       "r_7    35.3388\n",
       "r_8    43.2353\n",
       "dtype: float64"
      ]
     },
     "execution_count": 106,
     "metadata": {},
     "output_type": "execute_result"
    }
   ],
   "source": [
    "r_df.mean(axis =1) # return the mean of each row in the dataset"
   ]
  },
  {
   "cell_type": "code",
   "execution_count": 107,
   "metadata": {
    "colab": {
     "background_save": true,
     "base_uri": "https://localhost:8080/"
    },
    "id": "gp9Itfsd8Zuv",
    "outputId": "5d052561-7eea-4859-fa6e-561fe5debcc8"
   },
   "outputs": [
    {
     "data": {
      "text/plain": [
       "31.447100000000002"
      ]
     },
     "execution_count": 107,
     "metadata": {},
     "output_type": "execute_result"
    }
   ],
   "source": [
    "#for specific column mean\n",
    "r_df['area of circle'].mean()"
   ]
  },
  {
   "cell_type": "code",
   "execution_count": 108,
   "metadata": {
    "colab": {
     "background_save": true,
     "base_uri": "https://localhost:8080/"
    },
    "id": "kDC478DU7EIU",
    "outputId": "2e9acb3b-e4e0-4a27-a818-f9e0489c241e"
   },
   "outputs": [
    {
     "data": {
      "text/plain": [
       "Radius             23.6000\n",
       "area of circle    251.5768\n",
       "circumference     148.2080\n",
       "area_lambda       251.5768\n",
       "dtype: float64"
      ]
     },
     "execution_count": 108,
     "metadata": {},
     "output_type": "execute_result"
    }
   ],
   "source": [
    "r_df.sum() # return the sum of each column's values in the dataset"
   ]
  },
  {
   "cell_type": "code",
   "execution_count": 109,
   "metadata": {
    "colab": {
     "background_save": true,
     "base_uri": "https://localhost:8080/"
    },
    "id": "iBN1P6S37Dtg",
    "outputId": "8587e93a-4487-497a-98b8-0624e805c944"
   },
   "outputs": [
    {
     "data": {
      "text/plain": [
       "Radius             2.9500\n",
       "area of circle    27.5221\n",
       "circumference     18.5260\n",
       "area_lambda       27.5221\n",
       "dtype: float64"
      ]
     },
     "execution_count": 109,
     "metadata": {},
     "output_type": "execute_result"
    }
   ],
   "source": [
    "r_df.median() # return the median of each column's values in the dataset"
   ]
  },
  {
   "cell_type": "code",
   "execution_count": 110,
   "metadata": {
    "colab": {
     "background_save": true,
     "base_uri": "https://localhost:8080/"
    },
    "id": "53svbYlC7CtV",
    "outputId": "3fbe93b7-d04b-4a77-9970-7975eab338dc"
   },
   "outputs": [
    {
     "data": {
      "text/plain": [
       "Radius             1.224745\n",
       "area of circle    23.013223\n",
       "circumference      7.691398\n",
       "area_lambda       23.013223\n",
       "dtype: float64"
      ]
     },
     "execution_count": 110,
     "metadata": {},
     "output_type": "execute_result"
    }
   ],
   "source": [
    "r_df.std() # return the standard deviation of each column in the dataset"
   ]
  },
  {
   "cell_type": "code",
   "execution_count": 111,
   "metadata": {
    "colab": {
     "background_save": true,
     "base_uri": "https://localhost:8080/"
    },
    "id": "cE592ht87b_R",
    "outputId": "38ee1d34-4e0e-4de3-fa6f-f39a62c94069"
   },
   "outputs": [
    {
     "data": {
      "text/plain": [
       "Radius              1.500000\n",
       "area of circle    529.608414\n",
       "circumference      59.157600\n",
       "area_lambda       529.608414\n",
       "dtype: float64"
      ]
     },
     "execution_count": 111,
     "metadata": {},
     "output_type": "execute_result"
    }
   ],
   "source": [
    "#Variance\n",
    "r_df.var()"
   ]
  },
  {
   "cell_type": "code",
   "execution_count": 112,
   "metadata": {
    "colab": {
     "background_save": true,
     "base_uri": "https://localhost:8080/",
     "height": 173
    },
    "id": "a-_LTx1I8yZX",
    "outputId": "780f8188-5444-4809-c60b-c1a60c1fd8af"
   },
   "outputs": [
    {
     "data": {
      "text/html": [
       "<div>\n",
       "<style scoped>\n",
       "    .dataframe tbody tr th:only-of-type {\n",
       "        vertical-align: middle;\n",
       "    }\n",
       "\n",
       "    .dataframe tbody tr th {\n",
       "        vertical-align: top;\n",
       "    }\n",
       "\n",
       "    .dataframe thead th {\n",
       "        text-align: right;\n",
       "    }\n",
       "</style>\n",
       "<table border=\"1\" class=\"dataframe\">\n",
       "  <thead>\n",
       "    <tr style=\"text-align: right;\">\n",
       "      <th></th>\n",
       "      <th>Radius</th>\n",
       "      <th>area of circle</th>\n",
       "      <th>circumference</th>\n",
       "      <th>area_lambda</th>\n",
       "    </tr>\n",
       "  </thead>\n",
       "  <tbody>\n",
       "    <tr>\n",
       "      <th>Radius</th>\n",
       "      <td>1.000000</td>\n",
       "      <td>0.985939</td>\n",
       "      <td>1.000000</td>\n",
       "      <td>0.985939</td>\n",
       "    </tr>\n",
       "    <tr>\n",
       "      <th>area of circle</th>\n",
       "      <td>0.985939</td>\n",
       "      <td>1.000000</td>\n",
       "      <td>0.985939</td>\n",
       "      <td>1.000000</td>\n",
       "    </tr>\n",
       "    <tr>\n",
       "      <th>circumference</th>\n",
       "      <td>1.000000</td>\n",
       "      <td>0.985939</td>\n",
       "      <td>1.000000</td>\n",
       "      <td>0.985939</td>\n",
       "    </tr>\n",
       "    <tr>\n",
       "      <th>area_lambda</th>\n",
       "      <td>0.985939</td>\n",
       "      <td>1.000000</td>\n",
       "      <td>0.985939</td>\n",
       "      <td>1.000000</td>\n",
       "    </tr>\n",
       "  </tbody>\n",
       "</table>\n",
       "</div>"
      ],
      "text/plain": [
       "                  Radius  area of circle  circumference  area_lambda\n",
       "Radius          1.000000        0.985939       1.000000     0.985939\n",
       "area of circle  0.985939        1.000000       0.985939     1.000000\n",
       "circumference   1.000000        0.985939       1.000000     0.985939\n",
       "area_lambda     0.985939        1.000000       0.985939     1.000000"
      ]
     },
     "execution_count": 112,
     "metadata": {},
     "output_type": "execute_result"
    }
   ],
   "source": [
    "#correlation\n",
    "r_df.corr() # return the correlation between the columns and each other in the dataset"
   ]
  },
  {
   "cell_type": "code",
   "execution_count": 113,
   "metadata": {
    "colab": {
     "background_save": true,
     "base_uri": "https://localhost:8080/"
    },
    "id": "dFQ_A-GI7CNT",
    "outputId": "9dd289d6-63da-4572-a577-de59d5122671"
   },
   "outputs": [
    {
     "data": {
      "text/plain": [
       "Radius             4.7000\n",
       "area of circle    69.3626\n",
       "circumference     29.5160\n",
       "area_lambda       69.3626\n",
       "dtype: float64"
      ]
     },
     "execution_count": 113,
     "metadata": {},
     "output_type": "execute_result"
    }
   ],
   "source": [
    "r_df.max()"
   ]
  },
  {
   "cell_type": "code",
   "execution_count": 114,
   "metadata": {
    "colab": {
     "background_save": true,
     "base_uri": "https://localhost:8080/"
    },
    "id": "4AR-znej_ZFL",
    "outputId": "7e69f929-a934-42bf-8b82-02fbdec348ab"
   },
   "outputs": [
    {
     "data": {
      "text/plain": [
       "Radius            8\n",
       "area of circle    8\n",
       "circumference     8\n",
       "area_lambda       8\n",
       "dtype: int64"
      ]
     },
     "execution_count": 114,
     "metadata": {},
     "output_type": "execute_result"
    }
   ],
   "source": [
    "r_df.count()"
   ]
  },
  {
   "cell_type": "code",
   "execution_count": 115,
   "metadata": {
    "colab": {
     "background_save": true,
     "base_uri": "https://localhost:8080/"
    },
    "id": "o6Q6knNl7Bvx",
    "outputId": "3d53be51-9d52-48e3-8590-bab4aa786bda"
   },
   "outputs": [
    {
     "data": {
      "text/plain": [
       "Radius            1.2000\n",
       "area of circle    4.5216\n",
       "circumference     7.5360\n",
       "area_lambda       4.5216\n",
       "dtype: float64"
      ]
     },
     "execution_count": 115,
     "metadata": {},
     "output_type": "execute_result"
    }
   ],
   "source": [
    "r_df.min()"
   ]
  },
  {
   "cell_type": "code",
   "execution_count": 116,
   "metadata": {
    "colab": {
     "background_save": true,
     "base_uri": "https://localhost:8080/"
    },
    "id": "-x5AocLa_pQ7",
    "outputId": "81c28adb-a9cf-476e-e3dd-a03023c73e01"
   },
   "outputs": [
    {
     "data": {
      "text/plain": [
       "Radius             2.07500\n",
       "area of circle    13.66685\n",
       "circumference     13.03100\n",
       "area_lambda       13.66685\n",
       "Name: 0.25, dtype: float64"
      ]
     },
     "execution_count": 116,
     "metadata": {},
     "output_type": "execute_result"
    }
   ],
   "source": [
    "# first quarter\n",
    "r_df.quantile(0.25) # return the first quarter of each column in the dataset\n"
   ]
  },
  {
   "cell_type": "code",
   "execution_count": 117,
   "metadata": {
    "colab": {
     "background_save": true,
     "base_uri": "https://localhost:8080/"
    },
    "id": "07l-l00o_yM4",
    "outputId": "876d80a1-c8c7-456c-9ebc-6403aafefb44"
   },
   "outputs": [
    {
     "data": {
      "text/plain": [
       "Radius             2.9500\n",
       "area of circle    27.5221\n",
       "circumference     18.5260\n",
       "area_lambda       27.5221\n",
       "Name: 0.5, dtype: float64"
      ]
     },
     "execution_count": 117,
     "metadata": {},
     "output_type": "execute_result"
    }
   ],
   "source": [
    "# second quarter\n",
    "r_df.quantile(0.5) # return the second quarter of each column in the dataset\n"
   ]
  },
  {
   "cell_type": "code",
   "execution_count": 118,
   "metadata": {
    "collapsed": false
   },
   "outputs": [
    {
     "data": {
      "text/plain": [
       "Radius             3.72000\n",
       "area of circle    43.48272\n",
       "circumference     23.36160\n",
       "area_lambda       43.48272\n",
       "Name: 0.72, dtype: float64"
      ]
     },
     "execution_count": 118,
     "metadata": {},
     "output_type": "execute_result"
    }
   ],
   "source": [
    "r_df.quantile(.72) # return the 72% (the third quarter) of each column in the dataset"
   ]
  },
  {
   "cell_type": "code",
   "execution_count": 119,
   "metadata": {
    "colab": {
     "background_save": true,
     "base_uri": "https://localhost:8080/",
     "height": 235
    },
    "id": "E9QP8H5zBxCE",
    "outputId": "7ddf33d2-d447-474f-d8e0-5b9a652976b9"
   },
   "outputs": [
    {
     "data": {
      "text/html": [
       "<div>\n",
       "<style scoped>\n",
       "    .dataframe tbody tr th:only-of-type {\n",
       "        vertical-align: middle;\n",
       "    }\n",
       "\n",
       "    .dataframe tbody tr th {\n",
       "        vertical-align: top;\n",
       "    }\n",
       "\n",
       "    .dataframe thead th {\n",
       "        text-align: right;\n",
       "    }\n",
       "</style>\n",
       "<table border=\"1\" class=\"dataframe\">\n",
       "  <thead>\n",
       "    <tr style=\"text-align: right;\">\n",
       "      <th></th>\n",
       "      <th>Radius</th>\n",
       "      <th>area of circle</th>\n",
       "      <th>circumference</th>\n",
       "      <th>area_lambda</th>\n",
       "    </tr>\n",
       "  </thead>\n",
       "  <tbody>\n",
       "    <tr>\n",
       "      <th>sum</th>\n",
       "      <td>23.600000</td>\n",
       "      <td>251.576800</td>\n",
       "      <td>148.208000</td>\n",
       "      <td>251.576800</td>\n",
       "    </tr>\n",
       "    <tr>\n",
       "      <th>mean</th>\n",
       "      <td>2.950000</td>\n",
       "      <td>31.447100</td>\n",
       "      <td>18.526000</td>\n",
       "      <td>31.447100</td>\n",
       "    </tr>\n",
       "    <tr>\n",
       "      <th>median</th>\n",
       "      <td>2.950000</td>\n",
       "      <td>27.522100</td>\n",
       "      <td>18.526000</td>\n",
       "      <td>27.522100</td>\n",
       "    </tr>\n",
       "    <tr>\n",
       "      <th>max</th>\n",
       "      <td>4.700000</td>\n",
       "      <td>69.362600</td>\n",
       "      <td>29.516000</td>\n",
       "      <td>69.362600</td>\n",
       "    </tr>\n",
       "    <tr>\n",
       "      <th>min</th>\n",
       "      <td>1.200000</td>\n",
       "      <td>4.521600</td>\n",
       "      <td>7.536000</td>\n",
       "      <td>4.521600</td>\n",
       "    </tr>\n",
       "    <tr>\n",
       "      <th>std</th>\n",
       "      <td>1.224745</td>\n",
       "      <td>23.013223</td>\n",
       "      <td>7.691398</td>\n",
       "      <td>23.013223</td>\n",
       "    </tr>\n",
       "  </tbody>\n",
       "</table>\n",
       "</div>"
      ],
      "text/plain": [
       "           Radius  area of circle  circumference  area_lambda\n",
       "sum     23.600000      251.576800     148.208000   251.576800\n",
       "mean     2.950000       31.447100      18.526000    31.447100\n",
       "median   2.950000       27.522100      18.526000    27.522100\n",
       "max      4.700000       69.362600      29.516000    69.362600\n",
       "min      1.200000        4.521600       7.536000     4.521600\n",
       "std      1.224745       23.013223       7.691398    23.013223"
      ]
     },
     "execution_count": 119,
     "metadata": {},
     "output_type": "execute_result"
    }
   ],
   "source": [
    "# aggregate functions \"agg(list of functions)\" takes a list of functions and apply them to each col the dataset\n",
    "r_df.agg(['sum','mean','median','max','min','std'])"
   ]
  },
  {
   "cell_type": "code",
   "execution_count": 120,
   "metadata": {
    "colab": {
     "background_save": true,
     "base_uri": "https://localhost:8080/",
     "height": 297
    },
    "id": "UHDx-QF8ByzQ",
    "outputId": "ab2294fa-116f-4600-f4d0-36b51158f2e5"
   },
   "outputs": [
    {
     "data": {
      "text/html": [
       "<div>\n",
       "<style scoped>\n",
       "    .dataframe tbody tr th:only-of-type {\n",
       "        vertical-align: middle;\n",
       "    }\n",
       "\n",
       "    .dataframe tbody tr th {\n",
       "        vertical-align: top;\n",
       "    }\n",
       "\n",
       "    .dataframe thead th {\n",
       "        text-align: right;\n",
       "    }\n",
       "</style>\n",
       "<table border=\"1\" class=\"dataframe\">\n",
       "  <thead>\n",
       "    <tr style=\"text-align: right;\">\n",
       "      <th></th>\n",
       "      <th>Radius</th>\n",
       "      <th>area of circle</th>\n",
       "      <th>circumference</th>\n",
       "      <th>area_lambda</th>\n",
       "    </tr>\n",
       "  </thead>\n",
       "  <tbody>\n",
       "    <tr>\n",
       "      <th>count</th>\n",
       "      <td>8.000000</td>\n",
       "      <td>8.000000</td>\n",
       "      <td>8.000000</td>\n",
       "      <td>8.000000</td>\n",
       "    </tr>\n",
       "    <tr>\n",
       "      <th>mean</th>\n",
       "      <td>2.950000</td>\n",
       "      <td>31.447100</td>\n",
       "      <td>18.526000</td>\n",
       "      <td>31.447100</td>\n",
       "    </tr>\n",
       "    <tr>\n",
       "      <th>std</th>\n",
       "      <td>1.224745</td>\n",
       "      <td>23.013223</td>\n",
       "      <td>7.691398</td>\n",
       "      <td>23.013223</td>\n",
       "    </tr>\n",
       "    <tr>\n",
       "      <th>min</th>\n",
       "      <td>1.200000</td>\n",
       "      <td>4.521600</td>\n",
       "      <td>7.536000</td>\n",
       "      <td>4.521600</td>\n",
       "    </tr>\n",
       "    <tr>\n",
       "      <th>25%</th>\n",
       "      <td>2.075000</td>\n",
       "      <td>13.666850</td>\n",
       "      <td>13.031000</td>\n",
       "      <td>13.666850</td>\n",
       "    </tr>\n",
       "    <tr>\n",
       "      <th>50%</th>\n",
       "      <td>2.950000</td>\n",
       "      <td>27.522100</td>\n",
       "      <td>18.526000</td>\n",
       "      <td>27.522100</td>\n",
       "    </tr>\n",
       "    <tr>\n",
       "      <th>75%</th>\n",
       "      <td>3.825000</td>\n",
       "      <td>46.087350</td>\n",
       "      <td>24.021000</td>\n",
       "      <td>46.087350</td>\n",
       "    </tr>\n",
       "    <tr>\n",
       "      <th>max</th>\n",
       "      <td>4.700000</td>\n",
       "      <td>69.362600</td>\n",
       "      <td>29.516000</td>\n",
       "      <td>69.362600</td>\n",
       "    </tr>\n",
       "  </tbody>\n",
       "</table>\n",
       "</div>"
      ],
      "text/plain": [
       "         Radius  area of circle  circumference  area_lambda\n",
       "count  8.000000        8.000000       8.000000     8.000000\n",
       "mean   2.950000       31.447100      18.526000    31.447100\n",
       "std    1.224745       23.013223       7.691398    23.013223\n",
       "min    1.200000        4.521600       7.536000     4.521600\n",
       "25%    2.075000       13.666850      13.031000    13.666850\n",
       "50%    2.950000       27.522100      18.526000    27.522100\n",
       "75%    3.825000       46.087350      24.021000    46.087350\n",
       "max    4.700000       69.362600      29.516000    69.362600"
      ]
     },
     "execution_count": 120,
     "metadata": {},
     "output_type": "execute_result"
    }
   ],
   "source": [
    "#For most important statitsitcal information\n",
    "r_df.describe()"
   ]
  },
  {
   "cell_type": "code",
   "execution_count": 121,
   "metadata": {
    "colab": {
     "background_save": true,
     "base_uri": "https://localhost:8080/",
     "height": 297
    },
    "id": "PiGZtu6t75wa",
    "outputId": "28216203-0ea1-4495-c593-f43fa75fc9bf",
    "scrolled": true
   },
   "outputs": [
    {
     "data": {
      "text/html": [
       "<div>\n",
       "<style scoped>\n",
       "    .dataframe tbody tr th:only-of-type {\n",
       "        vertical-align: middle;\n",
       "    }\n",
       "\n",
       "    .dataframe tbody tr th {\n",
       "        vertical-align: top;\n",
       "    }\n",
       "\n",
       "    .dataframe thead th {\n",
       "        text-align: right;\n",
       "    }\n",
       "</style>\n",
       "<table border=\"1\" class=\"dataframe\">\n",
       "  <thead>\n",
       "    <tr style=\"text-align: right;\">\n",
       "      <th></th>\n",
       "      <th>Radius</th>\n",
       "      <th>area of circle</th>\n",
       "      <th>circumference</th>\n",
       "      <th>area_lambda</th>\n",
       "    </tr>\n",
       "  </thead>\n",
       "  <tbody>\n",
       "    <tr>\n",
       "      <th>r_8</th>\n",
       "      <td>4.7</td>\n",
       "      <td>69.3626</td>\n",
       "      <td>29.516</td>\n",
       "      <td>69.3626</td>\n",
       "    </tr>\n",
       "    <tr>\n",
       "      <th>r_7</th>\n",
       "      <td>4.2</td>\n",
       "      <td>55.3896</td>\n",
       "      <td>26.376</td>\n",
       "      <td>55.3896</td>\n",
       "    </tr>\n",
       "    <tr>\n",
       "      <th>r_6</th>\n",
       "      <td>3.7</td>\n",
       "      <td>42.9866</td>\n",
       "      <td>23.236</td>\n",
       "      <td>42.9866</td>\n",
       "    </tr>\n",
       "    <tr>\n",
       "      <th>r_5</th>\n",
       "      <td>3.2</td>\n",
       "      <td>32.1536</td>\n",
       "      <td>20.096</td>\n",
       "      <td>32.1536</td>\n",
       "    </tr>\n",
       "    <tr>\n",
       "      <th>r_4</th>\n",
       "      <td>2.7</td>\n",
       "      <td>22.8906</td>\n",
       "      <td>16.956</td>\n",
       "      <td>22.8906</td>\n",
       "    </tr>\n",
       "    <tr>\n",
       "      <th>r_3</th>\n",
       "      <td>2.2</td>\n",
       "      <td>15.1976</td>\n",
       "      <td>13.816</td>\n",
       "      <td>15.1976</td>\n",
       "    </tr>\n",
       "    <tr>\n",
       "      <th>r_2</th>\n",
       "      <td>1.7</td>\n",
       "      <td>9.0746</td>\n",
       "      <td>10.676</td>\n",
       "      <td>9.0746</td>\n",
       "    </tr>\n",
       "    <tr>\n",
       "      <th>r_1</th>\n",
       "      <td>1.2</td>\n",
       "      <td>4.5216</td>\n",
       "      <td>7.536</td>\n",
       "      <td>4.5216</td>\n",
       "    </tr>\n",
       "  </tbody>\n",
       "</table>\n",
       "</div>"
      ],
      "text/plain": [
       "     Radius  area of circle  circumference  area_lambda\n",
       "r_8     4.7         69.3626         29.516      69.3626\n",
       "r_7     4.2         55.3896         26.376      55.3896\n",
       "r_6     3.7         42.9866         23.236      42.9866\n",
       "r_5     3.2         32.1536         20.096      32.1536\n",
       "r_4     2.7         22.8906         16.956      22.8906\n",
       "r_3     2.2         15.1976         13.816      15.1976\n",
       "r_2     1.7          9.0746         10.676       9.0746\n",
       "r_1     1.2          4.5216          7.536       4.5216"
      ]
     },
     "execution_count": 121,
     "metadata": {},
     "output_type": "execute_result"
    }
   ],
   "source": [
    "r_df.sort_values(by=['Radius'], ascending=False, inplace=True)\n",
    "r_df"
   ]
  },
  {
   "cell_type": "code",
   "execution_count": 122,
   "metadata": {
    "colab": {
     "background_save": true,
     "base_uri": "https://localhost:8080/",
     "height": 266
    },
    "id": "Cjgqw0dA74Y2",
    "outputId": "ee2846ab-00b9-4886-b0d7-695ceefdc900"
   },
   "outputs": [
    {
     "data": {
      "text/html": [
       "<div>\n",
       "<style scoped>\n",
       "    .dataframe tbody tr th:only-of-type {\n",
       "        vertical-align: middle;\n",
       "    }\n",
       "\n",
       "    .dataframe tbody tr th {\n",
       "        vertical-align: top;\n",
       "    }\n",
       "\n",
       "    .dataframe thead th {\n",
       "        text-align: right;\n",
       "    }\n",
       "</style>\n",
       "<table border=\"1\" class=\"dataframe\">\n",
       "  <thead>\n",
       "    <tr style=\"text-align: right;\">\n",
       "      <th></th>\n",
       "      <th>Boot_colour</th>\n",
       "      <th>Code</th>\n",
       "      <th>Price</th>\n",
       "      <th>Discount</th>\n",
       "      <th>Full Price</th>\n",
       "    </tr>\n",
       "  </thead>\n",
       "  <tbody>\n",
       "    <tr>\n",
       "      <th>N1</th>\n",
       "      <td>Black</td>\n",
       "      <td>S01</td>\n",
       "      <td>1000</td>\n",
       "      <td>100.000</td>\n",
       "      <td>900.000</td>\n",
       "    </tr>\n",
       "    <tr>\n",
       "      <th>N2</th>\n",
       "      <td>Black</td>\n",
       "      <td>TR0</td>\n",
       "      <td>2000</td>\n",
       "      <td>150.000</td>\n",
       "      <td>1850.000</td>\n",
       "    </tr>\n",
       "    <tr>\n",
       "      <th>N3</th>\n",
       "      <td>Brown</td>\n",
       "      <td>SC1</td>\n",
       "      <td>3000</td>\n",
       "      <td>320.000</td>\n",
       "      <td>3680.000</td>\n",
       "    </tr>\n",
       "    <tr>\n",
       "      <th>N4</th>\n",
       "      <td>Brown</td>\n",
       "      <td>CA3</td>\n",
       "      <td>4000</td>\n",
       "      <td>100.000</td>\n",
       "      <td>3900.000</td>\n",
       "    </tr>\n",
       "    <tr>\n",
       "      <th>N5</th>\n",
       "      <td>White</td>\n",
       "      <td>PA4</td>\n",
       "      <td>3000</td>\n",
       "      <td>90.000</td>\n",
       "      <td>2910.000</td>\n",
       "    </tr>\n",
       "    <tr>\n",
       "      <th>N6</th>\n",
       "      <td>White</td>\n",
       "      <td>TR12</td>\n",
       "      <td>1400</td>\n",
       "      <td>122.664</td>\n",
       "      <td>2827.337</td>\n",
       "    </tr>\n",
       "    <tr>\n",
       "      <th>N7</th>\n",
       "      <td>Black</td>\n",
       "      <td>G42</td>\n",
       "      <td>2120</td>\n",
       "      <td>155.520</td>\n",
       "      <td>1970.126</td>\n",
       "    </tr>\n",
       "  </tbody>\n",
       "</table>\n",
       "</div>"
      ],
      "text/plain": [
       "   Boot_colour  Code  Price  Discount  Full Price\n",
       "N1       Black   S01   1000   100.000     900.000\n",
       "N2       Black   TR0   2000   150.000    1850.000\n",
       "N3       Brown   SC1   3000   320.000    3680.000\n",
       "N4       Brown   CA3   4000   100.000    3900.000\n",
       "N5       White   PA4   3000    90.000    2910.000\n",
       "N6       White  TR12   1400   122.664    2827.337\n",
       "N7       Black   G42   2120   155.520    1970.126"
      ]
     },
     "execution_count": 122,
     "metadata": {},
     "output_type": "execute_result"
    }
   ],
   "source": [
    "sales_enterprice = {  'Boot_colour' : ['Black','Black','Brown','Brown','White','White','Black'],                    \n",
    "                     'Code' : ['S01','TR0','SC1','CA3','PA4','TR12','G42'],\n",
    "                    'Price' : [1000,2000,3000,4000,3000,1400,2120],\n",
    "                    'Discount' : [100,150,320,100,90,122.664,155.52],\n",
    "                    'Full Price' : [900,1850,3680,3900,2910,2827.337,1970.126] }\n",
    "sales_enterprice_df = pd.DataFrame(sales_enterprice,index = ['N1','N2','N3','N4','N5','N6','N7']) \n",
    "sales_enterprice_df"
   ]
  },
  {
   "cell_type": "code",
   "execution_count": 123,
   "metadata": {
    "colab": {
     "background_save": true,
     "base_uri": "https://localhost:8080/",
     "height": 173
    },
    "id": "QpmwVIp273_h",
    "outputId": "d437d3f8-d85d-438f-dd82-42c471078002"
   },
   "outputs": [
    {
     "data": {
      "text/html": [
       "<div>\n",
       "<style scoped>\n",
       "    .dataframe tbody tr th:only-of-type {\n",
       "        vertical-align: middle;\n",
       "    }\n",
       "\n",
       "    .dataframe tbody tr th {\n",
       "        vertical-align: top;\n",
       "    }\n",
       "\n",
       "    .dataframe thead th {\n",
       "        text-align: right;\n",
       "    }\n",
       "</style>\n",
       "<table border=\"1\" class=\"dataframe\">\n",
       "  <thead>\n",
       "    <tr style=\"text-align: right;\">\n",
       "      <th></th>\n",
       "      <th>Code</th>\n",
       "      <th>Price</th>\n",
       "      <th>Discount</th>\n",
       "      <th>Full Price</th>\n",
       "    </tr>\n",
       "    <tr>\n",
       "      <th>Boot_colour</th>\n",
       "      <th></th>\n",
       "      <th></th>\n",
       "      <th></th>\n",
       "      <th></th>\n",
       "    </tr>\n",
       "  </thead>\n",
       "  <tbody>\n",
       "    <tr>\n",
       "      <th>Black</th>\n",
       "      <td>S01TR0G42</td>\n",
       "      <td>5120</td>\n",
       "      <td>405.520</td>\n",
       "      <td>4720.126</td>\n",
       "    </tr>\n",
       "    <tr>\n",
       "      <th>Brown</th>\n",
       "      <td>SC1CA3</td>\n",
       "      <td>7000</td>\n",
       "      <td>420.000</td>\n",
       "      <td>7580.000</td>\n",
       "    </tr>\n",
       "    <tr>\n",
       "      <th>White</th>\n",
       "      <td>PA4TR12</td>\n",
       "      <td>4400</td>\n",
       "      <td>212.664</td>\n",
       "      <td>5737.337</td>\n",
       "    </tr>\n",
       "  </tbody>\n",
       "</table>\n",
       "</div>"
      ],
      "text/plain": [
       "                  Code  Price  Discount  Full Price\n",
       "Boot_colour                                        \n",
       "Black        S01TR0G42   5120   405.520    4720.126\n",
       "Brown           SC1CA3   7000   420.000    7580.000\n",
       "White          PA4TR12   4400   212.664    5737.337"
      ]
     },
     "execution_count": 123,
     "metadata": {},
     "output_type": "execute_result"
    }
   ],
   "source": [
    "#Grouping element as in SQL \n",
    "#Returning Sum\n",
    "sales_enterprice_df.groupby('Boot_colour').sum()\n"
   ]
  },
  {
   "cell_type": "code",
   "execution_count": 124,
   "metadata": {
    "colab": {
     "background_save": true,
     "base_uri": "https://localhost:8080/",
     "height": 173
    },
    "id": "_Izn3Ys-FMub",
    "outputId": "c94e53b6-0516-4714-b143-682f14e6e9e3"
   },
   "outputs": [
    {
     "data": {
      "text/html": [
       "<div>\n",
       "<style scoped>\n",
       "    .dataframe tbody tr th:only-of-type {\n",
       "        vertical-align: middle;\n",
       "    }\n",
       "\n",
       "    .dataframe tbody tr th {\n",
       "        vertical-align: top;\n",
       "    }\n",
       "\n",
       "    .dataframe thead th {\n",
       "        text-align: right;\n",
       "    }\n",
       "</style>\n",
       "<table border=\"1\" class=\"dataframe\">\n",
       "  <thead>\n",
       "    <tr style=\"text-align: right;\">\n",
       "      <th></th>\n",
       "      <th>Code</th>\n",
       "      <th>Price</th>\n",
       "      <th>Discount</th>\n",
       "      <th>Full Price</th>\n",
       "    </tr>\n",
       "    <tr>\n",
       "      <th>Boot_colour</th>\n",
       "      <th></th>\n",
       "      <th></th>\n",
       "      <th></th>\n",
       "      <th></th>\n",
       "    </tr>\n",
       "  </thead>\n",
       "  <tbody>\n",
       "    <tr>\n",
       "      <th>Black</th>\n",
       "      <td>S01TR0G42</td>\n",
       "      <td>5120</td>\n",
       "      <td>405.520</td>\n",
       "      <td>4720.126</td>\n",
       "    </tr>\n",
       "    <tr>\n",
       "      <th>White</th>\n",
       "      <td>PA4TR12</td>\n",
       "      <td>4400</td>\n",
       "      <td>212.664</td>\n",
       "      <td>5737.337</td>\n",
       "    </tr>\n",
       "    <tr>\n",
       "      <th>Brown</th>\n",
       "      <td>SC1CA3</td>\n",
       "      <td>7000</td>\n",
       "      <td>420.000</td>\n",
       "      <td>7580.000</td>\n",
       "    </tr>\n",
       "  </tbody>\n",
       "</table>\n",
       "</div>"
      ],
      "text/plain": [
       "                  Code  Price  Discount  Full Price\n",
       "Boot_colour                                        \n",
       "Black        S01TR0G42   5120   405.520    4720.126\n",
       "White          PA4TR12   4400   212.664    5737.337\n",
       "Brown           SC1CA3   7000   420.000    7580.000"
      ]
     },
     "execution_count": 124,
     "metadata": {},
     "output_type": "execute_result"
    }
   ],
   "source": [
    "sales_enterprice_df.groupby('Boot_colour').sum().sort_values(by='Full Price', ascending=True)"
   ]
  },
  {
   "cell_type": "code",
   "execution_count": 125,
   "metadata": {
    "collapsed": false
   },
   "outputs": [
    {
     "data": {
      "text/html": [
       "<div>\n",
       "<style scoped>\n",
       "    .dataframe tbody tr th:only-of-type {\n",
       "        vertical-align: middle;\n",
       "    }\n",
       "\n",
       "    .dataframe tbody tr th {\n",
       "        vertical-align: top;\n",
       "    }\n",
       "\n",
       "    .dataframe thead tr th {\n",
       "        text-align: left;\n",
       "    }\n",
       "\n",
       "    .dataframe thead tr:last-of-type th {\n",
       "        text-align: right;\n",
       "    }\n",
       "</style>\n",
       "<table border=\"1\" class=\"dataframe\">\n",
       "  <thead>\n",
       "    <tr>\n",
       "      <th></th>\n",
       "      <th colspan=\"2\" halign=\"left\">Code</th>\n",
       "      <th colspan=\"2\" halign=\"left\">Price</th>\n",
       "      <th colspan=\"2\" halign=\"left\">Discount</th>\n",
       "      <th colspan=\"2\" halign=\"left\">Full Price</th>\n",
       "    </tr>\n",
       "    <tr>\n",
       "      <th></th>\n",
       "      <th>min</th>\n",
       "      <th>max</th>\n",
       "      <th>min</th>\n",
       "      <th>max</th>\n",
       "      <th>min</th>\n",
       "      <th>max</th>\n",
       "      <th>min</th>\n",
       "      <th>max</th>\n",
       "    </tr>\n",
       "    <tr>\n",
       "      <th>Boot_colour</th>\n",
       "      <th></th>\n",
       "      <th></th>\n",
       "      <th></th>\n",
       "      <th></th>\n",
       "      <th></th>\n",
       "      <th></th>\n",
       "      <th></th>\n",
       "      <th></th>\n",
       "    </tr>\n",
       "  </thead>\n",
       "  <tbody>\n",
       "    <tr>\n",
       "      <th>Black</th>\n",
       "      <td>G42</td>\n",
       "      <td>TR0</td>\n",
       "      <td>1000</td>\n",
       "      <td>2120</td>\n",
       "      <td>100.0</td>\n",
       "      <td>155.520</td>\n",
       "      <td>900.000</td>\n",
       "      <td>1970.126</td>\n",
       "    </tr>\n",
       "    <tr>\n",
       "      <th>Brown</th>\n",
       "      <td>CA3</td>\n",
       "      <td>SC1</td>\n",
       "      <td>3000</td>\n",
       "      <td>4000</td>\n",
       "      <td>100.0</td>\n",
       "      <td>320.000</td>\n",
       "      <td>3680.000</td>\n",
       "      <td>3900.000</td>\n",
       "    </tr>\n",
       "    <tr>\n",
       "      <th>White</th>\n",
       "      <td>PA4</td>\n",
       "      <td>TR12</td>\n",
       "      <td>1400</td>\n",
       "      <td>3000</td>\n",
       "      <td>90.0</td>\n",
       "      <td>122.664</td>\n",
       "      <td>2827.337</td>\n",
       "      <td>2910.000</td>\n",
       "    </tr>\n",
       "  </tbody>\n",
       "</table>\n",
       "</div>"
      ],
      "text/plain": [
       "            Code       Price       Discount          Full Price          \n",
       "             min   max   min   max      min      max        min       max\n",
       "Boot_colour                                                              \n",
       "Black        G42   TR0  1000  2120    100.0  155.520    900.000  1970.126\n",
       "Brown        CA3   SC1  3000  4000    100.0  320.000   3680.000  3900.000\n",
       "White        PA4  TR12  1400  3000     90.0  122.664   2827.337  2910.000"
      ]
     },
     "execution_count": 125,
     "metadata": {},
     "output_type": "execute_result"
    }
   ],
   "source": [
    "sales_enterprice_df.groupby('Boot_colour').agg(['min', 'max'])"
   ]
  },
  {
   "cell_type": "code",
   "execution_count": 126,
   "metadata": {
    "colab": {
     "background_save": true,
     "base_uri": "https://localhost:8080/",
     "height": 793
    },
    "id": "KOozzO1eEFnP",
    "outputId": "fd5f1c2d-ec01-47bc-f9d3-9b459709dffb"
   },
   "outputs": [
    {
     "data": {
      "text/html": [
       "<div>\n",
       "<style scoped>\n",
       "    .dataframe tbody tr th:only-of-type {\n",
       "        vertical-align: middle;\n",
       "    }\n",
       "\n",
       "    .dataframe tbody tr th {\n",
       "        vertical-align: top;\n",
       "    }\n",
       "\n",
       "    .dataframe thead th {\n",
       "        text-align: right;\n",
       "    }\n",
       "</style>\n",
       "<table border=\"1\" class=\"dataframe\">\n",
       "  <thead>\n",
       "    <tr style=\"text-align: right;\">\n",
       "      <th></th>\n",
       "      <th>Boot_colour</th>\n",
       "      <th>Black</th>\n",
       "      <th>Brown</th>\n",
       "      <th>White</th>\n",
       "    </tr>\n",
       "  </thead>\n",
       "  <tbody>\n",
       "    <tr>\n",
       "      <th rowspan=\"8\" valign=\"top\">Price</th>\n",
       "      <th>count</th>\n",
       "      <td>3.000000</td>\n",
       "      <td>2.000000</td>\n",
       "      <td>2.000000</td>\n",
       "    </tr>\n",
       "    <tr>\n",
       "      <th>mean</th>\n",
       "      <td>1706.666667</td>\n",
       "      <td>3500.000000</td>\n",
       "      <td>2200.000000</td>\n",
       "    </tr>\n",
       "    <tr>\n",
       "      <th>std</th>\n",
       "      <td>614.925470</td>\n",
       "      <td>707.106781</td>\n",
       "      <td>1131.370850</td>\n",
       "    </tr>\n",
       "    <tr>\n",
       "      <th>min</th>\n",
       "      <td>1000.000000</td>\n",
       "      <td>3000.000000</td>\n",
       "      <td>1400.000000</td>\n",
       "    </tr>\n",
       "    <tr>\n",
       "      <th>25%</th>\n",
       "      <td>1500.000000</td>\n",
       "      <td>3250.000000</td>\n",
       "      <td>1800.000000</td>\n",
       "    </tr>\n",
       "    <tr>\n",
       "      <th>50%</th>\n",
       "      <td>2000.000000</td>\n",
       "      <td>3500.000000</td>\n",
       "      <td>2200.000000</td>\n",
       "    </tr>\n",
       "    <tr>\n",
       "      <th>75%</th>\n",
       "      <td>2060.000000</td>\n",
       "      <td>3750.000000</td>\n",
       "      <td>2600.000000</td>\n",
       "    </tr>\n",
       "    <tr>\n",
       "      <th>max</th>\n",
       "      <td>2120.000000</td>\n",
       "      <td>4000.000000</td>\n",
       "      <td>3000.000000</td>\n",
       "    </tr>\n",
       "    <tr>\n",
       "      <th rowspan=\"8\" valign=\"top\">Discount</th>\n",
       "      <th>count</th>\n",
       "      <td>3.000000</td>\n",
       "      <td>2.000000</td>\n",
       "      <td>2.000000</td>\n",
       "    </tr>\n",
       "    <tr>\n",
       "      <th>mean</th>\n",
       "      <td>135.173333</td>\n",
       "      <td>210.000000</td>\n",
       "      <td>106.332000</td>\n",
       "    </tr>\n",
       "    <tr>\n",
       "      <th>std</th>\n",
       "      <td>30.585783</td>\n",
       "      <td>155.563492</td>\n",
       "      <td>23.096936</td>\n",
       "    </tr>\n",
       "    <tr>\n",
       "      <th>min</th>\n",
       "      <td>100.000000</td>\n",
       "      <td>100.000000</td>\n",
       "      <td>90.000000</td>\n",
       "    </tr>\n",
       "    <tr>\n",
       "      <th>25%</th>\n",
       "      <td>125.000000</td>\n",
       "      <td>155.000000</td>\n",
       "      <td>98.166000</td>\n",
       "    </tr>\n",
       "    <tr>\n",
       "      <th>50%</th>\n",
       "      <td>150.000000</td>\n",
       "      <td>210.000000</td>\n",
       "      <td>106.332000</td>\n",
       "    </tr>\n",
       "    <tr>\n",
       "      <th>75%</th>\n",
       "      <td>152.760000</td>\n",
       "      <td>265.000000</td>\n",
       "      <td>114.498000</td>\n",
       "    </tr>\n",
       "    <tr>\n",
       "      <th>max</th>\n",
       "      <td>155.520000</td>\n",
       "      <td>320.000000</td>\n",
       "      <td>122.664000</td>\n",
       "    </tr>\n",
       "    <tr>\n",
       "      <th rowspan=\"8\" valign=\"top\">Full Price</th>\n",
       "      <th>count</th>\n",
       "      <td>3.000000</td>\n",
       "      <td>2.000000</td>\n",
       "      <td>2.000000</td>\n",
       "    </tr>\n",
       "    <tr>\n",
       "      <th>mean</th>\n",
       "      <td>1573.375333</td>\n",
       "      <td>3790.000000</td>\n",
       "      <td>2868.668500</td>\n",
       "    </tr>\n",
       "    <tr>\n",
       "      <th>std</th>\n",
       "      <td>586.245101</td>\n",
       "      <td>155.563492</td>\n",
       "      <td>58.451568</td>\n",
       "    </tr>\n",
       "    <tr>\n",
       "      <th>min</th>\n",
       "      <td>900.000000</td>\n",
       "      <td>3680.000000</td>\n",
       "      <td>2827.337000</td>\n",
       "    </tr>\n",
       "    <tr>\n",
       "      <th>25%</th>\n",
       "      <td>1375.000000</td>\n",
       "      <td>3735.000000</td>\n",
       "      <td>2848.002750</td>\n",
       "    </tr>\n",
       "    <tr>\n",
       "      <th>50%</th>\n",
       "      <td>1850.000000</td>\n",
       "      <td>3790.000000</td>\n",
       "      <td>2868.668500</td>\n",
       "    </tr>\n",
       "    <tr>\n",
       "      <th>75%</th>\n",
       "      <td>1910.063000</td>\n",
       "      <td>3845.000000</td>\n",
       "      <td>2889.334250</td>\n",
       "    </tr>\n",
       "    <tr>\n",
       "      <th>max</th>\n",
       "      <td>1970.126000</td>\n",
       "      <td>3900.000000</td>\n",
       "      <td>2910.000000</td>\n",
       "    </tr>\n",
       "  </tbody>\n",
       "</table>\n",
       "</div>"
      ],
      "text/plain": [
       "Boot_colour             Black        Brown        White\n",
       "Price      count     3.000000     2.000000     2.000000\n",
       "           mean   1706.666667  3500.000000  2200.000000\n",
       "           std     614.925470   707.106781  1131.370850\n",
       "           min    1000.000000  3000.000000  1400.000000\n",
       "           25%    1500.000000  3250.000000  1800.000000\n",
       "           50%    2000.000000  3500.000000  2200.000000\n",
       "           75%    2060.000000  3750.000000  2600.000000\n",
       "           max    2120.000000  4000.000000  3000.000000\n",
       "Discount   count     3.000000     2.000000     2.000000\n",
       "           mean    135.173333   210.000000   106.332000\n",
       "           std      30.585783   155.563492    23.096936\n",
       "           min     100.000000   100.000000    90.000000\n",
       "           25%     125.000000   155.000000    98.166000\n",
       "           50%     150.000000   210.000000   106.332000\n",
       "           75%     152.760000   265.000000   114.498000\n",
       "           max     155.520000   320.000000   122.664000\n",
       "Full Price count     3.000000     2.000000     2.000000\n",
       "           mean   1573.375333  3790.000000  2868.668500\n",
       "           std     586.245101   155.563492    58.451568\n",
       "           min     900.000000  3680.000000  2827.337000\n",
       "           25%    1375.000000  3735.000000  2848.002750\n",
       "           50%    1850.000000  3790.000000  2868.668500\n",
       "           75%    1910.063000  3845.000000  2889.334250\n",
       "           max    1970.126000  3900.000000  2910.000000"
      ]
     },
     "execution_count": 126,
     "metadata": {},
     "output_type": "execute_result"
    }
   ],
   "source": [
    "#Grouping element as on SQL \n",
    "sales_enterprice_df.groupby('Boot_colour').describe().T"
   ]
  },
  {
   "cell_type": "markdown",
   "metadata": {},
   "source": [
    "### Data Cleaning"
   ]
  },
  {
   "cell_type": "code",
   "execution_count": 127,
   "metadata": {
    "colab": {
     "background_save": true,
     "base_uri": "https://localhost:8080/",
     "height": 142
    },
    "id": "2VlL9bcU73Tu",
    "outputId": "df6b3dfa-a0f9-4f33-c193-cd39e48276d5"
   },
   "outputs": [
    {
     "data": {
      "text/html": [
       "<div>\n",
       "<style scoped>\n",
       "    .dataframe tbody tr th:only-of-type {\n",
       "        vertical-align: middle;\n",
       "    }\n",
       "\n",
       "    .dataframe tbody tr th {\n",
       "        vertical-align: top;\n",
       "    }\n",
       "\n",
       "    .dataframe thead th {\n",
       "        text-align: right;\n",
       "    }\n",
       "</style>\n",
       "<table border=\"1\" class=\"dataframe\">\n",
       "  <thead>\n",
       "    <tr style=\"text-align: right;\">\n",
       "      <th></th>\n",
       "      <th>Sunday</th>\n",
       "      <th>Monday</th>\n",
       "      <th>Tuesday</th>\n",
       "      <th>Wednesday</th>\n",
       "      <th>Thursday</th>\n",
       "      <th>Saturday</th>\n",
       "    </tr>\n",
       "  </thead>\n",
       "  <tbody>\n",
       "    <tr>\n",
       "      <th>Q1(15)</th>\n",
       "      <td>15</td>\n",
       "      <td>10</td>\n",
       "      <td>12</td>\n",
       "      <td>9.0</td>\n",
       "      <td>12.0</td>\n",
       "      <td>NaN</td>\n",
       "    </tr>\n",
       "    <tr>\n",
       "      <th>Q2(50)</th>\n",
       "      <td>47</td>\n",
       "      <td>27</td>\n",
       "      <td>40</td>\n",
       "      <td>50.0</td>\n",
       "      <td>37.0</td>\n",
       "      <td>NaN</td>\n",
       "    </tr>\n",
       "    <tr>\n",
       "      <th>Attedance(30)</th>\n",
       "      <td>30</td>\n",
       "      <td>30</td>\n",
       "      <td>30</td>\n",
       "      <td>NaN</td>\n",
       "      <td>NaN</td>\n",
       "      <td>NaN</td>\n",
       "    </tr>\n",
       "  </tbody>\n",
       "</table>\n",
       "</div>"
      ],
      "text/plain": [
       "               Sunday  Monday  Tuesday  Wednesday  Thursday  Saturday\n",
       "Q1(15)             15      10       12        9.0      12.0       NaN\n",
       "Q2(50)             47      27       40       50.0      37.0       NaN\n",
       "Attedance(30)      30      30       30        NaN       NaN       NaN"
      ]
     },
     "execution_count": 127,
     "metadata": {},
     "output_type": "execute_result"
    }
   ],
   "source": [
    "days_point = {'Sunday':[15,47,30],\n",
    "        'Monday':[10,27,30],\n",
    "        'Tuesday': [12,40,30],\n",
    "        'Wednesday' : [9,50,np.nan],\n",
    "        'Thursday': [12,37,np.nan],\n",
    "        'Saturday' : [np.nan,np.nan,np.nan] \n",
    "        }\n",
    "days_point_df = pd.DataFrame(days_point,index=['Q1(15)','Q2(50)', 'Attedance(30)'])        \n",
    "days_point_df"
   ]
  },
  {
   "cell_type": "code",
   "execution_count": 128,
   "metadata": {
    "colab": {
     "background_save": true,
     "base_uri": "https://localhost:8080/",
     "height": 142
    },
    "id": "azJesJNsytQ_",
    "outputId": "2ab73e73-60e1-42a3-86ed-1b47b7af9ee4"
   },
   "outputs": [
    {
     "data": {
      "text/html": [
       "<div>\n",
       "<style scoped>\n",
       "    .dataframe tbody tr th:only-of-type {\n",
       "        vertical-align: middle;\n",
       "    }\n",
       "\n",
       "    .dataframe tbody tr th {\n",
       "        vertical-align: top;\n",
       "    }\n",
       "\n",
       "    .dataframe thead th {\n",
       "        text-align: right;\n",
       "    }\n",
       "</style>\n",
       "<table border=\"1\" class=\"dataframe\">\n",
       "  <thead>\n",
       "    <tr style=\"text-align: right;\">\n",
       "      <th></th>\n",
       "      <th>Sunday</th>\n",
       "      <th>Monday</th>\n",
       "      <th>Tuesday</th>\n",
       "      <th>Wednesday</th>\n",
       "      <th>Thursday</th>\n",
       "      <th>Saturday</th>\n",
       "    </tr>\n",
       "  </thead>\n",
       "  <tbody>\n",
       "    <tr>\n",
       "      <th>Q1(15)</th>\n",
       "      <td>False</td>\n",
       "      <td>False</td>\n",
       "      <td>False</td>\n",
       "      <td>False</td>\n",
       "      <td>False</td>\n",
       "      <td>True</td>\n",
       "    </tr>\n",
       "    <tr>\n",
       "      <th>Q2(50)</th>\n",
       "      <td>False</td>\n",
       "      <td>False</td>\n",
       "      <td>False</td>\n",
       "      <td>False</td>\n",
       "      <td>False</td>\n",
       "      <td>True</td>\n",
       "    </tr>\n",
       "    <tr>\n",
       "      <th>Attedance(30)</th>\n",
       "      <td>False</td>\n",
       "      <td>False</td>\n",
       "      <td>False</td>\n",
       "      <td>True</td>\n",
       "      <td>True</td>\n",
       "      <td>True</td>\n",
       "    </tr>\n",
       "  </tbody>\n",
       "</table>\n",
       "</div>"
      ],
      "text/plain": [
       "               Sunday  Monday  Tuesday  Wednesday  Thursday  Saturday\n",
       "Q1(15)          False   False    False      False     False      True\n",
       "Q2(50)          False   False    False      False     False      True\n",
       "Attedance(30)   False   False    False       True      True      True"
      ]
     },
     "execution_count": 128,
     "metadata": {},
     "output_type": "execute_result"
    }
   ],
   "source": [
    "#Asking if there is null value on dataframe\n",
    "days_point_df.isnull()"
   ]
  },
  {
   "cell_type": "code",
   "execution_count": 129,
   "metadata": {
    "colab": {
     "background_save": true,
     "base_uri": "https://localhost:8080/"
    },
    "id": "v4rX9qGKzRK7",
    "outputId": "2421f955-08fa-4db4-b13d-54411d06ff61"
   },
   "outputs": [
    {
     "data": {
      "text/plain": [
       "Sunday       0\n",
       "Monday       0\n",
       "Tuesday      0\n",
       "Wednesday    1\n",
       "Thursday     1\n",
       "Saturday     3\n",
       "dtype: int64"
      ]
     },
     "execution_count": 129,
     "metadata": {},
     "output_type": "execute_result"
    }
   ],
   "source": [
    "#Summing null value in dataframe the columns\n",
    "days_point_df.isnull().sum()"
   ]
  },
  {
   "cell_type": "code",
   "execution_count": 130,
   "metadata": {
    "colab": {
     "background_save": true,
     "base_uri": "https://localhost:8080/"
    },
    "id": "77Dr_bV6zaHx",
    "outputId": "58faf752-7173-44c6-e191-f71aef627681"
   },
   "outputs": [
    {
     "data": {
      "text/plain": [
       "Q1(15)           1\n",
       "Q2(50)           1\n",
       "Attedance(30)    3\n",
       "dtype: int64"
      ]
     },
     "execution_count": 130,
     "metadata": {},
     "output_type": "execute_result"
    }
   ],
   "source": [
    "#Sum null value in dataframe on the rows\n",
    "days_point_df.isnull().sum(axis=1)"
   ]
  },
  {
   "cell_type": "code",
   "execution_count": 131,
   "metadata": {
    "colab": {
     "background_save": true,
     "base_uri": "https://localhost:8080/",
     "height": 49
    },
    "id": "cj2ErF8H0YeU",
    "outputId": "a7e7b62d-6423-40e4-883a-aca173e2bee4"
   },
   "outputs": [
    {
     "data": {
      "text/html": [
       "<div>\n",
       "<style scoped>\n",
       "    .dataframe tbody tr th:only-of-type {\n",
       "        vertical-align: middle;\n",
       "    }\n",
       "\n",
       "    .dataframe tbody tr th {\n",
       "        vertical-align: top;\n",
       "    }\n",
       "\n",
       "    .dataframe thead th {\n",
       "        text-align: right;\n",
       "    }\n",
       "</style>\n",
       "<table border=\"1\" class=\"dataframe\">\n",
       "  <thead>\n",
       "    <tr style=\"text-align: right;\">\n",
       "      <th></th>\n",
       "      <th>Sunday</th>\n",
       "      <th>Monday</th>\n",
       "      <th>Tuesday</th>\n",
       "      <th>Wednesday</th>\n",
       "      <th>Thursday</th>\n",
       "      <th>Saturday</th>\n",
       "    </tr>\n",
       "  </thead>\n",
       "  <tbody>\n",
       "  </tbody>\n",
       "</table>\n",
       "</div>"
      ],
      "text/plain": [
       "Empty DataFrame\n",
       "Columns: [Sunday, Monday, Tuesday, Wednesday, Thursday, Saturday]\n",
       "Index: []"
      ]
     },
     "execution_count": 131,
     "metadata": {},
     "output_type": "execute_result"
    }
   ],
   "source": [
    "#Removing any row contain nan from DataFrame without saving\n",
    "days_point_df.dropna(axis =0)\n",
    "#To save the dropping\n",
    "#days_point_df.dropna(axis =0,inplace = True)"
   ]
  },
  {
   "cell_type": "code",
   "execution_count": 132,
   "metadata": {
    "colab": {
     "background_save": true,
     "base_uri": "https://localhost:8080/",
     "height": 142
    },
    "id": "Ew13LhGrzZwc",
    "outputId": "d2836f09-17ef-4d5d-f299-a0f8e43b2824"
   },
   "outputs": [
    {
     "data": {
      "text/html": [
       "<div>\n",
       "<style scoped>\n",
       "    .dataframe tbody tr th:only-of-type {\n",
       "        vertical-align: middle;\n",
       "    }\n",
       "\n",
       "    .dataframe tbody tr th {\n",
       "        vertical-align: top;\n",
       "    }\n",
       "\n",
       "    .dataframe thead th {\n",
       "        text-align: right;\n",
       "    }\n",
       "</style>\n",
       "<table border=\"1\" class=\"dataframe\">\n",
       "  <thead>\n",
       "    <tr style=\"text-align: right;\">\n",
       "      <th></th>\n",
       "      <th>Sunday</th>\n",
       "      <th>Monday</th>\n",
       "      <th>Tuesday</th>\n",
       "    </tr>\n",
       "  </thead>\n",
       "  <tbody>\n",
       "    <tr>\n",
       "      <th>Q1(15)</th>\n",
       "      <td>15</td>\n",
       "      <td>10</td>\n",
       "      <td>12</td>\n",
       "    </tr>\n",
       "    <tr>\n",
       "      <th>Q2(50)</th>\n",
       "      <td>47</td>\n",
       "      <td>27</td>\n",
       "      <td>40</td>\n",
       "    </tr>\n",
       "    <tr>\n",
       "      <th>Attedance(30)</th>\n",
       "      <td>30</td>\n",
       "      <td>30</td>\n",
       "      <td>30</td>\n",
       "    </tr>\n",
       "  </tbody>\n",
       "</table>\n",
       "</div>"
      ],
      "text/plain": [
       "               Sunday  Monday  Tuesday\n",
       "Q1(15)             15      10       12\n",
       "Q2(50)             47      27       40\n",
       "Attedance(30)      30      30       30"
      ]
     },
     "execution_count": 132,
     "metadata": {},
     "output_type": "execute_result"
    }
   ],
   "source": [
    "#Removing any column contain nan from DataFrame without saving\n",
    "days_point_df.dropna(axis =1)\n",
    "#To save the dropping\n",
    "#days_point_df.dropna(axis =1,inplace = True)"
   ]
  },
  {
   "cell_type": "code",
   "execution_count": 133,
   "metadata": {
    "colab": {
     "background_save": true,
     "base_uri": "https://localhost:8080/",
     "height": 142
    },
    "id": "PDJJL1xU0nmq",
    "outputId": "d2a69f57-05c1-4054-f077-20746ec8a54c"
   },
   "outputs": [
    {
     "data": {
      "text/html": [
       "<div>\n",
       "<style scoped>\n",
       "    .dataframe tbody tr th:only-of-type {\n",
       "        vertical-align: middle;\n",
       "    }\n",
       "\n",
       "    .dataframe tbody tr th {\n",
       "        vertical-align: top;\n",
       "    }\n",
       "\n",
       "    .dataframe thead th {\n",
       "        text-align: right;\n",
       "    }\n",
       "</style>\n",
       "<table border=\"1\" class=\"dataframe\">\n",
       "  <thead>\n",
       "    <tr style=\"text-align: right;\">\n",
       "      <th></th>\n",
       "      <th>Sunday</th>\n",
       "      <th>Monday</th>\n",
       "      <th>Tuesday</th>\n",
       "      <th>Wednesday</th>\n",
       "      <th>Thursday</th>\n",
       "      <th>Saturday</th>\n",
       "    </tr>\n",
       "  </thead>\n",
       "  <tbody>\n",
       "    <tr>\n",
       "      <th>Q1(15)</th>\n",
       "      <td>15</td>\n",
       "      <td>10</td>\n",
       "      <td>12</td>\n",
       "      <td>9.0</td>\n",
       "      <td>12.0</td>\n",
       "      <td>20.0</td>\n",
       "    </tr>\n",
       "    <tr>\n",
       "      <th>Q2(50)</th>\n",
       "      <td>47</td>\n",
       "      <td>27</td>\n",
       "      <td>40</td>\n",
       "      <td>50.0</td>\n",
       "      <td>37.0</td>\n",
       "      <td>NaN</td>\n",
       "    </tr>\n",
       "    <tr>\n",
       "      <th>Attedance(30)</th>\n",
       "      <td>30</td>\n",
       "      <td>30</td>\n",
       "      <td>30</td>\n",
       "      <td>NaN</td>\n",
       "      <td>NaN</td>\n",
       "      <td>NaN</td>\n",
       "    </tr>\n",
       "  </tbody>\n",
       "</table>\n",
       "</div>"
      ],
      "text/plain": [
       "               Sunday  Monday  Tuesday  Wednesday  Thursday  Saturday\n",
       "Q1(15)             15      10       12        9.0      12.0      20.0\n",
       "Q2(50)             47      27       40       50.0      37.0       NaN\n",
       "Attedance(30)      30      30       30        NaN       NaN       NaN"
      ]
     },
     "execution_count": 133,
     "metadata": {},
     "output_type": "execute_result"
    }
   ],
   "source": [
    "#Add new value to specific element has value of nan             \n",
    "days_point_df.loc['Q1(15)','Saturday'] = 20\n",
    "days_point_df"
   ]
  },
  {
   "cell_type": "code",
   "execution_count": 134,
   "metadata": {
    "colab": {
     "background_save": true,
     "base_uri": "https://localhost:8080/",
     "height": 142
    },
    "id": "GxSvOjgd0slW",
    "outputId": "a9ebded2-c6ed-47e5-c652-1b3f7f645e40"
   },
   "outputs": [
    {
     "data": {
      "text/html": [
       "<div>\n",
       "<style scoped>\n",
       "    .dataframe tbody tr th:only-of-type {\n",
       "        vertical-align: middle;\n",
       "    }\n",
       "\n",
       "    .dataframe tbody tr th {\n",
       "        vertical-align: top;\n",
       "    }\n",
       "\n",
       "    .dataframe thead th {\n",
       "        text-align: right;\n",
       "    }\n",
       "</style>\n",
       "<table border=\"1\" class=\"dataframe\">\n",
       "  <thead>\n",
       "    <tr style=\"text-align: right;\">\n",
       "      <th></th>\n",
       "      <th>Sunday</th>\n",
       "      <th>Monday</th>\n",
       "      <th>Tuesday</th>\n",
       "      <th>Wednesday</th>\n",
       "      <th>Thursday</th>\n",
       "      <th>Saturday</th>\n",
       "    </tr>\n",
       "  </thead>\n",
       "  <tbody>\n",
       "    <tr>\n",
       "      <th>Q1(15)</th>\n",
       "      <td>11</td>\n",
       "      <td>10</td>\n",
       "      <td>12</td>\n",
       "      <td>9.0</td>\n",
       "      <td>12.0</td>\n",
       "      <td>20.0</td>\n",
       "    </tr>\n",
       "    <tr>\n",
       "      <th>Q2(50)</th>\n",
       "      <td>47</td>\n",
       "      <td>27</td>\n",
       "      <td>40</td>\n",
       "      <td>50.0</td>\n",
       "      <td>37.0</td>\n",
       "      <td>NaN</td>\n",
       "    </tr>\n",
       "    <tr>\n",
       "      <th>Attedance(30)</th>\n",
       "      <td>30</td>\n",
       "      <td>30</td>\n",
       "      <td>30</td>\n",
       "      <td>NaN</td>\n",
       "      <td>NaN</td>\n",
       "      <td>NaN</td>\n",
       "    </tr>\n",
       "  </tbody>\n",
       "</table>\n",
       "</div>"
      ],
      "text/plain": [
       "               Sunday  Monday  Tuesday  Wednesday  Thursday  Saturday\n",
       "Q1(15)             11      10       12        9.0      12.0      20.0\n",
       "Q2(50)             47      27       40       50.0      37.0       NaN\n",
       "Attedance(30)      30      30       30        NaN       NaN       NaN"
      ]
     },
     "execution_count": 134,
     "metadata": {},
     "output_type": "execute_result"
    }
   ],
   "source": [
    "#Also used to Alter specific element \n",
    "days_point_df.loc['Q1(15)','Sunday'] = 11\n",
    "days_point_df"
   ]
  },
  {
   "cell_type": "code",
   "execution_count": 135,
   "metadata": {
    "colab": {
     "background_save": true,
     "base_uri": "https://localhost:8080/",
     "height": 142
    },
    "id": "kc2glUqM1Ycd",
    "outputId": "5e657c91-5242-4179-e75d-b80a4f7b94c7"
   },
   "outputs": [
    {
     "data": {
      "text/html": [
       "<div>\n",
       "<style scoped>\n",
       "    .dataframe tbody tr th:only-of-type {\n",
       "        vertical-align: middle;\n",
       "    }\n",
       "\n",
       "    .dataframe tbody tr th {\n",
       "        vertical-align: top;\n",
       "    }\n",
       "\n",
       "    .dataframe thead th {\n",
       "        text-align: right;\n",
       "    }\n",
       "</style>\n",
       "<table border=\"1\" class=\"dataframe\">\n",
       "  <thead>\n",
       "    <tr style=\"text-align: right;\">\n",
       "      <th></th>\n",
       "      <th>Sunday</th>\n",
       "      <th>Monday</th>\n",
       "      <th>Tuesday</th>\n",
       "      <th>Wednesday</th>\n",
       "      <th>Thursday</th>\n",
       "      <th>Saturday</th>\n",
       "    </tr>\n",
       "  </thead>\n",
       "  <tbody>\n",
       "    <tr>\n",
       "      <th>Q1(15)</th>\n",
       "      <td>11</td>\n",
       "      <td>10</td>\n",
       "      <td>12</td>\n",
       "      <td>9.0</td>\n",
       "      <td>12.0</td>\n",
       "      <td>20.0</td>\n",
       "    </tr>\n",
       "    <tr>\n",
       "      <th>Q2(50)</th>\n",
       "      <td>47</td>\n",
       "      <td>27</td>\n",
       "      <td>40</td>\n",
       "      <td>50.0</td>\n",
       "      <td>37.0</td>\n",
       "      <td>No Point</td>\n",
       "    </tr>\n",
       "    <tr>\n",
       "      <th>Attedance(30)</th>\n",
       "      <td>30</td>\n",
       "      <td>30</td>\n",
       "      <td>30</td>\n",
       "      <td>No Point</td>\n",
       "      <td>No Point</td>\n",
       "      <td>No Point</td>\n",
       "    </tr>\n",
       "  </tbody>\n",
       "</table>\n",
       "</div>"
      ],
      "text/plain": [
       "               Sunday  Monday  Tuesday Wednesday  Thursday  Saturday\n",
       "Q1(15)             11      10       12       9.0      12.0      20.0\n",
       "Q2(50)             47      27       40      50.0      37.0  No Point\n",
       "Attedance(30)      30      30       30  No Point  No Point  No Point"
      ]
     },
     "execution_count": 135,
     "metadata": {},
     "output_type": "execute_result"
    }
   ],
   "source": [
    "days_point_df.fillna(value = 'No Point')\n",
    "#to save fulling the nan value \n",
    "#days_point_df.fillna(value = 'No Point', inplace = True)"
   ]
  },
  {
   "cell_type": "code",
   "execution_count": 136,
   "metadata": {
    "colab": {
     "background_save": true,
     "base_uri": "https://localhost:8080/",
     "height": 142
    },
    "id": "p-B59EAb234S",
    "outputId": "9fdb441d-a8b6-4817-afc1-34b57dbb927e"
   },
   "outputs": [
    {
     "data": {
      "text/html": [
       "<div>\n",
       "<style scoped>\n",
       "    .dataframe tbody tr th:only-of-type {\n",
       "        vertical-align: middle;\n",
       "    }\n",
       "\n",
       "    .dataframe tbody tr th {\n",
       "        vertical-align: top;\n",
       "    }\n",
       "\n",
       "    .dataframe thead th {\n",
       "        text-align: right;\n",
       "    }\n",
       "</style>\n",
       "<table border=\"1\" class=\"dataframe\">\n",
       "  <thead>\n",
       "    <tr style=\"text-align: right;\">\n",
       "      <th></th>\n",
       "      <th>Sunday</th>\n",
       "      <th>Monday</th>\n",
       "      <th>Tuesday</th>\n",
       "      <th>Wednesday</th>\n",
       "      <th>Thursday</th>\n",
       "      <th>Saturday</th>\n",
       "    </tr>\n",
       "  </thead>\n",
       "  <tbody>\n",
       "    <tr>\n",
       "      <th>Q1(15)</th>\n",
       "      <td>11</td>\n",
       "      <td>10</td>\n",
       "      <td>12</td>\n",
       "      <td>9.0</td>\n",
       "      <td>12.0</td>\n",
       "      <td>20.0</td>\n",
       "    </tr>\n",
       "    <tr>\n",
       "      <th>Q2(50)</th>\n",
       "      <td>47</td>\n",
       "      <td>27</td>\n",
       "      <td>40</td>\n",
       "      <td>50.0</td>\n",
       "      <td>37.0</td>\n",
       "      <td>0.0</td>\n",
       "    </tr>\n",
       "    <tr>\n",
       "      <th>Attedance(30)</th>\n",
       "      <td>30</td>\n",
       "      <td>30</td>\n",
       "      <td>30</td>\n",
       "      <td>0.0</td>\n",
       "      <td>0.0</td>\n",
       "      <td>0.0</td>\n",
       "    </tr>\n",
       "  </tbody>\n",
       "</table>\n",
       "</div>"
      ],
      "text/plain": [
       "               Sunday  Monday  Tuesday  Wednesday  Thursday  Saturday\n",
       "Q1(15)             11      10       12        9.0      12.0      20.0\n",
       "Q2(50)             47      27       40       50.0      37.0       0.0\n",
       "Attedance(30)      30      30       30        0.0       0.0       0.0"
      ]
     },
     "execution_count": 136,
     "metadata": {},
     "output_type": "execute_result"
    }
   ],
   "source": [
    "days_point_df.fillna(value = 0)"
   ]
  },
  {
   "cell_type": "code",
   "execution_count": 137,
   "metadata": {
    "colab": {
     "background_save": true,
     "base_uri": "https://localhost:8080/",
     "height": 142
    },
    "id": "jAbrDp4t2bWr",
    "outputId": "bdaa9580-d916-419b-a191-ef0e4a17390c"
   },
   "outputs": [
    {
     "data": {
      "text/html": [
       "<div>\n",
       "<style scoped>\n",
       "    .dataframe tbody tr th:only-of-type {\n",
       "        vertical-align: middle;\n",
       "    }\n",
       "\n",
       "    .dataframe tbody tr th {\n",
       "        vertical-align: top;\n",
       "    }\n",
       "\n",
       "    .dataframe thead th {\n",
       "        text-align: right;\n",
       "    }\n",
       "</style>\n",
       "<table border=\"1\" class=\"dataframe\">\n",
       "  <thead>\n",
       "    <tr style=\"text-align: right;\">\n",
       "      <th></th>\n",
       "      <th>Sunday</th>\n",
       "      <th>Monday</th>\n",
       "      <th>Tuesday</th>\n",
       "      <th>Wednesday</th>\n",
       "      <th>Thursday</th>\n",
       "      <th>Saturday</th>\n",
       "    </tr>\n",
       "  </thead>\n",
       "  <tbody>\n",
       "    <tr>\n",
       "      <th>Q1(15)</th>\n",
       "      <td>11</td>\n",
       "      <td>10</td>\n",
       "      <td>12</td>\n",
       "      <td>9.000000</td>\n",
       "      <td>12.000000</td>\n",
       "      <td>20.000000</td>\n",
       "    </tr>\n",
       "    <tr>\n",
       "      <th>Q2(50)</th>\n",
       "      <td>47</td>\n",
       "      <td>27</td>\n",
       "      <td>40</td>\n",
       "      <td>50.000000</td>\n",
       "      <td>37.000000</td>\n",
       "      <td>22.333333</td>\n",
       "    </tr>\n",
       "    <tr>\n",
       "      <th>Attedance(30)</th>\n",
       "      <td>30</td>\n",
       "      <td>30</td>\n",
       "      <td>30</td>\n",
       "      <td>22.333333</td>\n",
       "      <td>22.333333</td>\n",
       "      <td>22.333333</td>\n",
       "    </tr>\n",
       "  </tbody>\n",
       "</table>\n",
       "</div>"
      ],
      "text/plain": [
       "               Sunday  Monday  Tuesday  Wednesday   Thursday   Saturday\n",
       "Q1(15)             11      10       12   9.000000  12.000000  20.000000\n",
       "Q2(50)             47      27       40  50.000000  37.000000  22.333333\n",
       "Attedance(30)      30      30       30  22.333333  22.333333  22.333333"
      ]
     },
     "execution_count": 137,
     "metadata": {},
     "output_type": "execute_result"
    }
   ],
   "source": [
    "days_point_df.fillna(value = days_point_df['Monday'].mean())\n"
   ]
  },
  {
   "cell_type": "markdown",
   "metadata": {
    "id": "hrXCJt7z51if"
   },
   "source": [
    "## Merging and Appending on pandas dataframe :  \n",
    "\n",
    "\n"
   ]
  },
  {
   "cell_type": "code",
   "execution_count": 138,
   "metadata": {
    "colab": {
     "background_save": true,
     "base_uri": "https://localhost:8080/"
    },
    "id": "HpJEZb-TBl7d",
    "outputId": "32214797-708b-4d0b-f8eb-14f19c8d5251",
    "scrolled": true
   },
   "outputs": [
    {
     "data": {
      "text/html": [
       "<div>\n",
       "<style scoped>\n",
       "    .dataframe tbody tr th:only-of-type {\n",
       "        vertical-align: middle;\n",
       "    }\n",
       "\n",
       "    .dataframe tbody tr th {\n",
       "        vertical-align: top;\n",
       "    }\n",
       "\n",
       "    .dataframe thead th {\n",
       "        text-align: right;\n",
       "    }\n",
       "</style>\n",
       "<table border=\"1\" class=\"dataframe\">\n",
       "  <thead>\n",
       "    <tr style=\"text-align: right;\">\n",
       "      <th></th>\n",
       "      <th>GOV</th>\n",
       "      <th>Today_TEMP</th>\n",
       "      <th>NextDay_TEMP</th>\n",
       "    </tr>\n",
       "  </thead>\n",
       "  <tbody>\n",
       "    <tr>\n",
       "      <th>0</th>\n",
       "      <td>Alex</td>\n",
       "      <td>32</td>\n",
       "      <td>37</td>\n",
       "    </tr>\n",
       "    <tr>\n",
       "      <th>1</th>\n",
       "      <td>Kafr el sheikh</td>\n",
       "      <td>34</td>\n",
       "      <td>23</td>\n",
       "    </tr>\n",
       "    <tr>\n",
       "      <th>2</th>\n",
       "      <td>Cairo</td>\n",
       "      <td>40</td>\n",
       "      <td>44</td>\n",
       "    </tr>\n",
       "    <tr>\n",
       "      <th>3</th>\n",
       "      <td>Luxor</td>\n",
       "      <td>45</td>\n",
       "      <td>31</td>\n",
       "    </tr>\n",
       "    <tr>\n",
       "      <th>4</th>\n",
       "      <td>Sinai</td>\n",
       "      <td>42</td>\n",
       "      <td>32</td>\n",
       "    </tr>\n",
       "  </tbody>\n",
       "</table>\n",
       "</div>"
      ],
      "text/plain": [
       "              GOV  Today_TEMP  NextDay_TEMP\n",
       "0            Alex          32            37\n",
       "1  Kafr el sheikh          34            23\n",
       "2           Cairo          40            44\n",
       "3           Luxor          45            31\n",
       "4           Sinai          42            32"
      ]
     },
     "execution_count": 138,
     "metadata": {},
     "output_type": "execute_result"
    }
   ],
   "source": [
    "dic_1 = {'GOV':['Alex','Kafr el sheikh','Cairo','Luxor','Sinai'],\n",
    "         'Today_TEMP': [32,34,40,45,42],\n",
    "          'NextDay_TEMP':[37,23,44,31,32]\n",
    "}\n",
    "dic_2 = { 'GOV':['Assiut','Portsaid','Suez','Matrouh','Giza'],\n",
    "          'Today_TEMP': [12,24,30,25,28],\n",
    "          'NextDay_TEMP':[33,23,41,31,32]    \n",
    "}    \n",
    "dic_1_df = pd.DataFrame(dic_1) \n",
    "dic_1_df"
   ]
  },
  {
   "cell_type": "code",
   "execution_count": 139,
   "metadata": {
    "colab": {
     "background_save": true,
     "base_uri": "https://localhost:8080/"
    },
    "id": "TSMZyYi1Bleq",
    "outputId": "fd9eab30-b031-4eb1-8784-8c7e8800f125",
    "scrolled": true
   },
   "outputs": [
    {
     "data": {
      "text/html": [
       "<div>\n",
       "<style scoped>\n",
       "    .dataframe tbody tr th:only-of-type {\n",
       "        vertical-align: middle;\n",
       "    }\n",
       "\n",
       "    .dataframe tbody tr th {\n",
       "        vertical-align: top;\n",
       "    }\n",
       "\n",
       "    .dataframe thead th {\n",
       "        text-align: right;\n",
       "    }\n",
       "</style>\n",
       "<table border=\"1\" class=\"dataframe\">\n",
       "  <thead>\n",
       "    <tr style=\"text-align: right;\">\n",
       "      <th></th>\n",
       "      <th>GOV</th>\n",
       "      <th>Today_TEMP</th>\n",
       "      <th>NextDay_TEMP</th>\n",
       "    </tr>\n",
       "  </thead>\n",
       "  <tbody>\n",
       "    <tr>\n",
       "      <th>0</th>\n",
       "      <td>Assiut</td>\n",
       "      <td>12</td>\n",
       "      <td>33</td>\n",
       "    </tr>\n",
       "    <tr>\n",
       "      <th>1</th>\n",
       "      <td>Portsaid</td>\n",
       "      <td>24</td>\n",
       "      <td>23</td>\n",
       "    </tr>\n",
       "    <tr>\n",
       "      <th>2</th>\n",
       "      <td>Suez</td>\n",
       "      <td>30</td>\n",
       "      <td>41</td>\n",
       "    </tr>\n",
       "    <tr>\n",
       "      <th>3</th>\n",
       "      <td>Matrouh</td>\n",
       "      <td>25</td>\n",
       "      <td>31</td>\n",
       "    </tr>\n",
       "    <tr>\n",
       "      <th>4</th>\n",
       "      <td>Giza</td>\n",
       "      <td>28</td>\n",
       "      <td>32</td>\n",
       "    </tr>\n",
       "  </tbody>\n",
       "</table>\n",
       "</div>"
      ],
      "text/plain": [
       "        GOV  Today_TEMP  NextDay_TEMP\n",
       "0    Assiut          12            33\n",
       "1  Portsaid          24            23\n",
       "2      Suez          30            41\n",
       "3   Matrouh          25            31\n",
       "4      Giza          28            32"
      ]
     },
     "execution_count": 139,
     "metadata": {},
     "output_type": "execute_result"
    }
   ],
   "source": [
    "dic_2_df = pd.DataFrame(dic_2) \n",
    "dic_2_df    "
   ]
  },
  {
   "cell_type": "code",
   "execution_count": 141,
   "metadata": {
    "colab": {
     "background_save": true,
     "base_uri": "https://localhost:8080/"
    },
    "id": "lnMnZhBGBlG6",
    "outputId": "cf88a667-5abe-4657-a8e6-b88442dec2ec"
   },
   "outputs": [
    {
     "data": {
      "text/html": [
       "<div>\n",
       "<style scoped>\n",
       "    .dataframe tbody tr th:only-of-type {\n",
       "        vertical-align: middle;\n",
       "    }\n",
       "\n",
       "    .dataframe tbody tr th {\n",
       "        vertical-align: top;\n",
       "    }\n",
       "\n",
       "    .dataframe thead th {\n",
       "        text-align: right;\n",
       "    }\n",
       "</style>\n",
       "<table border=\"1\" class=\"dataframe\">\n",
       "  <thead>\n",
       "    <tr style=\"text-align: right;\">\n",
       "      <th></th>\n",
       "      <th>GOV</th>\n",
       "      <th>Today_TEMP</th>\n",
       "      <th>NextDay_TEMP</th>\n",
       "    </tr>\n",
       "  </thead>\n",
       "  <tbody>\n",
       "    <tr>\n",
       "      <th>0</th>\n",
       "      <td>Alex</td>\n",
       "      <td>32</td>\n",
       "      <td>37</td>\n",
       "    </tr>\n",
       "    <tr>\n",
       "      <th>1</th>\n",
       "      <td>Kafr el sheikh</td>\n",
       "      <td>34</td>\n",
       "      <td>23</td>\n",
       "    </tr>\n",
       "    <tr>\n",
       "      <th>2</th>\n",
       "      <td>Cairo</td>\n",
       "      <td>40</td>\n",
       "      <td>44</td>\n",
       "    </tr>\n",
       "    <tr>\n",
       "      <th>3</th>\n",
       "      <td>Luxor</td>\n",
       "      <td>45</td>\n",
       "      <td>31</td>\n",
       "    </tr>\n",
       "    <tr>\n",
       "      <th>4</th>\n",
       "      <td>Sinai</td>\n",
       "      <td>42</td>\n",
       "      <td>32</td>\n",
       "    </tr>\n",
       "    <tr>\n",
       "      <th>0</th>\n",
       "      <td>Assiut</td>\n",
       "      <td>12</td>\n",
       "      <td>33</td>\n",
       "    </tr>\n",
       "    <tr>\n",
       "      <th>1</th>\n",
       "      <td>Portsaid</td>\n",
       "      <td>24</td>\n",
       "      <td>23</td>\n",
       "    </tr>\n",
       "    <tr>\n",
       "      <th>2</th>\n",
       "      <td>Suez</td>\n",
       "      <td>30</td>\n",
       "      <td>41</td>\n",
       "    </tr>\n",
       "    <tr>\n",
       "      <th>3</th>\n",
       "      <td>Matrouh</td>\n",
       "      <td>25</td>\n",
       "      <td>31</td>\n",
       "    </tr>\n",
       "    <tr>\n",
       "      <th>4</th>\n",
       "      <td>Giza</td>\n",
       "      <td>28</td>\n",
       "      <td>32</td>\n",
       "    </tr>\n",
       "  </tbody>\n",
       "</table>\n",
       "</div>"
      ],
      "text/plain": [
       "              GOV  Today_TEMP  NextDay_TEMP\n",
       "0            Alex          32            37\n",
       "1  Kafr el sheikh          34            23\n",
       "2           Cairo          40            44\n",
       "3           Luxor          45            31\n",
       "4           Sinai          42            32\n",
       "0          Assiut          12            33\n",
       "1        Portsaid          24            23\n",
       "2            Suez          30            41\n",
       "3         Matrouh          25            31\n",
       "4            Giza          28            32"
      ]
     },
     "execution_count": 141,
     "metadata": {},
     "output_type": "execute_result"
    }
   ],
   "source": [
    "#Appending Way\n",
    "dic_df= pd.concat([dic_1_df,dic_2_df])\n",
    "dic_df      "
   ]
  },
  {
   "cell_type": "code",
   "execution_count": 142,
   "metadata": {
    "colab": {
     "background_save": true,
     "base_uri": "https://localhost:8080/"
    },
    "id": "EOFbfHW255Et",
    "outputId": "3485e807-df30-4307-c8e8-6cc2d612e9ec"
   },
   "outputs": [
    {
     "data": {
      "text/html": [
       "<div>\n",
       "<style scoped>\n",
       "    .dataframe tbody tr th:only-of-type {\n",
       "        vertical-align: middle;\n",
       "    }\n",
       "\n",
       "    .dataframe tbody tr th {\n",
       "        vertical-align: top;\n",
       "    }\n",
       "\n",
       "    .dataframe thead th {\n",
       "        text-align: right;\n",
       "    }\n",
       "</style>\n",
       "<table border=\"1\" class=\"dataframe\">\n",
       "  <thead>\n",
       "    <tr style=\"text-align: right;\">\n",
       "      <th></th>\n",
       "      <th>GOV</th>\n",
       "      <th>Today_TEMP</th>\n",
       "      <th>NextDay_TEMP</th>\n",
       "      <th>GOV</th>\n",
       "      <th>Today_TEMP</th>\n",
       "      <th>NextDay_TEMP</th>\n",
       "    </tr>\n",
       "  </thead>\n",
       "  <tbody>\n",
       "    <tr>\n",
       "      <th>0</th>\n",
       "      <td>Alex</td>\n",
       "      <td>32</td>\n",
       "      <td>37</td>\n",
       "      <td>Assiut</td>\n",
       "      <td>12</td>\n",
       "      <td>33</td>\n",
       "    </tr>\n",
       "    <tr>\n",
       "      <th>1</th>\n",
       "      <td>Kafr el sheikh</td>\n",
       "      <td>34</td>\n",
       "      <td>23</td>\n",
       "      <td>Portsaid</td>\n",
       "      <td>24</td>\n",
       "      <td>23</td>\n",
       "    </tr>\n",
       "    <tr>\n",
       "      <th>2</th>\n",
       "      <td>Cairo</td>\n",
       "      <td>40</td>\n",
       "      <td>44</td>\n",
       "      <td>Suez</td>\n",
       "      <td>30</td>\n",
       "      <td>41</td>\n",
       "    </tr>\n",
       "    <tr>\n",
       "      <th>3</th>\n",
       "      <td>Luxor</td>\n",
       "      <td>45</td>\n",
       "      <td>31</td>\n",
       "      <td>Matrouh</td>\n",
       "      <td>25</td>\n",
       "      <td>31</td>\n",
       "    </tr>\n",
       "    <tr>\n",
       "      <th>4</th>\n",
       "      <td>Sinai</td>\n",
       "      <td>42</td>\n",
       "      <td>32</td>\n",
       "      <td>Giza</td>\n",
       "      <td>28</td>\n",
       "      <td>32</td>\n",
       "    </tr>\n",
       "  </tbody>\n",
       "</table>\n",
       "</div>"
      ],
      "text/plain": [
       "              GOV  Today_TEMP  NextDay_TEMP       GOV  Today_TEMP  \\\n",
       "0            Alex          32            37    Assiut          12   \n",
       "1  Kafr el sheikh          34            23  Portsaid          24   \n",
       "2           Cairo          40            44      Suez          30   \n",
       "3           Luxor          45            31   Matrouh          25   \n",
       "4           Sinai          42            32      Giza          28   \n",
       "\n",
       "   NextDay_TEMP  \n",
       "0            33  \n",
       "1            23  \n",
       "2            41  \n",
       "3            31  \n",
       "4            32  "
      ]
     },
     "execution_count": 142,
     "metadata": {},
     "output_type": "execute_result"
    }
   ],
   "source": [
    "#Concatination Way\n",
    "#We add axis in concat \n",
    "dic_df_2=pd.concat([dic_1_df,dic_2_df],axis=1) \n",
    "dic_df_2"
   ]
  },
  {
   "cell_type": "code",
   "execution_count": 143,
   "metadata": {
    "colab": {
     "background_save": true,
     "base_uri": "https://localhost:8080/"
    },
    "id": "_aAcBbpIHMYZ",
    "outputId": "877ed83f-c510-42e0-e515-b6f53a1f6bed"
   },
   "outputs": [
    {
     "data": {
      "text/html": [
       "<div>\n",
       "<style scoped>\n",
       "    .dataframe tbody tr th:only-of-type {\n",
       "        vertical-align: middle;\n",
       "    }\n",
       "\n",
       "    .dataframe tbody tr th {\n",
       "        vertical-align: top;\n",
       "    }\n",
       "\n",
       "    .dataframe thead th {\n",
       "        text-align: right;\n",
       "    }\n",
       "</style>\n",
       "<table border=\"1\" class=\"dataframe\">\n",
       "  <thead>\n",
       "    <tr style=\"text-align: right;\">\n",
       "      <th></th>\n",
       "      <th>GOV</th>\n",
       "      <th>Today_TEMP</th>\n",
       "      <th>NextDay_TEMP</th>\n",
       "    </tr>\n",
       "  </thead>\n",
       "  <tbody>\n",
       "    <tr>\n",
       "      <th>0</th>\n",
       "      <td>Alex</td>\n",
       "      <td>32</td>\n",
       "      <td>37</td>\n",
       "    </tr>\n",
       "    <tr>\n",
       "      <th>1</th>\n",
       "      <td>Kafr el sheikh</td>\n",
       "      <td>34</td>\n",
       "      <td>23</td>\n",
       "    </tr>\n",
       "    <tr>\n",
       "      <th>2</th>\n",
       "      <td>Cairo</td>\n",
       "      <td>40</td>\n",
       "      <td>44</td>\n",
       "    </tr>\n",
       "    <tr>\n",
       "      <th>3</th>\n",
       "      <td>Luxor</td>\n",
       "      <td>45</td>\n",
       "      <td>31</td>\n",
       "    </tr>\n",
       "    <tr>\n",
       "      <th>4</th>\n",
       "      <td>Sinai</td>\n",
       "      <td>42</td>\n",
       "      <td>32</td>\n",
       "    </tr>\n",
       "  </tbody>\n",
       "</table>\n",
       "</div>"
      ],
      "text/plain": [
       "              GOV  Today_TEMP  NextDay_TEMP\n",
       "0            Alex          32            37\n",
       "1  Kafr el sheikh          34            23\n",
       "2           Cairo          40            44\n",
       "3           Luxor          45            31\n",
       "4           Sinai          42            32"
      ]
     },
     "execution_count": 143,
     "metadata": {},
     "output_type": "execute_result"
    }
   ],
   "source": [
    "dic_1_df"
   ]
  },
  {
   "cell_type": "code",
   "execution_count": 144,
   "metadata": {
    "colab": {
     "background_save": true,
     "base_uri": "https://localhost:8080/"
    },
    "id": "0k06Sl2cHMSJ",
    "outputId": "64a56fbc-0299-4d90-f220-41dec0e0ff32",
    "scrolled": true
   },
   "outputs": [
    {
     "data": {
      "text/html": [
       "<div>\n",
       "<style scoped>\n",
       "    .dataframe tbody tr th:only-of-type {\n",
       "        vertical-align: middle;\n",
       "    }\n",
       "\n",
       "    .dataframe tbody tr th {\n",
       "        vertical-align: top;\n",
       "    }\n",
       "\n",
       "    .dataframe thead th {\n",
       "        text-align: right;\n",
       "    }\n",
       "</style>\n",
       "<table border=\"1\" class=\"dataframe\">\n",
       "  <thead>\n",
       "    <tr style=\"text-align: right;\">\n",
       "      <th></th>\n",
       "      <th>GOV</th>\n",
       "      <th>Today_TEMP</th>\n",
       "      <th>NextDay_TEMP</th>\n",
       "    </tr>\n",
       "  </thead>\n",
       "  <tbody>\n",
       "    <tr>\n",
       "      <th>0</th>\n",
       "      <td>Assiut</td>\n",
       "      <td>12</td>\n",
       "      <td>33</td>\n",
       "    </tr>\n",
       "    <tr>\n",
       "      <th>1</th>\n",
       "      <td>Portsaid</td>\n",
       "      <td>24</td>\n",
       "      <td>23</td>\n",
       "    </tr>\n",
       "    <tr>\n",
       "      <th>2</th>\n",
       "      <td>Suez</td>\n",
       "      <td>30</td>\n",
       "      <td>41</td>\n",
       "    </tr>\n",
       "    <tr>\n",
       "      <th>3</th>\n",
       "      <td>Matrouh</td>\n",
       "      <td>25</td>\n",
       "      <td>31</td>\n",
       "    </tr>\n",
       "    <tr>\n",
       "      <th>4</th>\n",
       "      <td>Giza</td>\n",
       "      <td>28</td>\n",
       "      <td>32</td>\n",
       "    </tr>\n",
       "  </tbody>\n",
       "</table>\n",
       "</div>"
      ],
      "text/plain": [
       "        GOV  Today_TEMP  NextDay_TEMP\n",
       "0    Assiut          12            33\n",
       "1  Portsaid          24            23\n",
       "2      Suez          30            41\n",
       "3   Matrouh          25            31\n",
       "4      Giza          28            32"
      ]
     },
     "execution_count": 144,
     "metadata": {},
     "output_type": "execute_result"
    }
   ],
   "source": [
    "dic_2_df"
   ]
  },
  {
   "cell_type": "code",
   "execution_count": 145,
   "metadata": {
    "colab": {
     "background_save": true,
     "base_uri": "https://localhost:8080/"
    },
    "id": "4GTTV1eHHMLk",
    "outputId": "9bf8edb8-f4f5-44c6-9922-fba53ee8bebd"
   },
   "outputs": [
    {
     "data": {
      "text/html": [
       "<div>\n",
       "<style scoped>\n",
       "    .dataframe tbody tr th:only-of-type {\n",
       "        vertical-align: middle;\n",
       "    }\n",
       "\n",
       "    .dataframe tbody tr th {\n",
       "        vertical-align: top;\n",
       "    }\n",
       "\n",
       "    .dataframe thead th {\n",
       "        text-align: right;\n",
       "    }\n",
       "</style>\n",
       "<table border=\"1\" class=\"dataframe\">\n",
       "  <thead>\n",
       "    <tr style=\"text-align: right;\">\n",
       "      <th></th>\n",
       "      <th>GOV_x</th>\n",
       "      <th>Today_TEMP_x</th>\n",
       "      <th>NextDay_TEMP</th>\n",
       "      <th>GOV_y</th>\n",
       "      <th>Today_TEMP_y</th>\n",
       "    </tr>\n",
       "  </thead>\n",
       "  <tbody>\n",
       "    <tr>\n",
       "      <th>0</th>\n",
       "      <td>Kafr el sheikh</td>\n",
       "      <td>34</td>\n",
       "      <td>23</td>\n",
       "      <td>Portsaid</td>\n",
       "      <td>24</td>\n",
       "    </tr>\n",
       "    <tr>\n",
       "      <th>1</th>\n",
       "      <td>Luxor</td>\n",
       "      <td>45</td>\n",
       "      <td>31</td>\n",
       "      <td>Matrouh</td>\n",
       "      <td>25</td>\n",
       "    </tr>\n",
       "    <tr>\n",
       "      <th>2</th>\n",
       "      <td>Sinai</td>\n",
       "      <td>42</td>\n",
       "      <td>32</td>\n",
       "      <td>Giza</td>\n",
       "      <td>28</td>\n",
       "    </tr>\n",
       "  </tbody>\n",
       "</table>\n",
       "</div>"
      ],
      "text/plain": [
       "            GOV_x  Today_TEMP_x  NextDay_TEMP     GOV_y  Today_TEMP_y\n",
       "0  Kafr el sheikh            34            23  Portsaid            24\n",
       "1           Luxor            45            31   Matrouh            25\n",
       "2           Sinai            42            32      Giza            28"
      ]
     },
     "execution_count": 145,
     "metadata": {},
     "output_type": "execute_result"
    }
   ],
   "source": [
    "#Inner Merging (Intersection)\n",
    "merg_1 = pd.merge(dic_1_df,dic_2_df,how='inner',on='NextDay_TEMP')\n",
    "merg_1"
   ]
  },
  {
   "cell_type": "code",
   "execution_count": 146,
   "metadata": {
    "colab": {
     "background_save": true,
     "base_uri": "https://localhost:8080/"
    },
    "id": "YBDE5YoxHMFx",
    "outputId": "11a50c51-8f6f-4bb1-a88b-f5db48e61168",
    "scrolled": true
   },
   "outputs": [
    {
     "data": {
      "text/html": [
       "<div>\n",
       "<style scoped>\n",
       "    .dataframe tbody tr th:only-of-type {\n",
       "        vertical-align: middle;\n",
       "    }\n",
       "\n",
       "    .dataframe tbody tr th {\n",
       "        vertical-align: top;\n",
       "    }\n",
       "\n",
       "    .dataframe thead th {\n",
       "        text-align: right;\n",
       "    }\n",
       "</style>\n",
       "<table border=\"1\" class=\"dataframe\">\n",
       "  <thead>\n",
       "    <tr style=\"text-align: right;\">\n",
       "      <th></th>\n",
       "      <th>GOV_x</th>\n",
       "      <th>Today_TEMP_x</th>\n",
       "      <th>NextDay_TEMP</th>\n",
       "      <th>GOV_y</th>\n",
       "      <th>Today_TEMP_y</th>\n",
       "    </tr>\n",
       "  </thead>\n",
       "  <tbody>\n",
       "    <tr>\n",
       "      <th>0</th>\n",
       "      <td>Kafr el sheikh</td>\n",
       "      <td>34.0</td>\n",
       "      <td>23</td>\n",
       "      <td>Portsaid</td>\n",
       "      <td>24.0</td>\n",
       "    </tr>\n",
       "    <tr>\n",
       "      <th>1</th>\n",
       "      <td>Luxor</td>\n",
       "      <td>45.0</td>\n",
       "      <td>31</td>\n",
       "      <td>Matrouh</td>\n",
       "      <td>25.0</td>\n",
       "    </tr>\n",
       "    <tr>\n",
       "      <th>2</th>\n",
       "      <td>Sinai</td>\n",
       "      <td>42.0</td>\n",
       "      <td>32</td>\n",
       "      <td>Giza</td>\n",
       "      <td>28.0</td>\n",
       "    </tr>\n",
       "    <tr>\n",
       "      <th>3</th>\n",
       "      <td>NaN</td>\n",
       "      <td>NaN</td>\n",
       "      <td>33</td>\n",
       "      <td>Assiut</td>\n",
       "      <td>12.0</td>\n",
       "    </tr>\n",
       "    <tr>\n",
       "      <th>4</th>\n",
       "      <td>Alex</td>\n",
       "      <td>32.0</td>\n",
       "      <td>37</td>\n",
       "      <td>NaN</td>\n",
       "      <td>NaN</td>\n",
       "    </tr>\n",
       "    <tr>\n",
       "      <th>5</th>\n",
       "      <td>NaN</td>\n",
       "      <td>NaN</td>\n",
       "      <td>41</td>\n",
       "      <td>Suez</td>\n",
       "      <td>30.0</td>\n",
       "    </tr>\n",
       "    <tr>\n",
       "      <th>6</th>\n",
       "      <td>Cairo</td>\n",
       "      <td>40.0</td>\n",
       "      <td>44</td>\n",
       "      <td>NaN</td>\n",
       "      <td>NaN</td>\n",
       "    </tr>\n",
       "  </tbody>\n",
       "</table>\n",
       "</div>"
      ],
      "text/plain": [
       "            GOV_x  Today_TEMP_x  NextDay_TEMP     GOV_y  Today_TEMP_y\n",
       "0  Kafr el sheikh          34.0            23  Portsaid          24.0\n",
       "1           Luxor          45.0            31   Matrouh          25.0\n",
       "2           Sinai          42.0            32      Giza          28.0\n",
       "3             NaN           NaN            33    Assiut          12.0\n",
       "4            Alex          32.0            37       NaN           NaN\n",
       "5             NaN           NaN            41      Suez          30.0\n",
       "6           Cairo          40.0            44       NaN           NaN"
      ]
     },
     "execution_count": 146,
     "metadata": {},
     "output_type": "execute_result"
    }
   ],
   "source": [
    "#Outer Merging (Union)\n",
    "merg_2 = pd.merge(dic_1_df,dic_2_df,how='outer',on='NextDay_TEMP')\n",
    "merg_2"
   ]
  },
  {
   "cell_type": "code",
   "execution_count": 148,
   "metadata": {
    "colab": {
     "background_save": true,
     "base_uri": "https://localhost:8080/"
    },
    "id": "kzAoX32kHLsn",
    "outputId": "66502fcc-f3b3-452e-8151-ec1b5efaa629"
   },
   "outputs": [
    {
     "data": {
      "text/html": [
       "<div>\n",
       "<style scoped>\n",
       "    .dataframe tbody tr th:only-of-type {\n",
       "        vertical-align: middle;\n",
       "    }\n",
       "\n",
       "    .dataframe tbody tr th {\n",
       "        vertical-align: top;\n",
       "    }\n",
       "\n",
       "    .dataframe thead th {\n",
       "        text-align: right;\n",
       "    }\n",
       "</style>\n",
       "<table border=\"1\" class=\"dataframe\">\n",
       "  <thead>\n",
       "    <tr style=\"text-align: right;\">\n",
       "      <th></th>\n",
       "      <th>GOV</th>\n",
       "      <th>Today_TEMP</th>\n",
       "      <th>NextDay_TEMP</th>\n",
       "    </tr>\n",
       "  </thead>\n",
       "  <tbody>\n",
       "    <tr>\n",
       "      <th>0</th>\n",
       "      <td>Alex</td>\n",
       "      <td>32</td>\n",
       "      <td>37</td>\n",
       "    </tr>\n",
       "    <tr>\n",
       "      <th>1</th>\n",
       "      <td>Assiut</td>\n",
       "      <td>12</td>\n",
       "      <td>33</td>\n",
       "    </tr>\n",
       "    <tr>\n",
       "      <th>2</th>\n",
       "      <td>Cairo</td>\n",
       "      <td>40</td>\n",
       "      <td>44</td>\n",
       "    </tr>\n",
       "    <tr>\n",
       "      <th>3</th>\n",
       "      <td>Giza</td>\n",
       "      <td>28</td>\n",
       "      <td>32</td>\n",
       "    </tr>\n",
       "    <tr>\n",
       "      <th>4</th>\n",
       "      <td>Kafr el sheikh</td>\n",
       "      <td>34</td>\n",
       "      <td>23</td>\n",
       "    </tr>\n",
       "    <tr>\n",
       "      <th>5</th>\n",
       "      <td>Luxor</td>\n",
       "      <td>45</td>\n",
       "      <td>31</td>\n",
       "    </tr>\n",
       "    <tr>\n",
       "      <th>6</th>\n",
       "      <td>Matrouh</td>\n",
       "      <td>25</td>\n",
       "      <td>31</td>\n",
       "    </tr>\n",
       "    <tr>\n",
       "      <th>7</th>\n",
       "      <td>Portsaid</td>\n",
       "      <td>24</td>\n",
       "      <td>23</td>\n",
       "    </tr>\n",
       "    <tr>\n",
       "      <th>8</th>\n",
       "      <td>Sinai</td>\n",
       "      <td>42</td>\n",
       "      <td>32</td>\n",
       "    </tr>\n",
       "    <tr>\n",
       "      <th>9</th>\n",
       "      <td>Suez</td>\n",
       "      <td>30</td>\n",
       "      <td>41</td>\n",
       "    </tr>\n",
       "  </tbody>\n",
       "</table>\n",
       "</div>"
      ],
      "text/plain": [
       "              GOV  Today_TEMP  NextDay_TEMP\n",
       "0            Alex          32            37\n",
       "1          Assiut          12            33\n",
       "2           Cairo          40            44\n",
       "3            Giza          28            32\n",
       "4  Kafr el sheikh          34            23\n",
       "5           Luxor          45            31\n",
       "6         Matrouh          25            31\n",
       "7        Portsaid          24            23\n",
       "8           Sinai          42            32\n",
       "9            Suez          30            41"
      ]
     },
     "execution_count": 148,
     "metadata": {},
     "output_type": "execute_result"
    }
   ],
   "source": [
    "#Outer Merging (Union) act as Append without on parameter\n",
    "merg_3 = pd.merge(dic_1_df,dic_2_df,how='outer')\n",
    "merg_3"
   ]
  },
  {
   "cell_type": "markdown",
   "metadata": {
    "id": "iGkvP9D7kSCG"
   },
   "source": [
    "<a id='accessFile'></a>\n",
    "\n",
    "## Access and operate on files in pandas dataframe :"
   ]
  },
  {
   "cell_type": "code",
   "execution_count": 149,
   "metadata": {
    "colab": {
     "background_save": true
    },
    "id": "P372WXznovun"
   },
   "outputs": [],
   "source": [
    "file__ = pd.read_csv('Housing.csv')"
   ]
  },
  {
   "cell_type": "code",
   "execution_count": 150,
   "metadata": {
    "colab": {
     "background_save": true,
     "base_uri": "https://localhost:8080/"
    },
    "id": "Oxt1TOQUpIOt",
    "outputId": "20f14550-d9d6-4df9-d98e-d7f3c06da710"
   },
   "outputs": [
    {
     "name": "stdout",
     "output_type": "stream",
     "text": [
      "<class 'pandas.core.frame.DataFrame'>\n",
      "RangeIndex: 545 entries, 0 to 544\n",
      "Data columns (total 13 columns):\n",
      " #   Column            Non-Null Count  Dtype \n",
      "---  ------            --------------  ----- \n",
      " 0   price             545 non-null    int64 \n",
      " 1   area              545 non-null    int64 \n",
      " 2   bedrooms          545 non-null    int64 \n",
      " 3   bathrooms         545 non-null    int64 \n",
      " 4   stories           545 non-null    int64 \n",
      " 5   mainroad          545 non-null    object\n",
      " 6   guestroom         545 non-null    object\n",
      " 7   basement          545 non-null    object\n",
      " 8   hotwaterheating   545 non-null    object\n",
      " 9   airconditioning   545 non-null    object\n",
      " 10  parking           545 non-null    int64 \n",
      " 11  prefarea          545 non-null    object\n",
      " 12  furnishingstatus  545 non-null    object\n",
      "dtypes: int64(6), object(7)\n",
      "memory usage: 55.5+ KB\n"
     ]
    }
   ],
   "source": [
    "#getting information about dataset \n",
    "file__.info()"
   ]
  },
  {
   "cell_type": "code",
   "execution_count": 151,
   "metadata": {
    "colab": {
     "background_save": true,
     "base_uri": "https://localhost:8080/",
     "height": 317
    },
    "id": "DlkQVfF6qve5",
    "outputId": "9a8f5515-71bc-4533-fe19-66920f173287"
   },
   "outputs": [
    {
     "data": {
      "text/html": [
       "<div>\n",
       "<style scoped>\n",
       "    .dataframe tbody tr th:only-of-type {\n",
       "        vertical-align: middle;\n",
       "    }\n",
       "\n",
       "    .dataframe tbody tr th {\n",
       "        vertical-align: top;\n",
       "    }\n",
       "\n",
       "    .dataframe thead th {\n",
       "        text-align: right;\n",
       "    }\n",
       "</style>\n",
       "<table border=\"1\" class=\"dataframe\">\n",
       "  <thead>\n",
       "    <tr style=\"text-align: right;\">\n",
       "      <th></th>\n",
       "      <th>price</th>\n",
       "      <th>area</th>\n",
       "      <th>bedrooms</th>\n",
       "      <th>bathrooms</th>\n",
       "      <th>stories</th>\n",
       "      <th>parking</th>\n",
       "    </tr>\n",
       "  </thead>\n",
       "  <tbody>\n",
       "    <tr>\n",
       "      <th>count</th>\n",
       "      <td>5.450000e+02</td>\n",
       "      <td>545.000000</td>\n",
       "      <td>545.000000</td>\n",
       "      <td>545.000000</td>\n",
       "      <td>545.000000</td>\n",
       "      <td>545.000000</td>\n",
       "    </tr>\n",
       "    <tr>\n",
       "      <th>mean</th>\n",
       "      <td>4.766729e+06</td>\n",
       "      <td>5150.541284</td>\n",
       "      <td>2.965138</td>\n",
       "      <td>1.286239</td>\n",
       "      <td>1.805505</td>\n",
       "      <td>0.693578</td>\n",
       "    </tr>\n",
       "    <tr>\n",
       "      <th>std</th>\n",
       "      <td>1.870440e+06</td>\n",
       "      <td>2170.141023</td>\n",
       "      <td>0.738064</td>\n",
       "      <td>0.502470</td>\n",
       "      <td>0.867492</td>\n",
       "      <td>0.861586</td>\n",
       "    </tr>\n",
       "    <tr>\n",
       "      <th>min</th>\n",
       "      <td>1.750000e+06</td>\n",
       "      <td>1650.000000</td>\n",
       "      <td>1.000000</td>\n",
       "      <td>1.000000</td>\n",
       "      <td>1.000000</td>\n",
       "      <td>0.000000</td>\n",
       "    </tr>\n",
       "    <tr>\n",
       "      <th>25%</th>\n",
       "      <td>3.430000e+06</td>\n",
       "      <td>3600.000000</td>\n",
       "      <td>2.000000</td>\n",
       "      <td>1.000000</td>\n",
       "      <td>1.000000</td>\n",
       "      <td>0.000000</td>\n",
       "    </tr>\n",
       "    <tr>\n",
       "      <th>50%</th>\n",
       "      <td>4.340000e+06</td>\n",
       "      <td>4600.000000</td>\n",
       "      <td>3.000000</td>\n",
       "      <td>1.000000</td>\n",
       "      <td>2.000000</td>\n",
       "      <td>0.000000</td>\n",
       "    </tr>\n",
       "    <tr>\n",
       "      <th>75%</th>\n",
       "      <td>5.740000e+06</td>\n",
       "      <td>6360.000000</td>\n",
       "      <td>3.000000</td>\n",
       "      <td>2.000000</td>\n",
       "      <td>2.000000</td>\n",
       "      <td>1.000000</td>\n",
       "    </tr>\n",
       "    <tr>\n",
       "      <th>max</th>\n",
       "      <td>1.330000e+07</td>\n",
       "      <td>16200.000000</td>\n",
       "      <td>6.000000</td>\n",
       "      <td>4.000000</td>\n",
       "      <td>4.000000</td>\n",
       "      <td>3.000000</td>\n",
       "    </tr>\n",
       "  </tbody>\n",
       "</table>\n",
       "</div>"
      ],
      "text/plain": [
       "              price          area    bedrooms   bathrooms     stories  \\\n",
       "count  5.450000e+02    545.000000  545.000000  545.000000  545.000000   \n",
       "mean   4.766729e+06   5150.541284    2.965138    1.286239    1.805505   \n",
       "std    1.870440e+06   2170.141023    0.738064    0.502470    0.867492   \n",
       "min    1.750000e+06   1650.000000    1.000000    1.000000    1.000000   \n",
       "25%    3.430000e+06   3600.000000    2.000000    1.000000    1.000000   \n",
       "50%    4.340000e+06   4600.000000    3.000000    1.000000    2.000000   \n",
       "75%    5.740000e+06   6360.000000    3.000000    2.000000    2.000000   \n",
       "max    1.330000e+07  16200.000000    6.000000    4.000000    4.000000   \n",
       "\n",
       "          parking  \n",
       "count  545.000000  \n",
       "mean     0.693578  \n",
       "std      0.861586  \n",
       "min      0.000000  \n",
       "25%      0.000000  \n",
       "50%      0.000000  \n",
       "75%      1.000000  \n",
       "max      3.000000  "
      ]
     },
     "execution_count": 151,
     "metadata": {},
     "output_type": "execute_result"
    }
   ],
   "source": [
    "#getting statical information in dataset\n",
    "file__.describe() "
   ]
  },
  {
   "cell_type": "code",
   "execution_count": 154,
   "metadata": {
    "colab": {
     "background_save": true,
     "base_uri": "https://localhost:8080/",
     "height": 224
    },
    "id": "EFoMGHk9rCdU",
    "outputId": "30c0adf0-8b1d-416e-875b-bf14dd7cd09e"
   },
   "outputs": [
    {
     "data": {
      "text/html": [
       "<div>\n",
       "<style scoped>\n",
       "    .dataframe tbody tr th:only-of-type {\n",
       "        vertical-align: middle;\n",
       "    }\n",
       "\n",
       "    .dataframe tbody tr th {\n",
       "        vertical-align: top;\n",
       "    }\n",
       "\n",
       "    .dataframe thead th {\n",
       "        text-align: right;\n",
       "    }\n",
       "</style>\n",
       "<table border=\"1\" class=\"dataframe\">\n",
       "  <thead>\n",
       "    <tr style=\"text-align: right;\">\n",
       "      <th></th>\n",
       "      <th>price</th>\n",
       "      <th>area</th>\n",
       "      <th>bedrooms</th>\n",
       "      <th>bathrooms</th>\n",
       "      <th>stories</th>\n",
       "      <th>mainroad</th>\n",
       "      <th>guestroom</th>\n",
       "      <th>basement</th>\n",
       "      <th>hotwaterheating</th>\n",
       "      <th>airconditioning</th>\n",
       "      <th>parking</th>\n",
       "      <th>prefarea</th>\n",
       "      <th>furnishingstatus</th>\n",
       "    </tr>\n",
       "  </thead>\n",
       "  <tbody>\n",
       "    <tr>\n",
       "      <th>0</th>\n",
       "      <td>13300000</td>\n",
       "      <td>7420</td>\n",
       "      <td>4</td>\n",
       "      <td>2</td>\n",
       "      <td>3</td>\n",
       "      <td>yes</td>\n",
       "      <td>no</td>\n",
       "      <td>no</td>\n",
       "      <td>no</td>\n",
       "      <td>yes</td>\n",
       "      <td>2</td>\n",
       "      <td>yes</td>\n",
       "      <td>furnished</td>\n",
       "    </tr>\n",
       "    <tr>\n",
       "      <th>1</th>\n",
       "      <td>12250000</td>\n",
       "      <td>8960</td>\n",
       "      <td>4</td>\n",
       "      <td>4</td>\n",
       "      <td>4</td>\n",
       "      <td>yes</td>\n",
       "      <td>no</td>\n",
       "      <td>no</td>\n",
       "      <td>no</td>\n",
       "      <td>yes</td>\n",
       "      <td>3</td>\n",
       "      <td>no</td>\n",
       "      <td>furnished</td>\n",
       "    </tr>\n",
       "    <tr>\n",
       "      <th>2</th>\n",
       "      <td>12250000</td>\n",
       "      <td>9960</td>\n",
       "      <td>3</td>\n",
       "      <td>2</td>\n",
       "      <td>2</td>\n",
       "      <td>yes</td>\n",
       "      <td>no</td>\n",
       "      <td>yes</td>\n",
       "      <td>no</td>\n",
       "      <td>no</td>\n",
       "      <td>2</td>\n",
       "      <td>yes</td>\n",
       "      <td>semi-furnished</td>\n",
       "    </tr>\n",
       "    <tr>\n",
       "      <th>3</th>\n",
       "      <td>12215000</td>\n",
       "      <td>7500</td>\n",
       "      <td>4</td>\n",
       "      <td>2</td>\n",
       "      <td>2</td>\n",
       "      <td>yes</td>\n",
       "      <td>no</td>\n",
       "      <td>yes</td>\n",
       "      <td>no</td>\n",
       "      <td>yes</td>\n",
       "      <td>3</td>\n",
       "      <td>yes</td>\n",
       "      <td>furnished</td>\n",
       "    </tr>\n",
       "    <tr>\n",
       "      <th>4</th>\n",
       "      <td>11410000</td>\n",
       "      <td>7420</td>\n",
       "      <td>4</td>\n",
       "      <td>1</td>\n",
       "      <td>2</td>\n",
       "      <td>yes</td>\n",
       "      <td>yes</td>\n",
       "      <td>yes</td>\n",
       "      <td>no</td>\n",
       "      <td>yes</td>\n",
       "      <td>2</td>\n",
       "      <td>no</td>\n",
       "      <td>furnished</td>\n",
       "    </tr>\n",
       "  </tbody>\n",
       "</table>\n",
       "</div>"
      ],
      "text/plain": [
       "      price  area  bedrooms  bathrooms  stories mainroad guestroom basement  \\\n",
       "0  13300000  7420         4          2        3      yes        no       no   \n",
       "1  12250000  8960         4          4        4      yes        no       no   \n",
       "2  12250000  9960         3          2        2      yes        no      yes   \n",
       "3  12215000  7500         4          2        2      yes        no      yes   \n",
       "4  11410000  7420         4          1        2      yes       yes      yes   \n",
       "\n",
       "  hotwaterheating airconditioning  parking prefarea furnishingstatus  \n",
       "0              no             yes        2      yes        furnished  \n",
       "1              no             yes        3       no        furnished  \n",
       "2              no              no        2      yes   semi-furnished  \n",
       "3              no             yes        3      yes        furnished  \n",
       "4              no             yes        2       no        furnished  "
      ]
     },
     "execution_count": 154,
     "metadata": {},
     "output_type": "execute_result"
    }
   ],
   "source": [
    "#getting top 5 rows\n",
    "file__.head()"
   ]
  },
  {
   "cell_type": "code",
   "execution_count": 155,
   "metadata": {
    "colab": {
     "background_save": true,
     "base_uri": "https://localhost:8080/",
     "height": 379
    },
    "id": "v5KRKknQrR6w",
    "outputId": "dc1f80fd-4fdb-4540-9af8-7861b6081aae"
   },
   "outputs": [
    {
     "data": {
      "text/html": [
       "<div>\n",
       "<style scoped>\n",
       "    .dataframe tbody tr th:only-of-type {\n",
       "        vertical-align: middle;\n",
       "    }\n",
       "\n",
       "    .dataframe tbody tr th {\n",
       "        vertical-align: top;\n",
       "    }\n",
       "\n",
       "    .dataframe thead th {\n",
       "        text-align: right;\n",
       "    }\n",
       "</style>\n",
       "<table border=\"1\" class=\"dataframe\">\n",
       "  <thead>\n",
       "    <tr style=\"text-align: right;\">\n",
       "      <th></th>\n",
       "      <th>price</th>\n",
       "      <th>area</th>\n",
       "      <th>bedrooms</th>\n",
       "      <th>bathrooms</th>\n",
       "      <th>stories</th>\n",
       "      <th>mainroad</th>\n",
       "      <th>guestroom</th>\n",
       "      <th>basement</th>\n",
       "      <th>hotwaterheating</th>\n",
       "      <th>airconditioning</th>\n",
       "      <th>parking</th>\n",
       "      <th>prefarea</th>\n",
       "      <th>furnishingstatus</th>\n",
       "    </tr>\n",
       "  </thead>\n",
       "  <tbody>\n",
       "    <tr>\n",
       "      <th>0</th>\n",
       "      <td>13300000</td>\n",
       "      <td>7420</td>\n",
       "      <td>4</td>\n",
       "      <td>2</td>\n",
       "      <td>3</td>\n",
       "      <td>yes</td>\n",
       "      <td>no</td>\n",
       "      <td>no</td>\n",
       "      <td>no</td>\n",
       "      <td>yes</td>\n",
       "      <td>2</td>\n",
       "      <td>yes</td>\n",
       "      <td>furnished</td>\n",
       "    </tr>\n",
       "    <tr>\n",
       "      <th>1</th>\n",
       "      <td>12250000</td>\n",
       "      <td>8960</td>\n",
       "      <td>4</td>\n",
       "      <td>4</td>\n",
       "      <td>4</td>\n",
       "      <td>yes</td>\n",
       "      <td>no</td>\n",
       "      <td>no</td>\n",
       "      <td>no</td>\n",
       "      <td>yes</td>\n",
       "      <td>3</td>\n",
       "      <td>no</td>\n",
       "      <td>furnished</td>\n",
       "    </tr>\n",
       "    <tr>\n",
       "      <th>2</th>\n",
       "      <td>12250000</td>\n",
       "      <td>9960</td>\n",
       "      <td>3</td>\n",
       "      <td>2</td>\n",
       "      <td>2</td>\n",
       "      <td>yes</td>\n",
       "      <td>no</td>\n",
       "      <td>yes</td>\n",
       "      <td>no</td>\n",
       "      <td>no</td>\n",
       "      <td>2</td>\n",
       "      <td>yes</td>\n",
       "      <td>semi-furnished</td>\n",
       "    </tr>\n",
       "    <tr>\n",
       "      <th>3</th>\n",
       "      <td>12215000</td>\n",
       "      <td>7500</td>\n",
       "      <td>4</td>\n",
       "      <td>2</td>\n",
       "      <td>2</td>\n",
       "      <td>yes</td>\n",
       "      <td>no</td>\n",
       "      <td>yes</td>\n",
       "      <td>no</td>\n",
       "      <td>yes</td>\n",
       "      <td>3</td>\n",
       "      <td>yes</td>\n",
       "      <td>furnished</td>\n",
       "    </tr>\n",
       "    <tr>\n",
       "      <th>4</th>\n",
       "      <td>11410000</td>\n",
       "      <td>7420</td>\n",
       "      <td>4</td>\n",
       "      <td>1</td>\n",
       "      <td>2</td>\n",
       "      <td>yes</td>\n",
       "      <td>yes</td>\n",
       "      <td>yes</td>\n",
       "      <td>no</td>\n",
       "      <td>yes</td>\n",
       "      <td>2</td>\n",
       "      <td>no</td>\n",
       "      <td>furnished</td>\n",
       "    </tr>\n",
       "    <tr>\n",
       "      <th>5</th>\n",
       "      <td>10850000</td>\n",
       "      <td>7500</td>\n",
       "      <td>3</td>\n",
       "      <td>3</td>\n",
       "      <td>1</td>\n",
       "      <td>yes</td>\n",
       "      <td>no</td>\n",
       "      <td>yes</td>\n",
       "      <td>no</td>\n",
       "      <td>yes</td>\n",
       "      <td>2</td>\n",
       "      <td>yes</td>\n",
       "      <td>semi-furnished</td>\n",
       "    </tr>\n",
       "    <tr>\n",
       "      <th>6</th>\n",
       "      <td>10150000</td>\n",
       "      <td>8580</td>\n",
       "      <td>4</td>\n",
       "      <td>3</td>\n",
       "      <td>4</td>\n",
       "      <td>yes</td>\n",
       "      <td>no</td>\n",
       "      <td>no</td>\n",
       "      <td>no</td>\n",
       "      <td>yes</td>\n",
       "      <td>2</td>\n",
       "      <td>yes</td>\n",
       "      <td>semi-furnished</td>\n",
       "    </tr>\n",
       "    <tr>\n",
       "      <th>7</th>\n",
       "      <td>10150000</td>\n",
       "      <td>16200</td>\n",
       "      <td>5</td>\n",
       "      <td>3</td>\n",
       "      <td>2</td>\n",
       "      <td>yes</td>\n",
       "      <td>no</td>\n",
       "      <td>no</td>\n",
       "      <td>no</td>\n",
       "      <td>no</td>\n",
       "      <td>0</td>\n",
       "      <td>no</td>\n",
       "      <td>unfurnished</td>\n",
       "    </tr>\n",
       "    <tr>\n",
       "      <th>8</th>\n",
       "      <td>9870000</td>\n",
       "      <td>8100</td>\n",
       "      <td>4</td>\n",
       "      <td>1</td>\n",
       "      <td>2</td>\n",
       "      <td>yes</td>\n",
       "      <td>yes</td>\n",
       "      <td>yes</td>\n",
       "      <td>no</td>\n",
       "      <td>yes</td>\n",
       "      <td>2</td>\n",
       "      <td>yes</td>\n",
       "      <td>furnished</td>\n",
       "    </tr>\n",
       "    <tr>\n",
       "      <th>9</th>\n",
       "      <td>9800000</td>\n",
       "      <td>5750</td>\n",
       "      <td>3</td>\n",
       "      <td>2</td>\n",
       "      <td>4</td>\n",
       "      <td>yes</td>\n",
       "      <td>yes</td>\n",
       "      <td>no</td>\n",
       "      <td>no</td>\n",
       "      <td>yes</td>\n",
       "      <td>1</td>\n",
       "      <td>yes</td>\n",
       "      <td>unfurnished</td>\n",
       "    </tr>\n",
       "  </tbody>\n",
       "</table>\n",
       "</div>"
      ],
      "text/plain": [
       "      price   area  bedrooms  bathrooms  stories mainroad guestroom basement  \\\n",
       "0  13300000   7420         4          2        3      yes        no       no   \n",
       "1  12250000   8960         4          4        4      yes        no       no   \n",
       "2  12250000   9960         3          2        2      yes        no      yes   \n",
       "3  12215000   7500         4          2        2      yes        no      yes   \n",
       "4  11410000   7420         4          1        2      yes       yes      yes   \n",
       "5  10850000   7500         3          3        1      yes        no      yes   \n",
       "6  10150000   8580         4          3        4      yes        no       no   \n",
       "7  10150000  16200         5          3        2      yes        no       no   \n",
       "8   9870000   8100         4          1        2      yes       yes      yes   \n",
       "9   9800000   5750         3          2        4      yes       yes       no   \n",
       "\n",
       "  hotwaterheating airconditioning  parking prefarea furnishingstatus  \n",
       "0              no             yes        2      yes        furnished  \n",
       "1              no             yes        3       no        furnished  \n",
       "2              no              no        2      yes   semi-furnished  \n",
       "3              no             yes        3      yes        furnished  \n",
       "4              no             yes        2       no        furnished  \n",
       "5              no             yes        2      yes   semi-furnished  \n",
       "6              no             yes        2      yes   semi-furnished  \n",
       "7              no              no        0       no      unfurnished  \n",
       "8              no             yes        2      yes        furnished  \n",
       "9              no             yes        1      yes      unfurnished  "
      ]
     },
     "execution_count": 155,
     "metadata": {},
     "output_type": "execute_result"
    }
   ],
   "source": [
    "#getting top 10 rows\n",
    "file__.head(10)"
   ]
  },
  {
   "cell_type": "code",
   "execution_count": 156,
   "metadata": {
    "colab": {
     "background_save": true,
     "base_uri": "https://localhost:8080/",
     "height": 224
    },
    "id": "1mcJggTcrhGn",
    "outputId": "0e896f6a-a635-4783-b879-2fb3414d4144"
   },
   "outputs": [
    {
     "data": {
      "text/html": [
       "<div>\n",
       "<style scoped>\n",
       "    .dataframe tbody tr th:only-of-type {\n",
       "        vertical-align: middle;\n",
       "    }\n",
       "\n",
       "    .dataframe tbody tr th {\n",
       "        vertical-align: top;\n",
       "    }\n",
       "\n",
       "    .dataframe thead th {\n",
       "        text-align: right;\n",
       "    }\n",
       "</style>\n",
       "<table border=\"1\" class=\"dataframe\">\n",
       "  <thead>\n",
       "    <tr style=\"text-align: right;\">\n",
       "      <th></th>\n",
       "      <th>price</th>\n",
       "      <th>area</th>\n",
       "      <th>bedrooms</th>\n",
       "      <th>bathrooms</th>\n",
       "      <th>stories</th>\n",
       "      <th>mainroad</th>\n",
       "      <th>guestroom</th>\n",
       "      <th>basement</th>\n",
       "      <th>hotwaterheating</th>\n",
       "      <th>airconditioning</th>\n",
       "      <th>parking</th>\n",
       "      <th>prefarea</th>\n",
       "      <th>furnishingstatus</th>\n",
       "    </tr>\n",
       "  </thead>\n",
       "  <tbody>\n",
       "    <tr>\n",
       "      <th>540</th>\n",
       "      <td>1820000</td>\n",
       "      <td>3000</td>\n",
       "      <td>2</td>\n",
       "      <td>1</td>\n",
       "      <td>1</td>\n",
       "      <td>yes</td>\n",
       "      <td>no</td>\n",
       "      <td>yes</td>\n",
       "      <td>no</td>\n",
       "      <td>no</td>\n",
       "      <td>2</td>\n",
       "      <td>no</td>\n",
       "      <td>unfurnished</td>\n",
       "    </tr>\n",
       "    <tr>\n",
       "      <th>541</th>\n",
       "      <td>1767150</td>\n",
       "      <td>2400</td>\n",
       "      <td>3</td>\n",
       "      <td>1</td>\n",
       "      <td>1</td>\n",
       "      <td>no</td>\n",
       "      <td>no</td>\n",
       "      <td>no</td>\n",
       "      <td>no</td>\n",
       "      <td>no</td>\n",
       "      <td>0</td>\n",
       "      <td>no</td>\n",
       "      <td>semi-furnished</td>\n",
       "    </tr>\n",
       "    <tr>\n",
       "      <th>542</th>\n",
       "      <td>1750000</td>\n",
       "      <td>3620</td>\n",
       "      <td>2</td>\n",
       "      <td>1</td>\n",
       "      <td>1</td>\n",
       "      <td>yes</td>\n",
       "      <td>no</td>\n",
       "      <td>no</td>\n",
       "      <td>no</td>\n",
       "      <td>no</td>\n",
       "      <td>0</td>\n",
       "      <td>no</td>\n",
       "      <td>unfurnished</td>\n",
       "    </tr>\n",
       "    <tr>\n",
       "      <th>543</th>\n",
       "      <td>1750000</td>\n",
       "      <td>2910</td>\n",
       "      <td>3</td>\n",
       "      <td>1</td>\n",
       "      <td>1</td>\n",
       "      <td>no</td>\n",
       "      <td>no</td>\n",
       "      <td>no</td>\n",
       "      <td>no</td>\n",
       "      <td>no</td>\n",
       "      <td>0</td>\n",
       "      <td>no</td>\n",
       "      <td>furnished</td>\n",
       "    </tr>\n",
       "    <tr>\n",
       "      <th>544</th>\n",
       "      <td>1750000</td>\n",
       "      <td>3850</td>\n",
       "      <td>3</td>\n",
       "      <td>1</td>\n",
       "      <td>2</td>\n",
       "      <td>yes</td>\n",
       "      <td>no</td>\n",
       "      <td>no</td>\n",
       "      <td>no</td>\n",
       "      <td>no</td>\n",
       "      <td>0</td>\n",
       "      <td>no</td>\n",
       "      <td>unfurnished</td>\n",
       "    </tr>\n",
       "  </tbody>\n",
       "</table>\n",
       "</div>"
      ],
      "text/plain": [
       "       price  area  bedrooms  bathrooms  stories mainroad guestroom basement  \\\n",
       "540  1820000  3000         2          1        1      yes        no      yes   \n",
       "541  1767150  2400         3          1        1       no        no       no   \n",
       "542  1750000  3620         2          1        1      yes        no       no   \n",
       "543  1750000  2910         3          1        1       no        no       no   \n",
       "544  1750000  3850         3          1        2      yes        no       no   \n",
       "\n",
       "    hotwaterheating airconditioning  parking prefarea furnishingstatus  \n",
       "540              no              no        2       no      unfurnished  \n",
       "541              no              no        0       no   semi-furnished  \n",
       "542              no              no        0       no      unfurnished  \n",
       "543              no              no        0       no        furnished  \n",
       "544              no              no        0       no      unfurnished  "
      ]
     },
     "execution_count": 156,
     "metadata": {},
     "output_type": "execute_result"
    }
   ],
   "source": [
    "#getting last 5 rows\n",
    "file__.tail()"
   ]
  },
  {
   "cell_type": "code",
   "execution_count": 157,
   "metadata": {
    "colab": {
     "background_save": true,
     "base_uri": "https://localhost:8080/",
     "height": 379
    },
    "id": "ScKhEzf5royk",
    "outputId": "004b9789-4fbc-429a-f567-27ecd8b3a199"
   },
   "outputs": [
    {
     "data": {
      "text/html": [
       "<div>\n",
       "<style scoped>\n",
       "    .dataframe tbody tr th:only-of-type {\n",
       "        vertical-align: middle;\n",
       "    }\n",
       "\n",
       "    .dataframe tbody tr th {\n",
       "        vertical-align: top;\n",
       "    }\n",
       "\n",
       "    .dataframe thead th {\n",
       "        text-align: right;\n",
       "    }\n",
       "</style>\n",
       "<table border=\"1\" class=\"dataframe\">\n",
       "  <thead>\n",
       "    <tr style=\"text-align: right;\">\n",
       "      <th></th>\n",
       "      <th>price</th>\n",
       "      <th>area</th>\n",
       "      <th>bedrooms</th>\n",
       "      <th>bathrooms</th>\n",
       "      <th>stories</th>\n",
       "      <th>mainroad</th>\n",
       "      <th>guestroom</th>\n",
       "      <th>basement</th>\n",
       "      <th>hotwaterheating</th>\n",
       "      <th>airconditioning</th>\n",
       "      <th>parking</th>\n",
       "      <th>prefarea</th>\n",
       "      <th>furnishingstatus</th>\n",
       "    </tr>\n",
       "  </thead>\n",
       "  <tbody>\n",
       "    <tr>\n",
       "      <th>535</th>\n",
       "      <td>2100000</td>\n",
       "      <td>3360</td>\n",
       "      <td>2</td>\n",
       "      <td>1</td>\n",
       "      <td>1</td>\n",
       "      <td>yes</td>\n",
       "      <td>no</td>\n",
       "      <td>no</td>\n",
       "      <td>no</td>\n",
       "      <td>no</td>\n",
       "      <td>1</td>\n",
       "      <td>no</td>\n",
       "      <td>unfurnished</td>\n",
       "    </tr>\n",
       "    <tr>\n",
       "      <th>536</th>\n",
       "      <td>1960000</td>\n",
       "      <td>3420</td>\n",
       "      <td>5</td>\n",
       "      <td>1</td>\n",
       "      <td>2</td>\n",
       "      <td>no</td>\n",
       "      <td>no</td>\n",
       "      <td>no</td>\n",
       "      <td>no</td>\n",
       "      <td>no</td>\n",
       "      <td>0</td>\n",
       "      <td>no</td>\n",
       "      <td>unfurnished</td>\n",
       "    </tr>\n",
       "    <tr>\n",
       "      <th>537</th>\n",
       "      <td>1890000</td>\n",
       "      <td>1700</td>\n",
       "      <td>3</td>\n",
       "      <td>1</td>\n",
       "      <td>2</td>\n",
       "      <td>yes</td>\n",
       "      <td>no</td>\n",
       "      <td>no</td>\n",
       "      <td>no</td>\n",
       "      <td>no</td>\n",
       "      <td>0</td>\n",
       "      <td>no</td>\n",
       "      <td>unfurnished</td>\n",
       "    </tr>\n",
       "    <tr>\n",
       "      <th>538</th>\n",
       "      <td>1890000</td>\n",
       "      <td>3649</td>\n",
       "      <td>2</td>\n",
       "      <td>1</td>\n",
       "      <td>1</td>\n",
       "      <td>yes</td>\n",
       "      <td>no</td>\n",
       "      <td>no</td>\n",
       "      <td>no</td>\n",
       "      <td>no</td>\n",
       "      <td>0</td>\n",
       "      <td>no</td>\n",
       "      <td>unfurnished</td>\n",
       "    </tr>\n",
       "    <tr>\n",
       "      <th>539</th>\n",
       "      <td>1855000</td>\n",
       "      <td>2990</td>\n",
       "      <td>2</td>\n",
       "      <td>1</td>\n",
       "      <td>1</td>\n",
       "      <td>no</td>\n",
       "      <td>no</td>\n",
       "      <td>no</td>\n",
       "      <td>no</td>\n",
       "      <td>no</td>\n",
       "      <td>1</td>\n",
       "      <td>no</td>\n",
       "      <td>unfurnished</td>\n",
       "    </tr>\n",
       "    <tr>\n",
       "      <th>540</th>\n",
       "      <td>1820000</td>\n",
       "      <td>3000</td>\n",
       "      <td>2</td>\n",
       "      <td>1</td>\n",
       "      <td>1</td>\n",
       "      <td>yes</td>\n",
       "      <td>no</td>\n",
       "      <td>yes</td>\n",
       "      <td>no</td>\n",
       "      <td>no</td>\n",
       "      <td>2</td>\n",
       "      <td>no</td>\n",
       "      <td>unfurnished</td>\n",
       "    </tr>\n",
       "    <tr>\n",
       "      <th>541</th>\n",
       "      <td>1767150</td>\n",
       "      <td>2400</td>\n",
       "      <td>3</td>\n",
       "      <td>1</td>\n",
       "      <td>1</td>\n",
       "      <td>no</td>\n",
       "      <td>no</td>\n",
       "      <td>no</td>\n",
       "      <td>no</td>\n",
       "      <td>no</td>\n",
       "      <td>0</td>\n",
       "      <td>no</td>\n",
       "      <td>semi-furnished</td>\n",
       "    </tr>\n",
       "    <tr>\n",
       "      <th>542</th>\n",
       "      <td>1750000</td>\n",
       "      <td>3620</td>\n",
       "      <td>2</td>\n",
       "      <td>1</td>\n",
       "      <td>1</td>\n",
       "      <td>yes</td>\n",
       "      <td>no</td>\n",
       "      <td>no</td>\n",
       "      <td>no</td>\n",
       "      <td>no</td>\n",
       "      <td>0</td>\n",
       "      <td>no</td>\n",
       "      <td>unfurnished</td>\n",
       "    </tr>\n",
       "    <tr>\n",
       "      <th>543</th>\n",
       "      <td>1750000</td>\n",
       "      <td>2910</td>\n",
       "      <td>3</td>\n",
       "      <td>1</td>\n",
       "      <td>1</td>\n",
       "      <td>no</td>\n",
       "      <td>no</td>\n",
       "      <td>no</td>\n",
       "      <td>no</td>\n",
       "      <td>no</td>\n",
       "      <td>0</td>\n",
       "      <td>no</td>\n",
       "      <td>furnished</td>\n",
       "    </tr>\n",
       "    <tr>\n",
       "      <th>544</th>\n",
       "      <td>1750000</td>\n",
       "      <td>3850</td>\n",
       "      <td>3</td>\n",
       "      <td>1</td>\n",
       "      <td>2</td>\n",
       "      <td>yes</td>\n",
       "      <td>no</td>\n",
       "      <td>no</td>\n",
       "      <td>no</td>\n",
       "      <td>no</td>\n",
       "      <td>0</td>\n",
       "      <td>no</td>\n",
       "      <td>unfurnished</td>\n",
       "    </tr>\n",
       "  </tbody>\n",
       "</table>\n",
       "</div>"
      ],
      "text/plain": [
       "       price  area  bedrooms  bathrooms  stories mainroad guestroom basement  \\\n",
       "535  2100000  3360         2          1        1      yes        no       no   \n",
       "536  1960000  3420         5          1        2       no        no       no   \n",
       "537  1890000  1700         3          1        2      yes        no       no   \n",
       "538  1890000  3649         2          1        1      yes        no       no   \n",
       "539  1855000  2990         2          1        1       no        no       no   \n",
       "540  1820000  3000         2          1        1      yes        no      yes   \n",
       "541  1767150  2400         3          1        1       no        no       no   \n",
       "542  1750000  3620         2          1        1      yes        no       no   \n",
       "543  1750000  2910         3          1        1       no        no       no   \n",
       "544  1750000  3850         3          1        2      yes        no       no   \n",
       "\n",
       "    hotwaterheating airconditioning  parking prefarea furnishingstatus  \n",
       "535              no              no        1       no      unfurnished  \n",
       "536              no              no        0       no      unfurnished  \n",
       "537              no              no        0       no      unfurnished  \n",
       "538              no              no        0       no      unfurnished  \n",
       "539              no              no        1       no      unfurnished  \n",
       "540              no              no        2       no      unfurnished  \n",
       "541              no              no        0       no   semi-furnished  \n",
       "542              no              no        0       no      unfurnished  \n",
       "543              no              no        0       no        furnished  \n",
       "544              no              no        0       no      unfurnished  "
      ]
     },
     "execution_count": 157,
     "metadata": {},
     "output_type": "execute_result"
    }
   ],
   "source": [
    "#getting last 10 rows\n",
    "file__.tail(10)"
   ]
  },
  {
   "cell_type": "code",
   "execution_count": 160,
   "metadata": {
    "colab": {
     "background_save": true,
     "base_uri": "https://localhost:8080/",
     "height": 100
    },
    "id": "a0fBdmg0rxfb",
    "outputId": "71c5dffb-5149-47eb-a3ee-3337dd59611e"
   },
   "outputs": [
    {
     "data": {
      "text/html": [
       "<div>\n",
       "<style scoped>\n",
       "    .dataframe tbody tr th:only-of-type {\n",
       "        vertical-align: middle;\n",
       "    }\n",
       "\n",
       "    .dataframe tbody tr th {\n",
       "        vertical-align: top;\n",
       "    }\n",
       "\n",
       "    .dataframe thead th {\n",
       "        text-align: right;\n",
       "    }\n",
       "</style>\n",
       "<table border=\"1\" class=\"dataframe\">\n",
       "  <thead>\n",
       "    <tr style=\"text-align: right;\">\n",
       "      <th></th>\n",
       "      <th>price</th>\n",
       "      <th>area</th>\n",
       "      <th>bedrooms</th>\n",
       "      <th>bathrooms</th>\n",
       "      <th>stories</th>\n",
       "      <th>mainroad</th>\n",
       "      <th>guestroom</th>\n",
       "      <th>basement</th>\n",
       "      <th>hotwaterheating</th>\n",
       "      <th>airconditioning</th>\n",
       "      <th>parking</th>\n",
       "      <th>prefarea</th>\n",
       "      <th>furnishingstatus</th>\n",
       "    </tr>\n",
       "  </thead>\n",
       "  <tbody>\n",
       "    <tr>\n",
       "      <th>330</th>\n",
       "      <td>3990000</td>\n",
       "      <td>4050</td>\n",
       "      <td>2</td>\n",
       "      <td>1</td>\n",
       "      <td>2</td>\n",
       "      <td>yes</td>\n",
       "      <td>yes</td>\n",
       "      <td>yes</td>\n",
       "      <td>no</td>\n",
       "      <td>no</td>\n",
       "      <td>0</td>\n",
       "      <td>yes</td>\n",
       "      <td>unfurnished</td>\n",
       "    </tr>\n",
       "  </tbody>\n",
       "</table>\n",
       "</div>"
      ],
      "text/plain": [
       "       price  area  bedrooms  bathrooms  stories mainroad guestroom basement  \\\n",
       "330  3990000  4050         2          1        2      yes       yes      yes   \n",
       "\n",
       "    hotwaterheating airconditioning  parking prefarea furnishingstatus  \n",
       "330              no              no        0      yes      unfurnished  "
      ]
     },
     "execution_count": 160,
     "metadata": {},
     "output_type": "execute_result"
    }
   ],
   "source": [
    "#getting a sample row\n",
    "file__.sample()"
   ]
  },
  {
   "cell_type": "code",
   "execution_count": 161,
   "metadata": {
    "colab": {
     "background_save": true,
     "base_uri": "https://localhost:8080/",
     "height": 224
    },
    "id": "9SrNbCGwswXL",
    "outputId": "440dc528-71c7-4092-9d52-8ea484ddf01b"
   },
   "outputs": [
    {
     "data": {
      "text/html": [
       "<div>\n",
       "<style scoped>\n",
       "    .dataframe tbody tr th:only-of-type {\n",
       "        vertical-align: middle;\n",
       "    }\n",
       "\n",
       "    .dataframe tbody tr th {\n",
       "        vertical-align: top;\n",
       "    }\n",
       "\n",
       "    .dataframe thead th {\n",
       "        text-align: right;\n",
       "    }\n",
       "</style>\n",
       "<table border=\"1\" class=\"dataframe\">\n",
       "  <thead>\n",
       "    <tr style=\"text-align: right;\">\n",
       "      <th></th>\n",
       "      <th>price</th>\n",
       "      <th>area</th>\n",
       "      <th>bedrooms</th>\n",
       "      <th>bathrooms</th>\n",
       "      <th>stories</th>\n",
       "      <th>mainroad</th>\n",
       "      <th>guestroom</th>\n",
       "      <th>basement</th>\n",
       "      <th>hotwaterheating</th>\n",
       "      <th>airconditioning</th>\n",
       "      <th>parking</th>\n",
       "      <th>prefarea</th>\n",
       "      <th>furnishingstatus</th>\n",
       "    </tr>\n",
       "  </thead>\n",
       "  <tbody>\n",
       "    <tr>\n",
       "      <th>152</th>\n",
       "      <td>5565000</td>\n",
       "      <td>5400</td>\n",
       "      <td>5</td>\n",
       "      <td>1</td>\n",
       "      <td>2</td>\n",
       "      <td>yes</td>\n",
       "      <td>yes</td>\n",
       "      <td>yes</td>\n",
       "      <td>no</td>\n",
       "      <td>yes</td>\n",
       "      <td>0</td>\n",
       "      <td>yes</td>\n",
       "      <td>furnished</td>\n",
       "    </tr>\n",
       "    <tr>\n",
       "      <th>346</th>\n",
       "      <td>3850000</td>\n",
       "      <td>2176</td>\n",
       "      <td>2</td>\n",
       "      <td>1</td>\n",
       "      <td>2</td>\n",
       "      <td>yes</td>\n",
       "      <td>yes</td>\n",
       "      <td>no</td>\n",
       "      <td>no</td>\n",
       "      <td>no</td>\n",
       "      <td>0</td>\n",
       "      <td>yes</td>\n",
       "      <td>semi-furnished</td>\n",
       "    </tr>\n",
       "    <tr>\n",
       "      <th>368</th>\n",
       "      <td>3675000</td>\n",
       "      <td>5640</td>\n",
       "      <td>2</td>\n",
       "      <td>1</td>\n",
       "      <td>1</td>\n",
       "      <td>no</td>\n",
       "      <td>no</td>\n",
       "      <td>no</td>\n",
       "      <td>no</td>\n",
       "      <td>no</td>\n",
       "      <td>0</td>\n",
       "      <td>no</td>\n",
       "      <td>semi-furnished</td>\n",
       "    </tr>\n",
       "    <tr>\n",
       "      <th>480</th>\n",
       "      <td>2940000</td>\n",
       "      <td>3480</td>\n",
       "      <td>3</td>\n",
       "      <td>1</td>\n",
       "      <td>2</td>\n",
       "      <td>no</td>\n",
       "      <td>no</td>\n",
       "      <td>no</td>\n",
       "      <td>no</td>\n",
       "      <td>no</td>\n",
       "      <td>1</td>\n",
       "      <td>no</td>\n",
       "      <td>semi-furnished</td>\n",
       "    </tr>\n",
       "    <tr>\n",
       "      <th>109</th>\n",
       "      <td>6090000</td>\n",
       "      <td>6615</td>\n",
       "      <td>4</td>\n",
       "      <td>2</td>\n",
       "      <td>2</td>\n",
       "      <td>yes</td>\n",
       "      <td>yes</td>\n",
       "      <td>no</td>\n",
       "      <td>yes</td>\n",
       "      <td>no</td>\n",
       "      <td>1</td>\n",
       "      <td>no</td>\n",
       "      <td>semi-furnished</td>\n",
       "    </tr>\n",
       "  </tbody>\n",
       "</table>\n",
       "</div>"
      ],
      "text/plain": [
       "       price  area  bedrooms  bathrooms  stories mainroad guestroom basement  \\\n",
       "152  5565000  5400         5          1        2      yes       yes      yes   \n",
       "346  3850000  2176         2          1        2      yes       yes       no   \n",
       "368  3675000  5640         2          1        1       no        no       no   \n",
       "480  2940000  3480         3          1        2       no        no       no   \n",
       "109  6090000  6615         4          2        2      yes       yes       no   \n",
       "\n",
       "    hotwaterheating airconditioning  parking prefarea furnishingstatus  \n",
       "152              no             yes        0      yes        furnished  \n",
       "346              no              no        0      yes   semi-furnished  \n",
       "368              no              no        0       no   semi-furnished  \n",
       "480              no              no        1       no   semi-furnished  \n",
       "109             yes              no        1       no   semi-furnished  "
      ]
     },
     "execution_count": 161,
     "metadata": {},
     "output_type": "execute_result"
    }
   ],
   "source": [
    "#getting 5 samples rows\n",
    "file__.sample(5)"
   ]
  },
  {
   "cell_type": "code",
   "execution_count": 162,
   "metadata": {
    "colab": {
     "background_save": true,
     "base_uri": "https://localhost:8080/"
    },
    "id": "pBZ8KIQos2nI",
    "outputId": "57ad40a8-bd5d-483c-e719-61bff9bd7bd0"
   },
   "outputs": [
    {
     "data": {
      "text/plain": [
       "Index(['price', 'area', 'bedrooms', 'bathrooms', 'stories', 'mainroad',\n",
       "       'guestroom', 'basement', 'hotwaterheating', 'airconditioning',\n",
       "       'parking', 'prefarea', 'furnishingstatus'],\n",
       "      dtype='object')"
      ]
     },
     "execution_count": 162,
     "metadata": {},
     "output_type": "execute_result"
    }
   ],
   "source": [
    "file__.columns"
   ]
  },
  {
   "cell_type": "code",
   "execution_count": 163,
   "metadata": {
    "colab": {
     "background_save": true,
     "base_uri": "https://localhost:8080/"
    },
    "id": "bgPTK3iIvI0C",
    "outputId": "ab183ed2-35dd-466a-9f0d-dc566db98e40"
   },
   "outputs": [
    {
     "data": {
      "text/plain": [
       "RangeIndex(start=0, stop=545, step=1)"
      ]
     },
     "execution_count": 163,
     "metadata": {},
     "output_type": "execute_result"
    }
   ],
   "source": [
    "file__.index"
   ]
  },
  {
   "cell_type": "code",
   "execution_count": 164,
   "metadata": {
    "colab": {
     "background_save": true,
     "base_uri": "https://localhost:8080/"
    },
    "id": "DY7KdUMSvPVE",
    "outputId": "b9e85d38-dcba-4c11-9a7f-b4846a861721"
   },
   "outputs": [
    {
     "data": {
      "text/plain": [
       "array([[13300000, 7420, 4, ..., 2, 'yes', 'furnished'],\n",
       "       [12250000, 8960, 4, ..., 3, 'no', 'furnished'],\n",
       "       [12250000, 9960, 3, ..., 2, 'yes', 'semi-furnished'],\n",
       "       ...,\n",
       "       [1750000, 3620, 2, ..., 0, 'no', 'unfurnished'],\n",
       "       [1750000, 2910, 3, ..., 0, 'no', 'furnished'],\n",
       "       [1750000, 3850, 3, ..., 0, 'no', 'unfurnished']], dtype=object)"
      ]
     },
     "execution_count": 164,
     "metadata": {},
     "output_type": "execute_result"
    }
   ],
   "source": [
    "file__.values"
   ]
  },
  {
   "cell_type": "code",
   "execution_count": 165,
   "metadata": {
    "colab": {
     "background_save": true,
     "base_uri": "https://localhost:8080/"
    },
    "id": "KCyCZ6Jd9kz-",
    "outputId": "13268bc7-a191-4531-aa33-2b9936604519"
   },
   "outputs": [
    {
     "data": {
      "text/plain": [
       "price                int64\n",
       "area                 int64\n",
       "bedrooms             int64\n",
       "bathrooms            int64\n",
       "stories              int64\n",
       "mainroad            object\n",
       "guestroom           object\n",
       "basement            object\n",
       "hotwaterheating     object\n",
       "airconditioning     object\n",
       "parking              int64\n",
       "prefarea            object\n",
       "furnishingstatus    object\n",
       "dtype: object"
      ]
     },
     "execution_count": 165,
     "metadata": {},
     "output_type": "execute_result"
    }
   ],
   "source": [
    "file__.dtypes"
   ]
  },
  {
   "cell_type": "markdown",
   "metadata": {
    "id": "6vR6VKkxt0fb"
   },
   "source": [
    "In Pandas you can read more than type using following commnads: \n",
    "\n",
    "read_json()\n",
    "\n",
    "read_html()\n",
    "\n",
    "read_sql()\n",
    "\n",
    "read_pickle()\n",
    "\n",
    "read_csv()\n",
    "\n",
    "read_excel()\n",
    "\n",
    "read_parquet()\n",
    "\n",
    "read_hdf()\n",
    "\n",
    "read_feather()\n",
    "\n",
    "read_stata()\n",
    "\n",
    "read_sas()\n",
    "\n",
    "read_spss()\n",
    "\n"
   ]
  },
  {
   "cell_type": "markdown",
   "metadata": {},
   "source": [
    "We will explain them leter"
   ]
  }
 ],
 "metadata": {
  "colab": {
   "collapsed_sections": [
    "J-sHGTA_qq6-",
    "5X-qAWJmwurK",
    "HWNKB7Qb2M8T",
    "2BI0GygdTNuS",
    "X5z_ZxOmVzwE",
    "hrXCJt7z51if"
   ],
   "name": "IEEE___Pandas___.ipynb",
   "provenance": []
  },
  "kernelspec": {
   "display_name": "base",
   "language": "python",
   "name": "python3"
  },
  "language_info": {
   "codemirror_mode": {
    "name": "ipython",
    "version": 3
   },
   "file_extension": ".py",
   "mimetype": "text/x-python",
   "name": "python",
   "nbconvert_exporter": "python",
   "pygments_lexer": "ipython3",
   "version": "3.12.7"
  }
 },
 "nbformat": 4,
 "nbformat_minor": 1
}
