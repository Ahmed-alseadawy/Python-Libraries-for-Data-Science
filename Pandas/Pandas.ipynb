{
 "cells": [
  {
   "cell_type": "markdown",
   "metadata": {
    "id": "J-sHGTA_qq6-"
   },
   "source": [
    "# **Pandas Library :-**\n",
    "\n",
    "> Pandas is library kit for the Python programming language that can help manipulate data tables and enhance the selection of data or filtering and sorting or data cleaning so pandas can be very powerful for data analysis.  Pandas may be useful in the design of certain machine learning and neural network projects or other major innovations where the Python programming language plays a role. Common tasks attributed to Pandas include converting a Python list, dictionary or array to a Pandas data frame, as well as utilizing database files linked to a JSON or CSV web file.\n",
    "\n",
    "# **The Main Component in Pandas :** \n",
    "\n",
    ">    1.   Pandas Series.\n",
    ">    2.   Pandas Dataframe.\n",
    "  \n",
    "\n",
    "\n",
    "\n",
    "\n",
    "---\n",
    "\n",
    "\n",
    "\n",
    "---\n",
    "\n",
    "\n",
    "\n"
   ]
  },
  {
   "cell_type": "markdown",
   "metadata": {},
   "source": [
    "- [1.Pandas Series](#series)\n",
    "- [Operations in pandas series](#opSeries)\n",
    "- [2.Pandas dataFrame](#dataframe)\n",
    "- [Operations in pandas dataframe](#opdf)\n",
    "- [Operations in pandas dataframe2](#opdf2)\n",
    "- [Access and operate on files in pandas dataframe](#accessFile)\n",
    "\n",
    " \n",
    "\n",
    "\n"
   ]
  },
  {
   "cell_type": "markdown",
   "metadata": {},
   "source": [
    "<h3>What Can Pandas Do?</h3>\n",
    "Pandas gives you answers about the data. Like:\n",
    "\n",
    "Is there a correlation between two or more columns?\n",
    "What is average value?\n",
    "Max value?\n",
    "Min value?\n",
    "Pandas are also able to delete rows that are not relevant, or contains wrong values, like empty or NULL values. This is called <b>cleaning the data."
   ]
  },
  {
   "cell_type": "code",
   "execution_count": 2,
   "metadata": {},
   "outputs": [
    {
     "name": "stdout",
     "output_type": "stream",
     "text": [
      "Requirement already satisfied: pandas in c:\\users\\dell\\anaconda3\\lib\\site-packages (1.2.4)\n",
      "Requirement already satisfied: python-dateutil>=2.7.3 in c:\\users\\dell\\anaconda3\\lib\\site-packages (from pandas) (2.8.1)\n",
      "Requirement already satisfied: numpy>=1.16.5 in c:\\users\\dell\\anaconda3\\lib\\site-packages (from pandas) (1.20.1)\n",
      "Requirement already satisfied: pytz>=2017.3 in c:\\users\\dell\\anaconda3\\lib\\site-packages (from pandas) (2021.1)\n",
      "Requirement already satisfied: six>=1.5 in c:\\users\\dell\\anaconda3\\lib\\site-packages (from python-dateutil>=2.7.3->pandas) (1.15.0)\n"
     ]
    }
   ],
   "source": [
    "#installing pandas\n",
    "!pip install pandas"
   ]
  },
  {
   "cell_type": "code",
   "execution_count": 1,
   "metadata": {},
   "outputs": [],
   "source": [
    "#importing the library \n",
    "import pandas as pd"
   ]
  },
  {
   "cell_type": "code",
   "execution_count": 2,
   "metadata": {},
   "outputs": [
    {
     "name": "stdout",
     "output_type": "stream",
     "text": [
      "1.4.4\n"
     ]
    }
   ],
   "source": [
    "print(pd.__version__)"
   ]
  },
  {
   "cell_type": "markdown",
   "metadata": {
    "id": "fDg_cFzZoJns"
   },
   "source": [
    "<a id='series'></a>\n",
    "# **1.Pandas Series** \n",
    "\n",
    "\n",
    "> One-dimensional labeled array capable of holding data of any type (integer, string, float, etc.). The axis labels are collectively called index. Pandas Series is nothing but a column in an excel sheet or feature vector in data set.\n"
   ]
  },
  {
   "cell_type": "code",
   "execution_count": 37,
   "metadata": {
    "id": "VNb7kMQOqhFj"
   },
   "outputs": [],
   "source": [
    "#Importing Libraries\n",
    "import pandas as pd\n",
    "import numpy as np"
   ]
  },
  {
   "cell_type": "markdown",
   "metadata": {
    "id": "5VKXWGLBwL-7"
   },
   "source": [
    "## The ways to build pandas series : \n",
    "\n",
    "\n",
    "\n",
    "\n",
    "\n",
    "\n"
   ]
  },
  {
   "cell_type": "code",
   "execution_count": 5,
   "metadata": {
    "id": "cQGmv27V1NP6"
   },
   "outputs": [],
   "source": [
    "#Creating pandas series from list\n",
    "data_list = [10,20,30]"
   ]
  },
  {
   "cell_type": "code",
   "execution_count": 6,
   "metadata": {
    "colab": {
     "base_uri": "https://localhost:8080/"
    },
    "id": "_q3o3tup1WST",
    "outputId": "17314044-233e-4087-9173-ff0a69c71a68"
   },
   "outputs": [
    {
     "data": {
      "text/plain": [
       "[10, 20, 30]"
      ]
     },
     "execution_count": 6,
     "metadata": {},
     "output_type": "execute_result"
    }
   ],
   "source": [
    "data_list"
   ]
  },
  {
   "cell_type": "code",
   "execution_count": 7,
   "metadata": {
    "colab": {
     "base_uri": "https://localhost:8080/"
    },
    "id": "N4E-MuHJ1RA7",
    "outputId": "9a19bb3d-6e0c-4fc4-aff3-9d01b86aebad"
   },
   "outputs": [
    {
     "data": {
      "text/plain": [
       "0    10\n",
       "1    20\n",
       "2    30\n",
       "dtype: int64"
      ]
     },
     "execution_count": 7,
     "metadata": {},
     "output_type": "execute_result"
    }
   ],
   "source": [
    "pd.Series(data_list)"
   ]
  },
  {
   "cell_type": "code",
   "execution_count": 8,
   "metadata": {
    "id": "cxqUUgBRqd7g"
   },
   "outputs": [],
   "source": [
    "#Creating pandas series from list with index\n",
    "indx__ = ['fr','sc','th'] \n",
    "data_list = [10,20,30]"
   ]
  },
  {
   "cell_type": "code",
   "execution_count": 9,
   "metadata": {
    "colab": {
     "base_uri": "https://localhost:8080/"
    },
    "id": "6p5ucB9MoJDA",
    "outputId": "358fc5ea-f2fa-4ed5-a21f-27082a7962ca"
   },
   "outputs": [
    {
     "data": {
      "text/plain": [
       "['fr', 'sc', 'th']"
      ]
     },
     "execution_count": 9,
     "metadata": {},
     "output_type": "execute_result"
    }
   ],
   "source": [
    "indx__"
   ]
  },
  {
   "cell_type": "code",
   "execution_count": 10,
   "metadata": {
    "colab": {
     "base_uri": "https://localhost:8080/"
    },
    "id": "ace8j1FJ0RCW",
    "outputId": "278de5dc-cabf-4b5e-f512-a156a6e46b33"
   },
   "outputs": [
    {
     "data": {
      "text/plain": [
       "fr    10\n",
       "sc    20\n",
       "th    30\n",
       "dtype: int64"
      ]
     },
     "execution_count": 10,
     "metadata": {},
     "output_type": "execute_result"
    }
   ],
   "source": [
    "pd.Series(data=data_list , index=indx__)"
   ]
  },
  {
   "cell_type": "code",
   "execution_count": 11,
   "metadata": {
    "id": "6M4oYv4o1nv8"
   },
   "outputs": [],
   "source": [
    "#Creating pandas series from dictionary\n",
    "dic = {'A':111, 'B':222,'C':333 ,'D':444 }"
   ]
  },
  {
   "cell_type": "code",
   "execution_count": 12,
   "metadata": {
    "colab": {
     "base_uri": "https://localhost:8080/"
    },
    "id": "429g4VMY16D8",
    "outputId": "b5aa4dad-108a-4452-fb03-15ecd7fd3ce4"
   },
   "outputs": [
    {
     "data": {
      "text/plain": [
       "{'A': 111, 'B': 222, 'C': 333, 'D': 444}"
      ]
     },
     "execution_count": 12,
     "metadata": {},
     "output_type": "execute_result"
    }
   ],
   "source": [
    "dic"
   ]
  },
  {
   "cell_type": "code",
   "execution_count": 13,
   "metadata": {
    "colab": {
     "base_uri": "https://localhost:8080/"
    },
    "id": "XaKnJgGS18v2",
    "outputId": "524716fe-a9a5-43fd-c492-9fbdc6465504"
   },
   "outputs": [
    {
     "data": {
      "text/plain": [
       "A    111\n",
       "B    222\n",
       "C    333\n",
       "D    444\n",
       "dtype: int64"
      ]
     },
     "execution_count": 13,
     "metadata": {},
     "output_type": "execute_result"
    }
   ],
   "source": [
    "pd.Series(dic)"
   ]
  },
  {
   "cell_type": "code",
   "execution_count": 14,
   "metadata": {
    "colab": {
     "base_uri": "https://localhost:8080/"
    },
    "id": "adzvkkFh2HPI",
    "outputId": "6fb3da1c-5df1-46b1-c605-e72846f48b2e"
   },
   "outputs": [
    {
     "data": {
      "text/plain": [
       "A    111\n",
       "B    222\n",
       "C    333\n",
       "D    444\n",
       "dtype: int64"
      ]
     },
     "execution_count": 14,
     "metadata": {},
     "output_type": "execute_result"
    }
   ],
   "source": [
    "#Anthor way\n",
    "pd.Series(data=list(dic.values()), index = list(dic.keys()))"
   ]
  },
  {
   "cell_type": "code",
   "execution_count": 15,
   "metadata": {
    "id": "livornf1pwEV"
   },
   "outputs": [],
   "source": [
    "#Creating pandas series from numpy array \n",
    "arr = np.arange(1,11,2)"
   ]
  },
  {
   "cell_type": "code",
   "execution_count": 16,
   "metadata": {
    "colab": {
     "base_uri": "https://localhost:8080/"
    },
    "id": "Q_CORDP93LPK",
    "outputId": "dc12ae66-f1bf-4f03-aba1-7e0d7fa06b89"
   },
   "outputs": [
    {
     "data": {
      "text/plain": [
       "A    1\n",
       "B    3\n",
       "C    5\n",
       "D    7\n",
       "E    9\n",
       "dtype: int32"
      ]
     },
     "execution_count": 16,
     "metadata": {},
     "output_type": "execute_result"
    }
   ],
   "source": [
    "pd.Series(arr,index= ['A','B','C','D','E'])   "
   ]
  },
  {
   "cell_type": "markdown",
   "metadata": {
    "id": "5X-qAWJmwurK"
   },
   "source": [
    "<a id='opSeries'></a>\n",
    "## Operations in pandas series : \n",
    "\n",
    "\n"
   ]
  },
  {
   "cell_type": "code",
   "execution_count": 3,
   "metadata": {
    "colab": {
     "base_uri": "https://localhost:8080/"
    },
    "id": "-vL6McBx4G68",
    "outputId": "1fc64d83-68a3-4394-a310-7e1ed54413af"
   },
   "outputs": [
    {
     "data": {
      "text/plain": "Alex              32\nKafr el sheikh    34\nCairo             40\nLuxor             45\nSinai             42\ndtype: int64"
     },
     "execution_count": 3,
     "metadata": {},
     "output_type": "execute_result"
    }
   ],
   "source": [
    "ser_1 = pd.Series([32,34,40,45,42],index=['Alex','Kafr el sheikh','Cairo','Luxor','Sinai'])\n",
    "ser_1"
   ]
  },
  {
   "cell_type": "code",
   "execution_count": 4,
   "metadata": {
    "colab": {
     "base_uri": "https://localhost:8080/"
    },
    "id": "dym7j_zH4Qyy",
    "outputId": "cfd2a214-ec5e-42b9-9b10-1f07e869b16a"
   },
   "outputs": [
    {
     "data": {
      "text/plain": "Index(['Alex', 'Kafr el sheikh', 'Cairo', 'Luxor', 'Sinai'], dtype='object')"
     },
     "execution_count": 4,
     "metadata": {},
     "output_type": "execute_result"
    }
   ],
   "source": [
    "#getting the indexs in series\n",
    "ser_1.index"
   ]
  },
  {
   "cell_type": "code",
   "execution_count": 5,
   "outputs": [
    {
     "data": {
      "text/plain": "Index(['Alex', 'Kafr el sheikh', 'Cairo', 'Luxor', 'Sinai'], dtype='object')"
     },
     "execution_count": 5,
     "metadata": {},
     "output_type": "execute_result"
    }
   ],
   "source": [
    "ser_1.keys()"
   ],
   "metadata": {
    "collapsed": false
   }
  },
  {
   "cell_type": "code",
   "execution_count": null,
   "outputs": [],
   "source": [],
   "metadata": {
    "collapsed": false
   }
  },
  {
   "cell_type": "code",
   "execution_count": 19,
   "metadata": {
    "colab": {
     "base_uri": "https://localhost:8080/"
    },
    "id": "66pvQE9a460K",
    "outputId": "66cc846a-7a31-4c0a-87f4-2e56483d3d16"
   },
   "outputs": [
    {
     "data": {
      "text/plain": [
       "array([32, 34, 40, 45, 42], dtype=int64)"
      ]
     },
     "execution_count": 19,
     "metadata": {},
     "output_type": "execute_result"
    }
   ],
   "source": [
    "#getting the values in series\n",
    "ser_1.values"
   ]
  },
  {
   "cell_type": "code",
   "execution_count": 20,
   "metadata": {
    "colab": {
     "base_uri": "https://localhost:8080/"
    },
    "id": "s0FV3rXJ4cIO",
    "outputId": "78978cd9-4e3e-4e3b-a7cf-7046843378d8"
   },
   "outputs": [
    {
     "data": {
      "text/plain": [
       "193"
      ]
     },
     "execution_count": 20,
     "metadata": {},
     "output_type": "execute_result"
    }
   ],
   "source": [
    "#getting the sum of all numbers in series\n",
    "ser_1.sum()"
   ]
  },
  {
   "cell_type": "code",
   "execution_count": 21,
   "metadata": {
    "colab": {
     "base_uri": "https://localhost:8080/"
    },
    "id": "GEzj_RNM4oV6",
    "outputId": "2cea64a9-3dfc-4cd8-cf29-ee528bb5b3f2"
   },
   "outputs": [
    {
     "data": {
      "text/plain": [
       "38.6"
      ]
     },
     "execution_count": 21,
     "metadata": {},
     "output_type": "execute_result"
    }
   ],
   "source": [
    "#getting the average of all numbers in series\n",
    "ser_1.mean()"
   ]
  },
  {
   "cell_type": "code",
   "execution_count": 22,
   "metadata": {
    "colab": {
     "base_uri": "https://localhost:8080/"
    },
    "id": "FEXUt8YL4vMF",
    "outputId": "e928ae6c-e2ea-4bff-a0d7-602aa0ca3cd6"
   },
   "outputs": [
    {
     "data": {
      "text/plain": [
       "40.0"
      ]
     },
     "execution_count": 22,
     "metadata": {},
     "output_type": "execute_result"
    }
   ],
   "source": [
    "#getting the median of all numbers in series\n",
    "ser_1.median()"
   ]
  },
  {
   "cell_type": "code",
   "execution_count": 23,
   "metadata": {
    "colab": {
     "base_uri": "https://localhost:8080/"
    },
    "id": "TH-6Xi0q5H6J",
    "outputId": "3867b94e-aba4-41bc-ac87-471512dc9678"
   },
   "outputs": [
    {
     "data": {
      "text/plain": [
       "45"
      ]
     },
     "execution_count": 23,
     "metadata": {},
     "output_type": "execute_result"
    }
   ],
   "source": [
    "ser_1.max()"
   ]
  },
  {
   "cell_type": "code",
   "execution_count": 24,
   "metadata": {
    "colab": {
     "base_uri": "https://localhost:8080/"
    },
    "id": "eisJoSfJ5JIx",
    "outputId": "19e53861-f012-45bd-ded5-00a8cffd3f8f"
   },
   "outputs": [
    {
     "data": {
      "text/plain": [
       "32"
      ]
     },
     "execution_count": 24,
     "metadata": {},
     "output_type": "execute_result"
    }
   ],
   "source": [
    "ser_1.min()"
   ]
  },
  {
   "cell_type": "code",
   "execution_count": 25,
   "metadata": {
    "colab": {
     "base_uri": "https://localhost:8080/"
    },
    "id": "oOq7rBv55eYP",
    "outputId": "18fe39e3-947b-481f-9db5-87f25c0c7c1d"
   },
   "outputs": [
    {
     "data": {
      "text/plain": [
       "Quena              36\n",
       "Port Said          33\n",
       "Dahab              40\n",
       "Assiuit            45\n",
       "Sharm el sheikh    29\n",
       "dtype: int64"
      ]
     },
     "execution_count": 25,
     "metadata": {},
     "output_type": "execute_result"
    }
   ],
   "source": [
    "ser_2 = pd.Series([36,33,40,45,29],['Quena','Port Said','Dahab','Assiuit','Sharm el sheikh'])\n",
    "ser_2"
   ]
  },
  {
   "cell_type": "code",
   "execution_count": 26,
   "metadata": {
    "colab": {
     "base_uri": "https://localhost:8080/"
    },
    "id": "z5IscISr5uoa",
    "outputId": "54dd4363-24e9-4c30-b3fb-15972e4178cc"
   },
   "outputs": [
    {
     "data": {
      "text/plain": [
       "Alex               32\n",
       "Kafr el sheikh     34\n",
       "Cairo              40\n",
       "Luxor              45\n",
       "Sinai              42\n",
       "Quena              36\n",
       "Port Said          33\n",
       "Dahab              40\n",
       "Assiuit            45\n",
       "Sharm el sheikh    29\n",
       "dtype: int64"
      ]
     },
     "execution_count": 26,
     "metadata": {},
     "output_type": "execute_result"
    }
   ],
   "source": [
    "ser_1.append(ser_2)"
   ]
  },
  {
   "cell_type": "code",
   "execution_count": 27,
   "metadata": {
    "colab": {
     "base_uri": "https://localhost:8080/"
    },
    "id": "jhCsLF2eupBQ",
    "outputId": "732b09a4-da02-4a1d-b3a4-f58faaa4149b"
   },
   "outputs": [
    {
     "data": {
      "text/plain": [
       "<AxesSubplot:>"
      ]
     },
     "execution_count": 27,
     "metadata": {},
     "output_type": "execute_result"
    },
    {
     "data": {
      "image/png": "[encoded data removed]",
      "text/plain": [
       "<Figure size 432x288 with 1 Axes>"
      ]
     },
     "metadata": {
      "needs_background": "light"
     },
     "output_type": "display_data"
    }
   ],
   "source": [
    "#Ploting with Pandas \n",
    "Data = pd.Series([11,22,33,44,55],index = ['1','2','3','4','5']) \n",
    "Data.plot(kind ='line')"
   ]
  },
  {
   "cell_type": "code",
   "execution_count": 28,
   "metadata": {
    "colab": {
     "base_uri": "https://localhost:8080/"
    },
    "id": "lqLk_eMhvYkp",
    "outputId": "ba1afddb-6c37-44e7-e357-9be9289b9b7d"
   },
   "outputs": [
    {
     "data": {
      "text/plain": [
       "<AxesSubplot:ylabel='None'>"
      ]
     },
     "execution_count": 28,
     "metadata": {},
     "output_type": "execute_result"
    },
    {
     "data": {
      "image/png": "[encoded data removed]",
      "text/plain": [
       "<Figure size 432x288 with 1 Axes>"
      ]
     },
     "metadata": {},
     "output_type": "display_data"
    }
   ],
   "source": [
    "Data = pd.Series([11,22,33,44,55,66,77,11,22,44],index = ['1','2','3','4','5','6','7','8','9','10']) \n",
    "Data.plot(kind ='pie')"
   ]
  },
  {
   "cell_type": "code",
   "execution_count": 29,
   "metadata": {
    "colab": {
     "base_uri": "https://localhost:8080/"
    },
    "id": "JTcXGWylwHNi",
    "outputId": "3c361eeb-afe4-4f03-c2a7-93d5b77f9cef"
   },
   "outputs": [
    {
     "data": {
      "text/plain": [
       "<AxesSubplot:>"
      ]
     },
     "execution_count": 29,
     "metadata": {},
     "output_type": "execute_result"
    },
    {
     "data": {
      "image/png": "[encoded data removed]",
      "text/plain": [
       "<Figure size 432x288 with 1 Axes>"
      ]
     },
     "metadata": {
      "needs_background": "light"
     },
     "output_type": "display_data"
    }
   ],
   "source": [
    "Data = pd.Series([11,22,33,44,55],index = ['1','2','3','4','5']) \n",
    "Data.plot(kind ='bar')"
   ]
  },
  {
   "cell_type": "code",
   "execution_count": 30,
   "metadata": {
    "colab": {
     "base_uri": "https://localhost:8080/"
    },
    "id": "Lt2JDjpwwbUl",
    "outputId": "1e3617cd-cc43-4f31-a97d-4a0f557a2a8d"
   },
   "outputs": [
    {
     "data": {
      "text/plain": [
       "<AxesSubplot:ylabel='Frequency'>"
      ]
     },
     "execution_count": 30,
     "metadata": {},
     "output_type": "execute_result"
    },
    {
     "data": {
      "image/png": "[encoded data removed]",
      "text/plain": [
       "<Figure size 432x288 with 1 Axes>"
      ]
     },
     "metadata": {
      "needs_background": "light"
     },
     "output_type": "display_data"
    }
   ],
   "source": [
    "Data = pd.Series([11,22,33,44,55,66,77,11,22,44],index = ['1','2','3','4','5','6','7','8','9','10']) \n",
    "Data.plot(kind ='hist')"
   ]
  },
  {
   "cell_type": "markdown",
   "metadata": {
    "id": "HWNKB7Qb2M8T"
   },
   "source": [
    "## Indexing and Slicing in pandas series :"
   ]
  },
  {
   "cell_type": "code",
   "execution_count": 31,
   "metadata": {
    "colab": {
     "base_uri": "https://localhost:8080/"
    },
    "id": "qbA03jzr6gpB",
    "outputId": "fee7016e-2e0c-4f00-90dd-a690d7d73802"
   },
   "outputs": [
    {
     "data": {
      "text/plain": [
       "{'2010': 'Inter Milan',\n",
       " '2011': 'Barcelona',\n",
       " '2012': 'Chelsea',\n",
       " '2013': 'Bayren',\n",
       " '2014': 'REAL MADRID',\n",
       " '2015': 'Barcelona ',\n",
       " '2016': 'REAL MADRID',\n",
       " '2017': 'REAL MADRID',\n",
       " '2018': 'REAL MADRID'}"
      ]
     },
     "execution_count": 31,
     "metadata": {},
     "output_type": "execute_result"
    }
   ],
   "source": [
    "UFEA_champions = {'2010' : 'Inter Milan',\n",
    "                 '2011' : 'Barcelona' ,\n",
    "                 '2012' :'Chelsea',\n",
    "                 '2013': 'Bayren',\n",
    "                 '2014':'REAL MADRID',\n",
    "                 '2015' :'Barcelona ' ,\n",
    "                 '2016' :'REAL MADRID',\n",
    "                 '2017' :'REAL MADRID',\n",
    "                 '2018' : 'REAL MADRID'  \n",
    "                  }     \n",
    "UFEA_champions                  "
   ]
  },
  {
   "cell_type": "code",
   "execution_count": 32,
   "metadata": {
    "colab": {
     "base_uri": "https://localhost:8080/"
    },
    "id": "uPMART5m6pQC",
    "outputId": "8f4d776f-7d7b-481e-9636-18691862093f"
   },
   "outputs": [
    {
     "data": {
      "text/plain": [
       "2010    Inter Milan\n",
       "2011      Barcelona\n",
       "2012        Chelsea\n",
       "2013         Bayren\n",
       "2014    REAL MADRID\n",
       "2015     Barcelona \n",
       "2016    REAL MADRID\n",
       "2017    REAL MADRID\n",
       "2018    REAL MADRID\n",
       "dtype: object"
      ]
     },
     "execution_count": 32,
     "metadata": {},
     "output_type": "execute_result"
    }
   ],
   "source": [
    "ser_UFEA_champions = pd.Series(UFEA_champions)           \n",
    "ser_UFEA_champions\n"
   ]
  },
  {
   "cell_type": "code",
   "execution_count": 33,
   "metadata": {
    "colab": {
     "base_uri": "https://localhost:8080/"
    },
    "id": "ysheeDZ67NGw",
    "outputId": "021ac9b3-3dbc-466a-dbb0-f44cd55e267e"
   },
   "outputs": [
    {
     "data": {
      "text/plain": [
       "'Inter Milan'"
      ]
     },
     "execution_count": 33,
     "metadata": {},
     "output_type": "execute_result"
    }
   ],
   "source": [
    "ser_UFEA_champions['2010']"
   ]
  },
  {
   "cell_type": "code",
   "execution_count": 34,
   "metadata": {
    "colab": {
     "base_uri": "https://localhost:8080/"
    },
    "id": "Nb5_4zMI7cnC",
    "outputId": "846c9099-c85d-4c4a-929f-6e9d926215b2"
   },
   "outputs": [
    {
     "data": {
      "text/plain": [
       "'Inter Milan'"
      ]
     },
     "execution_count": 34,
     "metadata": {},
     "output_type": "execute_result"
    }
   ],
   "source": [
    "ser_UFEA_champions.loc['2010']"
   ]
  },
  {
   "cell_type": "code",
   "execution_count": 35,
   "metadata": {
    "colab": {
     "base_uri": "https://localhost:8080/"
    },
    "id": "GqIB7uOg7m_Z",
    "outputId": "06004708-ee59-4f1c-9142-72a6aeaea6e9"
   },
   "outputs": [
    {
     "data": {
      "text/plain": [
       "'Inter Milan'"
      ]
     },
     "execution_count": 35,
     "metadata": {},
     "output_type": "execute_result"
    }
   ],
   "source": [
    "ser_UFEA_champions.iloc[0]"
   ]
  },
  {
   "cell_type": "code",
   "execution_count": 36,
   "metadata": {
    "colab": {
     "base_uri": "https://localhost:8080/"
    },
    "id": "wrd2_zP27TMv",
    "outputId": "bfc00f4e-0d5f-4d5c-bfe6-9319528a61a6"
   },
   "outputs": [
    {
     "data": {
      "text/plain": [
       "2010    Inter Milan\n",
       "2011      Barcelona\n",
       "2012        Chelsea\n",
       "2013         Bayren\n",
       "2014    REAL MADRID\n",
       "dtype: object"
      ]
     },
     "execution_count": 36,
     "metadata": {},
     "output_type": "execute_result"
    }
   ],
   "source": [
    "ser_UFEA_champions[['2010','2011','2012','2013','2014']]"
   ]
  },
  {
   "cell_type": "code",
   "execution_count": 37,
   "metadata": {
    "colab": {
     "base_uri": "https://localhost:8080/"
    },
    "id": "7vLLI2Z47aaX",
    "outputId": "059df7a4-b6cb-4c9d-d6af-1443355899f4"
   },
   "outputs": [
    {
     "data": {
      "text/plain": [
       "2010    Inter Milan\n",
       "2011      Barcelona\n",
       "2012        Chelsea\n",
       "2013         Bayren\n",
       "2014    REAL MADRID\n",
       "dtype: object"
      ]
     },
     "execution_count": 37,
     "metadata": {},
     "output_type": "execute_result"
    }
   ],
   "source": [
    "ser_UFEA_champions.loc['2010':'2014']"
   ]
  },
  {
   "cell_type": "code",
   "execution_count": 38,
   "metadata": {
    "colab": {
     "base_uri": "https://localhost:8080/"
    },
    "id": "2kRbcl6C74yj",
    "outputId": "b7824b38-3ddd-463a-9c36-bdf230f1972f"
   },
   "outputs": [
    {
     "data": {
      "text/plain": [
       "2010    Inter Milan\n",
       "2011      Barcelona\n",
       "2012        Chelsea\n",
       "2013         Bayren\n",
       "2014    REAL MADRID\n",
       "dtype: object"
      ]
     },
     "execution_count": 38,
     "metadata": {},
     "output_type": "execute_result"
    }
   ],
   "source": [
    "ser_UFEA_champions.iloc[0:5]"
   ]
  },
  {
   "cell_type": "code",
   "execution_count": 39,
   "metadata": {
    "id": "YovB4pDh8Qy7"
   },
   "outputs": [],
   "source": [
    "#Editing\n",
    "ser_UFEA_champions['2010']= 'Real-Madrid'"
   ]
  },
  {
   "cell_type": "code",
   "execution_count": 40,
   "metadata": {
    "colab": {
     "base_uri": "https://localhost:8080/"
    },
    "id": "moFbUw2A8eEU",
    "outputId": "68ea451f-6d3f-487f-c2eb-123036bb86eb"
   },
   "outputs": [
    {
     "data": {
      "text/plain": [
       "2010    Real-Madrid\n",
       "2011      Barcelona\n",
       "2012        Chelsea\n",
       "2013         Bayren\n",
       "2014    REAL MADRID\n",
       "2015     Barcelona \n",
       "2016    REAL MADRID\n",
       "2017    REAL MADRID\n",
       "2018    REAL MADRID\n",
       "dtype: object"
      ]
     },
     "execution_count": 40,
     "metadata": {},
     "output_type": "execute_result"
    }
   ],
   "source": [
    "ser_UFEA_champions"
   ]
  },
  {
   "cell_type": "code",
   "execution_count": 6,
   "outputs": [
    {
     "data": {
      "text/plain": "a    1\nb    2\nc    3\nd    4\ne    5\nf    6\ng    7\nh    8\ni    9\nName: Numbers, dtype: int64"
     },
     "execution_count": 6,
     "metadata": {},
     "output_type": "execute_result"
    }
   ],
   "source": [
    "nums = [1, 2, 3, 4, 5, 6, 7, 8, 9]\n",
    "serNum = pd.Series(nums, index=['a', 'b', 'c', 'd', 'e', 'f', 'g', 'h', 'i'], name='Numbers')\n",
    "serNum"
   ],
   "metadata": {
    "collapsed": false
   }
  },
  {
   "cell_type": "markdown",
   "metadata": {
    "id": "x8M2jqj_S67d"
   },
   "source": [
    "<a id='dataframe'></a>\n",
    "# **2.Pandas DataFrame**\n",
    "\n",
    "\n",
    "> DataFrame is a 2-dimensional labeled data structure with columns of potentially different types. You can think of it like a spreadsheet or SQL table, or a dict of Series objects. It is generally the most commonly used pandas object.\n",
    "\n",
    "\n",
    "\n",
    "\n",
    "\n",
    "\n",
    "\n",
    "\n",
    "\n",
    "\n",
    "\n"
   ]
  },
  {
   "cell_type": "markdown",
   "metadata": {
    "id": "mfIn8Z0-S6lQ"
   },
   "source": [
    "##The ways to build pandas dataframe : \n",
    "\n",
    "\n",
    "\n"
   ]
  },
  {
   "cell_type": "code",
   "execution_count": 41,
   "metadata": {
    "colab": {
     "base_uri": "https://localhost:8080/"
    },
    "id": "0busdY1tUFhE",
    "outputId": "e203a46b-1d50-485a-eead-b087ea0c73cc"
   },
   "outputs": [
    {
     "data": {
      "text/plain": [
       "2010    Inter Milan\n",
       "2011      Barcelona\n",
       "2012        Chelsea\n",
       "2013         Bayren\n",
       "2014    REAL MADRID\n",
       "2015     Barcelona \n",
       "2016    REAL MADRID\n",
       "2017    REAL MADRID\n",
       "2018    REAL MADRID\n",
       "dtype: object"
      ]
     },
     "execution_count": 41,
     "metadata": {},
     "output_type": "execute_result"
    }
   ],
   "source": [
    "UFEA_champions = {'2010' : 'Inter Milan',\n",
    "                 '2011' : 'Barcelona' ,\n",
    "                 '2012' :'Chelsea',\n",
    "                 '2013': 'Bayren',\n",
    "                 '2014':'REAL MADRID',\n",
    "                 '2015' :'Barcelona ' ,\n",
    "                 '2016' :'REAL MADRID',\n",
    "                 '2017' :'REAL MADRID',\n",
    "                 '2018' : 'REAL MADRID'  \n",
    "                  }     \n",
    "                 \n",
    "ser_UFEA_champions = pd.Series(UFEA_champions)      \n",
    "ser_UFEA_champions            \n"
   ]
  },
  {
   "cell_type": "code",
   "execution_count": 42,
   "metadata": {
    "colab": {
     "base_uri": "https://localhost:8080/"
    },
    "id": "I6UnF4ZjEtxj",
    "outputId": "f322ca93-bafb-4bf0-dc84-df366c84ab4e"
   },
   "outputs": [
    {
     "data": {
      "text/plain": [
       "2010      Atlético Madrid\n",
       "2011             FC Porto\n",
       "2012      Atletico Madrid\n",
       "2013              Chelsea\n",
       "2014              Sevilla\n",
       "2015              Sevilla\n",
       "2016              Sevilla\n",
       "2017    Manchester United\n",
       "2018      Atletico Madrid\n",
       "dtype: object"
      ]
     },
     "execution_count": 42,
     "metadata": {},
     "output_type": "execute_result"
    }
   ],
   "source": [
    "UFEA_leauge = { '2010' :'Atlético Madrid' ,    \n",
    "                '2011' : 'FC Porto' ,        \n",
    "                '2012' : 'Atletico Madrid' ,\n",
    "                '2013' : 'Chelsea' ,\n",
    "                '2014' : 'Sevilla' ,\n",
    "                '2015' : 'Sevilla',\n",
    "                '2016' : 'Sevilla',\n",
    "                '2017' : 'Manchester United',\n",
    "               '2018' : 'Atletico Madrid'\n",
    "                }\n",
    "ser_UFEA_leauge = pd.Series(UFEA_leauge)\n",
    "ser_UFEA_leauge"
   ]
  },
  {
   "cell_type": "code",
   "execution_count": 43,
   "metadata": {
    "colab": {
     "base_uri": "https://localhost:8080/",
     "height": 145
    },
    "id": "8_mH_AXfE-ui",
    "outputId": "b4a4e463-e14a-4833-d1bc-e895b954807f"
   },
   "outputs": [
    {
     "data": {
      "text/html": [
       "<div>\n",
       "<style scoped>\n",
       "    .dataframe tbody tr th:only-of-type {\n",
       "        vertical-align: middle;\n",
       "    }\n",
       "\n",
       "    .dataframe tbody tr th {\n",
       "        vertical-align: top;\n",
       "    }\n",
       "\n",
       "    .dataframe thead th {\n",
       "        text-align: right;\n",
       "    }\n",
       "</style>\n",
       "<table border=\"1\" class=\"dataframe\">\n",
       "  <thead>\n",
       "    <tr style=\"text-align: right;\">\n",
       "      <th></th>\n",
       "      <th>2010</th>\n",
       "      <th>2011</th>\n",
       "      <th>2012</th>\n",
       "      <th>2013</th>\n",
       "      <th>2014</th>\n",
       "      <th>2015</th>\n",
       "      <th>2016</th>\n",
       "      <th>2017</th>\n",
       "      <th>2018</th>\n",
       "    </tr>\n",
       "  </thead>\n",
       "  <tbody>\n",
       "    <tr>\n",
       "      <th>CHAMPIONS</th>\n",
       "      <td>Inter Milan</td>\n",
       "      <td>Barcelona</td>\n",
       "      <td>Chelsea</td>\n",
       "      <td>Bayren</td>\n",
       "      <td>REAL MADRID</td>\n",
       "      <td>Barcelona</td>\n",
       "      <td>REAL MADRID</td>\n",
       "      <td>REAL MADRID</td>\n",
       "      <td>REAL MADRID</td>\n",
       "    </tr>\n",
       "    <tr>\n",
       "      <th>LEAUGE</th>\n",
       "      <td>Atlético Madrid</td>\n",
       "      <td>FC Porto</td>\n",
       "      <td>Atletico Madrid</td>\n",
       "      <td>Chelsea</td>\n",
       "      <td>Sevilla</td>\n",
       "      <td>Sevilla</td>\n",
       "      <td>Sevilla</td>\n",
       "      <td>Manchester United</td>\n",
       "      <td>Atletico Madrid</td>\n",
       "    </tr>\n",
       "  </tbody>\n",
       "</table>\n",
       "</div>"
      ],
      "text/plain": [
       "                      2010       2011             2012     2013         2014  \\\n",
       "CHAMPIONS      Inter Milan  Barcelona          Chelsea   Bayren  REAL MADRID   \n",
       "LEAUGE     Atlético Madrid   FC Porto  Atletico Madrid  Chelsea      Sevilla   \n",
       "\n",
       "                 2015         2016               2017             2018  \n",
       "CHAMPIONS  Barcelona   REAL MADRID        REAL MADRID      REAL MADRID  \n",
       "LEAUGE        Sevilla      Sevilla  Manchester United  Atletico Madrid  "
      ]
     },
     "execution_count": 43,
     "metadata": {},
     "output_type": "execute_result"
    }
   ],
   "source": [
    "#Creating pandas dataframe from pandas series \n",
    "df_UFEA = pd.DataFrame(data = [ser_UFEA_champions,ser_UFEA_leauge]\n",
    "                       ,index = ['CHAMPIONS','LEAUGE'])             \n",
    "df_UFEA\n"
   ]
  },
  {
   "cell_type": "code",
   "execution_count": 44,
   "metadata": {
    "colab": {
     "base_uri": "https://localhost:8080/",
     "height": 173
    },
    "id": "tGhbGXPyyn-6",
    "outputId": "e91391a8-a9cf-40f2-fd2c-159ac96a799f"
   },
   "outputs": [
    {
     "data": {
      "text/html": [
       "<div>\n",
       "<style scoped>\n",
       "    .dataframe tbody tr th:only-of-type {\n",
       "        vertical-align: middle;\n",
       "    }\n",
       "\n",
       "    .dataframe tbody tr th {\n",
       "        vertical-align: top;\n",
       "    }\n",
       "\n",
       "    .dataframe thead th {\n",
       "        text-align: right;\n",
       "    }\n",
       "</style>\n",
       "<table border=\"1\" class=\"dataframe\">\n",
       "  <thead>\n",
       "    <tr style=\"text-align: right;\">\n",
       "      <th></th>\n",
       "      <th>frist</th>\n",
       "      <th>second</th>\n",
       "      <th>third</th>\n",
       "      <th>forth</th>\n",
       "      <th>fifth</th>\n",
       "    </tr>\n",
       "  </thead>\n",
       "  <tbody>\n",
       "    <tr>\n",
       "      <th>A</th>\n",
       "      <td>1</td>\n",
       "      <td>2</td>\n",
       "      <td>3</td>\n",
       "      <td>4</td>\n",
       "      <td>5</td>\n",
       "    </tr>\n",
       "    <tr>\n",
       "      <th>B</th>\n",
       "      <td>11</td>\n",
       "      <td>22</td>\n",
       "      <td>33</td>\n",
       "      <td>44</td>\n",
       "      <td>55</td>\n",
       "    </tr>\n",
       "    <tr>\n",
       "      <th>C</th>\n",
       "      <td>111</td>\n",
       "      <td>222</td>\n",
       "      <td>333</td>\n",
       "      <td>444</td>\n",
       "      <td>555</td>\n",
       "    </tr>\n",
       "    <tr>\n",
       "      <th>D</th>\n",
       "      <td>1111</td>\n",
       "      <td>2222</td>\n",
       "      <td>3333</td>\n",
       "      <td>4444</td>\n",
       "      <td>5555</td>\n",
       "    </tr>\n",
       "  </tbody>\n",
       "</table>\n",
       "</div>"
      ],
      "text/plain": [
       "   frist  second  third  forth  fifth\n",
       "A      1       2      3      4      5\n",
       "B     11      22     33     44     55\n",
       "C    111     222    333    444    555\n",
       "D   1111    2222   3333   4444   5555"
      ]
     },
     "execution_count": 44,
     "metadata": {},
     "output_type": "execute_result"
    }
   ],
   "source": [
    "#Creating pandas dataframe from numpy array \n",
    "my_arr = np.array([\n",
    "                   [1,2,3,4,5],\n",
    "                   [11,22,33,44,55],\n",
    "                   [111,222,333,444,555],\n",
    "                   [1111,2222,3333,4444,5555]])\n",
    "df=pd.DataFrame(my_arr,index=['A','B','C','D'],columns= ['frist','second', 'third','forth','fifth'])\n",
    "df"
   ]
  },
  {
   "cell_type": "code",
   "execution_count": 7,
   "metadata": {
    "colab": {
     "base_uri": "https://localhost:8080/",
     "height": 173
    },
    "id": "alwzvb2obZEJ",
    "outputId": "f28d7cb3-65db-4f33-d630-50f1411a42eb"
   },
   "outputs": [
    {
     "data": {
      "text/plain": "   frist  second  third  forth  fifth\nA      4       4      4      4      4\nB      4       4      4      4      4\nC      4       4      4      4      4\nD      4       4      4      4      4",
      "text/html": "<div>\n<style scoped>\n    .dataframe tbody tr th:only-of-type {\n        vertical-align: middle;\n    }\n\n    .dataframe tbody tr th {\n        vertical-align: top;\n    }\n\n    .dataframe thead th {\n        text-align: right;\n    }\n</style>\n<table border=\"1\" class=\"dataframe\">\n  <thead>\n    <tr style=\"text-align: right;\">\n      <th></th>\n      <th>frist</th>\n      <th>second</th>\n      <th>third</th>\n      <th>forth</th>\n      <th>fifth</th>\n    </tr>\n  </thead>\n  <tbody>\n    <tr>\n      <th>A</th>\n      <td>4</td>\n      <td>4</td>\n      <td>4</td>\n      <td>4</td>\n      <td>4</td>\n    </tr>\n    <tr>\n      <th>B</th>\n      <td>4</td>\n      <td>4</td>\n      <td>4</td>\n      <td>4</td>\n      <td>4</td>\n    </tr>\n    <tr>\n      <th>C</th>\n      <td>4</td>\n      <td>4</td>\n      <td>4</td>\n      <td>4</td>\n      <td>4</td>\n    </tr>\n    <tr>\n      <th>D</th>\n      <td>4</td>\n      <td>4</td>\n      <td>4</td>\n      <td>4</td>\n      <td>4</td>\n    </tr>\n  </tbody>\n</table>\n</div>"
     },
     "execution_count": 7,
     "metadata": {},
     "output_type": "execute_result"
    }
   ],
   "source": [
    "from numpy.random import randint\n",
    "df_1 =  pd.DataFrame(randint(4,5), index=['A','B','C','D'], columns= ['frist','second', 'third','forth','fifth'])\n",
    "df_1\n"
   ]
  },
  {
   "cell_type": "code",
   "execution_count": 13,
   "outputs": [
    {
     "data": {
      "text/plain": "4"
     },
     "execution_count": 13,
     "metadata": {},
     "output_type": "execute_result"
    }
   ],
   "source": [
    "randint(4, 5)"
   ],
   "metadata": {
    "collapsed": false
   }
  },
  {
   "cell_type": "code",
   "execution_count": 46,
   "metadata": {
    "colab": {
     "base_uri": "https://localhost:8080/",
     "height": 235
    },
    "id": "VB4IdH02crec",
    "outputId": "e54ee6ee-f4a9-4dc4-8259-fb895ba7b7ff"
   },
   "outputs": [
    {
     "data": {
      "text/html": [
       "<div>\n",
       "<style scoped>\n",
       "    .dataframe tbody tr th:only-of-type {\n",
       "        vertical-align: middle;\n",
       "    }\n",
       "\n",
       "    .dataframe tbody tr th {\n",
       "        vertical-align: top;\n",
       "    }\n",
       "\n",
       "    .dataframe thead th {\n",
       "        text-align: right;\n",
       "    }\n",
       "</style>\n",
       "<table border=\"1\" class=\"dataframe\">\n",
       "  <thead>\n",
       "    <tr style=\"text-align: right;\">\n",
       "      <th></th>\n",
       "      <th>frist</th>\n",
       "      <th>second</th>\n",
       "      <th>third</th>\n",
       "      <th>forth</th>\n",
       "      <th>fifth</th>\n",
       "      <th>sixth</th>\n",
       "    </tr>\n",
       "  </thead>\n",
       "  <tbody>\n",
       "    <tr>\n",
       "      <th>A</th>\n",
       "      <td>-0.317826</td>\n",
       "      <td>1.264697</td>\n",
       "      <td>-0.174078</td>\n",
       "      <td>-0.727089</td>\n",
       "      <td>-0.811431</td>\n",
       "      <td>-0.396249</td>\n",
       "    </tr>\n",
       "    <tr>\n",
       "      <th>B</th>\n",
       "      <td>0.182941</td>\n",
       "      <td>0.981581</td>\n",
       "      <td>-0.797202</td>\n",
       "      <td>-0.418416</td>\n",
       "      <td>0.799735</td>\n",
       "      <td>-1.509593</td>\n",
       "    </tr>\n",
       "    <tr>\n",
       "      <th>C</th>\n",
       "      <td>0.297325</td>\n",
       "      <td>1.765884</td>\n",
       "      <td>-0.569525</td>\n",
       "      <td>0.854129</td>\n",
       "      <td>-0.172078</td>\n",
       "      <td>-0.637527</td>\n",
       "    </tr>\n",
       "    <tr>\n",
       "      <th>D</th>\n",
       "      <td>-1.859419</td>\n",
       "      <td>1.627940</td>\n",
       "      <td>0.520783</td>\n",
       "      <td>-1.288462</td>\n",
       "      <td>-1.088261</td>\n",
       "      <td>1.175451</td>\n",
       "    </tr>\n",
       "    <tr>\n",
       "      <th>E</th>\n",
       "      <td>1.200527</td>\n",
       "      <td>-1.340352</td>\n",
       "      <td>1.147737</td>\n",
       "      <td>0.158093</td>\n",
       "      <td>-0.049301</td>\n",
       "      <td>0.272942</td>\n",
       "    </tr>\n",
       "    <tr>\n",
       "      <th>F</th>\n",
       "      <td>-0.340404</td>\n",
       "      <td>2.071302</td>\n",
       "      <td>-0.178299</td>\n",
       "      <td>0.780015</td>\n",
       "      <td>0.475908</td>\n",
       "      <td>-0.495323</td>\n",
       "    </tr>\n",
       "  </tbody>\n",
       "</table>\n",
       "</div>"
      ],
      "text/plain": [
       "      frist    second     third     forth     fifth     sixth\n",
       "A -0.317826  1.264697 -0.174078 -0.727089 -0.811431 -0.396249\n",
       "B  0.182941  0.981581 -0.797202 -0.418416  0.799735 -1.509593\n",
       "C  0.297325  1.765884 -0.569525  0.854129 -0.172078 -0.637527\n",
       "D -1.859419  1.627940  0.520783 -1.288462 -1.088261  1.175451\n",
       "E  1.200527 -1.340352  1.147737  0.158093 -0.049301  0.272942\n",
       "F -0.340404  2.071302 -0.178299  0.780015  0.475908 -0.495323"
      ]
     },
     "execution_count": 46,
     "metadata": {},
     "output_type": "execute_result"
    }
   ],
   "source": [
    "from numpy.random import randn\n",
    "df =  pd.DataFrame(randn(6,6), index=['A','B','C','D','E','F'], columns= 'frist second third forth fifth sixth'.split())\n",
    "df"
   ]
  },
  {
   "cell_type": "markdown",
   "metadata": {
    "id": "t54wtF4ReZHf"
   },
   "source": [
    "## Indexing and Slicing in pandas dataframe :\n",
    "\n",
    "\n"
   ]
  },
  {
   "cell_type": "code",
   "execution_count": 47,
   "metadata": {
    "colab": {
     "base_uri": "https://localhost:8080/",
     "height": 145
    },
    "id": "GZCi7cN2eXdu",
    "outputId": "961d1335-7452-438b-a331-15cb7f52b9ac"
   },
   "outputs": [
    {
     "data": {
      "text/html": [
       "<div>\n",
       "<style scoped>\n",
       "    .dataframe tbody tr th:only-of-type {\n",
       "        vertical-align: middle;\n",
       "    }\n",
       "\n",
       "    .dataframe tbody tr th {\n",
       "        vertical-align: top;\n",
       "    }\n",
       "\n",
       "    .dataframe thead th {\n",
       "        text-align: right;\n",
       "    }\n",
       "</style>\n",
       "<table border=\"1\" class=\"dataframe\">\n",
       "  <thead>\n",
       "    <tr style=\"text-align: right;\">\n",
       "      <th></th>\n",
       "      <th>2010</th>\n",
       "      <th>2011</th>\n",
       "      <th>2012</th>\n",
       "      <th>2013</th>\n",
       "      <th>2014</th>\n",
       "      <th>2015</th>\n",
       "      <th>2016</th>\n",
       "      <th>2017</th>\n",
       "      <th>2018</th>\n",
       "    </tr>\n",
       "  </thead>\n",
       "  <tbody>\n",
       "    <tr>\n",
       "      <th>CHAMPIONS</th>\n",
       "      <td>Inter Milan</td>\n",
       "      <td>Barcelona</td>\n",
       "      <td>Chelsea</td>\n",
       "      <td>Bayren</td>\n",
       "      <td>REAL MADRID</td>\n",
       "      <td>Barcelona</td>\n",
       "      <td>REAL MADRID</td>\n",
       "      <td>REAL MADRID</td>\n",
       "      <td>REAL MADRID</td>\n",
       "    </tr>\n",
       "    <tr>\n",
       "      <th>LEAUGE</th>\n",
       "      <td>Atlético Madrid</td>\n",
       "      <td>FC Porto</td>\n",
       "      <td>Atletico Madrid</td>\n",
       "      <td>Chelsea</td>\n",
       "      <td>Sevilla</td>\n",
       "      <td>Sevilla</td>\n",
       "      <td>Sevilla</td>\n",
       "      <td>Manchester United</td>\n",
       "      <td>Atletico Madrid</td>\n",
       "    </tr>\n",
       "  </tbody>\n",
       "</table>\n",
       "</div>"
      ],
      "text/plain": [
       "                      2010       2011             2012     2013         2014  \\\n",
       "CHAMPIONS      Inter Milan  Barcelona          Chelsea   Bayren  REAL MADRID   \n",
       "LEAUGE     Atlético Madrid   FC Porto  Atletico Madrid  Chelsea      Sevilla   \n",
       "\n",
       "                 2015         2016               2017             2018  \n",
       "CHAMPIONS  Barcelona   REAL MADRID        REAL MADRID      REAL MADRID  \n",
       "LEAUGE        Sevilla      Sevilla  Manchester United  Atletico Madrid  "
      ]
     },
     "execution_count": 47,
     "metadata": {},
     "output_type": "execute_result"
    }
   ],
   "source": [
    "df_UFEA"
   ]
  },
  {
   "cell_type": "code",
   "execution_count": 48,
   "metadata": {
    "colab": {
     "base_uri": "https://localhost:8080/"
    },
    "id": "7cUj7axZewER",
    "outputId": "3f5bf51d-9e2e-44f6-f9a6-d1fc23f6f5d8"
   },
   "outputs": [
    {
     "data": {
      "text/plain": [
       "CHAMPIONS    REAL MADRID\n",
       "LEAUGE           Sevilla\n",
       "Name: 2014, dtype: object"
      ]
     },
     "execution_count": 48,
     "metadata": {},
     "output_type": "execute_result"
    }
   ],
   "source": [
    "df_UFEA['2014']"
   ]
  },
  {
   "cell_type": "code",
   "execution_count": 49,
   "metadata": {
    "colab": {
     "base_uri": "https://localhost:8080/",
     "height": 111
    },
    "id": "Al-SPFs1fPZc",
    "outputId": "4aab1c91-9e4a-46f5-f859-ada1f61b9dcd"
   },
   "outputs": [
    {
     "data": {
      "text/html": [
       "<div>\n",
       "<style scoped>\n",
       "    .dataframe tbody tr th:only-of-type {\n",
       "        vertical-align: middle;\n",
       "    }\n",
       "\n",
       "    .dataframe tbody tr th {\n",
       "        vertical-align: top;\n",
       "    }\n",
       "\n",
       "    .dataframe thead th {\n",
       "        text-align: right;\n",
       "    }\n",
       "</style>\n",
       "<table border=\"1\" class=\"dataframe\">\n",
       "  <thead>\n",
       "    <tr style=\"text-align: right;\">\n",
       "      <th></th>\n",
       "      <th>2011</th>\n",
       "      <th>2012</th>\n",
       "      <th>2013</th>\n",
       "    </tr>\n",
       "  </thead>\n",
       "  <tbody>\n",
       "    <tr>\n",
       "      <th>CHAMPIONS</th>\n",
       "      <td>Barcelona</td>\n",
       "      <td>Chelsea</td>\n",
       "      <td>Bayren</td>\n",
       "    </tr>\n",
       "    <tr>\n",
       "      <th>LEAUGE</th>\n",
       "      <td>FC Porto</td>\n",
       "      <td>Atletico Madrid</td>\n",
       "      <td>Chelsea</td>\n",
       "    </tr>\n",
       "  </tbody>\n",
       "</table>\n",
       "</div>"
      ],
      "text/plain": [
       "                2011             2012     2013\n",
       "CHAMPIONS  Barcelona          Chelsea   Bayren\n",
       "LEAUGE      FC Porto  Atletico Madrid  Chelsea"
      ]
     },
     "execution_count": 49,
     "metadata": {},
     "output_type": "execute_result"
    }
   ],
   "source": [
    "#for many columns\n",
    "df_UFEA[['2011','2012','2013']]"
   ]
  },
  {
   "cell_type": "code",
   "execution_count": 50,
   "metadata": {
    "colab": {
     "base_uri": "https://localhost:8080/"
    },
    "id": "1qjSlvJNf-So",
    "outputId": "08f612f1-f753-45f0-80db-0239c211b494"
   },
   "outputs": [
    {
     "data": {
      "text/plain": [
       "2010    Inter Milan\n",
       "2011      Barcelona\n",
       "2012        Chelsea\n",
       "2013         Bayren\n",
       "2014    REAL MADRID\n",
       "2015     Barcelona \n",
       "2016    REAL MADRID\n",
       "2017    REAL MADRID\n",
       "2018    REAL MADRID\n",
       "Name: CHAMPIONS, dtype: object"
      ]
     },
     "execution_count": 50,
     "metadata": {},
     "output_type": "execute_result"
    }
   ],
   "source": [
    "df_UFEA.loc['CHAMPIONS']"
   ]
  },
  {
   "cell_type": "code",
   "execution_count": 51,
   "metadata": {
    "colab": {
     "base_uri": "https://localhost:8080/"
    },
    "id": "h0fcYieMgiq-",
    "outputId": "a5ac28dd-2024-4f93-c452-3ce8bd937c77"
   },
   "outputs": [
    {
     "data": {
      "text/plain": [
       "2010      Atlético Madrid\n",
       "2011             FC Porto\n",
       "2012      Atletico Madrid\n",
       "2013              Chelsea\n",
       "2014              Sevilla\n",
       "2015              Sevilla\n",
       "2016              Sevilla\n",
       "2017    Manchester United\n",
       "2018      Atletico Madrid\n",
       "Name: LEAUGE, dtype: object"
      ]
     },
     "execution_count": 51,
     "metadata": {},
     "output_type": "execute_result"
    }
   ],
   "source": [
    "df_UFEA.iloc[1]"
   ]
  },
  {
   "cell_type": "code",
   "execution_count": 52,
   "metadata": {
    "colab": {
     "base_uri": "https://localhost:8080/"
    },
    "id": "kIfF-wZeHrmr",
    "outputId": "3cb3e3f0-51c7-4bfa-b09f-b693efed3642"
   },
   "outputs": [
    {
     "data": {
      "text/plain": [
       "2010    Inter Milan\n",
       "2013         Bayren\n",
       "Name: CHAMPIONS, dtype: object"
      ]
     },
     "execution_count": 52,
     "metadata": {},
     "output_type": "execute_result"
    }
   ],
   "source": [
    "df_UFEA.loc['CHAMPIONS'][['2010','2013']]"
   ]
  },
  {
   "cell_type": "code",
   "execution_count": 53,
   "metadata": {
    "colab": {
     "base_uri": "https://localhost:8080/"
    },
    "id": "Oj8xyn8xH4Pd",
    "outputId": "420cad86-65d3-4190-9840-35224ad4e780"
   },
   "outputs": [
    {
     "data": {
      "text/plain": [
       "2012    Atletico Madrid\n",
       "2015            Sevilla\n",
       "Name: LEAUGE, dtype: object"
      ]
     },
     "execution_count": 53,
     "metadata": {},
     "output_type": "execute_result"
    }
   ],
   "source": [
    "df_UFEA.iloc[1][['2012','2015']]"
   ]
  },
  {
   "cell_type": "code",
   "execution_count": 125,
   "metadata": {
    "colab": {
     "base_uri": "https://localhost:8080/",
     "height": 235
    },
    "id": "oJxOt_6Agic9",
    "outputId": "d9a3df6d-027d-4aa4-9838-1f1d149e793c"
   },
   "outputs": [
    {
     "data": {
      "text/html": [
       "<div>\n",
       "<style scoped>\n",
       "    .dataframe tbody tr th:only-of-type {\n",
       "        vertical-align: middle;\n",
       "    }\n",
       "\n",
       "    .dataframe tbody tr th {\n",
       "        vertical-align: top;\n",
       "    }\n",
       "\n",
       "    .dataframe thead th {\n",
       "        text-align: right;\n",
       "    }\n",
       "</style>\n",
       "<table border=\"1\" class=\"dataframe\">\n",
       "  <thead>\n",
       "    <tr style=\"text-align: right;\">\n",
       "      <th></th>\n",
       "      <th>frist</th>\n",
       "      <th>second</th>\n",
       "      <th>third</th>\n",
       "      <th>forth</th>\n",
       "      <th>fifth</th>\n",
       "      <th>sixth</th>\n",
       "    </tr>\n",
       "  </thead>\n",
       "  <tbody>\n",
       "    <tr>\n",
       "      <th>A</th>\n",
       "      <td>-0.043469</td>\n",
       "      <td>1.351623</td>\n",
       "      <td>-0.000715</td>\n",
       "      <td>1.528508</td>\n",
       "      <td>-0.176461</td>\n",
       "      <td>0.811652</td>\n",
       "    </tr>\n",
       "    <tr>\n",
       "      <th>B</th>\n",
       "      <td>-0.588294</td>\n",
       "      <td>1.949873</td>\n",
       "      <td>-0.123025</td>\n",
       "      <td>0.410977</td>\n",
       "      <td>-0.850757</td>\n",
       "      <td>-0.673355</td>\n",
       "    </tr>\n",
       "    <tr>\n",
       "      <th>C</th>\n",
       "      <td>-0.932591</td>\n",
       "      <td>1.166528</td>\n",
       "      <td>-0.553855</td>\n",
       "      <td>-0.489535</td>\n",
       "      <td>-0.522362</td>\n",
       "      <td>1.360778</td>\n",
       "    </tr>\n",
       "    <tr>\n",
       "      <th>D</th>\n",
       "      <td>1.697138</td>\n",
       "      <td>1.204379</td>\n",
       "      <td>1.279333</td>\n",
       "      <td>0.112831</td>\n",
       "      <td>0.654385</td>\n",
       "      <td>-0.646531</td>\n",
       "    </tr>\n",
       "    <tr>\n",
       "      <th>E</th>\n",
       "      <td>-0.045828</td>\n",
       "      <td>-0.765365</td>\n",
       "      <td>0.078488</td>\n",
       "      <td>0.569864</td>\n",
       "      <td>0.633998</td>\n",
       "      <td>-0.757712</td>\n",
       "    </tr>\n",
       "    <tr>\n",
       "      <th>F</th>\n",
       "      <td>-0.349335</td>\n",
       "      <td>-1.705345</td>\n",
       "      <td>2.498188</td>\n",
       "      <td>0.998800</td>\n",
       "      <td>1.188210</td>\n",
       "      <td>1.150598</td>\n",
       "    </tr>\n",
       "  </tbody>\n",
       "</table>\n",
       "</div>"
      ],
      "text/plain": [
       "      frist    second     third     forth     fifth     sixth\n",
       "A -0.043469  1.351623 -0.000715  1.528508 -0.176461  0.811652\n",
       "B -0.588294  1.949873 -0.123025  0.410977 -0.850757 -0.673355\n",
       "C -0.932591  1.166528 -0.553855 -0.489535 -0.522362  1.360778\n",
       "D  1.697138  1.204379  1.279333  0.112831  0.654385 -0.646531\n",
       "E -0.045828 -0.765365  0.078488  0.569864  0.633998 -0.757712\n",
       "F -0.349335 -1.705345  2.498188  0.998800  1.188210  1.150598"
      ]
     },
     "execution_count": 125,
     "metadata": {},
     "output_type": "execute_result"
    }
   ],
   "source": [
    "from numpy.random import randn\n",
    "df =  pd.DataFrame(randn(6,6), index=['A','B','C','D','E','F'], columns= 'frist second third forth fifth sixth'.split())\n",
    "df"
   ]
  },
  {
   "cell_type": "code",
   "execution_count": 126,
   "metadata": {
    "colab": {
     "base_uri": "https://localhost:8080/",
     "height": 111
    },
    "id": "BLzH2GXNgdrR",
    "outputId": "6e6d0cf1-e388-45bf-e501-4b4251704f27"
   },
   "outputs": [
    {
     "data": {
      "text/html": [
       "<div>\n",
       "<style scoped>\n",
       "    .dataframe tbody tr th:only-of-type {\n",
       "        vertical-align: middle;\n",
       "    }\n",
       "\n",
       "    .dataframe tbody tr th {\n",
       "        vertical-align: top;\n",
       "    }\n",
       "\n",
       "    .dataframe thead th {\n",
       "        text-align: right;\n",
       "    }\n",
       "</style>\n",
       "<table border=\"1\" class=\"dataframe\">\n",
       "  <thead>\n",
       "    <tr style=\"text-align: right;\">\n",
       "      <th></th>\n",
       "      <th>frist</th>\n",
       "      <th>second</th>\n",
       "      <th>third</th>\n",
       "      <th>forth</th>\n",
       "      <th>fifth</th>\n",
       "      <th>sixth</th>\n",
       "    </tr>\n",
       "  </thead>\n",
       "  <tbody>\n",
       "    <tr>\n",
       "      <th>A</th>\n",
       "      <td>-0.043469</td>\n",
       "      <td>1.351623</td>\n",
       "      <td>-0.000715</td>\n",
       "      <td>1.528508</td>\n",
       "      <td>-0.176461</td>\n",
       "      <td>0.811652</td>\n",
       "    </tr>\n",
       "    <tr>\n",
       "      <th>C</th>\n",
       "      <td>-0.932591</td>\n",
       "      <td>1.166528</td>\n",
       "      <td>-0.553855</td>\n",
       "      <td>-0.489535</td>\n",
       "      <td>-0.522362</td>\n",
       "      <td>1.360778</td>\n",
       "    </tr>\n",
       "  </tbody>\n",
       "</table>\n",
       "</div>"
      ],
      "text/plain": [
       "      frist    second     third     forth     fifth     sixth\n",
       "A -0.043469  1.351623 -0.000715  1.528508 -0.176461  0.811652\n",
       "C -0.932591  1.166528 -0.553855 -0.489535 -0.522362  1.360778"
      ]
     },
     "execution_count": 126,
     "metadata": {},
     "output_type": "execute_result"
    }
   ],
   "source": [
    "df.loc[['A','C']]        "
   ]
  },
  {
   "cell_type": "code",
   "execution_count": 127,
   "metadata": {
    "colab": {
     "base_uri": "https://localhost:8080/",
     "height": 111
    },
    "id": "FD3bddk-jYF3",
    "outputId": "f0e3acd4-d848-42e3-a117-0c77fea35f2e"
   },
   "outputs": [
    {
     "data": {
      "text/html": [
       "<div>\n",
       "<style scoped>\n",
       "    .dataframe tbody tr th:only-of-type {\n",
       "        vertical-align: middle;\n",
       "    }\n",
       "\n",
       "    .dataframe tbody tr th {\n",
       "        vertical-align: top;\n",
       "    }\n",
       "\n",
       "    .dataframe thead th {\n",
       "        text-align: right;\n",
       "    }\n",
       "</style>\n",
       "<table border=\"1\" class=\"dataframe\">\n",
       "  <thead>\n",
       "    <tr style=\"text-align: right;\">\n",
       "      <th></th>\n",
       "      <th>frist</th>\n",
       "      <th>second</th>\n",
       "      <th>third</th>\n",
       "      <th>forth</th>\n",
       "      <th>fifth</th>\n",
       "      <th>sixth</th>\n",
       "    </tr>\n",
       "  </thead>\n",
       "  <tbody>\n",
       "    <tr>\n",
       "      <th>D</th>\n",
       "      <td>1.697138</td>\n",
       "      <td>1.204379</td>\n",
       "      <td>1.279333</td>\n",
       "      <td>0.112831</td>\n",
       "      <td>0.654385</td>\n",
       "      <td>-0.646531</td>\n",
       "    </tr>\n",
       "    <tr>\n",
       "      <th>F</th>\n",
       "      <td>-0.349335</td>\n",
       "      <td>-1.705345</td>\n",
       "      <td>2.498188</td>\n",
       "      <td>0.998800</td>\n",
       "      <td>1.188210</td>\n",
       "      <td>1.150598</td>\n",
       "    </tr>\n",
       "  </tbody>\n",
       "</table>\n",
       "</div>"
      ],
      "text/plain": [
       "      frist    second     third     forth     fifth     sixth\n",
       "D  1.697138  1.204379  1.279333  0.112831  0.654385 -0.646531\n",
       "F -0.349335 -1.705345  2.498188  0.998800  1.188210  1.150598"
      ]
     },
     "execution_count": 127,
     "metadata": {},
     "output_type": "execute_result"
    }
   ],
   "source": [
    "df.iloc[[3,5]]              "
   ]
  },
  {
   "cell_type": "code",
   "execution_count": 128,
   "metadata": {
    "colab": {
     "base_uri": "https://localhost:8080/",
     "height": 142
    },
    "id": "jveUmUmnjpSn",
    "outputId": "7dad2b23-e3f6-48b3-8c0c-392b97e886d3"
   },
   "outputs": [
    {
     "data": {
      "text/html": [
       "<div>\n",
       "<style scoped>\n",
       "    .dataframe tbody tr th:only-of-type {\n",
       "        vertical-align: middle;\n",
       "    }\n",
       "\n",
       "    .dataframe tbody tr th {\n",
       "        vertical-align: top;\n",
       "    }\n",
       "\n",
       "    .dataframe thead th {\n",
       "        text-align: right;\n",
       "    }\n",
       "</style>\n",
       "<table border=\"1\" class=\"dataframe\">\n",
       "  <thead>\n",
       "    <tr style=\"text-align: right;\">\n",
       "      <th></th>\n",
       "      <th>frist</th>\n",
       "      <th>second</th>\n",
       "      <th>third</th>\n",
       "      <th>forth</th>\n",
       "      <th>fifth</th>\n",
       "      <th>sixth</th>\n",
       "    </tr>\n",
       "  </thead>\n",
       "  <tbody>\n",
       "    <tr>\n",
       "      <th>C</th>\n",
       "      <td>-0.932591</td>\n",
       "      <td>1.166528</td>\n",
       "      <td>-0.553855</td>\n",
       "      <td>-0.489535</td>\n",
       "      <td>-0.522362</td>\n",
       "      <td>1.360778</td>\n",
       "    </tr>\n",
       "    <tr>\n",
       "      <th>D</th>\n",
       "      <td>1.697138</td>\n",
       "      <td>1.204379</td>\n",
       "      <td>1.279333</td>\n",
       "      <td>0.112831</td>\n",
       "      <td>0.654385</td>\n",
       "      <td>-0.646531</td>\n",
       "    </tr>\n",
       "    <tr>\n",
       "      <th>E</th>\n",
       "      <td>-0.045828</td>\n",
       "      <td>-0.765365</td>\n",
       "      <td>0.078488</td>\n",
       "      <td>0.569864</td>\n",
       "      <td>0.633998</td>\n",
       "      <td>-0.757712</td>\n",
       "    </tr>\n",
       "  </tbody>\n",
       "</table>\n",
       "</div>"
      ],
      "text/plain": [
       "      frist    second     third     forth     fifth     sixth\n",
       "C -0.932591  1.166528 -0.553855 -0.489535 -0.522362  1.360778\n",
       "D  1.697138  1.204379  1.279333  0.112831  0.654385 -0.646531\n",
       "E -0.045828 -0.765365  0.078488  0.569864  0.633998 -0.757712"
      ]
     },
     "execution_count": 128,
     "metadata": {},
     "output_type": "execute_result"
    }
   ],
   "source": [
    "df.iloc[2:5]"
   ]
  },
  {
   "cell_type": "code",
   "execution_count": 129,
   "metadata": {
    "colab": {
     "base_uri": "https://localhost:8080/",
     "height": 142
    },
    "id": "cd_pM-cEiW81",
    "outputId": "64ce2263-f7e7-4848-f84e-c66dbf4acd27"
   },
   "outputs": [
    {
     "data": {
      "text/html": [
       "<div>\n",
       "<style scoped>\n",
       "    .dataframe tbody tr th:only-of-type {\n",
       "        vertical-align: middle;\n",
       "    }\n",
       "\n",
       "    .dataframe tbody tr th {\n",
       "        vertical-align: top;\n",
       "    }\n",
       "\n",
       "    .dataframe thead th {\n",
       "        text-align: right;\n",
       "    }\n",
       "</style>\n",
       "<table border=\"1\" class=\"dataframe\">\n",
       "  <thead>\n",
       "    <tr style=\"text-align: right;\">\n",
       "      <th></th>\n",
       "      <th>frist</th>\n",
       "      <th>second</th>\n",
       "      <th>third</th>\n",
       "      <th>forth</th>\n",
       "      <th>fifth</th>\n",
       "      <th>sixth</th>\n",
       "    </tr>\n",
       "  </thead>\n",
       "  <tbody>\n",
       "    <tr>\n",
       "      <th>D</th>\n",
       "      <td>1.697138</td>\n",
       "      <td>1.204379</td>\n",
       "      <td>1.279333</td>\n",
       "      <td>0.112831</td>\n",
       "      <td>0.654385</td>\n",
       "      <td>-0.646531</td>\n",
       "    </tr>\n",
       "    <tr>\n",
       "      <th>E</th>\n",
       "      <td>-0.045828</td>\n",
       "      <td>-0.765365</td>\n",
       "      <td>0.078488</td>\n",
       "      <td>0.569864</td>\n",
       "      <td>0.633998</td>\n",
       "      <td>-0.757712</td>\n",
       "    </tr>\n",
       "    <tr>\n",
       "      <th>F</th>\n",
       "      <td>-0.349335</td>\n",
       "      <td>-1.705345</td>\n",
       "      <td>2.498188</td>\n",
       "      <td>0.998800</td>\n",
       "      <td>1.188210</td>\n",
       "      <td>1.150598</td>\n",
       "    </tr>\n",
       "  </tbody>\n",
       "</table>\n",
       "</div>"
      ],
      "text/plain": [
       "      frist    second     third     forth     fifth     sixth\n",
       "D  1.697138  1.204379  1.279333  0.112831  0.654385 -0.646531\n",
       "E -0.045828 -0.765365  0.078488  0.569864  0.633998 -0.757712\n",
       "F -0.349335 -1.705345  2.498188  0.998800  1.188210  1.150598"
      ]
     },
     "execution_count": 129,
     "metadata": {},
     "output_type": "execute_result"
    }
   ],
   "source": [
    "df.loc['D':'F']"
   ]
  },
  {
   "cell_type": "code",
   "execution_count": 130,
   "metadata": {
    "colab": {
     "base_uri": "https://localhost:8080/",
     "height": 142
    },
    "id": "PeSE-f-kmXCK",
    "outputId": "699243be-0baf-436e-a149-67f20712bc16"
   },
   "outputs": [
    {
     "data": {
      "text/html": [
       "<div>\n",
       "<style scoped>\n",
       "    .dataframe tbody tr th:only-of-type {\n",
       "        vertical-align: middle;\n",
       "    }\n",
       "\n",
       "    .dataframe tbody tr th {\n",
       "        vertical-align: top;\n",
       "    }\n",
       "\n",
       "    .dataframe thead th {\n",
       "        text-align: right;\n",
       "    }\n",
       "</style>\n",
       "<table border=\"1\" class=\"dataframe\">\n",
       "  <thead>\n",
       "    <tr style=\"text-align: right;\">\n",
       "      <th></th>\n",
       "      <th>third</th>\n",
       "      <th>forth</th>\n",
       "      <th>fifth</th>\n",
       "    </tr>\n",
       "  </thead>\n",
       "  <tbody>\n",
       "    <tr>\n",
       "      <th>D</th>\n",
       "      <td>1.279333</td>\n",
       "      <td>0.112831</td>\n",
       "      <td>0.654385</td>\n",
       "    </tr>\n",
       "    <tr>\n",
       "      <th>E</th>\n",
       "      <td>0.078488</td>\n",
       "      <td>0.569864</td>\n",
       "      <td>0.633998</td>\n",
       "    </tr>\n",
       "    <tr>\n",
       "      <th>F</th>\n",
       "      <td>2.498188</td>\n",
       "      <td>0.998800</td>\n",
       "      <td>1.188210</td>\n",
       "    </tr>\n",
       "  </tbody>\n",
       "</table>\n",
       "</div>"
      ],
      "text/plain": [
       "      third     forth     fifth\n",
       "D  1.279333  0.112831  0.654385\n",
       "E  0.078488  0.569864  0.633998\n",
       "F  2.498188  0.998800  1.188210"
      ]
     },
     "execution_count": 130,
     "metadata": {},
     "output_type": "execute_result"
    }
   ],
   "source": [
    "df.loc['D':'F','third':'fifth']"
   ]
  },
  {
   "cell_type": "code",
   "execution_count": 131,
   "metadata": {
    "colab": {
     "base_uri": "https://localhost:8080/",
     "height": 111
    },
    "id": "i0NFXV8omrpa",
    "outputId": "e6b730db-4354-4a29-b4fd-9e3825fa46b3"
   },
   "outputs": [
    {
     "data": {
      "text/html": [
       "<div>\n",
       "<style scoped>\n",
       "    .dataframe tbody tr th:only-of-type {\n",
       "        vertical-align: middle;\n",
       "    }\n",
       "\n",
       "    .dataframe tbody tr th {\n",
       "        vertical-align: top;\n",
       "    }\n",
       "\n",
       "    .dataframe thead th {\n",
       "        text-align: right;\n",
       "    }\n",
       "</style>\n",
       "<table border=\"1\" class=\"dataframe\">\n",
       "  <thead>\n",
       "    <tr style=\"text-align: right;\">\n",
       "      <th></th>\n",
       "      <th>third</th>\n",
       "      <th>forth</th>\n",
       "    </tr>\n",
       "  </thead>\n",
       "  <tbody>\n",
       "    <tr>\n",
       "      <th>A</th>\n",
       "      <td>-0.000715</td>\n",
       "      <td>1.528508</td>\n",
       "    </tr>\n",
       "    <tr>\n",
       "      <th>B</th>\n",
       "      <td>-0.123025</td>\n",
       "      <td>0.410977</td>\n",
       "    </tr>\n",
       "  </tbody>\n",
       "</table>\n",
       "</div>"
      ],
      "text/plain": [
       "      third     forth\n",
       "A -0.000715  1.528508\n",
       "B -0.123025  0.410977"
      ]
     },
     "execution_count": 131,
     "metadata": {},
     "output_type": "execute_result"
    }
   ],
   "source": [
    "df.iloc[0:2,2:4]"
   ]
  },
  {
   "cell_type": "code",
   "execution_count": 132,
   "metadata": {
    "colab": {
     "base_uri": "https://localhost:8080/"
    },
    "id": "VDaKPEPBLJil",
    "outputId": "99808efa-4e04-421c-e3ad-447dcd301ee7"
   },
   "outputs": [
    {
     "data": {
      "text/plain": [
       "-0.0007151293918677851"
      ]
     },
     "execution_count": 132,
     "metadata": {},
     "output_type": "execute_result"
    }
   ],
   "source": [
    "#for specific value in a specific column \n",
    "df.loc['A']['third'] "
   ]
  },
  {
   "cell_type": "code",
   "execution_count": 133,
   "metadata": {
    "colab": {
     "base_uri": "https://localhost:8080/"
    },
    "id": "yMSyZfB2Lgue",
    "outputId": "ae4b82a0-3baa-4466-e74f-c10797df92dd"
   },
   "outputs": [
    {
     "data": {
      "text/plain": [
       "-0.12302463180050759"
      ]
     },
     "execution_count": 133,
     "metadata": {},
     "output_type": "execute_result"
    }
   ],
   "source": [
    "#for specific value in a specific column \n",
    "df.iloc[1]['third'] "
   ]
  },
  {
   "cell_type": "code",
   "execution_count": 134,
   "metadata": {
    "colab": {
     "base_uri": "https://localhost:8080/"
    },
    "id": "7epbIJ76LLcm",
    "outputId": "5bb865be-dd66-4c18-af22-5de0fd4cc656"
   },
   "outputs": [
    {
     "data": {
      "text/plain": [
       "D    1.279333\n",
       "E    0.078488\n",
       "F    2.498188\n",
       "Name: third, dtype: float64"
      ]
     },
     "execution_count": 134,
     "metadata": {},
     "output_type": "execute_result"
    }
   ],
   "source": [
    "#for specific mutiple values in a specific column \n",
    "df.loc['D':'F']['third']"
   ]
  },
  {
   "cell_type": "code",
   "execution_count": 135,
   "metadata": {
    "colab": {
     "base_uri": "https://localhost:8080/"
    },
    "id": "CtYgwiGdLUpa",
    "outputId": "5efc38d1-d943-4815-ea5b-ad37f379b429"
   },
   "outputs": [
    {
     "data": {
      "text/plain": [
       "A   -0.000715\n",
       "B   -0.123025\n",
       "Name: third, dtype: float64"
      ]
     },
     "execution_count": 135,
     "metadata": {},
     "output_type": "execute_result"
    }
   ],
   "source": [
    "#for specific mutiple values in a specific column \n",
    "df.iloc[0:2]['third']"
   ]
  },
  {
   "cell_type": "markdown",
   "metadata": {
    "id": "SVAUoUNaHvXU"
   },
   "source": [
    "<a id='opdf'></a>\n",
    "## Operations in pandas dataframe :\n",
    "\n",
    "1. adding rows and columns\n",
    "\n",
    "2. droping rows and coumns\n",
    "\n",
    "3. conditional extraction\n",
    "\n",
    "4. seting  and reseting index\n",
    "\n",
    "\n"
   ]
  },
  {
   "cell_type": "markdown",
   "metadata": {
    "id": "CmjpcFO9R52i"
   },
   "source": [
    "### Adding Rows and columns "
   ]
  },
  {
   "cell_type": "code",
   "execution_count": 65,
   "metadata": {
    "colab": {
     "base_uri": "https://localhost:8080/",
     "height": 145
    },
    "id": "hXrda_54Igo0",
    "outputId": "d1747f39-115d-4671-ce0b-a52dd6457516"
   },
   "outputs": [
    {
     "data": {
      "text/html": [
       "<div>\n",
       "<style scoped>\n",
       "    .dataframe tbody tr th:only-of-type {\n",
       "        vertical-align: middle;\n",
       "    }\n",
       "\n",
       "    .dataframe tbody tr th {\n",
       "        vertical-align: top;\n",
       "    }\n",
       "\n",
       "    .dataframe thead th {\n",
       "        text-align: right;\n",
       "    }\n",
       "</style>\n",
       "<table border=\"1\" class=\"dataframe\">\n",
       "  <thead>\n",
       "    <tr style=\"text-align: right;\">\n",
       "      <th></th>\n",
       "      <th>2010</th>\n",
       "      <th>2011</th>\n",
       "      <th>2012</th>\n",
       "      <th>2013</th>\n",
       "      <th>2014</th>\n",
       "      <th>2015</th>\n",
       "      <th>2016</th>\n",
       "      <th>2017</th>\n",
       "      <th>2018</th>\n",
       "    </tr>\n",
       "  </thead>\n",
       "  <tbody>\n",
       "    <tr>\n",
       "      <th>CHAMPIONS</th>\n",
       "      <td>Inter Milan</td>\n",
       "      <td>Barcelona</td>\n",
       "      <td>Chelsea</td>\n",
       "      <td>Bayren</td>\n",
       "      <td>REAL MADRID</td>\n",
       "      <td>Barcelona</td>\n",
       "      <td>REAL MADRID</td>\n",
       "      <td>REAL MADRID</td>\n",
       "      <td>REAL MADRID</td>\n",
       "    </tr>\n",
       "    <tr>\n",
       "      <th>LEAUGE</th>\n",
       "      <td>Atlético Madrid</td>\n",
       "      <td>FC Porto</td>\n",
       "      <td>Atletico Madrid</td>\n",
       "      <td>Chelsea</td>\n",
       "      <td>Sevilla</td>\n",
       "      <td>Sevilla</td>\n",
       "      <td>Sevilla</td>\n",
       "      <td>Manchester United</td>\n",
       "      <td>Atletico Madrid</td>\n",
       "    </tr>\n",
       "  </tbody>\n",
       "</table>\n",
       "</div>"
      ],
      "text/plain": [
       "                      2010       2011             2012     2013         2014  \\\n",
       "CHAMPIONS      Inter Milan  Barcelona          Chelsea   Bayren  REAL MADRID   \n",
       "LEAUGE     Atlético Madrid   FC Porto  Atletico Madrid  Chelsea      Sevilla   \n",
       "\n",
       "                 2015         2016               2017             2018  \n",
       "CHAMPIONS  Barcelona   REAL MADRID        REAL MADRID      REAL MADRID  \n",
       "LEAUGE        Sevilla      Sevilla  Manchester United  Atletico Madrid  "
      ]
     },
     "execution_count": 65,
     "metadata": {},
     "output_type": "execute_result"
    }
   ],
   "source": [
    "df_UFEA"
   ]
  },
  {
   "cell_type": "code",
   "execution_count": 66,
   "metadata": {
    "colab": {
     "base_uri": "https://localhost:8080/",
     "height": 145
    },
    "id": "lSjxvjymIgch",
    "outputId": "8fe69d06-82c0-4484-bdd1-eb624514667c"
   },
   "outputs": [
    {
     "data": {
      "text/html": [
       "<div>\n",
       "<style scoped>\n",
       "    .dataframe tbody tr th:only-of-type {\n",
       "        vertical-align: middle;\n",
       "    }\n",
       "\n",
       "    .dataframe tbody tr th {\n",
       "        vertical-align: top;\n",
       "    }\n",
       "\n",
       "    .dataframe thead th {\n",
       "        text-align: right;\n",
       "    }\n",
       "</style>\n",
       "<table border=\"1\" class=\"dataframe\">\n",
       "  <thead>\n",
       "    <tr style=\"text-align: right;\">\n",
       "      <th></th>\n",
       "      <th>2010</th>\n",
       "      <th>2011</th>\n",
       "      <th>2012</th>\n",
       "      <th>2013</th>\n",
       "      <th>2014</th>\n",
       "      <th>2015</th>\n",
       "      <th>2016</th>\n",
       "      <th>2017</th>\n",
       "      <th>2018</th>\n",
       "      <th>2019</th>\n",
       "    </tr>\n",
       "  </thead>\n",
       "  <tbody>\n",
       "    <tr>\n",
       "      <th>CHAMPIONS</th>\n",
       "      <td>Inter Milan</td>\n",
       "      <td>Barcelona</td>\n",
       "      <td>Chelsea</td>\n",
       "      <td>Bayren</td>\n",
       "      <td>REAL MADRID</td>\n",
       "      <td>Barcelona</td>\n",
       "      <td>REAL MADRID</td>\n",
       "      <td>REAL MADRID</td>\n",
       "      <td>REAL MADRID</td>\n",
       "      <td>Liverpool</td>\n",
       "    </tr>\n",
       "    <tr>\n",
       "      <th>LEAUGE</th>\n",
       "      <td>Atlético Madrid</td>\n",
       "      <td>FC Porto</td>\n",
       "      <td>Atletico Madrid</td>\n",
       "      <td>Chelsea</td>\n",
       "      <td>Sevilla</td>\n",
       "      <td>Sevilla</td>\n",
       "      <td>Sevilla</td>\n",
       "      <td>Manchester United</td>\n",
       "      <td>Atletico Madrid</td>\n",
       "      <td>Chelsea</td>\n",
       "    </tr>\n",
       "  </tbody>\n",
       "</table>\n",
       "</div>"
      ],
      "text/plain": [
       "                      2010       2011             2012     2013         2014  \\\n",
       "CHAMPIONS      Inter Milan  Barcelona          Chelsea   Bayren  REAL MADRID   \n",
       "LEAUGE     Atlético Madrid   FC Porto  Atletico Madrid  Chelsea      Sevilla   \n",
       "\n",
       "                 2015         2016               2017             2018  \\\n",
       "CHAMPIONS  Barcelona   REAL MADRID        REAL MADRID      REAL MADRID   \n",
       "LEAUGE        Sevilla      Sevilla  Manchester United  Atletico Madrid   \n",
       "\n",
       "                2019  \n",
       "CHAMPIONS  Liverpool  \n",
       "LEAUGE       Chelsea  "
      ]
     },
     "execution_count": 66,
     "metadata": {},
     "output_type": "execute_result"
    }
   ],
   "source": [
    "#Adding column\n",
    "df_UFEA['2019'] = ['Liverpool','Chelsea']\n",
    "df_UFEA"
   ]
  },
  {
   "cell_type": "code",
   "execution_count": 67,
   "metadata": {
    "colab": {
     "base_uri": "https://localhost:8080/",
     "height": 204
    },
    "id": "Dm2Wx2PmQO4z",
    "outputId": "a18437bb-2263-43c1-c709-19983621bd6a"
   },
   "outputs": [
    {
     "data": {
      "text/html": [
       "<div>\n",
       "<style scoped>\n",
       "    .dataframe tbody tr th:only-of-type {\n",
       "        vertical-align: middle;\n",
       "    }\n",
       "\n",
       "    .dataframe tbody tr th {\n",
       "        vertical-align: top;\n",
       "    }\n",
       "\n",
       "    .dataframe thead th {\n",
       "        text-align: right;\n",
       "    }\n",
       "</style>\n",
       "<table border=\"1\" class=\"dataframe\">\n",
       "  <thead>\n",
       "    <tr style=\"text-align: right;\">\n",
       "      <th></th>\n",
       "      <th>Temp_Cls</th>\n",
       "    </tr>\n",
       "  </thead>\n",
       "  <tbody>\n",
       "    <tr>\n",
       "      <th>0</th>\n",
       "      <td>0.613410</td>\n",
       "    </tr>\n",
       "    <tr>\n",
       "      <th>1</th>\n",
       "      <td>1.045007</td>\n",
       "    </tr>\n",
       "    <tr>\n",
       "      <th>2</th>\n",
       "      <td>-0.386479</td>\n",
       "    </tr>\n",
       "    <tr>\n",
       "      <th>3</th>\n",
       "      <td>-0.096462</td>\n",
       "    </tr>\n",
       "    <tr>\n",
       "      <th>4</th>\n",
       "      <td>0.657908</td>\n",
       "    </tr>\n",
       "  </tbody>\n",
       "</table>\n",
       "</div>"
      ],
      "text/plain": [
       "   Temp_Cls\n",
       "0  0.613410\n",
       "1  1.045007\n",
       "2 -0.386479\n",
       "3 -0.096462\n",
       "4  0.657908"
      ]
     },
     "execution_count": 67,
     "metadata": {},
     "output_type": "execute_result"
    }
   ],
   "source": [
    "\n",
    "df2= pd.DataFrame(data=np.random.randn(5,1), columns=['Temp_Cls'])\n",
    "df2"
   ]
  },
  {
   "cell_type": "code",
   "execution_count": 68,
   "metadata": {
    "colab": {
     "base_uri": "https://localhost:8080/",
     "height": 204
    },
    "id": "vrunZWffQY-Z",
    "outputId": "0bd3303d-1cf2-4787-f6f0-8d1accd25965"
   },
   "outputs": [
    {
     "data": {
      "text/html": [
       "<div>\n",
       "<style scoped>\n",
       "    .dataframe tbody tr th:only-of-type {\n",
       "        vertical-align: middle;\n",
       "    }\n",
       "\n",
       "    .dataframe tbody tr th {\n",
       "        vertical-align: top;\n",
       "    }\n",
       "\n",
       "    .dataframe thead th {\n",
       "        text-align: right;\n",
       "    }\n",
       "</style>\n",
       "<table border=\"1\" class=\"dataframe\">\n",
       "  <thead>\n",
       "    <tr style=\"text-align: right;\">\n",
       "      <th></th>\n",
       "      <th>Temp_Cls</th>\n",
       "      <th>Temp_Feh</th>\n",
       "    </tr>\n",
       "  </thead>\n",
       "  <tbody>\n",
       "    <tr>\n",
       "      <th>0</th>\n",
       "      <td>0.613410</td>\n",
       "      <td>33.104138</td>\n",
       "    </tr>\n",
       "    <tr>\n",
       "      <th>1</th>\n",
       "      <td>1.045007</td>\n",
       "      <td>33.881012</td>\n",
       "    </tr>\n",
       "    <tr>\n",
       "      <th>2</th>\n",
       "      <td>-0.386479</td>\n",
       "      <td>31.304337</td>\n",
       "    </tr>\n",
       "    <tr>\n",
       "      <th>3</th>\n",
       "      <td>-0.096462</td>\n",
       "      <td>31.826368</td>\n",
       "    </tr>\n",
       "    <tr>\n",
       "      <th>4</th>\n",
       "      <td>0.657908</td>\n",
       "      <td>33.184234</td>\n",
       "    </tr>\n",
       "  </tbody>\n",
       "</table>\n",
       "</div>"
      ],
      "text/plain": [
       "   Temp_Cls   Temp_Feh\n",
       "0  0.613410  33.104138\n",
       "1  1.045007  33.881012\n",
       "2 -0.386479  31.304337\n",
       "3 -0.096462  31.826368\n",
       "4  0.657908  33.184234"
      ]
     },
     "execution_count": 68,
     "metadata": {},
     "output_type": "execute_result"
    }
   ],
   "source": [
    "#Adding column\n",
    "# fahrenheit\n",
    "df2['Temp_Fah'] = df2['Temp_Cls'] * (9/5) + 32\n",
    "df2"
   ]
  },
  {
   "cell_type": "code",
   "execution_count": 69,
   "metadata": {
    "colab": {
     "base_uri": "https://localhost:8080/",
     "height": 193
    },
    "id": "7Mp9EHW4SFrZ",
    "outputId": "d00c7b26-7651-46be-f61c-edf1ceecc407"
   },
   "outputs": [
    {
     "data": {
      "text/html": [
       "<div>\n",
       "<style scoped>\n",
       "    .dataframe tbody tr th:only-of-type {\n",
       "        vertical-align: middle;\n",
       "    }\n",
       "\n",
       "    .dataframe tbody tr th {\n",
       "        vertical-align: top;\n",
       "    }\n",
       "\n",
       "    .dataframe thead th {\n",
       "        text-align: right;\n",
       "    }\n",
       "</style>\n",
       "<table border=\"1\" class=\"dataframe\">\n",
       "  <thead>\n",
       "    <tr style=\"text-align: right;\">\n",
       "      <th></th>\n",
       "      <th>2010</th>\n",
       "      <th>2011</th>\n",
       "      <th>2012</th>\n",
       "      <th>2013</th>\n",
       "      <th>2014</th>\n",
       "      <th>2015</th>\n",
       "      <th>2016</th>\n",
       "      <th>2017</th>\n",
       "      <th>2018</th>\n",
       "      <th>2019</th>\n",
       "    </tr>\n",
       "  </thead>\n",
       "  <tbody>\n",
       "    <tr>\n",
       "      <th>CHAMPIONS</th>\n",
       "      <td>Inter Milan</td>\n",
       "      <td>Barcelona</td>\n",
       "      <td>Chelsea</td>\n",
       "      <td>Bayren</td>\n",
       "      <td>REAL MADRID</td>\n",
       "      <td>Barcelona</td>\n",
       "      <td>REAL MADRID</td>\n",
       "      <td>REAL MADRID</td>\n",
       "      <td>REAL MADRID</td>\n",
       "      <td>Liverpool</td>\n",
       "    </tr>\n",
       "    <tr>\n",
       "      <th>LEAUGE</th>\n",
       "      <td>Atlético Madrid</td>\n",
       "      <td>FC Porto</td>\n",
       "      <td>Atletico Madrid</td>\n",
       "      <td>Chelsea</td>\n",
       "      <td>Sevilla</td>\n",
       "      <td>Sevilla</td>\n",
       "      <td>Sevilla</td>\n",
       "      <td>Manchester United</td>\n",
       "      <td>Atletico Madrid</td>\n",
       "      <td>Chelsea</td>\n",
       "    </tr>\n",
       "    <tr>\n",
       "      <th>SUPER</th>\n",
       "      <td>Atlético Madrid</td>\n",
       "      <td>Barcelona</td>\n",
       "      <td>Atlético Madrid</td>\n",
       "      <td>Bayern</td>\n",
       "      <td>Real Madrid</td>\n",
       "      <td>Barcelona</td>\n",
       "      <td>Real Madrid</td>\n",
       "      <td>Real Madrid</td>\n",
       "      <td>Atlético Madrid</td>\n",
       "      <td>Liverpool</td>\n",
       "    </tr>\n",
       "  </tbody>\n",
       "</table>\n",
       "</div>"
      ],
      "text/plain": [
       "                      2010       2011             2012     2013         2014  \\\n",
       "CHAMPIONS      Inter Milan  Barcelona          Chelsea   Bayren  REAL MADRID   \n",
       "LEAUGE     Atlético Madrid   FC Porto  Atletico Madrid  Chelsea      Sevilla   \n",
       "SUPER      Atlético Madrid  Barcelona  Atlético Madrid   Bayern  Real Madrid   \n",
       "\n",
       "                 2015         2016               2017             2018  \\\n",
       "CHAMPIONS  Barcelona   REAL MADRID        REAL MADRID      REAL MADRID   \n",
       "LEAUGE        Sevilla      Sevilla  Manchester United  Atletico Madrid   \n",
       "SUPER       Barcelona  Real Madrid        Real Madrid  Atlético Madrid   \n",
       "\n",
       "                2019  \n",
       "CHAMPIONS  Liverpool  \n",
       "LEAUGE       Chelsea  \n",
       "SUPER      Liverpool  "
      ]
     },
     "execution_count": 69,
     "metadata": {},
     "output_type": "execute_result"
    }
   ],
   "source": [
    "#Adding rows \n",
    "df_UFEA.loc['SUPER'] =  ['Atlético Madrid','Barcelona','Atlético Madrid','Bayern','Real Madrid','Barcelona','Real Madrid','Real Madrid','Atlético Madrid','Liverpool']\n",
    "                          \n",
    "df_UFEA                         "
   ]
  },
  {
   "cell_type": "markdown",
   "metadata": {
    "id": "2BI0GygdTNuS"
   },
   "source": [
    "### Dropping rows and columns"
   ]
  },
  {
   "cell_type": "code",
   "execution_count": 70,
   "metadata": {
    "colab": {
     "base_uri": "https://localhost:8080/"
    },
    "id": "LGaFerfnKiE-",
    "outputId": "546c9fca-3a5c-4222-fabe-bdd8cb99bd02"
   },
   "outputs": [
    {
     "data": {
      "text/html": [
       "<div>\n",
       "<style scoped>\n",
       "    .dataframe tbody tr th:only-of-type {\n",
       "        vertical-align: middle;\n",
       "    }\n",
       "\n",
       "    .dataframe tbody tr th {\n",
       "        vertical-align: top;\n",
       "    }\n",
       "\n",
       "    .dataframe thead th {\n",
       "        text-align: right;\n",
       "    }\n",
       "</style>\n",
       "<table border=\"1\" class=\"dataframe\">\n",
       "  <thead>\n",
       "    <tr style=\"text-align: right;\">\n",
       "      <th></th>\n",
       "      <th>2010</th>\n",
       "      <th>2011</th>\n",
       "      <th>2012</th>\n",
       "      <th>2013</th>\n",
       "      <th>2014</th>\n",
       "      <th>2015</th>\n",
       "      <th>2016</th>\n",
       "      <th>2017</th>\n",
       "      <th>2018</th>\n",
       "    </tr>\n",
       "  </thead>\n",
       "  <tbody>\n",
       "    <tr>\n",
       "      <th>CHAMPIONS</th>\n",
       "      <td>Inter Milan</td>\n",
       "      <td>Barcelona</td>\n",
       "      <td>Chelsea</td>\n",
       "      <td>Bayren</td>\n",
       "      <td>REAL MADRID</td>\n",
       "      <td>Barcelona</td>\n",
       "      <td>REAL MADRID</td>\n",
       "      <td>REAL MADRID</td>\n",
       "      <td>REAL MADRID</td>\n",
       "    </tr>\n",
       "    <tr>\n",
       "      <th>LEAUGE</th>\n",
       "      <td>Atlético Madrid</td>\n",
       "      <td>FC Porto</td>\n",
       "      <td>Atletico Madrid</td>\n",
       "      <td>Chelsea</td>\n",
       "      <td>Sevilla</td>\n",
       "      <td>Sevilla</td>\n",
       "      <td>Sevilla</td>\n",
       "      <td>Manchester United</td>\n",
       "      <td>Atletico Madrid</td>\n",
       "    </tr>\n",
       "    <tr>\n",
       "      <th>SUPER</th>\n",
       "      <td>Atlético Madrid</td>\n",
       "      <td>Barcelona</td>\n",
       "      <td>Atlético Madrid</td>\n",
       "      <td>Bayern</td>\n",
       "      <td>Real Madrid</td>\n",
       "      <td>Barcelona</td>\n",
       "      <td>Real Madrid</td>\n",
       "      <td>Real Madrid</td>\n",
       "      <td>Atlético Madrid</td>\n",
       "    </tr>\n",
       "  </tbody>\n",
       "</table>\n",
       "</div>"
      ],
      "text/plain": [
       "                      2010       2011             2012     2013         2014  \\\n",
       "CHAMPIONS      Inter Milan  Barcelona          Chelsea   Bayren  REAL MADRID   \n",
       "LEAUGE     Atlético Madrid   FC Porto  Atletico Madrid  Chelsea      Sevilla   \n",
       "SUPER      Atlético Madrid  Barcelona  Atlético Madrid   Bayern  Real Madrid   \n",
       "\n",
       "                 2015         2016               2017             2018  \n",
       "CHAMPIONS  Barcelona   REAL MADRID        REAL MADRID      REAL MADRID  \n",
       "LEAUGE        Sevilla      Sevilla  Manchester United  Atletico Madrid  \n",
       "SUPER       Barcelona  Real Madrid        Real Madrid  Atlético Madrid  "
      ]
     },
     "execution_count": 70,
     "metadata": {},
     "output_type": "execute_result"
    }
   ],
   "source": [
    "#Removing column without saving\n",
    "#axis = 1 is for columns \n",
    "df_UFEA.drop('2019',axis =1 )"
   ]
  },
  {
   "cell_type": "code",
   "execution_count": 71,
   "metadata": {
    "colab": {
     "base_uri": "https://localhost:8080/"
    },
    "id": "Pveqo9-IIfss",
    "outputId": "9b6336d8-4860-4e10-dc62-0b49626ba239"
   },
   "outputs": [
    {
     "data": {
      "text/html": [
       "<div>\n",
       "<style scoped>\n",
       "    .dataframe tbody tr th:only-of-type {\n",
       "        vertical-align: middle;\n",
       "    }\n",
       "\n",
       "    .dataframe tbody tr th {\n",
       "        vertical-align: top;\n",
       "    }\n",
       "\n",
       "    .dataframe thead th {\n",
       "        text-align: right;\n",
       "    }\n",
       "</style>\n",
       "<table border=\"1\" class=\"dataframe\">\n",
       "  <thead>\n",
       "    <tr style=\"text-align: right;\">\n",
       "      <th></th>\n",
       "      <th>2010</th>\n",
       "      <th>2011</th>\n",
       "      <th>2012</th>\n",
       "      <th>2013</th>\n",
       "      <th>2014</th>\n",
       "      <th>2015</th>\n",
       "      <th>2016</th>\n",
       "      <th>2017</th>\n",
       "      <th>2018</th>\n",
       "      <th>2019</th>\n",
       "    </tr>\n",
       "  </thead>\n",
       "  <tbody>\n",
       "    <tr>\n",
       "      <th>CHAMPIONS</th>\n",
       "      <td>Inter Milan</td>\n",
       "      <td>Barcelona</td>\n",
       "      <td>Chelsea</td>\n",
       "      <td>Bayren</td>\n",
       "      <td>REAL MADRID</td>\n",
       "      <td>Barcelona</td>\n",
       "      <td>REAL MADRID</td>\n",
       "      <td>REAL MADRID</td>\n",
       "      <td>REAL MADRID</td>\n",
       "      <td>Liverpool</td>\n",
       "    </tr>\n",
       "    <tr>\n",
       "      <th>LEAUGE</th>\n",
       "      <td>Atlético Madrid</td>\n",
       "      <td>FC Porto</td>\n",
       "      <td>Atletico Madrid</td>\n",
       "      <td>Chelsea</td>\n",
       "      <td>Sevilla</td>\n",
       "      <td>Sevilla</td>\n",
       "      <td>Sevilla</td>\n",
       "      <td>Manchester United</td>\n",
       "      <td>Atletico Madrid</td>\n",
       "      <td>Chelsea</td>\n",
       "    </tr>\n",
       "    <tr>\n",
       "      <th>SUPER</th>\n",
       "      <td>Atlético Madrid</td>\n",
       "      <td>Barcelona</td>\n",
       "      <td>Atlético Madrid</td>\n",
       "      <td>Bayern</td>\n",
       "      <td>Real Madrid</td>\n",
       "      <td>Barcelona</td>\n",
       "      <td>Real Madrid</td>\n",
       "      <td>Real Madrid</td>\n",
       "      <td>Atlético Madrid</td>\n",
       "      <td>Liverpool</td>\n",
       "    </tr>\n",
       "  </tbody>\n",
       "</table>\n",
       "</div>"
      ],
      "text/plain": [
       "                      2010       2011             2012     2013         2014  \\\n",
       "CHAMPIONS      Inter Milan  Barcelona          Chelsea   Bayren  REAL MADRID   \n",
       "LEAUGE     Atlético Madrid   FC Porto  Atletico Madrid  Chelsea      Sevilla   \n",
       "SUPER      Atlético Madrid  Barcelona  Atlético Madrid   Bayern  Real Madrid   \n",
       "\n",
       "                 2015         2016               2017             2018  \\\n",
       "CHAMPIONS  Barcelona   REAL MADRID        REAL MADRID      REAL MADRID   \n",
       "LEAUGE        Sevilla      Sevilla  Manchester United  Atletico Madrid   \n",
       "SUPER       Barcelona  Real Madrid        Real Madrid  Atlético Madrid   \n",
       "\n",
       "                2019  \n",
       "CHAMPIONS  Liverpool  \n",
       "LEAUGE       Chelsea  \n",
       "SUPER      Liverpool  "
      ]
     },
     "execution_count": 71,
     "metadata": {},
     "output_type": "execute_result"
    }
   ],
   "source": [
    "df_UFEA"
   ]
  },
  {
   "cell_type": "code",
   "execution_count": 72,
   "metadata": {
    "colab": {
     "base_uri": "https://localhost:8080/"
    },
    "id": "1_fEIRCCTtOY",
    "outputId": "4d85cca9-5f3a-4576-fe94-98fd47ff27d2"
   },
   "outputs": [
    {
     "data": {
      "text/html": [
       "<div>\n",
       "<style scoped>\n",
       "    .dataframe tbody tr th:only-of-type {\n",
       "        vertical-align: middle;\n",
       "    }\n",
       "\n",
       "    .dataframe tbody tr th {\n",
       "        vertical-align: top;\n",
       "    }\n",
       "\n",
       "    .dataframe thead th {\n",
       "        text-align: right;\n",
       "    }\n",
       "</style>\n",
       "<table border=\"1\" class=\"dataframe\">\n",
       "  <thead>\n",
       "    <tr style=\"text-align: right;\">\n",
       "      <th></th>\n",
       "      <th>2010</th>\n",
       "      <th>2011</th>\n",
       "      <th>2012</th>\n",
       "      <th>2013</th>\n",
       "      <th>2014</th>\n",
       "      <th>2015</th>\n",
       "      <th>2016</th>\n",
       "      <th>2019</th>\n",
       "    </tr>\n",
       "  </thead>\n",
       "  <tbody>\n",
       "    <tr>\n",
       "      <th>CHAMPIONS</th>\n",
       "      <td>Inter Milan</td>\n",
       "      <td>Barcelona</td>\n",
       "      <td>Chelsea</td>\n",
       "      <td>Bayren</td>\n",
       "      <td>REAL MADRID</td>\n",
       "      <td>Barcelona</td>\n",
       "      <td>REAL MADRID</td>\n",
       "      <td>Liverpool</td>\n",
       "    </tr>\n",
       "    <tr>\n",
       "      <th>LEAUGE</th>\n",
       "      <td>Atlético Madrid</td>\n",
       "      <td>FC Porto</td>\n",
       "      <td>Atletico Madrid</td>\n",
       "      <td>Chelsea</td>\n",
       "      <td>Sevilla</td>\n",
       "      <td>Sevilla</td>\n",
       "      <td>Sevilla</td>\n",
       "      <td>Chelsea</td>\n",
       "    </tr>\n",
       "    <tr>\n",
       "      <th>SUPER</th>\n",
       "      <td>Atlético Madrid</td>\n",
       "      <td>Barcelona</td>\n",
       "      <td>Atlético Madrid</td>\n",
       "      <td>Bayern</td>\n",
       "      <td>Real Madrid</td>\n",
       "      <td>Barcelona</td>\n",
       "      <td>Real Madrid</td>\n",
       "      <td>Liverpool</td>\n",
       "    </tr>\n",
       "  </tbody>\n",
       "</table>\n",
       "</div>"
      ],
      "text/plain": [
       "                      2010       2011             2012     2013         2014  \\\n",
       "CHAMPIONS      Inter Milan  Barcelona          Chelsea   Bayren  REAL MADRID   \n",
       "LEAUGE     Atlético Madrid   FC Porto  Atletico Madrid  Chelsea      Sevilla   \n",
       "SUPER      Atlético Madrid  Barcelona  Atlético Madrid   Bayern  Real Madrid   \n",
       "\n",
       "                 2015         2016       2019  \n",
       "CHAMPIONS  Barcelona   REAL MADRID  Liverpool  \n",
       "LEAUGE        Sevilla      Sevilla    Chelsea  \n",
       "SUPER       Barcelona  Real Madrid  Liverpool  "
      ]
     },
     "execution_count": 72,
     "metadata": {},
     "output_type": "execute_result"
    }
   ],
   "source": [
    "#Removing mutiple columns without saving\n",
    "df_UFEA.drop(columns=['2018','2017'],axis =1)"
   ]
  },
  {
   "cell_type": "code",
   "execution_count": 73,
   "metadata": {
    "id": "JcNVUrEvNcuW"
   },
   "outputs": [],
   "source": [
    "\n",
    "#Removing column with saving\n",
    "df_UFEA.drop('2019',axis =1 ,inplace=True)"
   ]
  },
  {
   "cell_type": "code",
   "execution_count": 74,
   "metadata": {
    "colab": {
     "base_uri": "https://localhost:8080/"
    },
    "id": "6gJhM8WlPWFr",
    "outputId": "0cf0e021-337e-47db-bf4a-4017127249f4"
   },
   "outputs": [
    {
     "data": {
      "text/html": [
       "<div>\n",
       "<style scoped>\n",
       "    .dataframe tbody tr th:only-of-type {\n",
       "        vertical-align: middle;\n",
       "    }\n",
       "\n",
       "    .dataframe tbody tr th {\n",
       "        vertical-align: top;\n",
       "    }\n",
       "\n",
       "    .dataframe thead th {\n",
       "        text-align: right;\n",
       "    }\n",
       "</style>\n",
       "<table border=\"1\" class=\"dataframe\">\n",
       "  <thead>\n",
       "    <tr style=\"text-align: right;\">\n",
       "      <th></th>\n",
       "      <th>2010</th>\n",
       "      <th>2011</th>\n",
       "      <th>2012</th>\n",
       "      <th>2013</th>\n",
       "      <th>2014</th>\n",
       "      <th>2015</th>\n",
       "      <th>2016</th>\n",
       "      <th>2017</th>\n",
       "      <th>2018</th>\n",
       "    </tr>\n",
       "  </thead>\n",
       "  <tbody>\n",
       "    <tr>\n",
       "      <th>CHAMPIONS</th>\n",
       "      <td>Inter Milan</td>\n",
       "      <td>Barcelona</td>\n",
       "      <td>Chelsea</td>\n",
       "      <td>Bayren</td>\n",
       "      <td>REAL MADRID</td>\n",
       "      <td>Barcelona</td>\n",
       "      <td>REAL MADRID</td>\n",
       "      <td>REAL MADRID</td>\n",
       "      <td>REAL MADRID</td>\n",
       "    </tr>\n",
       "    <tr>\n",
       "      <th>LEAUGE</th>\n",
       "      <td>Atlético Madrid</td>\n",
       "      <td>FC Porto</td>\n",
       "      <td>Atletico Madrid</td>\n",
       "      <td>Chelsea</td>\n",
       "      <td>Sevilla</td>\n",
       "      <td>Sevilla</td>\n",
       "      <td>Sevilla</td>\n",
       "      <td>Manchester United</td>\n",
       "      <td>Atletico Madrid</td>\n",
       "    </tr>\n",
       "    <tr>\n",
       "      <th>SUPER</th>\n",
       "      <td>Atlético Madrid</td>\n",
       "      <td>Barcelona</td>\n",
       "      <td>Atlético Madrid</td>\n",
       "      <td>Bayern</td>\n",
       "      <td>Real Madrid</td>\n",
       "      <td>Barcelona</td>\n",
       "      <td>Real Madrid</td>\n",
       "      <td>Real Madrid</td>\n",
       "      <td>Atlético Madrid</td>\n",
       "    </tr>\n",
       "  </tbody>\n",
       "</table>\n",
       "</div>"
      ],
      "text/plain": [
       "                      2010       2011             2012     2013         2014  \\\n",
       "CHAMPIONS      Inter Milan  Barcelona          Chelsea   Bayren  REAL MADRID   \n",
       "LEAUGE     Atlético Madrid   FC Porto  Atletico Madrid  Chelsea      Sevilla   \n",
       "SUPER      Atlético Madrid  Barcelona  Atlético Madrid   Bayern  Real Madrid   \n",
       "\n",
       "                 2015         2016               2017             2018  \n",
       "CHAMPIONS  Barcelona   REAL MADRID        REAL MADRID      REAL MADRID  \n",
       "LEAUGE        Sevilla      Sevilla  Manchester United  Atletico Madrid  \n",
       "SUPER       Barcelona  Real Madrid        Real Madrid  Atlético Madrid  "
      ]
     },
     "execution_count": 74,
     "metadata": {},
     "output_type": "execute_result"
    }
   ],
   "source": [
    "df_UFEA"
   ]
  },
  {
   "cell_type": "code",
   "execution_count": 75,
   "metadata": {
    "colab": {
     "base_uri": "https://localhost:8080/"
    },
    "id": "4Duhkm0CK7rD",
    "outputId": "031d5435-1267-4d8c-d4f7-3b7c30758a5d"
   },
   "outputs": [
    {
     "data": {
      "text/html": [
       "<div>\n",
       "<style scoped>\n",
       "    .dataframe tbody tr th:only-of-type {\n",
       "        vertical-align: middle;\n",
       "    }\n",
       "\n",
       "    .dataframe tbody tr th {\n",
       "        vertical-align: top;\n",
       "    }\n",
       "\n",
       "    .dataframe thead th {\n",
       "        text-align: right;\n",
       "    }\n",
       "</style>\n",
       "<table border=\"1\" class=\"dataframe\">\n",
       "  <thead>\n",
       "    <tr style=\"text-align: right;\">\n",
       "      <th></th>\n",
       "      <th>2010</th>\n",
       "      <th>2011</th>\n",
       "      <th>2012</th>\n",
       "      <th>2013</th>\n",
       "      <th>2014</th>\n",
       "      <th>2015</th>\n",
       "      <th>2016</th>\n",
       "      <th>2017</th>\n",
       "      <th>2018</th>\n",
       "    </tr>\n",
       "  </thead>\n",
       "  <tbody>\n",
       "    <tr>\n",
       "      <th>LEAUGE</th>\n",
       "      <td>Atlético Madrid</td>\n",
       "      <td>FC Porto</td>\n",
       "      <td>Atletico Madrid</td>\n",
       "      <td>Chelsea</td>\n",
       "      <td>Sevilla</td>\n",
       "      <td>Sevilla</td>\n",
       "      <td>Sevilla</td>\n",
       "      <td>Manchester United</td>\n",
       "      <td>Atletico Madrid</td>\n",
       "    </tr>\n",
       "    <tr>\n",
       "      <th>SUPER</th>\n",
       "      <td>Atlético Madrid</td>\n",
       "      <td>Barcelona</td>\n",
       "      <td>Atlético Madrid</td>\n",
       "      <td>Bayern</td>\n",
       "      <td>Real Madrid</td>\n",
       "      <td>Barcelona</td>\n",
       "      <td>Real Madrid</td>\n",
       "      <td>Real Madrid</td>\n",
       "      <td>Atlético Madrid</td>\n",
       "    </tr>\n",
       "  </tbody>\n",
       "</table>\n",
       "</div>"
      ],
      "text/plain": [
       "                   2010       2011             2012     2013         2014  \\\n",
       "LEAUGE  Atlético Madrid   FC Porto  Atletico Madrid  Chelsea      Sevilla   \n",
       "SUPER   Atlético Madrid  Barcelona  Atlético Madrid   Bayern  Real Madrid   \n",
       "\n",
       "             2015         2016               2017             2018  \n",
       "LEAUGE    Sevilla      Sevilla  Manchester United  Atletico Madrid  \n",
       "SUPER   Barcelona  Real Madrid        Real Madrid  Atlético Madrid  "
      ]
     },
     "execution_count": 75,
     "metadata": {},
     "output_type": "execute_result"
    }
   ],
   "source": [
    "#Removing ROW without saving\n",
    "#axis = 0 is for rows\n",
    "df_UFEA.drop('CHAMPIONS',axis =0)"
   ]
  },
  {
   "cell_type": "code",
   "execution_count": 76,
   "metadata": {
    "colab": {
     "base_uri": "https://localhost:8080/"
    },
    "id": "uGCU9SmBQn0A",
    "outputId": "32b4ae45-6cf5-4041-a31c-e6ac86db8362"
   },
   "outputs": [
    {
     "data": {
      "text/html": [
       "<div>\n",
       "<style scoped>\n",
       "    .dataframe tbody tr th:only-of-type {\n",
       "        vertical-align: middle;\n",
       "    }\n",
       "\n",
       "    .dataframe tbody tr th {\n",
       "        vertical-align: top;\n",
       "    }\n",
       "\n",
       "    .dataframe thead th {\n",
       "        text-align: right;\n",
       "    }\n",
       "</style>\n",
       "<table border=\"1\" class=\"dataframe\">\n",
       "  <thead>\n",
       "    <tr style=\"text-align: right;\">\n",
       "      <th></th>\n",
       "      <th>2010</th>\n",
       "      <th>2011</th>\n",
       "      <th>2012</th>\n",
       "      <th>2013</th>\n",
       "      <th>2014</th>\n",
       "      <th>2015</th>\n",
       "      <th>2016</th>\n",
       "      <th>2017</th>\n",
       "      <th>2018</th>\n",
       "    </tr>\n",
       "  </thead>\n",
       "  <tbody>\n",
       "    <tr>\n",
       "      <th>CHAMPIONS</th>\n",
       "      <td>Inter Milan</td>\n",
       "      <td>Barcelona</td>\n",
       "      <td>Chelsea</td>\n",
       "      <td>Bayren</td>\n",
       "      <td>REAL MADRID</td>\n",
       "      <td>Barcelona</td>\n",
       "      <td>REAL MADRID</td>\n",
       "      <td>REAL MADRID</td>\n",
       "      <td>REAL MADRID</td>\n",
       "    </tr>\n",
       "    <tr>\n",
       "      <th>LEAUGE</th>\n",
       "      <td>Atlético Madrid</td>\n",
       "      <td>FC Porto</td>\n",
       "      <td>Atletico Madrid</td>\n",
       "      <td>Chelsea</td>\n",
       "      <td>Sevilla</td>\n",
       "      <td>Sevilla</td>\n",
       "      <td>Sevilla</td>\n",
       "      <td>Manchester United</td>\n",
       "      <td>Atletico Madrid</td>\n",
       "    </tr>\n",
       "    <tr>\n",
       "      <th>SUPER</th>\n",
       "      <td>Atlético Madrid</td>\n",
       "      <td>Barcelona</td>\n",
       "      <td>Atlético Madrid</td>\n",
       "      <td>Bayern</td>\n",
       "      <td>Real Madrid</td>\n",
       "      <td>Barcelona</td>\n",
       "      <td>Real Madrid</td>\n",
       "      <td>Real Madrid</td>\n",
       "      <td>Atlético Madrid</td>\n",
       "    </tr>\n",
       "  </tbody>\n",
       "</table>\n",
       "</div>"
      ],
      "text/plain": [
       "                      2010       2011             2012     2013         2014  \\\n",
       "CHAMPIONS      Inter Milan  Barcelona          Chelsea   Bayren  REAL MADRID   \n",
       "LEAUGE     Atlético Madrid   FC Porto  Atletico Madrid  Chelsea      Sevilla   \n",
       "SUPER      Atlético Madrid  Barcelona  Atlético Madrid   Bayern  Real Madrid   \n",
       "\n",
       "                 2015         2016               2017             2018  \n",
       "CHAMPIONS  Barcelona   REAL MADRID        REAL MADRID      REAL MADRID  \n",
       "LEAUGE        Sevilla      Sevilla  Manchester United  Atletico Madrid  \n",
       "SUPER       Barcelona  Real Madrid        Real Madrid  Atlético Madrid  "
      ]
     },
     "execution_count": 76,
     "metadata": {},
     "output_type": "execute_result"
    }
   ],
   "source": [
    "df_UFEA"
   ]
  },
  {
   "cell_type": "code",
   "execution_count": null,
   "metadata": {
    "id": "jfseV4QMK7ZA"
   },
   "outputs": [],
   "source": [
    "#Removing ROW with saving\n",
    "#df_UFEA.drop('CHAMPIONS',axis =0,inplace=True)"
   ]
  },
  {
   "cell_type": "markdown",
   "metadata": {
    "id": "X5z_ZxOmVzwE"
   },
   "source": [
    "### Conditional Extraction  "
   ]
  },
  {
   "cell_type": "code",
   "execution_count": 136,
   "metadata": {
    "colab": {
     "base_uri": "https://localhost:8080/"
    },
    "id": "jnvsJddJIff8",
    "outputId": "fd818891-c9f0-4f49-d496-7dfbc7c5ed5b"
   },
   "outputs": [
    {
     "data": {
      "text/html": [
       "<div>\n",
       "<style scoped>\n",
       "    .dataframe tbody tr th:only-of-type {\n",
       "        vertical-align: middle;\n",
       "    }\n",
       "\n",
       "    .dataframe tbody tr th {\n",
       "        vertical-align: top;\n",
       "    }\n",
       "\n",
       "    .dataframe thead th {\n",
       "        text-align: right;\n",
       "    }\n",
       "</style>\n",
       "<table border=\"1\" class=\"dataframe\">\n",
       "  <thead>\n",
       "    <tr style=\"text-align: right;\">\n",
       "      <th></th>\n",
       "      <th>frist</th>\n",
       "      <th>second</th>\n",
       "      <th>third</th>\n",
       "      <th>forth</th>\n",
       "      <th>fifth</th>\n",
       "      <th>sixth</th>\n",
       "    </tr>\n",
       "  </thead>\n",
       "  <tbody>\n",
       "    <tr>\n",
       "      <th>A</th>\n",
       "      <td>-0.043469</td>\n",
       "      <td>1.351623</td>\n",
       "      <td>-0.000715</td>\n",
       "      <td>1.528508</td>\n",
       "      <td>-0.176461</td>\n",
       "      <td>0.811652</td>\n",
       "    </tr>\n",
       "    <tr>\n",
       "      <th>B</th>\n",
       "      <td>-0.588294</td>\n",
       "      <td>1.949873</td>\n",
       "      <td>-0.123025</td>\n",
       "      <td>0.410977</td>\n",
       "      <td>-0.850757</td>\n",
       "      <td>-0.673355</td>\n",
       "    </tr>\n",
       "    <tr>\n",
       "      <th>C</th>\n",
       "      <td>-0.932591</td>\n",
       "      <td>1.166528</td>\n",
       "      <td>-0.553855</td>\n",
       "      <td>-0.489535</td>\n",
       "      <td>-0.522362</td>\n",
       "      <td>1.360778</td>\n",
       "    </tr>\n",
       "    <tr>\n",
       "      <th>D</th>\n",
       "      <td>1.697138</td>\n",
       "      <td>1.204379</td>\n",
       "      <td>1.279333</td>\n",
       "      <td>0.112831</td>\n",
       "      <td>0.654385</td>\n",
       "      <td>-0.646531</td>\n",
       "    </tr>\n",
       "    <tr>\n",
       "      <th>E</th>\n",
       "      <td>-0.045828</td>\n",
       "      <td>-0.765365</td>\n",
       "      <td>0.078488</td>\n",
       "      <td>0.569864</td>\n",
       "      <td>0.633998</td>\n",
       "      <td>-0.757712</td>\n",
       "    </tr>\n",
       "    <tr>\n",
       "      <th>F</th>\n",
       "      <td>-0.349335</td>\n",
       "      <td>-1.705345</td>\n",
       "      <td>2.498188</td>\n",
       "      <td>0.998800</td>\n",
       "      <td>1.188210</td>\n",
       "      <td>1.150598</td>\n",
       "    </tr>\n",
       "  </tbody>\n",
       "</table>\n",
       "</div>"
      ],
      "text/plain": [
       "      frist    second     third     forth     fifth     sixth\n",
       "A -0.043469  1.351623 -0.000715  1.528508 -0.176461  0.811652\n",
       "B -0.588294  1.949873 -0.123025  0.410977 -0.850757 -0.673355\n",
       "C -0.932591  1.166528 -0.553855 -0.489535 -0.522362  1.360778\n",
       "D  1.697138  1.204379  1.279333  0.112831  0.654385 -0.646531\n",
       "E -0.045828 -0.765365  0.078488  0.569864  0.633998 -0.757712\n",
       "F -0.349335 -1.705345  2.498188  0.998800  1.188210  1.150598"
      ]
     },
     "execution_count": 136,
     "metadata": {},
     "output_type": "execute_result"
    }
   ],
   "source": [
    "df"
   ]
  },
  {
   "cell_type": "code",
   "execution_count": 137,
   "metadata": {
    "colab": {
     "base_uri": "https://localhost:8080/"
    },
    "id": "xSzSmA1gWjye",
    "outputId": "32782e92-7f46-412b-bb6d-e9cbdee3eeab"
   },
   "outputs": [
    {
     "data": {
      "text/html": [
       "<div>\n",
       "<style scoped>\n",
       "    .dataframe tbody tr th:only-of-type {\n",
       "        vertical-align: middle;\n",
       "    }\n",
       "\n",
       "    .dataframe tbody tr th {\n",
       "        vertical-align: top;\n",
       "    }\n",
       "\n",
       "    .dataframe thead th {\n",
       "        text-align: right;\n",
       "    }\n",
       "</style>\n",
       "<table border=\"1\" class=\"dataframe\">\n",
       "  <thead>\n",
       "    <tr style=\"text-align: right;\">\n",
       "      <th></th>\n",
       "      <th>frist</th>\n",
       "      <th>second</th>\n",
       "      <th>third</th>\n",
       "      <th>forth</th>\n",
       "      <th>fifth</th>\n",
       "      <th>sixth</th>\n",
       "    </tr>\n",
       "  </thead>\n",
       "  <tbody>\n",
       "    <tr>\n",
       "      <th>D</th>\n",
       "      <td>1.697138</td>\n",
       "      <td>1.204379</td>\n",
       "      <td>1.279333</td>\n",
       "      <td>0.112831</td>\n",
       "      <td>0.654385</td>\n",
       "      <td>-0.646531</td>\n",
       "    </tr>\n",
       "  </tbody>\n",
       "</table>\n",
       "</div>"
      ],
      "text/plain": [
       "      frist    second     third     forth     fifth     sixth\n",
       "D  1.697138  1.204379  1.279333  0.112831  0.654385 -0.646531"
      ]
     },
     "execution_count": 137,
     "metadata": {},
     "output_type": "execute_result"
    }
   ],
   "source": [
    "#Conditional Extraction of Data \n",
    "#Postive number in frist column \n",
    "postive_frist = df[df['frist']>0]\n",
    "postive_frist"
   ]
  },
  {
   "cell_type": "code",
   "execution_count": 138,
   "metadata": {
    "colab": {
     "base_uri": "https://localhost:8080/"
    },
    "id": "YO7R6LaCWjdF",
    "outputId": "644e0ab6-e2d7-435d-8cae-3698c18da410"
   },
   "outputs": [
    {
     "data": {
      "text/html": [
       "<div>\n",
       "<style scoped>\n",
       "    .dataframe tbody tr th:only-of-type {\n",
       "        vertical-align: middle;\n",
       "    }\n",
       "\n",
       "    .dataframe tbody tr th {\n",
       "        vertical-align: top;\n",
       "    }\n",
       "\n",
       "    .dataframe thead th {\n",
       "        text-align: right;\n",
       "    }\n",
       "</style>\n",
       "<table border=\"1\" class=\"dataframe\">\n",
       "  <thead>\n",
       "    <tr style=\"text-align: right;\">\n",
       "      <th></th>\n",
       "      <th>frist</th>\n",
       "      <th>second</th>\n",
       "      <th>third</th>\n",
       "      <th>forth</th>\n",
       "      <th>fifth</th>\n",
       "      <th>sixth</th>\n",
       "    </tr>\n",
       "  </thead>\n",
       "  <tbody>\n",
       "    <tr>\n",
       "      <th>A</th>\n",
       "      <td>-0.043469</td>\n",
       "      <td>1.351623</td>\n",
       "      <td>-0.000715</td>\n",
       "      <td>1.528508</td>\n",
       "      <td>-0.176461</td>\n",
       "      <td>0.811652</td>\n",
       "    </tr>\n",
       "    <tr>\n",
       "      <th>B</th>\n",
       "      <td>-0.588294</td>\n",
       "      <td>1.949873</td>\n",
       "      <td>-0.123025</td>\n",
       "      <td>0.410977</td>\n",
       "      <td>-0.850757</td>\n",
       "      <td>-0.673355</td>\n",
       "    </tr>\n",
       "    <tr>\n",
       "      <th>C</th>\n",
       "      <td>-0.932591</td>\n",
       "      <td>1.166528</td>\n",
       "      <td>-0.553855</td>\n",
       "      <td>-0.489535</td>\n",
       "      <td>-0.522362</td>\n",
       "      <td>1.360778</td>\n",
       "    </tr>\n",
       "  </tbody>\n",
       "</table>\n",
       "</div>"
      ],
      "text/plain": [
       "      frist    second     third     forth     fifth     sixth\n",
       "A -0.043469  1.351623 -0.000715  1.528508 -0.176461  0.811652\n",
       "B -0.588294  1.949873 -0.123025  0.410977 -0.850757 -0.673355\n",
       "C -0.932591  1.166528 -0.553855 -0.489535 -0.522362  1.360778"
      ]
     },
     "execution_count": 138,
     "metadata": {},
     "output_type": "execute_result"
    }
   ],
   "source": [
    "#Conditional Extraction of Data \n",
    "#Negative number in third column \n",
    "negative_third = df[df['third']<0]\n",
    "negative_third"
   ]
  },
  {
   "cell_type": "code",
   "execution_count": 139,
   "metadata": {
    "colab": {
     "base_uri": "https://localhost:8080/"
    },
    "id": "g3t-cjQbIfYh",
    "outputId": "86a3ab77-1080-4a49-bcf9-6e93fbe006b8"
   },
   "outputs": [
    {
     "data": {
      "text/html": [
       "<div>\n",
       "<style scoped>\n",
       "    .dataframe tbody tr th:only-of-type {\n",
       "        vertical-align: middle;\n",
       "    }\n",
       "\n",
       "    .dataframe tbody tr th {\n",
       "        vertical-align: top;\n",
       "    }\n",
       "\n",
       "    .dataframe thead th {\n",
       "        text-align: right;\n",
       "    }\n",
       "</style>\n",
       "<table border=\"1\" class=\"dataframe\">\n",
       "  <thead>\n",
       "    <tr style=\"text-align: right;\">\n",
       "      <th></th>\n",
       "      <th>frist</th>\n",
       "      <th>second</th>\n",
       "      <th>third</th>\n",
       "      <th>forth</th>\n",
       "      <th>fifth</th>\n",
       "      <th>sixth</th>\n",
       "    </tr>\n",
       "  </thead>\n",
       "  <tbody>\n",
       "  </tbody>\n",
       "</table>\n",
       "</div>"
      ],
      "text/plain": [
       "Empty DataFrame\n",
       "Columns: [frist, second, third, forth, fifth, sixth]\n",
       "Index: []"
      ]
     },
     "execution_count": 139,
     "metadata": {},
     "output_type": "execute_result"
    }
   ],
   "source": [
    "#Conditional Extraction of Data \n",
    "#Row and columns of postive number\n",
    "postive_df = df[ (df['frist']>0) & (df['second']>0) & (df['third']>0) & (df['forth']>0) & (df['fifth']>0) & (df['sixth']>0)]\n",
    "postive_df"
   ]
  },
  {
   "cell_type": "code",
   "execution_count": 140,
   "metadata": {
    "colab": {
     "base_uri": "https://localhost:8080/"
    },
    "id": "wSlTNZFmHxyD",
    "outputId": "6541e105-9d9d-4f08-c781-a2911aea1b73"
   },
   "outputs": [
    {
     "data": {
      "text/html": [
       "<div>\n",
       "<style scoped>\n",
       "    .dataframe tbody tr th:only-of-type {\n",
       "        vertical-align: middle;\n",
       "    }\n",
       "\n",
       "    .dataframe tbody tr th {\n",
       "        vertical-align: top;\n",
       "    }\n",
       "\n",
       "    .dataframe thead th {\n",
       "        text-align: right;\n",
       "    }\n",
       "</style>\n",
       "<table border=\"1\" class=\"dataframe\">\n",
       "  <thead>\n",
       "    <tr style=\"text-align: right;\">\n",
       "      <th></th>\n",
       "      <th>frist</th>\n",
       "      <th>second</th>\n",
       "      <th>third</th>\n",
       "      <th>forth</th>\n",
       "      <th>fifth</th>\n",
       "      <th>sixth</th>\n",
       "    </tr>\n",
       "  </thead>\n",
       "  <tbody>\n",
       "  </tbody>\n",
       "</table>\n",
       "</div>"
      ],
      "text/plain": [
       "Empty DataFrame\n",
       "Columns: [frist, second, third, forth, fifth, sixth]\n",
       "Index: []"
      ]
     },
     "execution_count": 140,
     "metadata": {},
     "output_type": "execute_result"
    }
   ],
   "source": [
    "#Conditional Extraction of Data \n",
    "#Row and columns of negative number \n",
    "negative_df = df[ (df['frist']<0) & (df['second']<0) & (df['third']<0) & (df['forth']<0) & (df['fifth']<0) & (df['sixth']<0) ]\n",
    "negative_df"
   ]
  },
  {
   "cell_type": "code",
   "execution_count": 141,
   "metadata": {
    "colab": {
     "base_uri": "https://localhost:8080/"
    },
    "id": "IgujTN2kZG4t",
    "outputId": "b39d6f12-1ed8-4eef-b219-52851c4b5098"
   },
   "outputs": [
    {
     "data": {
      "text/html": [
       "<div>\n",
       "<style scoped>\n",
       "    .dataframe tbody tr th:only-of-type {\n",
       "        vertical-align: middle;\n",
       "    }\n",
       "\n",
       "    .dataframe tbody tr th {\n",
       "        vertical-align: top;\n",
       "    }\n",
       "\n",
       "    .dataframe thead th {\n",
       "        text-align: right;\n",
       "    }\n",
       "</style>\n",
       "<table border=\"1\" class=\"dataframe\">\n",
       "  <thead>\n",
       "    <tr style=\"text-align: right;\">\n",
       "      <th></th>\n",
       "      <th>frist</th>\n",
       "      <th>second</th>\n",
       "      <th>third</th>\n",
       "      <th>forth</th>\n",
       "      <th>fifth</th>\n",
       "    </tr>\n",
       "  </thead>\n",
       "  <tbody>\n",
       "    <tr>\n",
       "      <th>AA</th>\n",
       "      <td>10</td>\n",
       "      <td>20</td>\n",
       "      <td>30</td>\n",
       "      <td>40</td>\n",
       "      <td>50</td>\n",
       "    </tr>\n",
       "    <tr>\n",
       "      <th>BB</th>\n",
       "      <td>60</td>\n",
       "      <td>70</td>\n",
       "      <td>80</td>\n",
       "      <td>90</td>\n",
       "      <td>10</td>\n",
       "    </tr>\n",
       "    <tr>\n",
       "      <th>CC</th>\n",
       "      <td>110</td>\n",
       "      <td>120</td>\n",
       "      <td>130</td>\n",
       "      <td>140</td>\n",
       "      <td>150</td>\n",
       "    </tr>\n",
       "    <tr>\n",
       "      <th>DD</th>\n",
       "      <td>132</td>\n",
       "      <td>44</td>\n",
       "      <td>5</td>\n",
       "      <td>12</td>\n",
       "      <td>666</td>\n",
       "    </tr>\n",
       "  </tbody>\n",
       "</table>\n",
       "</div>"
      ],
      "text/plain": [
       "    frist  second  third  forth  fifth\n",
       "AA     10      20     30     40     50\n",
       "BB     60      70     80     90     10\n",
       "CC    110     120    130    140    150\n",
       "DD    132      44      5     12    666"
      ]
     },
     "execution_count": 141,
     "metadata": {},
     "output_type": "execute_result"
    }
   ],
   "source": [
    "my_arr = np.array([\n",
    "                   [10,20,30,40,50],\n",
    "                   [60,70,80,90,10],\n",
    "                   [110,120,130,140,150],\n",
    "                   [132,44,5,12,666]])\n",
    "df_ = pd.DataFrame(my_arr,index=['AA','BB','CC','DD'],columns= ['frist','second', 'third','forth','fifth'])\n",
    "df_"
   ]
  },
  {
   "cell_type": "code",
   "execution_count": 142,
   "metadata": {
    "colab": {
     "base_uri": "https://localhost:8080/"
    },
    "id": "dScYdknBZkLU",
    "outputId": "8b9f35db-99f1-4f3e-d0fd-a61a18f703d6"
   },
   "outputs": [
    {
     "data": {
      "text/html": [
       "<div>\n",
       "<style scoped>\n",
       "    .dataframe tbody tr th:only-of-type {\n",
       "        vertical-align: middle;\n",
       "    }\n",
       "\n",
       "    .dataframe tbody tr th {\n",
       "        vertical-align: top;\n",
       "    }\n",
       "\n",
       "    .dataframe thead th {\n",
       "        text-align: right;\n",
       "    }\n",
       "</style>\n",
       "<table border=\"1\" class=\"dataframe\">\n",
       "  <thead>\n",
       "    <tr style=\"text-align: right;\">\n",
       "      <th></th>\n",
       "      <th>frist</th>\n",
       "      <th>second</th>\n",
       "      <th>third</th>\n",
       "      <th>forth</th>\n",
       "      <th>fifth</th>\n",
       "    </tr>\n",
       "  </thead>\n",
       "  <tbody>\n",
       "    <tr>\n",
       "      <th>AA</th>\n",
       "      <td>10</td>\n",
       "      <td>20</td>\n",
       "      <td>30</td>\n",
       "      <td>40</td>\n",
       "      <td>50</td>\n",
       "    </tr>\n",
       "    <tr>\n",
       "      <th>CC</th>\n",
       "      <td>110</td>\n",
       "      <td>120</td>\n",
       "      <td>130</td>\n",
       "      <td>140</td>\n",
       "      <td>150</td>\n",
       "    </tr>\n",
       "  </tbody>\n",
       "</table>\n",
       "</div>"
      ],
      "text/plain": [
       "    frist  second  third  forth  fifth\n",
       "AA     10      20     30     40     50\n",
       "CC    110     120    130    140    150"
      ]
     },
     "execution_count": 142,
     "metadata": {},
     "output_type": "execute_result"
    }
   ],
   "source": [
    "\n",
    "df_ [df_ ['frist'].isin([10,110])]\n"
   ]
  },
  {
   "cell_type": "markdown",
   "metadata": {
    "id": "ODkjtFJsb7H4"
   },
   "source": [
    "### Setting  and Reseting indexs"
   ]
  },
  {
   "cell_type": "code",
   "execution_count": 143,
   "metadata": {
    "colab": {
     "base_uri": "https://localhost:8080/",
     "height": 235
    },
    "id": "ppu_iis9c4aw",
    "outputId": "7ed6c095-9af2-432a-bb7f-bb7067a7c0fe"
   },
   "outputs": [
    {
     "data": {
      "text/html": [
       "<div>\n",
       "<style scoped>\n",
       "    .dataframe tbody tr th:only-of-type {\n",
       "        vertical-align: middle;\n",
       "    }\n",
       "\n",
       "    .dataframe tbody tr th {\n",
       "        vertical-align: top;\n",
       "    }\n",
       "\n",
       "    .dataframe thead th {\n",
       "        text-align: right;\n",
       "    }\n",
       "</style>\n",
       "<table border=\"1\" class=\"dataframe\">\n",
       "  <thead>\n",
       "    <tr style=\"text-align: right;\">\n",
       "      <th></th>\n",
       "      <th>frist</th>\n",
       "      <th>second</th>\n",
       "      <th>third</th>\n",
       "      <th>forth</th>\n",
       "      <th>fifth</th>\n",
       "      <th>sixth</th>\n",
       "    </tr>\n",
       "  </thead>\n",
       "  <tbody>\n",
       "    <tr>\n",
       "      <th>A</th>\n",
       "      <td>-0.043469</td>\n",
       "      <td>1.351623</td>\n",
       "      <td>-0.000715</td>\n",
       "      <td>1.528508</td>\n",
       "      <td>-0.176461</td>\n",
       "      <td>0.811652</td>\n",
       "    </tr>\n",
       "    <tr>\n",
       "      <th>B</th>\n",
       "      <td>-0.588294</td>\n",
       "      <td>1.949873</td>\n",
       "      <td>-0.123025</td>\n",
       "      <td>0.410977</td>\n",
       "      <td>-0.850757</td>\n",
       "      <td>-0.673355</td>\n",
       "    </tr>\n",
       "    <tr>\n",
       "      <th>C</th>\n",
       "      <td>-0.932591</td>\n",
       "      <td>1.166528</td>\n",
       "      <td>-0.553855</td>\n",
       "      <td>-0.489535</td>\n",
       "      <td>-0.522362</td>\n",
       "      <td>1.360778</td>\n",
       "    </tr>\n",
       "    <tr>\n",
       "      <th>D</th>\n",
       "      <td>1.697138</td>\n",
       "      <td>1.204379</td>\n",
       "      <td>1.279333</td>\n",
       "      <td>0.112831</td>\n",
       "      <td>0.654385</td>\n",
       "      <td>-0.646531</td>\n",
       "    </tr>\n",
       "    <tr>\n",
       "      <th>E</th>\n",
       "      <td>-0.045828</td>\n",
       "      <td>-0.765365</td>\n",
       "      <td>0.078488</td>\n",
       "      <td>0.569864</td>\n",
       "      <td>0.633998</td>\n",
       "      <td>-0.757712</td>\n",
       "    </tr>\n",
       "    <tr>\n",
       "      <th>F</th>\n",
       "      <td>-0.349335</td>\n",
       "      <td>-1.705345</td>\n",
       "      <td>2.498188</td>\n",
       "      <td>0.998800</td>\n",
       "      <td>1.188210</td>\n",
       "      <td>1.150598</td>\n",
       "    </tr>\n",
       "  </tbody>\n",
       "</table>\n",
       "</div>"
      ],
      "text/plain": [
       "      frist    second     third     forth     fifth     sixth\n",
       "A -0.043469  1.351623 -0.000715  1.528508 -0.176461  0.811652\n",
       "B -0.588294  1.949873 -0.123025  0.410977 -0.850757 -0.673355\n",
       "C -0.932591  1.166528 -0.553855 -0.489535 -0.522362  1.360778\n",
       "D  1.697138  1.204379  1.279333  0.112831  0.654385 -0.646531\n",
       "E -0.045828 -0.765365  0.078488  0.569864  0.633998 -0.757712\n",
       "F -0.349335 -1.705345  2.498188  0.998800  1.188210  1.150598"
      ]
     },
     "execution_count": 143,
     "metadata": {},
     "output_type": "execute_result"
    }
   ],
   "source": [
    "df"
   ]
  },
  {
   "cell_type": "code",
   "execution_count": 144,
   "metadata": {
    "colab": {
     "base_uri": "https://localhost:8080/",
     "height": 235
    },
    "id": "gaYsdD3Ic74b",
    "outputId": "6693e77a-60b5-4da0-f9f5-02c28e89d027"
   },
   "outputs": [
    {
     "data": {
      "text/html": [
       "<div>\n",
       "<style scoped>\n",
       "    .dataframe tbody tr th:only-of-type {\n",
       "        vertical-align: middle;\n",
       "    }\n",
       "\n",
       "    .dataframe tbody tr th {\n",
       "        vertical-align: top;\n",
       "    }\n",
       "\n",
       "    .dataframe thead th {\n",
       "        text-align: right;\n",
       "    }\n",
       "</style>\n",
       "<table border=\"1\" class=\"dataframe\">\n",
       "  <thead>\n",
       "    <tr style=\"text-align: right;\">\n",
       "      <th></th>\n",
       "      <th>frist</th>\n",
       "      <th>second</th>\n",
       "      <th>third</th>\n",
       "      <th>forth</th>\n",
       "      <th>fifth</th>\n",
       "      <th>sixth</th>\n",
       "      <th>index</th>\n",
       "    </tr>\n",
       "  </thead>\n",
       "  <tbody>\n",
       "    <tr>\n",
       "      <th>A</th>\n",
       "      <td>-0.043469</td>\n",
       "      <td>1.351623</td>\n",
       "      <td>-0.000715</td>\n",
       "      <td>1.528508</td>\n",
       "      <td>-0.176461</td>\n",
       "      <td>0.811652</td>\n",
       "      <td>1st</td>\n",
       "    </tr>\n",
       "    <tr>\n",
       "      <th>B</th>\n",
       "      <td>-0.588294</td>\n",
       "      <td>1.949873</td>\n",
       "      <td>-0.123025</td>\n",
       "      <td>0.410977</td>\n",
       "      <td>-0.850757</td>\n",
       "      <td>-0.673355</td>\n",
       "      <td>2nd</td>\n",
       "    </tr>\n",
       "    <tr>\n",
       "      <th>C</th>\n",
       "      <td>-0.932591</td>\n",
       "      <td>1.166528</td>\n",
       "      <td>-0.553855</td>\n",
       "      <td>-0.489535</td>\n",
       "      <td>-0.522362</td>\n",
       "      <td>1.360778</td>\n",
       "      <td>3rd</td>\n",
       "    </tr>\n",
       "    <tr>\n",
       "      <th>D</th>\n",
       "      <td>1.697138</td>\n",
       "      <td>1.204379</td>\n",
       "      <td>1.279333</td>\n",
       "      <td>0.112831</td>\n",
       "      <td>0.654385</td>\n",
       "      <td>-0.646531</td>\n",
       "      <td>4th</td>\n",
       "    </tr>\n",
       "    <tr>\n",
       "      <th>E</th>\n",
       "      <td>-0.045828</td>\n",
       "      <td>-0.765365</td>\n",
       "      <td>0.078488</td>\n",
       "      <td>0.569864</td>\n",
       "      <td>0.633998</td>\n",
       "      <td>-0.757712</td>\n",
       "      <td>5th</td>\n",
       "    </tr>\n",
       "    <tr>\n",
       "      <th>F</th>\n",
       "      <td>-0.349335</td>\n",
       "      <td>-1.705345</td>\n",
       "      <td>2.498188</td>\n",
       "      <td>0.998800</td>\n",
       "      <td>1.188210</td>\n",
       "      <td>1.150598</td>\n",
       "      <td>6th</td>\n",
       "    </tr>\n",
       "  </tbody>\n",
       "</table>\n",
       "</div>"
      ],
      "text/plain": [
       "      frist    second     third     forth     fifth     sixth index\n",
       "A -0.043469  1.351623 -0.000715  1.528508 -0.176461  0.811652   1st\n",
       "B -0.588294  1.949873 -0.123025  0.410977 -0.850757 -0.673355   2nd\n",
       "C -0.932591  1.166528 -0.553855 -0.489535 -0.522362  1.360778   3rd\n",
       "D  1.697138  1.204379  1.279333  0.112831  0.654385 -0.646531   4th\n",
       "E -0.045828 -0.765365  0.078488  0.569864  0.633998 -0.757712   5th\n",
       "F -0.349335 -1.705345  2.498188  0.998800  1.188210  1.150598   6th"
      ]
     },
     "execution_count": 144,
     "metadata": {},
     "output_type": "execute_result"
    }
   ],
   "source": [
    "newind = ['1st', '2nd', '3rd', '4th', '5th','6th']\n",
    "df['index'] = newind\n",
    "df"
   ]
  },
  {
   "cell_type": "code",
   "execution_count": 145,
   "metadata": {
    "colab": {
     "base_uri": "https://localhost:8080/",
     "height": 266
    },
    "id": "vCXC4uFxdOH7",
    "outputId": "372cce69-c9b4-47eb-dca8-e6bb060aa02e"
   },
   "outputs": [
    {
     "data": {
      "text/html": [
       "<div>\n",
       "<style scoped>\n",
       "    .dataframe tbody tr th:only-of-type {\n",
       "        vertical-align: middle;\n",
       "    }\n",
       "\n",
       "    .dataframe tbody tr th {\n",
       "        vertical-align: top;\n",
       "    }\n",
       "\n",
       "    .dataframe thead th {\n",
       "        text-align: right;\n",
       "    }\n",
       "</style>\n",
       "<table border=\"1\" class=\"dataframe\">\n",
       "  <thead>\n",
       "    <tr style=\"text-align: right;\">\n",
       "      <th></th>\n",
       "      <th>frist</th>\n",
       "      <th>second</th>\n",
       "      <th>third</th>\n",
       "      <th>forth</th>\n",
       "      <th>fifth</th>\n",
       "      <th>sixth</th>\n",
       "      <th>index</th>\n",
       "    </tr>\n",
       "    <tr>\n",
       "      <th>index</th>\n",
       "      <th></th>\n",
       "      <th></th>\n",
       "      <th></th>\n",
       "      <th></th>\n",
       "      <th></th>\n",
       "      <th></th>\n",
       "      <th></th>\n",
       "    </tr>\n",
       "  </thead>\n",
       "  <tbody>\n",
       "    <tr>\n",
       "      <th>1st</th>\n",
       "      <td>-0.043469</td>\n",
       "      <td>1.351623</td>\n",
       "      <td>-0.000715</td>\n",
       "      <td>1.528508</td>\n",
       "      <td>-0.176461</td>\n",
       "      <td>0.811652</td>\n",
       "      <td>1st</td>\n",
       "    </tr>\n",
       "    <tr>\n",
       "      <th>2nd</th>\n",
       "      <td>-0.588294</td>\n",
       "      <td>1.949873</td>\n",
       "      <td>-0.123025</td>\n",
       "      <td>0.410977</td>\n",
       "      <td>-0.850757</td>\n",
       "      <td>-0.673355</td>\n",
       "      <td>2nd</td>\n",
       "    </tr>\n",
       "    <tr>\n",
       "      <th>3rd</th>\n",
       "      <td>-0.932591</td>\n",
       "      <td>1.166528</td>\n",
       "      <td>-0.553855</td>\n",
       "      <td>-0.489535</td>\n",
       "      <td>-0.522362</td>\n",
       "      <td>1.360778</td>\n",
       "      <td>3rd</td>\n",
       "    </tr>\n",
       "    <tr>\n",
       "      <th>4th</th>\n",
       "      <td>1.697138</td>\n",
       "      <td>1.204379</td>\n",
       "      <td>1.279333</td>\n",
       "      <td>0.112831</td>\n",
       "      <td>0.654385</td>\n",
       "      <td>-0.646531</td>\n",
       "      <td>4th</td>\n",
       "    </tr>\n",
       "    <tr>\n",
       "      <th>5th</th>\n",
       "      <td>-0.045828</td>\n",
       "      <td>-0.765365</td>\n",
       "      <td>0.078488</td>\n",
       "      <td>0.569864</td>\n",
       "      <td>0.633998</td>\n",
       "      <td>-0.757712</td>\n",
       "      <td>5th</td>\n",
       "    </tr>\n",
       "    <tr>\n",
       "      <th>6th</th>\n",
       "      <td>-0.349335</td>\n",
       "      <td>-1.705345</td>\n",
       "      <td>2.498188</td>\n",
       "      <td>0.998800</td>\n",
       "      <td>1.188210</td>\n",
       "      <td>1.150598</td>\n",
       "      <td>6th</td>\n",
       "    </tr>\n",
       "  </tbody>\n",
       "</table>\n",
       "</div>"
      ],
      "text/plain": [
       "          frist    second     third     forth     fifth     sixth index\n",
       "index                                                                  \n",
       "1st   -0.043469  1.351623 -0.000715  1.528508 -0.176461  0.811652   1st\n",
       "2nd   -0.588294  1.949873 -0.123025  0.410977 -0.850757 -0.673355   2nd\n",
       "3rd   -0.932591  1.166528 -0.553855 -0.489535 -0.522362  1.360778   3rd\n",
       "4th    1.697138  1.204379  1.279333  0.112831  0.654385 -0.646531   4th\n",
       "5th   -0.045828 -0.765365  0.078488  0.569864  0.633998 -0.757712   5th\n",
       "6th   -0.349335 -1.705345  2.498188  0.998800  1.188210  1.150598   6th"
      ]
     },
     "execution_count": 145,
     "metadata": {},
     "output_type": "execute_result"
    }
   ],
   "source": [
    "# Creating index from columns \n",
    "#drop = False is for deleting columns from the dataset or not \n",
    "df.set_index('index',inplace=True , drop = False)\n",
    "df"
   ]
  },
  {
   "cell_type": "code",
   "execution_count": 146,
   "metadata": {
    "colab": {
     "base_uri": "https://localhost:8080/",
     "height": 266
    },
    "id": "EnjkN_W4d0Rg",
    "outputId": "92599659-b90c-49c5-b3d5-da79653391a9"
   },
   "outputs": [
    {
     "data": {
      "text/html": [
       "<div>\n",
       "<style scoped>\n",
       "    .dataframe tbody tr th:only-of-type {\n",
       "        vertical-align: middle;\n",
       "    }\n",
       "\n",
       "    .dataframe tbody tr th {\n",
       "        vertical-align: top;\n",
       "    }\n",
       "\n",
       "    .dataframe thead th {\n",
       "        text-align: right;\n",
       "    }\n",
       "</style>\n",
       "<table border=\"1\" class=\"dataframe\">\n",
       "  <thead>\n",
       "    <tr style=\"text-align: right;\">\n",
       "      <th></th>\n",
       "      <th>frist</th>\n",
       "      <th>second</th>\n",
       "      <th>third</th>\n",
       "      <th>forth</th>\n",
       "      <th>fifth</th>\n",
       "      <th>sixth</th>\n",
       "    </tr>\n",
       "    <tr>\n",
       "      <th>index</th>\n",
       "      <th></th>\n",
       "      <th></th>\n",
       "      <th></th>\n",
       "      <th></th>\n",
       "      <th></th>\n",
       "      <th></th>\n",
       "    </tr>\n",
       "  </thead>\n",
       "  <tbody>\n",
       "    <tr>\n",
       "      <th>1st</th>\n",
       "      <td>-0.043469</td>\n",
       "      <td>1.351623</td>\n",
       "      <td>-0.000715</td>\n",
       "      <td>1.528508</td>\n",
       "      <td>-0.176461</td>\n",
       "      <td>0.811652</td>\n",
       "    </tr>\n",
       "    <tr>\n",
       "      <th>2nd</th>\n",
       "      <td>-0.588294</td>\n",
       "      <td>1.949873</td>\n",
       "      <td>-0.123025</td>\n",
       "      <td>0.410977</td>\n",
       "      <td>-0.850757</td>\n",
       "      <td>-0.673355</td>\n",
       "    </tr>\n",
       "    <tr>\n",
       "      <th>3rd</th>\n",
       "      <td>-0.932591</td>\n",
       "      <td>1.166528</td>\n",
       "      <td>-0.553855</td>\n",
       "      <td>-0.489535</td>\n",
       "      <td>-0.522362</td>\n",
       "      <td>1.360778</td>\n",
       "    </tr>\n",
       "    <tr>\n",
       "      <th>4th</th>\n",
       "      <td>1.697138</td>\n",
       "      <td>1.204379</td>\n",
       "      <td>1.279333</td>\n",
       "      <td>0.112831</td>\n",
       "      <td>0.654385</td>\n",
       "      <td>-0.646531</td>\n",
       "    </tr>\n",
       "    <tr>\n",
       "      <th>5th</th>\n",
       "      <td>-0.045828</td>\n",
       "      <td>-0.765365</td>\n",
       "      <td>0.078488</td>\n",
       "      <td>0.569864</td>\n",
       "      <td>0.633998</td>\n",
       "      <td>-0.757712</td>\n",
       "    </tr>\n",
       "    <tr>\n",
       "      <th>6th</th>\n",
       "      <td>-0.349335</td>\n",
       "      <td>-1.705345</td>\n",
       "      <td>2.498188</td>\n",
       "      <td>0.998800</td>\n",
       "      <td>1.188210</td>\n",
       "      <td>1.150598</td>\n",
       "    </tr>\n",
       "  </tbody>\n",
       "</table>\n",
       "</div>"
      ],
      "text/plain": [
       "          frist    second     third     forth     fifth     sixth\n",
       "index                                                            \n",
       "1st   -0.043469  1.351623 -0.000715  1.528508 -0.176461  0.811652\n",
       "2nd   -0.588294  1.949873 -0.123025  0.410977 -0.850757 -0.673355\n",
       "3rd   -0.932591  1.166528 -0.553855 -0.489535 -0.522362  1.360778\n",
       "4th    1.697138  1.204379  1.279333  0.112831  0.654385 -0.646531\n",
       "5th   -0.045828 -0.765365  0.078488  0.569864  0.633998 -0.757712\n",
       "6th   -0.349335 -1.705345  2.498188  0.998800  1.188210  1.150598"
      ]
     },
     "execution_count": 146,
     "metadata": {},
     "output_type": "execute_result"
    }
   ],
   "source": [
    "# Creating index from columns \n",
    "#drop = False is for deleting columns from the dataset or not \n",
    "df.set_index('index',inplace=True , drop = True)\n",
    "df"
   ]
  },
  {
   "cell_type": "code",
   "execution_count": 147,
   "metadata": {
    "colab": {
     "base_uri": "https://localhost:8080/",
     "height": 235
    },
    "id": "-kEeSyWCfH6g",
    "outputId": "431d504d-de4d-4046-fc79-1c0b1b7e84cb"
   },
   "outputs": [
    {
     "data": {
      "text/html": [
       "<div>\n",
       "<style scoped>\n",
       "    .dataframe tbody tr th:only-of-type {\n",
       "        vertical-align: middle;\n",
       "    }\n",
       "\n",
       "    .dataframe tbody tr th {\n",
       "        vertical-align: top;\n",
       "    }\n",
       "\n",
       "    .dataframe thead th {\n",
       "        text-align: right;\n",
       "    }\n",
       "</style>\n",
       "<table border=\"1\" class=\"dataframe\">\n",
       "  <thead>\n",
       "    <tr style=\"text-align: right;\">\n",
       "      <th></th>\n",
       "      <th>index</th>\n",
       "      <th>frist</th>\n",
       "      <th>second</th>\n",
       "      <th>third</th>\n",
       "      <th>forth</th>\n",
       "      <th>fifth</th>\n",
       "      <th>sixth</th>\n",
       "    </tr>\n",
       "  </thead>\n",
       "  <tbody>\n",
       "    <tr>\n",
       "      <th>0</th>\n",
       "      <td>1st</td>\n",
       "      <td>-0.043469</td>\n",
       "      <td>1.351623</td>\n",
       "      <td>-0.000715</td>\n",
       "      <td>1.528508</td>\n",
       "      <td>-0.176461</td>\n",
       "      <td>0.811652</td>\n",
       "    </tr>\n",
       "    <tr>\n",
       "      <th>1</th>\n",
       "      <td>2nd</td>\n",
       "      <td>-0.588294</td>\n",
       "      <td>1.949873</td>\n",
       "      <td>-0.123025</td>\n",
       "      <td>0.410977</td>\n",
       "      <td>-0.850757</td>\n",
       "      <td>-0.673355</td>\n",
       "    </tr>\n",
       "    <tr>\n",
       "      <th>2</th>\n",
       "      <td>3rd</td>\n",
       "      <td>-0.932591</td>\n",
       "      <td>1.166528</td>\n",
       "      <td>-0.553855</td>\n",
       "      <td>-0.489535</td>\n",
       "      <td>-0.522362</td>\n",
       "      <td>1.360778</td>\n",
       "    </tr>\n",
       "    <tr>\n",
       "      <th>3</th>\n",
       "      <td>4th</td>\n",
       "      <td>1.697138</td>\n",
       "      <td>1.204379</td>\n",
       "      <td>1.279333</td>\n",
       "      <td>0.112831</td>\n",
       "      <td>0.654385</td>\n",
       "      <td>-0.646531</td>\n",
       "    </tr>\n",
       "    <tr>\n",
       "      <th>4</th>\n",
       "      <td>5th</td>\n",
       "      <td>-0.045828</td>\n",
       "      <td>-0.765365</td>\n",
       "      <td>0.078488</td>\n",
       "      <td>0.569864</td>\n",
       "      <td>0.633998</td>\n",
       "      <td>-0.757712</td>\n",
       "    </tr>\n",
       "    <tr>\n",
       "      <th>5</th>\n",
       "      <td>6th</td>\n",
       "      <td>-0.349335</td>\n",
       "      <td>-1.705345</td>\n",
       "      <td>2.498188</td>\n",
       "      <td>0.998800</td>\n",
       "      <td>1.188210</td>\n",
       "      <td>1.150598</td>\n",
       "    </tr>\n",
       "  </tbody>\n",
       "</table>\n",
       "</div>"
      ],
      "text/plain": [
       "  index     frist    second     third     forth     fifth     sixth\n",
       "0   1st -0.043469  1.351623 -0.000715  1.528508 -0.176461  0.811652\n",
       "1   2nd -0.588294  1.949873 -0.123025  0.410977 -0.850757 -0.673355\n",
       "2   3rd -0.932591  1.166528 -0.553855 -0.489535 -0.522362  1.360778\n",
       "3   4th  1.697138  1.204379  1.279333  0.112831  0.654385 -0.646531\n",
       "4   5th -0.045828 -0.765365  0.078488  0.569864  0.633998 -0.757712\n",
       "5   6th -0.349335 -1.705345  2.498188  0.998800  1.188210  1.150598"
      ]
     },
     "execution_count": 147,
     "metadata": {},
     "output_type": "execute_result"
    }
   ],
   "source": [
    "df.reset_index(inplace=True)\n",
    "df"
   ]
  },
  {
   "cell_type": "markdown",
   "metadata": {
    "id": "Tcbsz3U7HvCp"
   },
   "source": [
    "<a id='opdf2'></a>\n",
    "\n",
    "## Operations in pandas dataframe 2 :\n",
    "\n",
    "\n",
    "\n"
   ]
  },
  {
   "cell_type": "code",
   "execution_count": null,
   "metadata": {
    "colab": {
     "base_uri": "https://localhost:8080/",
     "height": 193
    },
    "id": "xxSMfAiaxcuX",
    "outputId": "a9161d6b-ded4-46a4-cc9b-5b228179d633"
   },
   "outputs": [
    {
     "data": {
      "text/html": [
       "<div>\n",
       "<style scoped>\n",
       "    .dataframe tbody tr th:only-of-type {\n",
       "        vertical-align: middle;\n",
       "    }\n",
       "\n",
       "    .dataframe tbody tr th {\n",
       "        vertical-align: top;\n",
       "    }\n",
       "\n",
       "    .dataframe thead th {\n",
       "        text-align: right;\n",
       "    }\n",
       "</style>\n",
       "<table border=\"1\" class=\"dataframe\">\n",
       "  <thead>\n",
       "    <tr style=\"text-align: right;\">\n",
       "      <th></th>\n",
       "      <th>2010</th>\n",
       "      <th>2011</th>\n",
       "      <th>2012</th>\n",
       "      <th>2013</th>\n",
       "      <th>2014</th>\n",
       "      <th>2015</th>\n",
       "      <th>2016</th>\n",
       "      <th>2017</th>\n",
       "      <th>2018</th>\n",
       "    </tr>\n",
       "  </thead>\n",
       "  <tbody>\n",
       "    <tr>\n",
       "      <th>CHAMPIONS</th>\n",
       "      <td>Inter Milan</td>\n",
       "      <td>Barcelona</td>\n",
       "      <td>Chelsea</td>\n",
       "      <td>Bayren</td>\n",
       "      <td>REAL MADRID</td>\n",
       "      <td>Barcelona</td>\n",
       "      <td>REAL MADRID</td>\n",
       "      <td>REAL MADRID</td>\n",
       "      <td>REAL MADRID</td>\n",
       "    </tr>\n",
       "    <tr>\n",
       "      <th>LEAUGE</th>\n",
       "      <td>Atlético Madrid</td>\n",
       "      <td>FC Porto</td>\n",
       "      <td>Atletico Madrid</td>\n",
       "      <td>Chelsea</td>\n",
       "      <td>Sevilla</td>\n",
       "      <td>Sevilla</td>\n",
       "      <td>Sevilla</td>\n",
       "      <td>Manchester United</td>\n",
       "      <td>Atletico Madrid</td>\n",
       "    </tr>\n",
       "    <tr>\n",
       "      <th>SUPER</th>\n",
       "      <td>Atlético Madrid</td>\n",
       "      <td>Barcelona</td>\n",
       "      <td>Atlético Madrid</td>\n",
       "      <td>Bayern</td>\n",
       "      <td>Real Madrid</td>\n",
       "      <td>Barcelona</td>\n",
       "      <td>Real Madrid</td>\n",
       "      <td>Real Madrid</td>\n",
       "      <td>Atlético Madrid</td>\n",
       "    </tr>\n",
       "  </tbody>\n",
       "</table>\n",
       "</div>"
      ],
      "text/plain": [
       "                      2010       2011  ...               2017             2018\n",
       "CHAMPIONS      Inter Milan  Barcelona  ...        REAL MADRID      REAL MADRID\n",
       "LEAUGE     Atlético Madrid   FC Porto  ...  Manchester United  Atletico Madrid\n",
       "SUPER      Atlético Madrid  Barcelona  ...        Real Madrid  Atlético Madrid\n",
       "\n",
       "[3 rows x 9 columns]"
      ]
     },
     "execution_count": 179,
     "metadata": {
      "tags": []
     },
     "output_type": "execute_result"
    }
   ],
   "source": [
    "# Copy of DataFrame\n",
    "copy_ufea = df_UFEA.copy()\n",
    "copy_ufea "
   ]
  },
  {
   "cell_type": "code",
   "execution_count": null,
   "metadata": {
    "colab": {
     "base_uri": "https://localhost:8080/",
     "height": 328
    },
    "id": "0Gr4j2qpxrtC",
    "outputId": "dd6d82d1-e7f3-41ca-bd88-362582e9eaa9"
   },
   "outputs": [
    {
     "data": {
      "text/html": [
       "<div>\n",
       "<style scoped>\n",
       "    .dataframe tbody tr th:only-of-type {\n",
       "        vertical-align: middle;\n",
       "    }\n",
       "\n",
       "    .dataframe tbody tr th {\n",
       "        vertical-align: top;\n",
       "    }\n",
       "\n",
       "    .dataframe thead th {\n",
       "        text-align: right;\n",
       "    }\n",
       "</style>\n",
       "<table border=\"1\" class=\"dataframe\">\n",
       "  <thead>\n",
       "    <tr style=\"text-align: right;\">\n",
       "      <th></th>\n",
       "      <th>CHAMPIONS</th>\n",
       "      <th>LEAUGE</th>\n",
       "      <th>SUPER</th>\n",
       "    </tr>\n",
       "  </thead>\n",
       "  <tbody>\n",
       "    <tr>\n",
       "      <th>2010</th>\n",
       "      <td>Inter Milan</td>\n",
       "      <td>Atlético Madrid</td>\n",
       "      <td>Atlético Madrid</td>\n",
       "    </tr>\n",
       "    <tr>\n",
       "      <th>2011</th>\n",
       "      <td>Barcelona</td>\n",
       "      <td>FC Porto</td>\n",
       "      <td>Barcelona</td>\n",
       "    </tr>\n",
       "    <tr>\n",
       "      <th>2012</th>\n",
       "      <td>Chelsea</td>\n",
       "      <td>Atletico Madrid</td>\n",
       "      <td>Atlético Madrid</td>\n",
       "    </tr>\n",
       "    <tr>\n",
       "      <th>2013</th>\n",
       "      <td>Bayren</td>\n",
       "      <td>Chelsea</td>\n",
       "      <td>Bayern</td>\n",
       "    </tr>\n",
       "    <tr>\n",
       "      <th>2014</th>\n",
       "      <td>REAL MADRID</td>\n",
       "      <td>Sevilla</td>\n",
       "      <td>Real Madrid</td>\n",
       "    </tr>\n",
       "    <tr>\n",
       "      <th>2015</th>\n",
       "      <td>Barcelona</td>\n",
       "      <td>Sevilla</td>\n",
       "      <td>Barcelona</td>\n",
       "    </tr>\n",
       "    <tr>\n",
       "      <th>2016</th>\n",
       "      <td>REAL MADRID</td>\n",
       "      <td>Sevilla</td>\n",
       "      <td>Real Madrid</td>\n",
       "    </tr>\n",
       "    <tr>\n",
       "      <th>2017</th>\n",
       "      <td>REAL MADRID</td>\n",
       "      <td>Manchester United</td>\n",
       "      <td>Real Madrid</td>\n",
       "    </tr>\n",
       "    <tr>\n",
       "      <th>2018</th>\n",
       "      <td>REAL MADRID</td>\n",
       "      <td>Atletico Madrid</td>\n",
       "      <td>Atlético Madrid</td>\n",
       "    </tr>\n",
       "  </tbody>\n",
       "</table>\n",
       "</div>"
      ],
      "text/plain": [
       "        CHAMPIONS             LEAUGE            SUPER\n",
       "2010  Inter Milan    Atlético Madrid  Atlético Madrid\n",
       "2011    Barcelona           FC Porto        Barcelona\n",
       "2012      Chelsea    Atletico Madrid  Atlético Madrid\n",
       "2013       Bayren            Chelsea           Bayern\n",
       "2014  REAL MADRID            Sevilla      Real Madrid\n",
       "2015   Barcelona             Sevilla        Barcelona\n",
       "2016  REAL MADRID            Sevilla      Real Madrid\n",
       "2017  REAL MADRID  Manchester United      Real Madrid\n",
       "2018  REAL MADRID    Atletico Madrid  Atlético Madrid"
      ]
     },
     "execution_count": 180,
     "metadata": {
      "tags": []
     },
     "output_type": "execute_result"
    }
   ],
   "source": [
    "#Getting transpose of dataset \n",
    "copy_ufea= copy_ufea.T\n",
    "copy_ufea"
   ]
  },
  {
   "cell_type": "code",
   "execution_count": null,
   "metadata": {
    "colab": {
     "background_save": true,
     "base_uri": "https://localhost:8080/"
    },
    "id": "p4bQlYW0cGo5",
    "outputId": "6c3ee4a3-01e9-492c-95be-3827254bb6b0"
   },
   "outputs": [
    {
     "data": {
      "text/plain": [
       "Real Madrid        3\n",
       "Atlético Madrid    3\n",
       "Barcelona          2\n",
       "Bayern             1\n",
       "Name: SUPER, dtype: int64"
      ]
     },
     "execution_count": 0,
     "metadata": {
      "tags": []
     },
     "output_type": "execute_result"
    }
   ],
   "source": [
    "copy_ufea['SUPER'].value_counts() "
   ]
  },
  {
   "cell_type": "code",
   "execution_count": null,
   "metadata": {
    "colab": {
     "background_save": true,
     "base_uri": "https://localhost:8080/"
    },
    "id": "_SpQdzB8fhPW",
    "outputId": "071b4423-f46b-48e0-af37-ffab6f753a46"
   },
   "outputs": [
    {
     "data": {
      "text/plain": [
       "REAL MADRID    4\n",
       "Bayren         1\n",
       "Barcelona      1\n",
       "Inter Milan    1\n",
       "Chelsea        1\n",
       "Barcelona      1\n",
       "Name: CHAMPIONS, dtype: int64"
      ]
     },
     "execution_count": 0,
     "metadata": {
      "tags": []
     },
     "output_type": "execute_result"
    }
   ],
   "source": [
    "copy_ufea['CHAMPIONS'].value_counts() "
   ]
  },
  {
   "cell_type": "code",
   "execution_count": null,
   "metadata": {
    "colab": {
     "background_save": true,
     "base_uri": "https://localhost:8080/"
    },
    "id": "QKo5DTrOyfJp",
    "outputId": "8f8115ab-a4e2-4204-b010-7f762facfe52"
   },
   "outputs": [
    {
     "data": {
      "text/plain": [
       "array(['Atlético Madrid', 'Barcelona', 'Bayern', 'Real Madrid'],\n",
       "      dtype=object)"
      ]
     },
     "execution_count": 0,
     "metadata": {
      "tags": []
     },
     "output_type": "execute_result"
    }
   ],
   "source": [
    "copy_ufea['SUPER'].unique()"
   ]
  },
  {
   "cell_type": "code",
   "execution_count": null,
   "metadata": {
    "colab": {
     "background_save": true,
     "base_uri": "https://localhost:8080/"
    },
    "id": "yqLZ4elJ0nbo",
    "outputId": "2eae0b0d-ffc0-492d-f7c5-d2606c1bb2df"
   },
   "outputs": [
    {
     "data": {
      "text/plain": [
       "4"
      ]
     },
     "execution_count": 0,
     "metadata": {
      "tags": []
     },
     "output_type": "execute_result"
    }
   ],
   "source": [
    "copy_ufea['SUPER'].nunique()"
   ]
  },
  {
   "cell_type": "code",
   "execution_count": null,
   "metadata": {
    "colab": {
     "background_save": true
    },
    "id": "HJuQFLQq2UFk"
   },
   "outputs": [],
   "source": [
    "del copy_ufea"
   ]
  },
  {
   "cell_type": "code",
   "execution_count": 21,
   "metadata": {
    "colab": {
     "background_save": true,
     "base_uri": "https://localhost:8080/"
    },
    "id": "oGCh5UFq3wYs",
    "outputId": "46906d94-e8c7-4471-96c8-901f1670326e"
   },
   "outputs": [
    {
     "data": {
      "text/plain": "array([1.2, 1.7, 2.2, 2.7, 3.2, 3.7, 4.2, 4.7])"
     },
     "execution_count": 21,
     "metadata": {},
     "output_type": "execute_result"
    }
   ],
   "source": [
    "import numpy as np\n",
    "data=np.arange(1.2,5,0.5)\n",
    "data"
   ]
  },
  {
   "cell_type": "code",
   "execution_count": 22,
   "metadata": {
    "colab": {
     "background_save": true,
     "base_uri": "https://localhost:8080/",
     "height": 297
    },
    "id": "lUbgJu9Q4NeH",
    "outputId": "a0c40e83-dcbf-4bab-c7b3-51fc6b58d16a"
   },
   "outputs": [
    {
     "data": {
      "text/plain": "     Radius\nr_1     1.2\nr_2     1.7\nr_3     2.2\nr_4     2.7\nr_5     3.2\nr_6     3.7\nr_7     4.2\nr_8     4.7",
      "text/html": "<div>\n<style scoped>\n    .dataframe tbody tr th:only-of-type {\n        vertical-align: middle;\n    }\n\n    .dataframe tbody tr th {\n        vertical-align: top;\n    }\n\n    .dataframe thead th {\n        text-align: right;\n    }\n</style>\n<table border=\"1\" class=\"dataframe\">\n  <thead>\n    <tr style=\"text-align: right;\">\n      <th></th>\n      <th>Radius</th>\n    </tr>\n  </thead>\n  <tbody>\n    <tr>\n      <th>r_1</th>\n      <td>1.2</td>\n    </tr>\n    <tr>\n      <th>r_2</th>\n      <td>1.7</td>\n    </tr>\n    <tr>\n      <th>r_3</th>\n      <td>2.2</td>\n    </tr>\n    <tr>\n      <th>r_4</th>\n      <td>2.7</td>\n    </tr>\n    <tr>\n      <th>r_5</th>\n      <td>3.2</td>\n    </tr>\n    <tr>\n      <th>r_6</th>\n      <td>3.7</td>\n    </tr>\n    <tr>\n      <th>r_7</th>\n      <td>4.2</td>\n    </tr>\n    <tr>\n      <th>r_8</th>\n      <td>4.7</td>\n    </tr>\n  </tbody>\n</table>\n</div>"
     },
     "execution_count": 22,
     "metadata": {},
     "output_type": "execute_result"
    }
   ],
   "source": [
    "r_df = pd.DataFrame(data=data,index= ['r_1','r_2','r_3','r_4','r_5','r_6','r_7','r_8'], columns=['Radius'])\n",
    "r_df"
   ]
  },
  {
   "cell_type": "code",
   "execution_count": 23,
   "metadata": {
    "colab": {
     "background_save": true
    },
    "id": "O_W4t0gP5TkQ"
   },
   "outputs": [],
   "source": [
    "def area_of_circle(r):\n",
    "    return 3.14 * (r ** 2)"
   ]
  },
  {
   "cell_type": "code",
   "execution_count": 24,
   "metadata": {
    "colab": {
     "background_save": true
    },
    "id": "x1yzn5k25agN"
   },
   "outputs": [],
   "source": [
    "def circumference (r):\n",
    "    return 3.14 * r* 2"
   ]
  },
  {
   "cell_type": "code",
   "execution_count": 27,
   "metadata": {
    "colab": {
     "background_save": true,
     "base_uri": "https://localhost:8080/",
     "height": 297
    },
    "id": "z6W_3SKv5kHv",
    "outputId": "6936cd4a-99be-4425-b982-a9e32f872143"
   },
   "outputs": [
    {
     "data": {
      "text/plain": "     Radius  area of circle  circumference\nr_1     1.2          4.5216          7.536\nr_2     1.7          9.0746         10.676\nr_3     2.2         15.1976         13.816\nr_4     2.7         22.8906         16.956\nr_5     3.2         32.1536         20.096\nr_6     3.7         42.9866         23.236\nr_7     4.2         55.3896         26.376\nr_8     4.7         69.3626         29.516",
      "text/html": "<div>\n<style scoped>\n    .dataframe tbody tr th:only-of-type {\n        vertical-align: middle;\n    }\n\n    .dataframe tbody tr th {\n        vertical-align: top;\n    }\n\n    .dataframe thead th {\n        text-align: right;\n    }\n</style>\n<table border=\"1\" class=\"dataframe\">\n  <thead>\n    <tr style=\"text-align: right;\">\n      <th></th>\n      <th>Radius</th>\n      <th>area of circle</th>\n      <th>circumference</th>\n    </tr>\n  </thead>\n  <tbody>\n    <tr>\n      <th>r_1</th>\n      <td>1.2</td>\n      <td>4.5216</td>\n      <td>7.536</td>\n    </tr>\n    <tr>\n      <th>r_2</th>\n      <td>1.7</td>\n      <td>9.0746</td>\n      <td>10.676</td>\n    </tr>\n    <tr>\n      <th>r_3</th>\n      <td>2.2</td>\n      <td>15.1976</td>\n      <td>13.816</td>\n    </tr>\n    <tr>\n      <th>r_4</th>\n      <td>2.7</td>\n      <td>22.8906</td>\n      <td>16.956</td>\n    </tr>\n    <tr>\n      <th>r_5</th>\n      <td>3.2</td>\n      <td>32.1536</td>\n      <td>20.096</td>\n    </tr>\n    <tr>\n      <th>r_6</th>\n      <td>3.7</td>\n      <td>42.9866</td>\n      <td>23.236</td>\n    </tr>\n    <tr>\n      <th>r_7</th>\n      <td>4.2</td>\n      <td>55.3896</td>\n      <td>26.376</td>\n    </tr>\n    <tr>\n      <th>r_8</th>\n      <td>4.7</td>\n      <td>69.3626</td>\n      <td>29.516</td>\n    </tr>\n  </tbody>\n</table>\n</div>"
     },
     "execution_count": 27,
     "metadata": {},
     "output_type": "execute_result"
    }
   ],
   "source": [
    "r_df['area of circle'] = r_df['Radius'].apply(area_of_circle)\n",
    "r_df['circumference'] = r_df['Radius'].map(circumference)\n",
    "r_df\n"
   ]
  },
  {
   "cell_type": "code",
   "execution_count": 43,
   "metadata": {
    "colab": {
     "background_save": true,
     "base_uri": "https://localhost:8080/",
     "height": 297
    },
    "id": "aNsfe1LO6NsA",
    "outputId": "b3c3ad36-eeca-44c3-eeb8-a2155843e9c6"
   },
   "outputs": [
    {
     "data": {
      "text/html": [
       "<div>\n",
       "<style scoped>\n",
       "    .dataframe tbody tr th:only-of-type {\n",
       "        vertical-align: middle;\n",
       "    }\n",
       "\n",
       "    .dataframe tbody tr th {\n",
       "        vertical-align: top;\n",
       "    }\n",
       "\n",
       "    .dataframe thead th {\n",
       "        text-align: right;\n",
       "    }\n",
       "</style>\n",
       "<table border=\"1\" class=\"dataframe\">\n",
       "  <thead>\n",
       "    <tr style=\"text-align: right;\">\n",
       "      <th></th>\n",
       "      <th>Radius</th>\n",
       "      <th>area of circle</th>\n",
       "      <th>circumference</th>\n",
       "      <th>area_lambda</th>\n",
       "    </tr>\n",
       "  </thead>\n",
       "  <tbody>\n",
       "    <tr>\n",
       "      <th>r_1</th>\n",
       "      <td>1.2</td>\n",
       "      <td>4.5216</td>\n",
       "      <td>7.536</td>\n",
       "      <td>4.5216</td>\n",
       "    </tr>\n",
       "    <tr>\n",
       "      <th>r_2</th>\n",
       "      <td>1.7</td>\n",
       "      <td>9.0746</td>\n",
       "      <td>10.676</td>\n",
       "      <td>9.0746</td>\n",
       "    </tr>\n",
       "    <tr>\n",
       "      <th>r_3</th>\n",
       "      <td>2.2</td>\n",
       "      <td>15.1976</td>\n",
       "      <td>13.816</td>\n",
       "      <td>15.1976</td>\n",
       "    </tr>\n",
       "    <tr>\n",
       "      <th>r_4</th>\n",
       "      <td>2.7</td>\n",
       "      <td>22.8906</td>\n",
       "      <td>16.956</td>\n",
       "      <td>22.8906</td>\n",
       "    </tr>\n",
       "    <tr>\n",
       "      <th>r_5</th>\n",
       "      <td>3.2</td>\n",
       "      <td>32.1536</td>\n",
       "      <td>20.096</td>\n",
       "      <td>32.1536</td>\n",
       "    </tr>\n",
       "    <tr>\n",
       "      <th>r_6</th>\n",
       "      <td>3.7</td>\n",
       "      <td>42.9866</td>\n",
       "      <td>23.236</td>\n",
       "      <td>42.9866</td>\n",
       "    </tr>\n",
       "    <tr>\n",
       "      <th>r_7</th>\n",
       "      <td>4.2</td>\n",
       "      <td>55.3896</td>\n",
       "      <td>26.376</td>\n",
       "      <td>55.3896</td>\n",
       "    </tr>\n",
       "    <tr>\n",
       "      <th>r_8</th>\n",
       "      <td>4.7</td>\n",
       "      <td>69.3626</td>\n",
       "      <td>29.516</td>\n",
       "      <td>69.3626</td>\n",
       "    </tr>\n",
       "  </tbody>\n",
       "</table>\n",
       "</div>"
      ],
      "text/plain": [
       "     Radius  area of circle  circumference  area_lambda\n",
       "r_1     1.2          4.5216          7.536       4.5216\n",
       "r_2     1.7          9.0746         10.676       9.0746\n",
       "r_3     2.2         15.1976         13.816      15.1976\n",
       "r_4     2.7         22.8906         16.956      22.8906\n",
       "r_5     3.2         32.1536         20.096      32.1536\n",
       "r_6     3.7         42.9866         23.236      42.9866\n",
       "r_7     4.2         55.3896         26.376      55.3896\n",
       "r_8     4.7         69.3626         29.516      69.3626"
      ]
     },
     "execution_count": 43,
     "metadata": {},
     "output_type": "execute_result"
    }
   ],
   "source": [
    "r_df['area_lambda'] = r_df['Radius'].apply(lambda r: 3.14 * (r ** 2))\n",
    "r_df"
   ]
  },
  {
   "cell_type": "code",
   "execution_count": 44,
   "metadata": {
    "colab": {
     "background_save": true,
     "base_uri": "https://localhost:8080/"
    },
    "id": "VBJ1ko2z6fyy",
    "outputId": "986a4376-699c-4320-fcf7-c50df7cee173"
   },
   "outputs": [
    {
     "data": {
      "text/plain": [
       "Radius             2.9500\n",
       "area of circle    31.4471\n",
       "circumference     18.5260\n",
       "area_lambda       31.4471\n",
       "dtype: float64"
      ]
     },
     "execution_count": 44,
     "metadata": {},
     "output_type": "execute_result"
    }
   ],
   "source": [
    "r_df.mean()"
   ]
  },
  {
   "cell_type": "code",
   "execution_count": 47,
   "metadata": {
    "colab": {
     "background_save": true,
     "base_uri": "https://localhost:8080/"
    },
    "id": "FC2D3Ud28TxA",
    "outputId": "3edd63a3-ab5d-4294-997e-f8c8a522f731"
   },
   "outputs": [
    {
     "data": {
      "text/plain": [
       "r_1     4.4448\n",
       "r_2     7.6313\n",
       "r_3    11.6028\n",
       "r_4    16.3593\n",
       "r_5    21.9008\n",
       "r_6    28.2273\n",
       "r_7    35.3388\n",
       "r_8    43.2353\n",
       "dtype: float64"
      ]
     },
     "execution_count": 47,
     "metadata": {},
     "output_type": "execute_result"
    }
   ],
   "source": [
    "#for rows mean\n",
    "r_df.mean(axis =1)"
   ]
  },
  {
   "cell_type": "code",
   "execution_count": 48,
   "metadata": {
    "colab": {
     "background_save": true,
     "base_uri": "https://localhost:8080/"
    },
    "id": "gp9Itfsd8Zuv",
    "outputId": "5d052561-7eea-4859-fa6e-561fe5debcc8"
   },
   "outputs": [
    {
     "data": {
      "text/plain": [
       "31.447100000000006"
      ]
     },
     "execution_count": 48,
     "metadata": {},
     "output_type": "execute_result"
    }
   ],
   "source": [
    "#for specific column mean\n",
    "r_df['area of circle'].mean()"
   ]
  },
  {
   "cell_type": "code",
   "execution_count": 49,
   "metadata": {
    "colab": {
     "background_save": true,
     "base_uri": "https://localhost:8080/"
    },
    "id": "kDC478DU7EIU",
    "outputId": "2e9acb3b-e4e0-4a27-a818-f9e0489c241e"
   },
   "outputs": [
    {
     "data": {
      "text/plain": [
       "Radius             23.6000\n",
       "area of circle    251.5768\n",
       "circumference     148.2080\n",
       "area_lambda       251.5768\n",
       "dtype: float64"
      ]
     },
     "execution_count": 49,
     "metadata": {},
     "output_type": "execute_result"
    }
   ],
   "source": [
    "r_df.sum()"
   ]
  },
  {
   "cell_type": "code",
   "execution_count": 50,
   "metadata": {
    "colab": {
     "background_save": true,
     "base_uri": "https://localhost:8080/"
    },
    "id": "iBN1P6S37Dtg",
    "outputId": "8587e93a-4487-497a-98b8-0624e805c944"
   },
   "outputs": [
    {
     "data": {
      "text/plain": [
       "Radius             2.9500\n",
       "area of circle    27.5221\n",
       "circumference     18.5260\n",
       "area_lambda       27.5221\n",
       "dtype: float64"
      ]
     },
     "execution_count": 50,
     "metadata": {},
     "output_type": "execute_result"
    }
   ],
   "source": [
    "r_df.median()"
   ]
  },
  {
   "cell_type": "code",
   "execution_count": 51,
   "metadata": {
    "colab": {
     "background_save": true,
     "base_uri": "https://localhost:8080/"
    },
    "id": "53svbYlC7CtV",
    "outputId": "3fbe93b7-d04b-4a77-9970-7975eab338dc"
   },
   "outputs": [
    {
     "data": {
      "text/plain": [
       "Radius             1.224745\n",
       "area of circle    23.013223\n",
       "circumference      7.691398\n",
       "area_lambda       23.013223\n",
       "dtype: float64"
      ]
     },
     "execution_count": 51,
     "metadata": {},
     "output_type": "execute_result"
    }
   ],
   "source": [
    "r_df.std()"
   ]
  },
  {
   "cell_type": "code",
   "execution_count": 52,
   "metadata": {
    "colab": {
     "background_save": true,
     "base_uri": "https://localhost:8080/"
    },
    "id": "cE592ht87b_R",
    "outputId": "38ee1d34-4e0e-4de3-fa6f-f39a62c94069"
   },
   "outputs": [
    {
     "data": {
      "text/plain": [
       "Radius              1.500000\n",
       "area of circle    529.608414\n",
       "circumference      59.157600\n",
       "area_lambda       529.608414\n",
       "dtype: float64"
      ]
     },
     "execution_count": 52,
     "metadata": {},
     "output_type": "execute_result"
    }
   ],
   "source": [
    "#Variance\n",
    "r_df.var()"
   ]
  },
  {
   "cell_type": "code",
   "execution_count": 53,
   "metadata": {
    "colab": {
     "background_save": true,
     "base_uri": "https://localhost:8080/",
     "height": 173
    },
    "id": "a-_LTx1I8yZX",
    "outputId": "780f8188-5444-4809-c60b-c1a60c1fd8af"
   },
   "outputs": [
    {
     "data": {
      "text/html": [
       "<div>\n",
       "<style scoped>\n",
       "    .dataframe tbody tr th:only-of-type {\n",
       "        vertical-align: middle;\n",
       "    }\n",
       "\n",
       "    .dataframe tbody tr th {\n",
       "        vertical-align: top;\n",
       "    }\n",
       "\n",
       "    .dataframe thead th {\n",
       "        text-align: right;\n",
       "    }\n",
       "</style>\n",
       "<table border=\"1\" class=\"dataframe\">\n",
       "  <thead>\n",
       "    <tr style=\"text-align: right;\">\n",
       "      <th></th>\n",
       "      <th>Radius</th>\n",
       "      <th>area of circle</th>\n",
       "      <th>circumference</th>\n",
       "      <th>area_lambda</th>\n",
       "    </tr>\n",
       "  </thead>\n",
       "  <tbody>\n",
       "    <tr>\n",
       "      <th>Radius</th>\n",
       "      <td>1.000000</td>\n",
       "      <td>0.985939</td>\n",
       "      <td>1.000000</td>\n",
       "      <td>0.985939</td>\n",
       "    </tr>\n",
       "    <tr>\n",
       "      <th>area of circle</th>\n",
       "      <td>0.985939</td>\n",
       "      <td>1.000000</td>\n",
       "      <td>0.985939</td>\n",
       "      <td>1.000000</td>\n",
       "    </tr>\n",
       "    <tr>\n",
       "      <th>circumference</th>\n",
       "      <td>1.000000</td>\n",
       "      <td>0.985939</td>\n",
       "      <td>1.000000</td>\n",
       "      <td>0.985939</td>\n",
       "    </tr>\n",
       "    <tr>\n",
       "      <th>area_lambda</th>\n",
       "      <td>0.985939</td>\n",
       "      <td>1.000000</td>\n",
       "      <td>0.985939</td>\n",
       "      <td>1.000000</td>\n",
       "    </tr>\n",
       "  </tbody>\n",
       "</table>\n",
       "</div>"
      ],
      "text/plain": [
       "                  Radius  area of circle  circumference  area_lambda\n",
       "Radius          1.000000        0.985939       1.000000     0.985939\n",
       "area of circle  0.985939        1.000000       0.985939     1.000000\n",
       "circumference   1.000000        0.985939       1.000000     0.985939\n",
       "area_lambda     0.985939        1.000000       0.985939     1.000000"
      ]
     },
     "execution_count": 53,
     "metadata": {},
     "output_type": "execute_result"
    }
   ],
   "source": [
    "#correlation\n",
    "r_df.corr()"
   ]
  },
  {
   "cell_type": "code",
   "execution_count": 54,
   "metadata": {
    "colab": {
     "background_save": true,
     "base_uri": "https://localhost:8080/"
    },
    "id": "dFQ_A-GI7CNT",
    "outputId": "9dd289d6-63da-4572-a577-de59d5122671"
   },
   "outputs": [
    {
     "data": {
      "text/plain": [
       "Radius             4.7000\n",
       "area of circle    69.3626\n",
       "circumference     29.5160\n",
       "area_lambda       69.3626\n",
       "dtype: float64"
      ]
     },
     "execution_count": 54,
     "metadata": {},
     "output_type": "execute_result"
    }
   ],
   "source": [
    "r_df.max()"
   ]
  },
  {
   "cell_type": "code",
   "execution_count": 55,
   "metadata": {
    "colab": {
     "background_save": true,
     "base_uri": "https://localhost:8080/"
    },
    "id": "4AR-znej_ZFL",
    "outputId": "7e69f929-a934-42bf-8b82-02fbdec348ab"
   },
   "outputs": [
    {
     "data": {
      "text/plain": [
       "Radius            8\n",
       "area of circle    8\n",
       "circumference     8\n",
       "area_lambda       8\n",
       "dtype: int64"
      ]
     },
     "execution_count": 55,
     "metadata": {},
     "output_type": "execute_result"
    }
   ],
   "source": [
    "r_df.count()"
   ]
  },
  {
   "cell_type": "code",
   "execution_count": 56,
   "metadata": {
    "colab": {
     "background_save": true,
     "base_uri": "https://localhost:8080/"
    },
    "id": "o6Q6knNl7Bvx",
    "outputId": "3d53be51-9d52-48e3-8590-bab4aa786bda"
   },
   "outputs": [
    {
     "data": {
      "text/plain": [
       "Radius            1.2000\n",
       "area of circle    4.5216\n",
       "circumference     7.5360\n",
       "area_lambda       4.5216\n",
       "dtype: float64"
      ]
     },
     "execution_count": 56,
     "metadata": {},
     "output_type": "execute_result"
    }
   ],
   "source": [
    "r_df.min()"
   ]
  },
  {
   "cell_type": "code",
   "execution_count": 57,
   "metadata": {
    "colab": {
     "background_save": true,
     "base_uri": "https://localhost:8080/"
    },
    "id": "-x5AocLa_pQ7",
    "outputId": "81c28adb-a9cf-476e-e3dd-a03023c73e01"
   },
   "outputs": [
    {
     "data": {
      "text/plain": [
       "Radius             2.07500\n",
       "area of circle    13.66685\n",
       "circumference     13.03100\n",
       "area_lambda       13.66685\n",
       "Name: 0.25, dtype: float64"
      ]
     },
     "execution_count": 57,
     "metadata": {},
     "output_type": "execute_result"
    }
   ],
   "source": [
    "# first quarter\n",
    "r_df.quantile(0.25)\n"
   ]
  },
  {
   "cell_type": "code",
   "execution_count": 58,
   "metadata": {
    "colab": {
     "background_save": true,
     "base_uri": "https://localhost:8080/"
    },
    "id": "07l-l00o_yM4",
    "outputId": "876d80a1-c8c7-456c-9ebc-6403aafefb44"
   },
   "outputs": [
    {
     "data": {
      "text/plain": [
       "Radius             2.9500\n",
       "area of circle    27.5221\n",
       "circumference     18.5260\n",
       "area_lambda       27.5221\n",
       "Name: 0.5, dtype: float64"
      ]
     },
     "execution_count": 58,
     "metadata": {},
     "output_type": "execute_result"
    }
   ],
   "source": [
    "# second quarter\n",
    "r_df.quantile(0.5)\n"
   ]
  },
  {
   "cell_type": "code",
   "execution_count": 28,
   "outputs": [
    {
     "data": {
      "text/plain": "Radius             3.72000\narea of circle    43.48272\ncircumference     23.36160\nName: 0.72, dtype: float64"
     },
     "execution_count": 28,
     "metadata": {},
     "output_type": "execute_result"
    }
   ],
   "source": [
    "r_df.quantile(.72)"
   ],
   "metadata": {
    "collapsed": false
   }
  },
  {
   "cell_type": "code",
   "execution_count": 59,
   "metadata": {
    "colab": {
     "background_save": true,
     "base_uri": "https://localhost:8080/",
     "height": 235
    },
    "id": "E9QP8H5zBxCE",
    "outputId": "7ddf33d2-d447-474f-d8e0-5b9a652976b9"
   },
   "outputs": [
    {
     "data": {
      "text/html": [
       "<div>\n",
       "<style scoped>\n",
       "    .dataframe tbody tr th:only-of-type {\n",
       "        vertical-align: middle;\n",
       "    }\n",
       "\n",
       "    .dataframe tbody tr th {\n",
       "        vertical-align: top;\n",
       "    }\n",
       "\n",
       "    .dataframe thead th {\n",
       "        text-align: right;\n",
       "    }\n",
       "</style>\n",
       "<table border=\"1\" class=\"dataframe\">\n",
       "  <thead>\n",
       "    <tr style=\"text-align: right;\">\n",
       "      <th></th>\n",
       "      <th>Radius</th>\n",
       "      <th>area of circle</th>\n",
       "      <th>circumference</th>\n",
       "      <th>area_lambda</th>\n",
       "    </tr>\n",
       "  </thead>\n",
       "  <tbody>\n",
       "    <tr>\n",
       "      <th>sum</th>\n",
       "      <td>23.600000</td>\n",
       "      <td>251.576800</td>\n",
       "      <td>148.208000</td>\n",
       "      <td>251.576800</td>\n",
       "    </tr>\n",
       "    <tr>\n",
       "      <th>mean</th>\n",
       "      <td>2.950000</td>\n",
       "      <td>31.447100</td>\n",
       "      <td>18.526000</td>\n",
       "      <td>31.447100</td>\n",
       "    </tr>\n",
       "    <tr>\n",
       "      <th>median</th>\n",
       "      <td>2.950000</td>\n",
       "      <td>27.522100</td>\n",
       "      <td>18.526000</td>\n",
       "      <td>27.522100</td>\n",
       "    </tr>\n",
       "    <tr>\n",
       "      <th>max</th>\n",
       "      <td>4.700000</td>\n",
       "      <td>69.362600</td>\n",
       "      <td>29.516000</td>\n",
       "      <td>69.362600</td>\n",
       "    </tr>\n",
       "    <tr>\n",
       "      <th>min</th>\n",
       "      <td>1.200000</td>\n",
       "      <td>4.521600</td>\n",
       "      <td>7.536000</td>\n",
       "      <td>4.521600</td>\n",
       "    </tr>\n",
       "    <tr>\n",
       "      <th>std</th>\n",
       "      <td>1.224745</td>\n",
       "      <td>23.013223</td>\n",
       "      <td>7.691398</td>\n",
       "      <td>23.013223</td>\n",
       "    </tr>\n",
       "  </tbody>\n",
       "</table>\n",
       "</div>"
      ],
      "text/plain": [
       "           Radius  area of circle  circumference  area_lambda\n",
       "sum     23.600000      251.576800     148.208000   251.576800\n",
       "mean     2.950000       31.447100      18.526000    31.447100\n",
       "median   2.950000       27.522100      18.526000    27.522100\n",
       "max      4.700000       69.362600      29.516000    69.362600\n",
       "min      1.200000        4.521600       7.536000     4.521600\n",
       "std      1.224745       23.013223       7.691398    23.013223"
      ]
     },
     "execution_count": 59,
     "metadata": {},
     "output_type": "execute_result"
    }
   ],
   "source": [
    "r_df.agg(['sum','mean','median','max','min','std'])"
   ]
  },
  {
   "cell_type": "code",
   "execution_count": 60,
   "metadata": {
    "colab": {
     "background_save": true,
     "base_uri": "https://localhost:8080/",
     "height": 297
    },
    "id": "UHDx-QF8ByzQ",
    "outputId": "ab2294fa-116f-4600-f4d0-36b51158f2e5"
   },
   "outputs": [
    {
     "data": {
      "text/html": [
       "<div>\n",
       "<style scoped>\n",
       "    .dataframe tbody tr th:only-of-type {\n",
       "        vertical-align: middle;\n",
       "    }\n",
       "\n",
       "    .dataframe tbody tr th {\n",
       "        vertical-align: top;\n",
       "    }\n",
       "\n",
       "    .dataframe thead th {\n",
       "        text-align: right;\n",
       "    }\n",
       "</style>\n",
       "<table border=\"1\" class=\"dataframe\">\n",
       "  <thead>\n",
       "    <tr style=\"text-align: right;\">\n",
       "      <th></th>\n",
       "      <th>Radius</th>\n",
       "      <th>area of circle</th>\n",
       "      <th>circumference</th>\n",
       "      <th>area_lambda</th>\n",
       "    </tr>\n",
       "  </thead>\n",
       "  <tbody>\n",
       "    <tr>\n",
       "      <th>count</th>\n",
       "      <td>8.000000</td>\n",
       "      <td>8.000000</td>\n",
       "      <td>8.000000</td>\n",
       "      <td>8.000000</td>\n",
       "    </tr>\n",
       "    <tr>\n",
       "      <th>mean</th>\n",
       "      <td>2.950000</td>\n",
       "      <td>31.447100</td>\n",
       "      <td>18.526000</td>\n",
       "      <td>31.447100</td>\n",
       "    </tr>\n",
       "    <tr>\n",
       "      <th>std</th>\n",
       "      <td>1.224745</td>\n",
       "      <td>23.013223</td>\n",
       "      <td>7.691398</td>\n",
       "      <td>23.013223</td>\n",
       "    </tr>\n",
       "    <tr>\n",
       "      <th>min</th>\n",
       "      <td>1.200000</td>\n",
       "      <td>4.521600</td>\n",
       "      <td>7.536000</td>\n",
       "      <td>4.521600</td>\n",
       "    </tr>\n",
       "    <tr>\n",
       "      <th>25%</th>\n",
       "      <td>2.075000</td>\n",
       "      <td>13.666850</td>\n",
       "      <td>13.031000</td>\n",
       "      <td>13.666850</td>\n",
       "    </tr>\n",
       "    <tr>\n",
       "      <th>50%</th>\n",
       "      <td>2.950000</td>\n",
       "      <td>27.522100</td>\n",
       "      <td>18.526000</td>\n",
       "      <td>27.522100</td>\n",
       "    </tr>\n",
       "    <tr>\n",
       "      <th>75%</th>\n",
       "      <td>3.825000</td>\n",
       "      <td>46.087350</td>\n",
       "      <td>24.021000</td>\n",
       "      <td>46.087350</td>\n",
       "    </tr>\n",
       "    <tr>\n",
       "      <th>max</th>\n",
       "      <td>4.700000</td>\n",
       "      <td>69.362600</td>\n",
       "      <td>29.516000</td>\n",
       "      <td>69.362600</td>\n",
       "    </tr>\n",
       "  </tbody>\n",
       "</table>\n",
       "</div>"
      ],
      "text/plain": [
       "         Radius  area of circle  circumference  area_lambda\n",
       "count  8.000000        8.000000       8.000000     8.000000\n",
       "mean   2.950000       31.447100      18.526000    31.447100\n",
       "std    1.224745       23.013223       7.691398    23.013223\n",
       "min    1.200000        4.521600       7.536000     4.521600\n",
       "25%    2.075000       13.666850      13.031000    13.666850\n",
       "50%    2.950000       27.522100      18.526000    27.522100\n",
       "75%    3.825000       46.087350      24.021000    46.087350\n",
       "max    4.700000       69.362600      29.516000    69.362600"
      ]
     },
     "execution_count": 60,
     "metadata": {},
     "output_type": "execute_result"
    }
   ],
   "source": [
    "#For most important statitsitcal information\n",
    "r_df.describe()"
   ]
  },
  {
   "cell_type": "code",
   "execution_count": 62,
   "metadata": {
    "colab": {
     "background_save": true,
     "base_uri": "https://localhost:8080/",
     "height": 297
    },
    "id": "PiGZtu6t75wa",
    "outputId": "28216203-0ea1-4495-c593-f43fa75fc9bf",
    "scrolled": true
   },
   "outputs": [
    {
     "data": {
      "text/html": [
       "<div>\n",
       "<style scoped>\n",
       "    .dataframe tbody tr th:only-of-type {\n",
       "        vertical-align: middle;\n",
       "    }\n",
       "\n",
       "    .dataframe tbody tr th {\n",
       "        vertical-align: top;\n",
       "    }\n",
       "\n",
       "    .dataframe thead th {\n",
       "        text-align: right;\n",
       "    }\n",
       "</style>\n",
       "<table border=\"1\" class=\"dataframe\">\n",
       "  <thead>\n",
       "    <tr style=\"text-align: right;\">\n",
       "      <th></th>\n",
       "      <th>Radius</th>\n",
       "      <th>area of circle</th>\n",
       "      <th>circumference</th>\n",
       "      <th>area_lambda</th>\n",
       "    </tr>\n",
       "  </thead>\n",
       "  <tbody>\n",
       "    <tr>\n",
       "      <th>r_8</th>\n",
       "      <td>4.7</td>\n",
       "      <td>69.3626</td>\n",
       "      <td>29.516</td>\n",
       "      <td>69.3626</td>\n",
       "    </tr>\n",
       "    <tr>\n",
       "      <th>r_7</th>\n",
       "      <td>4.2</td>\n",
       "      <td>55.3896</td>\n",
       "      <td>26.376</td>\n",
       "      <td>55.3896</td>\n",
       "    </tr>\n",
       "    <tr>\n",
       "      <th>r_6</th>\n",
       "      <td>3.7</td>\n",
       "      <td>42.9866</td>\n",
       "      <td>23.236</td>\n",
       "      <td>42.9866</td>\n",
       "    </tr>\n",
       "    <tr>\n",
       "      <th>r_5</th>\n",
       "      <td>3.2</td>\n",
       "      <td>32.1536</td>\n",
       "      <td>20.096</td>\n",
       "      <td>32.1536</td>\n",
       "    </tr>\n",
       "    <tr>\n",
       "      <th>r_4</th>\n",
       "      <td>2.7</td>\n",
       "      <td>22.8906</td>\n",
       "      <td>16.956</td>\n",
       "      <td>22.8906</td>\n",
       "    </tr>\n",
       "    <tr>\n",
       "      <th>r_3</th>\n",
       "      <td>2.2</td>\n",
       "      <td>15.1976</td>\n",
       "      <td>13.816</td>\n",
       "      <td>15.1976</td>\n",
       "    </tr>\n",
       "    <tr>\n",
       "      <th>r_2</th>\n",
       "      <td>1.7</td>\n",
       "      <td>9.0746</td>\n",
       "      <td>10.676</td>\n",
       "      <td>9.0746</td>\n",
       "    </tr>\n",
       "    <tr>\n",
       "      <th>r_1</th>\n",
       "      <td>1.2</td>\n",
       "      <td>4.5216</td>\n",
       "      <td>7.536</td>\n",
       "      <td>4.5216</td>\n",
       "    </tr>\n",
       "  </tbody>\n",
       "</table>\n",
       "</div>"
      ],
      "text/plain": [
       "     Radius  area of circle  circumference  area_lambda\n",
       "r_8     4.7         69.3626         29.516      69.3626\n",
       "r_7     4.2         55.3896         26.376      55.3896\n",
       "r_6     3.7         42.9866         23.236      42.9866\n",
       "r_5     3.2         32.1536         20.096      32.1536\n",
       "r_4     2.7         22.8906         16.956      22.8906\n",
       "r_3     2.2         15.1976         13.816      15.1976\n",
       "r_2     1.7          9.0746         10.676       9.0746\n",
       "r_1     1.2          4.5216          7.536       4.5216"
      ]
     },
     "execution_count": 62,
     "metadata": {},
     "output_type": "execute_result"
    }
   ],
   "source": [
    "r_df.sort_values(by=['Radius'], ascending=False, inplace=True)\n",
    "r_df"
   ]
  },
  {
   "cell_type": "code",
   "execution_count": 29,
   "metadata": {
    "colab": {
     "background_save": true,
     "base_uri": "https://localhost:8080/",
     "height": 266
    },
    "id": "Cjgqw0dA74Y2",
    "outputId": "ee2846ab-00b9-4886-b0d7-695ceefdc900"
   },
   "outputs": [
    {
     "data": {
      "text/plain": "   Boot_colour  Code  Price  Discount  Full Price\nN1       Black   S01   1000   100.000     900.000\nN2       Black   TR0   2000   150.000    1850.000\nN3       Brown   SC1   3000   320.000    3680.000\nN4       Brown   CA3   4000   100.000    3900.000\nN5       White   PA4   3000    90.000    2910.000\nN6       White  TR12   1400   122.664    2827.337\nN7       Black   G42   2120   155.520    1970.126",
      "text/html": "<div>\n<style scoped>\n    .dataframe tbody tr th:only-of-type {\n        vertical-align: middle;\n    }\n\n    .dataframe tbody tr th {\n        vertical-align: top;\n    }\n\n    .dataframe thead th {\n        text-align: right;\n    }\n</style>\n<table border=\"1\" class=\"dataframe\">\n  <thead>\n    <tr style=\"text-align: right;\">\n      <th></th>\n      <th>Boot_colour</th>\n      <th>Code</th>\n      <th>Price</th>\n      <th>Discount</th>\n      <th>Full Price</th>\n    </tr>\n  </thead>\n  <tbody>\n    <tr>\n      <th>N1</th>\n      <td>Black</td>\n      <td>S01</td>\n      <td>1000</td>\n      <td>100.000</td>\n      <td>900.000</td>\n    </tr>\n    <tr>\n      <th>N2</th>\n      <td>Black</td>\n      <td>TR0</td>\n      <td>2000</td>\n      <td>150.000</td>\n      <td>1850.000</td>\n    </tr>\n    <tr>\n      <th>N3</th>\n      <td>Brown</td>\n      <td>SC1</td>\n      <td>3000</td>\n      <td>320.000</td>\n      <td>3680.000</td>\n    </tr>\n    <tr>\n      <th>N4</th>\n      <td>Brown</td>\n      <td>CA3</td>\n      <td>4000</td>\n      <td>100.000</td>\n      <td>3900.000</td>\n    </tr>\n    <tr>\n      <th>N5</th>\n      <td>White</td>\n      <td>PA4</td>\n      <td>3000</td>\n      <td>90.000</td>\n      <td>2910.000</td>\n    </tr>\n    <tr>\n      <th>N6</th>\n      <td>White</td>\n      <td>TR12</td>\n      <td>1400</td>\n      <td>122.664</td>\n      <td>2827.337</td>\n    </tr>\n    <tr>\n      <th>N7</th>\n      <td>Black</td>\n      <td>G42</td>\n      <td>2120</td>\n      <td>155.520</td>\n      <td>1970.126</td>\n    </tr>\n  </tbody>\n</table>\n</div>"
     },
     "execution_count": 29,
     "metadata": {},
     "output_type": "execute_result"
    }
   ],
   "source": [
    "sales_enterprice = {  'Boot_colour' : ['Black','Black','Brown','Brown','White','White','Black'],                    \n",
    "                     'Code' : ['S01','TR0','SC1','CA3','PA4','TR12','G42'],\n",
    "                    'Price' : [1000,2000,3000,4000,3000,1400,2120],\n",
    "                    'Discount' : [100,150,320,100,90,122.664,155.52],\n",
    "                    'Full Price' : [900,1850,3680,3900,2910,2827.337,1970.126] }\n",
    "sales_enterprice_df = pd.DataFrame(sales_enterprice,index = ['N1','N2','N3','N4','N5','N6','N7']) \n",
    "sales_enterprice_df"
   ]
  },
  {
   "cell_type": "code",
   "execution_count": 64,
   "metadata": {
    "colab": {
     "background_save": true,
     "base_uri": "https://localhost:8080/",
     "height": 173
    },
    "id": "QpmwVIp273_h",
    "outputId": "d437d3f8-d85d-438f-dd82-42c471078002"
   },
   "outputs": [
    {
     "data": {
      "text/html": [
       "<div>\n",
       "<style scoped>\n",
       "    .dataframe tbody tr th:only-of-type {\n",
       "        vertical-align: middle;\n",
       "    }\n",
       "\n",
       "    .dataframe tbody tr th {\n",
       "        vertical-align: top;\n",
       "    }\n",
       "\n",
       "    .dataframe thead th {\n",
       "        text-align: right;\n",
       "    }\n",
       "</style>\n",
       "<table border=\"1\" class=\"dataframe\">\n",
       "  <thead>\n",
       "    <tr style=\"text-align: right;\">\n",
       "      <th></th>\n",
       "      <th>Price</th>\n",
       "      <th>Discount</th>\n",
       "      <th>Full Price</th>\n",
       "    </tr>\n",
       "    <tr>\n",
       "      <th>Boot_colour</th>\n",
       "      <th></th>\n",
       "      <th></th>\n",
       "      <th></th>\n",
       "    </tr>\n",
       "  </thead>\n",
       "  <tbody>\n",
       "    <tr>\n",
       "      <th>Black</th>\n",
       "      <td>5120</td>\n",
       "      <td>405.520</td>\n",
       "      <td>4720.126</td>\n",
       "    </tr>\n",
       "    <tr>\n",
       "      <th>Brown</th>\n",
       "      <td>7000</td>\n",
       "      <td>420.000</td>\n",
       "      <td>7580.000</td>\n",
       "    </tr>\n",
       "    <tr>\n",
       "      <th>White</th>\n",
       "      <td>4400</td>\n",
       "      <td>212.664</td>\n",
       "      <td>5737.337</td>\n",
       "    </tr>\n",
       "  </tbody>\n",
       "</table>\n",
       "</div>"
      ],
      "text/plain": [
       "             Price  Discount  Full Price\n",
       "Boot_colour                             \n",
       "Black         5120   405.520    4720.126\n",
       "Brown         7000   420.000    7580.000\n",
       "White         4400   212.664    5737.337"
      ]
     },
     "execution_count": 64,
     "metadata": {},
     "output_type": "execute_result"
    }
   ],
   "source": [
    "#Grouping element as on SQL \n",
    "#Returning Sum\n",
    "sales_enterprice_df.groupby('Boot_colour').sum()\n"
   ]
  },
  {
   "cell_type": "code",
   "execution_count": 65,
   "metadata": {
    "colab": {
     "background_save": true,
     "base_uri": "https://localhost:8080/",
     "height": 173
    },
    "id": "snVHf12rEIpv",
    "outputId": "9d658cf8-0d3a-49f9-efb7-ec82f1e38f0e"
   },
   "outputs": [
    {
     "data": {
      "text/html": [
       "<div>\n",
       "<style scoped>\n",
       "    .dataframe tbody tr th:only-of-type {\n",
       "        vertical-align: middle;\n",
       "    }\n",
       "\n",
       "    .dataframe tbody tr th {\n",
       "        vertical-align: top;\n",
       "    }\n",
       "\n",
       "    .dataframe thead th {\n",
       "        text-align: right;\n",
       "    }\n",
       "</style>\n",
       "<table border=\"1\" class=\"dataframe\">\n",
       "  <thead>\n",
       "    <tr style=\"text-align: right;\">\n",
       "      <th></th>\n",
       "      <th>Price</th>\n",
       "      <th>Discount</th>\n",
       "      <th>Full Price</th>\n",
       "    </tr>\n",
       "    <tr>\n",
       "      <th>Boot_colour</th>\n",
       "      <th></th>\n",
       "      <th></th>\n",
       "      <th></th>\n",
       "    </tr>\n",
       "  </thead>\n",
       "  <tbody>\n",
       "    <tr>\n",
       "      <th>Black</th>\n",
       "      <td>1706.666667</td>\n",
       "      <td>135.173333</td>\n",
       "      <td>1573.375333</td>\n",
       "    </tr>\n",
       "    <tr>\n",
       "      <th>Brown</th>\n",
       "      <td>3500.000000</td>\n",
       "      <td>210.000000</td>\n",
       "      <td>3790.000000</td>\n",
       "    </tr>\n",
       "    <tr>\n",
       "      <th>White</th>\n",
       "      <td>2200.000000</td>\n",
       "      <td>106.332000</td>\n",
       "      <td>2868.668500</td>\n",
       "    </tr>\n",
       "  </tbody>\n",
       "</table>\n",
       "</div>"
      ],
      "text/plain": [
       "                   Price    Discount   Full Price\n",
       "Boot_colour                                      \n",
       "Black        1706.666667  135.173333  1573.375333\n",
       "Brown        3500.000000  210.000000  3790.000000\n",
       "White        2200.000000  106.332000  2868.668500"
      ]
     },
     "execution_count": 65,
     "metadata": {},
     "output_type": "execute_result"
    }
   ],
   "source": [
    "#Grouping element as on SQL \n",
    "#Returning mean\n",
    "sales_enterprice_df.groupby('Boot_colour').mean()\n"
   ]
  },
  {
   "cell_type": "code",
   "execution_count": 66,
   "metadata": {
    "colab": {
     "background_save": true,
     "base_uri": "https://localhost:8080/",
     "height": 173
    },
    "id": "l4svozf_EHOL",
    "outputId": "87131362-3fe4-4a7c-9cc4-39c7ff51f94d"
   },
   "outputs": [
    {
     "data": {
      "text/html": [
       "<div>\n",
       "<style scoped>\n",
       "    .dataframe tbody tr th:only-of-type {\n",
       "        vertical-align: middle;\n",
       "    }\n",
       "\n",
       "    .dataframe tbody tr th {\n",
       "        vertical-align: top;\n",
       "    }\n",
       "\n",
       "    .dataframe thead th {\n",
       "        text-align: right;\n",
       "    }\n",
       "</style>\n",
       "<table border=\"1\" class=\"dataframe\">\n",
       "  <thead>\n",
       "    <tr style=\"text-align: right;\">\n",
       "      <th></th>\n",
       "      <th>Price</th>\n",
       "      <th>Discount</th>\n",
       "      <th>Full Price</th>\n",
       "    </tr>\n",
       "    <tr>\n",
       "      <th>Boot_colour</th>\n",
       "      <th></th>\n",
       "      <th></th>\n",
       "      <th></th>\n",
       "    </tr>\n",
       "  </thead>\n",
       "  <tbody>\n",
       "    <tr>\n",
       "      <th>Black</th>\n",
       "      <td>2000.0</td>\n",
       "      <td>150.000</td>\n",
       "      <td>1850.0000</td>\n",
       "    </tr>\n",
       "    <tr>\n",
       "      <th>Brown</th>\n",
       "      <td>3500.0</td>\n",
       "      <td>210.000</td>\n",
       "      <td>3790.0000</td>\n",
       "    </tr>\n",
       "    <tr>\n",
       "      <th>White</th>\n",
       "      <td>2200.0</td>\n",
       "      <td>106.332</td>\n",
       "      <td>2868.6685</td>\n",
       "    </tr>\n",
       "  </tbody>\n",
       "</table>\n",
       "</div>"
      ],
      "text/plain": [
       "              Price  Discount  Full Price\n",
       "Boot_colour                              \n",
       "Black        2000.0   150.000   1850.0000\n",
       "Brown        3500.0   210.000   3790.0000\n",
       "White        2200.0   106.332   2868.6685"
      ]
     },
     "execution_count": 66,
     "metadata": {},
     "output_type": "execute_result"
    }
   ],
   "source": [
    "#Grouping element as on SQL \n",
    "#Returning median\n",
    "sales_enterprice_df.groupby('Boot_colour').median()\n"
   ]
  },
  {
   "cell_type": "code",
   "execution_count": 67,
   "metadata": {
    "colab": {
     "background_save": true,
     "base_uri": "https://localhost:8080/",
     "height": 173
    },
    "id": "_Izn3Ys-FMub",
    "outputId": "c94e53b6-0516-4714-b143-682f14e6e9e3"
   },
   "outputs": [
    {
     "data": {
      "text/html": [
       "<div>\n",
       "<style scoped>\n",
       "    .dataframe tbody tr th:only-of-type {\n",
       "        vertical-align: middle;\n",
       "    }\n",
       "\n",
       "    .dataframe tbody tr th {\n",
       "        vertical-align: top;\n",
       "    }\n",
       "\n",
       "    .dataframe thead th {\n",
       "        text-align: right;\n",
       "    }\n",
       "</style>\n",
       "<table border=\"1\" class=\"dataframe\">\n",
       "  <thead>\n",
       "    <tr style=\"text-align: right;\">\n",
       "      <th></th>\n",
       "      <th>Price</th>\n",
       "      <th>Discount</th>\n",
       "      <th>Full Price</th>\n",
       "    </tr>\n",
       "    <tr>\n",
       "      <th>Boot_colour</th>\n",
       "      <th></th>\n",
       "      <th></th>\n",
       "      <th></th>\n",
       "    </tr>\n",
       "  </thead>\n",
       "  <tbody>\n",
       "    <tr>\n",
       "      <th>Black</th>\n",
       "      <td>5120</td>\n",
       "      <td>405.520</td>\n",
       "      <td>4720.126</td>\n",
       "    </tr>\n",
       "    <tr>\n",
       "      <th>White</th>\n",
       "      <td>4400</td>\n",
       "      <td>212.664</td>\n",
       "      <td>5737.337</td>\n",
       "    </tr>\n",
       "    <tr>\n",
       "      <th>Brown</th>\n",
       "      <td>7000</td>\n",
       "      <td>420.000</td>\n",
       "      <td>7580.000</td>\n",
       "    </tr>\n",
       "  </tbody>\n",
       "</table>\n",
       "</div>"
      ],
      "text/plain": [
       "             Price  Discount  Full Price\n",
       "Boot_colour                             \n",
       "Black         5120   405.520    4720.126\n",
       "White         4400   212.664    5737.337\n",
       "Brown         7000   420.000    7580.000"
      ]
     },
     "execution_count": 67,
     "metadata": {},
     "output_type": "execute_result"
    }
   ],
   "source": [
    "sales_enterprice_df.groupby('Boot_colour').sum().sort_values(by='Full Price', ascending=True)"
   ]
  },
  {
   "cell_type": "code",
   "execution_count": 30,
   "outputs": [
    {
     "data": {
      "text/plain": "            Code       Price       Discount          Full Price          \n             min   max   min   max      min      max        min       max\nBoot_colour                                                              \nBlack        G42   TR0  1000  2120    100.0  155.520    900.000  1970.126\nBrown        CA3   SC1  3000  4000    100.0  320.000   3680.000  3900.000\nWhite        PA4  TR12  1400  3000     90.0  122.664   2827.337  2910.000",
      "text/html": "<div>\n<style scoped>\n    .dataframe tbody tr th:only-of-type {\n        vertical-align: middle;\n    }\n\n    .dataframe tbody tr th {\n        vertical-align: top;\n    }\n\n    .dataframe thead tr th {\n        text-align: left;\n    }\n\n    .dataframe thead tr:last-of-type th {\n        text-align: right;\n    }\n</style>\n<table border=\"1\" class=\"dataframe\">\n  <thead>\n    <tr>\n      <th></th>\n      <th colspan=\"2\" halign=\"left\">Code</th>\n      <th colspan=\"2\" halign=\"left\">Price</th>\n      <th colspan=\"2\" halign=\"left\">Discount</th>\n      <th colspan=\"2\" halign=\"left\">Full Price</th>\n    </tr>\n    <tr>\n      <th></th>\n      <th>min</th>\n      <th>max</th>\n      <th>min</th>\n      <th>max</th>\n      <th>min</th>\n      <th>max</th>\n      <th>min</th>\n      <th>max</th>\n    </tr>\n    <tr>\n      <th>Boot_colour</th>\n      <th></th>\n      <th></th>\n      <th></th>\n      <th></th>\n      <th></th>\n      <th></th>\n      <th></th>\n      <th></th>\n    </tr>\n  </thead>\n  <tbody>\n    <tr>\n      <th>Black</th>\n      <td>G42</td>\n      <td>TR0</td>\n      <td>1000</td>\n      <td>2120</td>\n      <td>100.0</td>\n      <td>155.520</td>\n      <td>900.000</td>\n      <td>1970.126</td>\n    </tr>\n    <tr>\n      <th>Brown</th>\n      <td>CA3</td>\n      <td>SC1</td>\n      <td>3000</td>\n      <td>4000</td>\n      <td>100.0</td>\n      <td>320.000</td>\n      <td>3680.000</td>\n      <td>3900.000</td>\n    </tr>\n    <tr>\n      <th>White</th>\n      <td>PA4</td>\n      <td>TR12</td>\n      <td>1400</td>\n      <td>3000</td>\n      <td>90.0</td>\n      <td>122.664</td>\n      <td>2827.337</td>\n      <td>2910.000</td>\n    </tr>\n  </tbody>\n</table>\n</div>"
     },
     "execution_count": 30,
     "metadata": {},
     "output_type": "execute_result"
    }
   ],
   "source": [
    "sales_enterprice_df.groupby('Boot_colour').agg(['min', 'max'])"
   ],
   "metadata": {
    "collapsed": false
   }
  },
  {
   "cell_type": "code",
   "execution_count": 70,
   "metadata": {
    "colab": {
     "background_save": true,
     "base_uri": "https://localhost:8080/",
     "height": 793
    },
    "id": "KOozzO1eEFnP",
    "outputId": "fd5f1c2d-ec01-47bc-f9d3-9b459709dffb"
   },
   "outputs": [
    {
     "data": {
      "text/html": [
       "<div>\n",
       "<style scoped>\n",
       "    .dataframe tbody tr th:only-of-type {\n",
       "        vertical-align: middle;\n",
       "    }\n",
       "\n",
       "    .dataframe tbody tr th {\n",
       "        vertical-align: top;\n",
       "    }\n",
       "\n",
       "    .dataframe thead th {\n",
       "        text-align: right;\n",
       "    }\n",
       "</style>\n",
       "<table border=\"1\" class=\"dataframe\">\n",
       "  <thead>\n",
       "    <tr style=\"text-align: right;\">\n",
       "      <th></th>\n",
       "      <th>Boot_colour</th>\n",
       "      <th>Black</th>\n",
       "      <th>Brown</th>\n",
       "      <th>White</th>\n",
       "    </tr>\n",
       "  </thead>\n",
       "  <tbody>\n",
       "    <tr>\n",
       "      <th rowspan=\"8\" valign=\"top\">Price</th>\n",
       "      <th>count</th>\n",
       "      <td>3.000000</td>\n",
       "      <td>2.000000</td>\n",
       "      <td>2.000000</td>\n",
       "    </tr>\n",
       "    <tr>\n",
       "      <th>mean</th>\n",
       "      <td>1706.666667</td>\n",
       "      <td>3500.000000</td>\n",
       "      <td>2200.000000</td>\n",
       "    </tr>\n",
       "    <tr>\n",
       "      <th>std</th>\n",
       "      <td>614.925470</td>\n",
       "      <td>707.106781</td>\n",
       "      <td>1131.370850</td>\n",
       "    </tr>\n",
       "    <tr>\n",
       "      <th>min</th>\n",
       "      <td>1000.000000</td>\n",
       "      <td>3000.000000</td>\n",
       "      <td>1400.000000</td>\n",
       "    </tr>\n",
       "    <tr>\n",
       "      <th>25%</th>\n",
       "      <td>1500.000000</td>\n",
       "      <td>3250.000000</td>\n",
       "      <td>1800.000000</td>\n",
       "    </tr>\n",
       "    <tr>\n",
       "      <th>50%</th>\n",
       "      <td>2000.000000</td>\n",
       "      <td>3500.000000</td>\n",
       "      <td>2200.000000</td>\n",
       "    </tr>\n",
       "    <tr>\n",
       "      <th>75%</th>\n",
       "      <td>2060.000000</td>\n",
       "      <td>3750.000000</td>\n",
       "      <td>2600.000000</td>\n",
       "    </tr>\n",
       "    <tr>\n",
       "      <th>max</th>\n",
       "      <td>2120.000000</td>\n",
       "      <td>4000.000000</td>\n",
       "      <td>3000.000000</td>\n",
       "    </tr>\n",
       "    <tr>\n",
       "      <th rowspan=\"8\" valign=\"top\">Discount</th>\n",
       "      <th>count</th>\n",
       "      <td>3.000000</td>\n",
       "      <td>2.000000</td>\n",
       "      <td>2.000000</td>\n",
       "    </tr>\n",
       "    <tr>\n",
       "      <th>mean</th>\n",
       "      <td>135.173333</td>\n",
       "      <td>210.000000</td>\n",
       "      <td>106.332000</td>\n",
       "    </tr>\n",
       "    <tr>\n",
       "      <th>std</th>\n",
       "      <td>30.585783</td>\n",
       "      <td>155.563492</td>\n",
       "      <td>23.096936</td>\n",
       "    </tr>\n",
       "    <tr>\n",
       "      <th>min</th>\n",
       "      <td>100.000000</td>\n",
       "      <td>100.000000</td>\n",
       "      <td>90.000000</td>\n",
       "    </tr>\n",
       "    <tr>\n",
       "      <th>25%</th>\n",
       "      <td>125.000000</td>\n",
       "      <td>155.000000</td>\n",
       "      <td>98.166000</td>\n",
       "    </tr>\n",
       "    <tr>\n",
       "      <th>50%</th>\n",
       "      <td>150.000000</td>\n",
       "      <td>210.000000</td>\n",
       "      <td>106.332000</td>\n",
       "    </tr>\n",
       "    <tr>\n",
       "      <th>75%</th>\n",
       "      <td>152.760000</td>\n",
       "      <td>265.000000</td>\n",
       "      <td>114.498000</td>\n",
       "    </tr>\n",
       "    <tr>\n",
       "      <th>max</th>\n",
       "      <td>155.520000</td>\n",
       "      <td>320.000000</td>\n",
       "      <td>122.664000</td>\n",
       "    </tr>\n",
       "    <tr>\n",
       "      <th rowspan=\"8\" valign=\"top\">Full Price</th>\n",
       "      <th>count</th>\n",
       "      <td>3.000000</td>\n",
       "      <td>2.000000</td>\n",
       "      <td>2.000000</td>\n",
       "    </tr>\n",
       "    <tr>\n",
       "      <th>mean</th>\n",
       "      <td>1573.375333</td>\n",
       "      <td>3790.000000</td>\n",
       "      <td>2868.668500</td>\n",
       "    </tr>\n",
       "    <tr>\n",
       "      <th>std</th>\n",
       "      <td>586.245101</td>\n",
       "      <td>155.563492</td>\n",
       "      <td>58.451568</td>\n",
       "    </tr>\n",
       "    <tr>\n",
       "      <th>min</th>\n",
       "      <td>900.000000</td>\n",
       "      <td>3680.000000</td>\n",
       "      <td>2827.337000</td>\n",
       "    </tr>\n",
       "    <tr>\n",
       "      <th>25%</th>\n",
       "      <td>1375.000000</td>\n",
       "      <td>3735.000000</td>\n",
       "      <td>2848.002750</td>\n",
       "    </tr>\n",
       "    <tr>\n",
       "      <th>50%</th>\n",
       "      <td>1850.000000</td>\n",
       "      <td>3790.000000</td>\n",
       "      <td>2868.668500</td>\n",
       "    </tr>\n",
       "    <tr>\n",
       "      <th>75%</th>\n",
       "      <td>1910.063000</td>\n",
       "      <td>3845.000000</td>\n",
       "      <td>2889.334250</td>\n",
       "    </tr>\n",
       "    <tr>\n",
       "      <th>max</th>\n",
       "      <td>1970.126000</td>\n",
       "      <td>3900.000000</td>\n",
       "      <td>2910.000000</td>\n",
       "    </tr>\n",
       "  </tbody>\n",
       "</table>\n",
       "</div>"
      ],
      "text/plain": [
       "Boot_colour             Black        Brown        White\n",
       "Price      count     3.000000     2.000000     2.000000\n",
       "           mean   1706.666667  3500.000000  2200.000000\n",
       "           std     614.925470   707.106781  1131.370850\n",
       "           min    1000.000000  3000.000000  1400.000000\n",
       "           25%    1500.000000  3250.000000  1800.000000\n",
       "           50%    2000.000000  3500.000000  2200.000000\n",
       "           75%    2060.000000  3750.000000  2600.000000\n",
       "           max    2120.000000  4000.000000  3000.000000\n",
       "Discount   count     3.000000     2.000000     2.000000\n",
       "           mean    135.173333   210.000000   106.332000\n",
       "           std      30.585783   155.563492    23.096936\n",
       "           min     100.000000   100.000000    90.000000\n",
       "           25%     125.000000   155.000000    98.166000\n",
       "           50%     150.000000   210.000000   106.332000\n",
       "           75%     152.760000   265.000000   114.498000\n",
       "           max     155.520000   320.000000   122.664000\n",
       "Full Price count     3.000000     2.000000     2.000000\n",
       "           mean   1573.375333  3790.000000  2868.668500\n",
       "           std     586.245101   155.563492    58.451568\n",
       "           min     900.000000  3680.000000  2827.337000\n",
       "           25%    1375.000000  3735.000000  2848.002750\n",
       "           50%    1850.000000  3790.000000  2868.668500\n",
       "           75%    1910.063000  3845.000000  2889.334250\n",
       "           max    1970.126000  3900.000000  2910.000000"
      ]
     },
     "execution_count": 70,
     "metadata": {},
     "output_type": "execute_result"
    }
   ],
   "source": [
    "#Grouping element as on SQL \n",
    "sales_enterprice_df.groupby('Boot_colour').describe().T"
   ]
  },
  {
   "cell_type": "markdown",
   "metadata": {},
   "source": [
    "### Data Cleaning"
   ]
  },
  {
   "cell_type": "code",
   "execution_count": 71,
   "metadata": {
    "colab": {
     "background_save": true,
     "base_uri": "https://localhost:8080/",
     "height": 142
    },
    "id": "2VlL9bcU73Tu",
    "outputId": "df6b3dfa-a0f9-4f33-c193-cd39e48276d5"
   },
   "outputs": [
    {
     "data": {
      "text/html": [
       "<div>\n",
       "<style scoped>\n",
       "    .dataframe tbody tr th:only-of-type {\n",
       "        vertical-align: middle;\n",
       "    }\n",
       "\n",
       "    .dataframe tbody tr th {\n",
       "        vertical-align: top;\n",
       "    }\n",
       "\n",
       "    .dataframe thead th {\n",
       "        text-align: right;\n",
       "    }\n",
       "</style>\n",
       "<table border=\"1\" class=\"dataframe\">\n",
       "  <thead>\n",
       "    <tr style=\"text-align: right;\">\n",
       "      <th></th>\n",
       "      <th>Sunday</th>\n",
       "      <th>Monday</th>\n",
       "      <th>Tuesday</th>\n",
       "      <th>Wednesday</th>\n",
       "      <th>Thursday</th>\n",
       "      <th>Saturday</th>\n",
       "    </tr>\n",
       "  </thead>\n",
       "  <tbody>\n",
       "    <tr>\n",
       "      <th>Q1(15)</th>\n",
       "      <td>15</td>\n",
       "      <td>10</td>\n",
       "      <td>12</td>\n",
       "      <td>9.0</td>\n",
       "      <td>12.0</td>\n",
       "      <td>NaN</td>\n",
       "    </tr>\n",
       "    <tr>\n",
       "      <th>Q2(50)</th>\n",
       "      <td>47</td>\n",
       "      <td>27</td>\n",
       "      <td>40</td>\n",
       "      <td>50.0</td>\n",
       "      <td>37.0</td>\n",
       "      <td>NaN</td>\n",
       "    </tr>\n",
       "    <tr>\n",
       "      <th>Attedance(30)</th>\n",
       "      <td>30</td>\n",
       "      <td>30</td>\n",
       "      <td>30</td>\n",
       "      <td>NaN</td>\n",
       "      <td>NaN</td>\n",
       "      <td>NaN</td>\n",
       "    </tr>\n",
       "  </tbody>\n",
       "</table>\n",
       "</div>"
      ],
      "text/plain": [
       "               Sunday  Monday  Tuesday  Wednesday  Thursday  Saturday\n",
       "Q1(15)             15      10       12        9.0      12.0       NaN\n",
       "Q2(50)             47      27       40       50.0      37.0       NaN\n",
       "Attedance(30)      30      30       30        NaN       NaN       NaN"
      ]
     },
     "execution_count": 71,
     "metadata": {},
     "output_type": "execute_result"
    }
   ],
   "source": [
    "days_point = {'Sunday':[15,47,30],\n",
    "        'Monday':[10,27,30],\n",
    "        'Tuesday': [12,40,30],\n",
    "        'Wednesday' : [9,50,np.nan],\n",
    "        'Thursday': [12,37,np.nan],\n",
    "        'Saturday' : [np.nan,np.nan,np.nan] \n",
    "        }\n",
    "days_point_df = pd.DataFrame(days_point,index=['Q1(15)','Q2(50)', 'Attedance(30)'])        \n",
    "days_point_df"
   ]
  },
  {
   "cell_type": "code",
   "execution_count": 72,
   "metadata": {
    "colab": {
     "background_save": true,
     "base_uri": "https://localhost:8080/",
     "height": 142
    },
    "id": "azJesJNsytQ_",
    "outputId": "2ab73e73-60e1-42a3-86ed-1b47b7af9ee4"
   },
   "outputs": [
    {
     "data": {
      "text/html": [
       "<div>\n",
       "<style scoped>\n",
       "    .dataframe tbody tr th:only-of-type {\n",
       "        vertical-align: middle;\n",
       "    }\n",
       "\n",
       "    .dataframe tbody tr th {\n",
       "        vertical-align: top;\n",
       "    }\n",
       "\n",
       "    .dataframe thead th {\n",
       "        text-align: right;\n",
       "    }\n",
       "</style>\n",
       "<table border=\"1\" class=\"dataframe\">\n",
       "  <thead>\n",
       "    <tr style=\"text-align: right;\">\n",
       "      <th></th>\n",
       "      <th>Sunday</th>\n",
       "      <th>Monday</th>\n",
       "      <th>Tuesday</th>\n",
       "      <th>Wednesday</th>\n",
       "      <th>Thursday</th>\n",
       "      <th>Saturday</th>\n",
       "    </tr>\n",
       "  </thead>\n",
       "  <tbody>\n",
       "    <tr>\n",
       "      <th>Q1(15)</th>\n",
       "      <td>False</td>\n",
       "      <td>False</td>\n",
       "      <td>False</td>\n",
       "      <td>False</td>\n",
       "      <td>False</td>\n",
       "      <td>True</td>\n",
       "    </tr>\n",
       "    <tr>\n",
       "      <th>Q2(50)</th>\n",
       "      <td>False</td>\n",
       "      <td>False</td>\n",
       "      <td>False</td>\n",
       "      <td>False</td>\n",
       "      <td>False</td>\n",
       "      <td>True</td>\n",
       "    </tr>\n",
       "    <tr>\n",
       "      <th>Attedance(30)</th>\n",
       "      <td>False</td>\n",
       "      <td>False</td>\n",
       "      <td>False</td>\n",
       "      <td>True</td>\n",
       "      <td>True</td>\n",
       "      <td>True</td>\n",
       "    </tr>\n",
       "  </tbody>\n",
       "</table>\n",
       "</div>"
      ],
      "text/plain": [
       "               Sunday  Monday  Tuesday  Wednesday  Thursday  Saturday\n",
       "Q1(15)          False   False    False      False     False      True\n",
       "Q2(50)          False   False    False      False     False      True\n",
       "Attedance(30)   False   False    False       True      True      True"
      ]
     },
     "execution_count": 72,
     "metadata": {},
     "output_type": "execute_result"
    }
   ],
   "source": [
    "#Asking if null value on dataframe\n",
    "days_point_df.isnull()"
   ]
  },
  {
   "cell_type": "code",
   "execution_count": 73,
   "metadata": {
    "colab": {
     "background_save": true,
     "base_uri": "https://localhost:8080/"
    },
    "id": "v4rX9qGKzRK7",
    "outputId": "2421f955-08fa-4db4-b13d-54411d06ff61"
   },
   "outputs": [
    {
     "data": {
      "text/plain": [
       "Sunday       0\n",
       "Monday       0\n",
       "Tuesday      0\n",
       "Wednesday    1\n",
       "Thursday     1\n",
       "Saturday     3\n",
       "dtype: int64"
      ]
     },
     "execution_count": 73,
     "metadata": {},
     "output_type": "execute_result"
    }
   ],
   "source": [
    "#Summing null value on dataframe the columns\n",
    "days_point_df.isnull().sum()"
   ]
  },
  {
   "cell_type": "code",
   "execution_count": 74,
   "metadata": {
    "colab": {
     "background_save": true,
     "base_uri": "https://localhost:8080/"
    },
    "id": "77Dr_bV6zaHx",
    "outputId": "58faf752-7173-44c6-e191-f71aef627681"
   },
   "outputs": [
    {
     "data": {
      "text/plain": [
       "Q1(15)           1\n",
       "Q2(50)           1\n",
       "Attedance(30)    3\n",
       "dtype: int64"
      ]
     },
     "execution_count": 74,
     "metadata": {},
     "output_type": "execute_result"
    }
   ],
   "source": [
    "#Summing null value on dataframe in the rows\n",
    "days_point_df.isnull().sum(axis=1)"
   ]
  },
  {
   "cell_type": "code",
   "execution_count": 76,
   "metadata": {
    "colab": {
     "background_save": true,
     "base_uri": "https://localhost:8080/",
     "height": 49
    },
    "id": "cj2ErF8H0YeU",
    "outputId": "a7e7b62d-6423-40e4-883a-aca173e2bee4"
   },
   "outputs": [
    {
     "data": {
      "text/html": [
       "<div>\n",
       "<style scoped>\n",
       "    .dataframe tbody tr th:only-of-type {\n",
       "        vertical-align: middle;\n",
       "    }\n",
       "\n",
       "    .dataframe tbody tr th {\n",
       "        vertical-align: top;\n",
       "    }\n",
       "\n",
       "    .dataframe thead th {\n",
       "        text-align: right;\n",
       "    }\n",
       "</style>\n",
       "<table border=\"1\" class=\"dataframe\">\n",
       "  <thead>\n",
       "    <tr style=\"text-align: right;\">\n",
       "      <th></th>\n",
       "      <th>Sunday</th>\n",
       "      <th>Monday</th>\n",
       "      <th>Tuesday</th>\n",
       "      <th>Wednesday</th>\n",
       "      <th>Thursday</th>\n",
       "      <th>Saturday</th>\n",
       "    </tr>\n",
       "  </thead>\n",
       "  <tbody>\n",
       "  </tbody>\n",
       "</table>\n",
       "</div>"
      ],
      "text/plain": [
       "Empty DataFrame\n",
       "Columns: [Sunday, Monday, Tuesday, Wednesday, Thursday, Saturday]\n",
       "Index: []"
      ]
     },
     "execution_count": 76,
     "metadata": {},
     "output_type": "execute_result"
    }
   ],
   "source": [
    "#Removing any row contain nan from DataFrame\n",
    "days_point_df.dropna(axis =0)\n",
    "#To save the dropping\n",
    "#days_point_df.dropna(axis =0,inplace = True)"
   ]
  },
  {
   "cell_type": "code",
   "execution_count": 77,
   "metadata": {
    "colab": {
     "background_save": true,
     "base_uri": "https://localhost:8080/",
     "height": 142
    },
    "id": "Ew13LhGrzZwc",
    "outputId": "d2836f09-17ef-4d5d-f299-a0f8e43b2824"
   },
   "outputs": [
    {
     "data": {
      "text/html": [
       "<div>\n",
       "<style scoped>\n",
       "    .dataframe tbody tr th:only-of-type {\n",
       "        vertical-align: middle;\n",
       "    }\n",
       "\n",
       "    .dataframe tbody tr th {\n",
       "        vertical-align: top;\n",
       "    }\n",
       "\n",
       "    .dataframe thead th {\n",
       "        text-align: right;\n",
       "    }\n",
       "</style>\n",
       "<table border=\"1\" class=\"dataframe\">\n",
       "  <thead>\n",
       "    <tr style=\"text-align: right;\">\n",
       "      <th></th>\n",
       "      <th>Sunday</th>\n",
       "      <th>Monday</th>\n",
       "      <th>Tuesday</th>\n",
       "    </tr>\n",
       "  </thead>\n",
       "  <tbody>\n",
       "    <tr>\n",
       "      <th>Q1(15)</th>\n",
       "      <td>15</td>\n",
       "      <td>10</td>\n",
       "      <td>12</td>\n",
       "    </tr>\n",
       "    <tr>\n",
       "      <th>Q2(50)</th>\n",
       "      <td>47</td>\n",
       "      <td>27</td>\n",
       "      <td>40</td>\n",
       "    </tr>\n",
       "    <tr>\n",
       "      <th>Attedance(30)</th>\n",
       "      <td>30</td>\n",
       "      <td>30</td>\n",
       "      <td>30</td>\n",
       "    </tr>\n",
       "  </tbody>\n",
       "</table>\n",
       "</div>"
      ],
      "text/plain": [
       "               Sunday  Monday  Tuesday\n",
       "Q1(15)             15      10       12\n",
       "Q2(50)             47      27       40\n",
       "Attedance(30)      30      30       30"
      ]
     },
     "execution_count": 77,
     "metadata": {},
     "output_type": "execute_result"
    }
   ],
   "source": [
    "#Removing any column contain nan from DataFrame\n",
    "days_point_df.dropna(axis =1)\n",
    "#To save the dropping\n",
    "#days_point_df.dropna(axis =1,inplace = True)"
   ]
  },
  {
   "cell_type": "code",
   "execution_count": 78,
   "metadata": {
    "colab": {
     "background_save": true,
     "base_uri": "https://localhost:8080/",
     "height": 142
    },
    "id": "PDJJL1xU0nmq",
    "outputId": "d2a69f57-05c1-4054-f077-20746ec8a54c"
   },
   "outputs": [
    {
     "data": {
      "text/html": [
       "<div>\n",
       "<style scoped>\n",
       "    .dataframe tbody tr th:only-of-type {\n",
       "        vertical-align: middle;\n",
       "    }\n",
       "\n",
       "    .dataframe tbody tr th {\n",
       "        vertical-align: top;\n",
       "    }\n",
       "\n",
       "    .dataframe thead th {\n",
       "        text-align: right;\n",
       "    }\n",
       "</style>\n",
       "<table border=\"1\" class=\"dataframe\">\n",
       "  <thead>\n",
       "    <tr style=\"text-align: right;\">\n",
       "      <th></th>\n",
       "      <th>Sunday</th>\n",
       "      <th>Monday</th>\n",
       "      <th>Tuesday</th>\n",
       "      <th>Wednesday</th>\n",
       "      <th>Thursday</th>\n",
       "      <th>Saturday</th>\n",
       "    </tr>\n",
       "  </thead>\n",
       "  <tbody>\n",
       "    <tr>\n",
       "      <th>Q1(15)</th>\n",
       "      <td>15</td>\n",
       "      <td>10</td>\n",
       "      <td>12</td>\n",
       "      <td>9.0</td>\n",
       "      <td>12.0</td>\n",
       "      <td>20.0</td>\n",
       "    </tr>\n",
       "    <tr>\n",
       "      <th>Q2(50)</th>\n",
       "      <td>47</td>\n",
       "      <td>27</td>\n",
       "      <td>40</td>\n",
       "      <td>50.0</td>\n",
       "      <td>37.0</td>\n",
       "      <td>NaN</td>\n",
       "    </tr>\n",
       "    <tr>\n",
       "      <th>Attedance(30)</th>\n",
       "      <td>30</td>\n",
       "      <td>30</td>\n",
       "      <td>30</td>\n",
       "      <td>NaN</td>\n",
       "      <td>NaN</td>\n",
       "      <td>NaN</td>\n",
       "    </tr>\n",
       "  </tbody>\n",
       "</table>\n",
       "</div>"
      ],
      "text/plain": [
       "               Sunday  Monday  Tuesday  Wednesday  Thursday  Saturday\n",
       "Q1(15)             15      10       12        9.0      12.0      20.0\n",
       "Q2(50)             47      27       40       50.0      37.0       NaN\n",
       "Attedance(30)      30      30       30        NaN       NaN       NaN"
      ]
     },
     "execution_count": 78,
     "metadata": {},
     "output_type": "execute_result"
    }
   ],
   "source": [
    "#Add new value to specific element has value of nan             \n",
    "days_point_df.loc['Q1(15)','Saturday'] = 20\n",
    "days_point_df"
   ]
  },
  {
   "cell_type": "code",
   "execution_count": 79,
   "metadata": {
    "colab": {
     "background_save": true,
     "base_uri": "https://localhost:8080/",
     "height": 142
    },
    "id": "GxSvOjgd0slW",
    "outputId": "a9ebded2-c6ed-47e5-c652-1b3f7f645e40"
   },
   "outputs": [
    {
     "data": {
      "text/html": [
       "<div>\n",
       "<style scoped>\n",
       "    .dataframe tbody tr th:only-of-type {\n",
       "        vertical-align: middle;\n",
       "    }\n",
       "\n",
       "    .dataframe tbody tr th {\n",
       "        vertical-align: top;\n",
       "    }\n",
       "\n",
       "    .dataframe thead th {\n",
       "        text-align: right;\n",
       "    }\n",
       "</style>\n",
       "<table border=\"1\" class=\"dataframe\">\n",
       "  <thead>\n",
       "    <tr style=\"text-align: right;\">\n",
       "      <th></th>\n",
       "      <th>Sunday</th>\n",
       "      <th>Monday</th>\n",
       "      <th>Tuesday</th>\n",
       "      <th>Wednesday</th>\n",
       "      <th>Thursday</th>\n",
       "      <th>Saturday</th>\n",
       "    </tr>\n",
       "  </thead>\n",
       "  <tbody>\n",
       "    <tr>\n",
       "      <th>Q1(15)</th>\n",
       "      <td>11</td>\n",
       "      <td>10</td>\n",
       "      <td>12</td>\n",
       "      <td>9.0</td>\n",
       "      <td>12.0</td>\n",
       "      <td>20.0</td>\n",
       "    </tr>\n",
       "    <tr>\n",
       "      <th>Q2(50)</th>\n",
       "      <td>47</td>\n",
       "      <td>27</td>\n",
       "      <td>40</td>\n",
       "      <td>50.0</td>\n",
       "      <td>37.0</td>\n",
       "      <td>NaN</td>\n",
       "    </tr>\n",
       "    <tr>\n",
       "      <th>Attedance(30)</th>\n",
       "      <td>30</td>\n",
       "      <td>30</td>\n",
       "      <td>30</td>\n",
       "      <td>NaN</td>\n",
       "      <td>NaN</td>\n",
       "      <td>NaN</td>\n",
       "    </tr>\n",
       "  </tbody>\n",
       "</table>\n",
       "</div>"
      ],
      "text/plain": [
       "               Sunday  Monday  Tuesday  Wednesday  Thursday  Saturday\n",
       "Q1(15)             11      10       12        9.0      12.0      20.0\n",
       "Q2(50)             47      27       40       50.0      37.0       NaN\n",
       "Attedance(30)      30      30       30        NaN       NaN       NaN"
      ]
     },
     "execution_count": 79,
     "metadata": {},
     "output_type": "execute_result"
    }
   ],
   "source": [
    "#Also used to Alter specific element \n",
    "days_point_df.loc['Q1(15)','Sunday'] = 11\n",
    "days_point_df"
   ]
  },
  {
   "cell_type": "code",
   "execution_count": 80,
   "metadata": {
    "colab": {
     "background_save": true,
     "base_uri": "https://localhost:8080/",
     "height": 142
    },
    "id": "kc2glUqM1Ycd",
    "outputId": "5e657c91-5242-4179-e75d-b80a4f7b94c7"
   },
   "outputs": [
    {
     "data": {
      "text/html": [
       "<div>\n",
       "<style scoped>\n",
       "    .dataframe tbody tr th:only-of-type {\n",
       "        vertical-align: middle;\n",
       "    }\n",
       "\n",
       "    .dataframe tbody tr th {\n",
       "        vertical-align: top;\n",
       "    }\n",
       "\n",
       "    .dataframe thead th {\n",
       "        text-align: right;\n",
       "    }\n",
       "</style>\n",
       "<table border=\"1\" class=\"dataframe\">\n",
       "  <thead>\n",
       "    <tr style=\"text-align: right;\">\n",
       "      <th></th>\n",
       "      <th>Sunday</th>\n",
       "      <th>Monday</th>\n",
       "      <th>Tuesday</th>\n",
       "      <th>Wednesday</th>\n",
       "      <th>Thursday</th>\n",
       "      <th>Saturday</th>\n",
       "    </tr>\n",
       "  </thead>\n",
       "  <tbody>\n",
       "    <tr>\n",
       "      <th>Q1(15)</th>\n",
       "      <td>11</td>\n",
       "      <td>10</td>\n",
       "      <td>12</td>\n",
       "      <td>9.0</td>\n",
       "      <td>12.0</td>\n",
       "      <td>20.0</td>\n",
       "    </tr>\n",
       "    <tr>\n",
       "      <th>Q2(50)</th>\n",
       "      <td>47</td>\n",
       "      <td>27</td>\n",
       "      <td>40</td>\n",
       "      <td>50.0</td>\n",
       "      <td>37.0</td>\n",
       "      <td>No Point</td>\n",
       "    </tr>\n",
       "    <tr>\n",
       "      <th>Attedance(30)</th>\n",
       "      <td>30</td>\n",
       "      <td>30</td>\n",
       "      <td>30</td>\n",
       "      <td>No Point</td>\n",
       "      <td>No Point</td>\n",
       "      <td>No Point</td>\n",
       "    </tr>\n",
       "  </tbody>\n",
       "</table>\n",
       "</div>"
      ],
      "text/plain": [
       "               Sunday  Monday  Tuesday Wednesday  Thursday  Saturday\n",
       "Q1(15)             11      10       12       9.0      12.0      20.0\n",
       "Q2(50)             47      27       40      50.0      37.0  No Point\n",
       "Attedance(30)      30      30       30  No Point  No Point  No Point"
      ]
     },
     "execution_count": 80,
     "metadata": {},
     "output_type": "execute_result"
    }
   ],
   "source": [
    "days_point_df.fillna(value = 'No Point')\n",
    "#to save fulling the nan value \n",
    "#days_point_df.fillna(value = 'No Point', inplace = True)"
   ]
  },
  {
   "cell_type": "code",
   "execution_count": 81,
   "metadata": {
    "colab": {
     "background_save": true,
     "base_uri": "https://localhost:8080/",
     "height": 142
    },
    "id": "p-B59EAb234S",
    "outputId": "9fdb441d-a8b6-4817-afc1-34b57dbb927e"
   },
   "outputs": [
    {
     "data": {
      "text/html": [
       "<div>\n",
       "<style scoped>\n",
       "    .dataframe tbody tr th:only-of-type {\n",
       "        vertical-align: middle;\n",
       "    }\n",
       "\n",
       "    .dataframe tbody tr th {\n",
       "        vertical-align: top;\n",
       "    }\n",
       "\n",
       "    .dataframe thead th {\n",
       "        text-align: right;\n",
       "    }\n",
       "</style>\n",
       "<table border=\"1\" class=\"dataframe\">\n",
       "  <thead>\n",
       "    <tr style=\"text-align: right;\">\n",
       "      <th></th>\n",
       "      <th>Sunday</th>\n",
       "      <th>Monday</th>\n",
       "      <th>Tuesday</th>\n",
       "      <th>Wednesday</th>\n",
       "      <th>Thursday</th>\n",
       "      <th>Saturday</th>\n",
       "    </tr>\n",
       "  </thead>\n",
       "  <tbody>\n",
       "    <tr>\n",
       "      <th>Q1(15)</th>\n",
       "      <td>11</td>\n",
       "      <td>10</td>\n",
       "      <td>12</td>\n",
       "      <td>9.0</td>\n",
       "      <td>12.0</td>\n",
       "      <td>20.0</td>\n",
       "    </tr>\n",
       "    <tr>\n",
       "      <th>Q2(50)</th>\n",
       "      <td>47</td>\n",
       "      <td>27</td>\n",
       "      <td>40</td>\n",
       "      <td>50.0</td>\n",
       "      <td>37.0</td>\n",
       "      <td>0.0</td>\n",
       "    </tr>\n",
       "    <tr>\n",
       "      <th>Attedance(30)</th>\n",
       "      <td>30</td>\n",
       "      <td>30</td>\n",
       "      <td>30</td>\n",
       "      <td>0.0</td>\n",
       "      <td>0.0</td>\n",
       "      <td>0.0</td>\n",
       "    </tr>\n",
       "  </tbody>\n",
       "</table>\n",
       "</div>"
      ],
      "text/plain": [
       "               Sunday  Monday  Tuesday  Wednesday  Thursday  Saturday\n",
       "Q1(15)             11      10       12        9.0      12.0      20.0\n",
       "Q2(50)             47      27       40       50.0      37.0       0.0\n",
       "Attedance(30)      30      30       30        0.0       0.0       0.0"
      ]
     },
     "execution_count": 81,
     "metadata": {},
     "output_type": "execute_result"
    }
   ],
   "source": [
    "days_point_df.fillna(value = 0)"
   ]
  },
  {
   "cell_type": "code",
   "execution_count": 82,
   "metadata": {
    "colab": {
     "background_save": true,
     "base_uri": "https://localhost:8080/",
     "height": 142
    },
    "id": "jAbrDp4t2bWr",
    "outputId": "bdaa9580-d916-419b-a191-ef0e4a17390c"
   },
   "outputs": [
    {
     "data": {
      "text/html": [
       "<div>\n",
       "<style scoped>\n",
       "    .dataframe tbody tr th:only-of-type {\n",
       "        vertical-align: middle;\n",
       "    }\n",
       "\n",
       "    .dataframe tbody tr th {\n",
       "        vertical-align: top;\n",
       "    }\n",
       "\n",
       "    .dataframe thead th {\n",
       "        text-align: right;\n",
       "    }\n",
       "</style>\n",
       "<table border=\"1\" class=\"dataframe\">\n",
       "  <thead>\n",
       "    <tr style=\"text-align: right;\">\n",
       "      <th></th>\n",
       "      <th>Sunday</th>\n",
       "      <th>Monday</th>\n",
       "      <th>Tuesday</th>\n",
       "      <th>Wednesday</th>\n",
       "      <th>Thursday</th>\n",
       "      <th>Saturday</th>\n",
       "    </tr>\n",
       "  </thead>\n",
       "  <tbody>\n",
       "    <tr>\n",
       "      <th>Q1(15)</th>\n",
       "      <td>11</td>\n",
       "      <td>10</td>\n",
       "      <td>12</td>\n",
       "      <td>9.000000</td>\n",
       "      <td>12.000000</td>\n",
       "      <td>20.000000</td>\n",
       "    </tr>\n",
       "    <tr>\n",
       "      <th>Q2(50)</th>\n",
       "      <td>47</td>\n",
       "      <td>27</td>\n",
       "      <td>40</td>\n",
       "      <td>50.000000</td>\n",
       "      <td>37.000000</td>\n",
       "      <td>22.333333</td>\n",
       "    </tr>\n",
       "    <tr>\n",
       "      <th>Attedance(30)</th>\n",
       "      <td>30</td>\n",
       "      <td>30</td>\n",
       "      <td>30</td>\n",
       "      <td>22.333333</td>\n",
       "      <td>22.333333</td>\n",
       "      <td>22.333333</td>\n",
       "    </tr>\n",
       "  </tbody>\n",
       "</table>\n",
       "</div>"
      ],
      "text/plain": [
       "               Sunday  Monday  Tuesday  Wednesday   Thursday   Saturday\n",
       "Q1(15)             11      10       12   9.000000  12.000000  20.000000\n",
       "Q2(50)             47      27       40  50.000000  37.000000  22.333333\n",
       "Attedance(30)      30      30       30  22.333333  22.333333  22.333333"
      ]
     },
     "execution_count": 82,
     "metadata": {},
     "output_type": "execute_result"
    }
   ],
   "source": [
    "days_point_df.fillna(value = days_point_df['Monday'].mean())\n"
   ]
  },
  {
   "cell_type": "markdown",
   "metadata": {
    "id": "hrXCJt7z51if"
   },
   "source": [
    "## Merging and Appending on pandas dataframe :  \n",
    "\n",
    "\n"
   ]
  },
  {
   "cell_type": "code",
   "execution_count": 83,
   "metadata": {
    "colab": {
     "background_save": true,
     "base_uri": "https://localhost:8080/"
    },
    "id": "HpJEZb-TBl7d",
    "outputId": "32214797-708b-4d0b-f8eb-14f19c8d5251",
    "scrolled": true
   },
   "outputs": [
    {
     "data": {
      "text/html": [
       "<div>\n",
       "<style scoped>\n",
       "    .dataframe tbody tr th:only-of-type {\n",
       "        vertical-align: middle;\n",
       "    }\n",
       "\n",
       "    .dataframe tbody tr th {\n",
       "        vertical-align: top;\n",
       "    }\n",
       "\n",
       "    .dataframe thead th {\n",
       "        text-align: right;\n",
       "    }\n",
       "</style>\n",
       "<table border=\"1\" class=\"dataframe\">\n",
       "  <thead>\n",
       "    <tr style=\"text-align: right;\">\n",
       "      <th></th>\n",
       "      <th>GOV</th>\n",
       "      <th>Today_TEMP</th>\n",
       "      <th>NextDay_TEMP</th>\n",
       "    </tr>\n",
       "  </thead>\n",
       "  <tbody>\n",
       "    <tr>\n",
       "      <th>0</th>\n",
       "      <td>Alex</td>\n",
       "      <td>32</td>\n",
       "      <td>37</td>\n",
       "    </tr>\n",
       "    <tr>\n",
       "      <th>1</th>\n",
       "      <td>Kafr el sheikh</td>\n",
       "      <td>34</td>\n",
       "      <td>23</td>\n",
       "    </tr>\n",
       "    <tr>\n",
       "      <th>2</th>\n",
       "      <td>Cairo</td>\n",
       "      <td>40</td>\n",
       "      <td>44</td>\n",
       "    </tr>\n",
       "    <tr>\n",
       "      <th>3</th>\n",
       "      <td>Luxor</td>\n",
       "      <td>45</td>\n",
       "      <td>31</td>\n",
       "    </tr>\n",
       "    <tr>\n",
       "      <th>4</th>\n",
       "      <td>Sinai</td>\n",
       "      <td>42</td>\n",
       "      <td>32</td>\n",
       "    </tr>\n",
       "  </tbody>\n",
       "</table>\n",
       "</div>"
      ],
      "text/plain": [
       "              GOV  Today_TEMP  NextDay_TEMP\n",
       "0            Alex          32            37\n",
       "1  Kafr el sheikh          34            23\n",
       "2           Cairo          40            44\n",
       "3           Luxor          45            31\n",
       "4           Sinai          42            32"
      ]
     },
     "execution_count": 83,
     "metadata": {},
     "output_type": "execute_result"
    }
   ],
   "source": [
    "dic_1 = {'GOV':['Alex','Kafr el sheikh','Cairo','Luxor','Sinai'],\n",
    "         'Today_TEMP': [32,34,40,45,42],\n",
    "          'NextDay_TEMP':[37,23,44,31,32]\n",
    "}\n",
    "dic_2 = { 'GOV':['Assiut','Portsaid','Suez','Matrouh','Giza'],\n",
    "          'Today_TEMP': [12,24,30,25,28],\n",
    "          'NextDay_TEMP':[33,23,41,31,32]    \n",
    "}    \n",
    "dic_1_df = pd.DataFrame(dic_1) \n",
    "dic_1_df"
   ]
  },
  {
   "cell_type": "code",
   "execution_count": 84,
   "metadata": {
    "colab": {
     "background_save": true,
     "base_uri": "https://localhost:8080/"
    },
    "id": "TSMZyYi1Bleq",
    "outputId": "fd9eab30-b031-4eb1-8784-8c7e8800f125",
    "scrolled": true
   },
   "outputs": [
    {
     "data": {
      "text/html": [
       "<div>\n",
       "<style scoped>\n",
       "    .dataframe tbody tr th:only-of-type {\n",
       "        vertical-align: middle;\n",
       "    }\n",
       "\n",
       "    .dataframe tbody tr th {\n",
       "        vertical-align: top;\n",
       "    }\n",
       "\n",
       "    .dataframe thead th {\n",
       "        text-align: right;\n",
       "    }\n",
       "</style>\n",
       "<table border=\"1\" class=\"dataframe\">\n",
       "  <thead>\n",
       "    <tr style=\"text-align: right;\">\n",
       "      <th></th>\n",
       "      <th>GOV</th>\n",
       "      <th>Today_TEMP</th>\n",
       "      <th>NextDay_TEMP</th>\n",
       "    </tr>\n",
       "  </thead>\n",
       "  <tbody>\n",
       "    <tr>\n",
       "      <th>0</th>\n",
       "      <td>Assiut</td>\n",
       "      <td>12</td>\n",
       "      <td>33</td>\n",
       "    </tr>\n",
       "    <tr>\n",
       "      <th>1</th>\n",
       "      <td>Portsaid</td>\n",
       "      <td>24</td>\n",
       "      <td>23</td>\n",
       "    </tr>\n",
       "    <tr>\n",
       "      <th>2</th>\n",
       "      <td>Suez</td>\n",
       "      <td>30</td>\n",
       "      <td>41</td>\n",
       "    </tr>\n",
       "    <tr>\n",
       "      <th>3</th>\n",
       "      <td>Matrouh</td>\n",
       "      <td>25</td>\n",
       "      <td>31</td>\n",
       "    </tr>\n",
       "    <tr>\n",
       "      <th>4</th>\n",
       "      <td>Giza</td>\n",
       "      <td>28</td>\n",
       "      <td>32</td>\n",
       "    </tr>\n",
       "  </tbody>\n",
       "</table>\n",
       "</div>"
      ],
      "text/plain": [
       "        GOV  Today_TEMP  NextDay_TEMP\n",
       "0    Assiut          12            33\n",
       "1  Portsaid          24            23\n",
       "2      Suez          30            41\n",
       "3   Matrouh          25            31\n",
       "4      Giza          28            32"
      ]
     },
     "execution_count": 84,
     "metadata": {},
     "output_type": "execute_result"
    }
   ],
   "source": [
    "dic_2_df = pd.DataFrame(dic_2) \n",
    "dic_2_df    "
   ]
  },
  {
   "cell_type": "code",
   "execution_count": 85,
   "metadata": {
    "colab": {
     "background_save": true,
     "base_uri": "https://localhost:8080/"
    },
    "id": "lnMnZhBGBlG6",
    "outputId": "cf88a667-5abe-4657-a8e6-b88442dec2ec"
   },
   "outputs": [
    {
     "data": {
      "text/html": [
       "<div>\n",
       "<style scoped>\n",
       "    .dataframe tbody tr th:only-of-type {\n",
       "        vertical-align: middle;\n",
       "    }\n",
       "\n",
       "    .dataframe tbody tr th {\n",
       "        vertical-align: top;\n",
       "    }\n",
       "\n",
       "    .dataframe thead th {\n",
       "        text-align: right;\n",
       "    }\n",
       "</style>\n",
       "<table border=\"1\" class=\"dataframe\">\n",
       "  <thead>\n",
       "    <tr style=\"text-align: right;\">\n",
       "      <th></th>\n",
       "      <th>GOV</th>\n",
       "      <th>Today_TEMP</th>\n",
       "      <th>NextDay_TEMP</th>\n",
       "    </tr>\n",
       "  </thead>\n",
       "  <tbody>\n",
       "    <tr>\n",
       "      <th>0</th>\n",
       "      <td>Alex</td>\n",
       "      <td>32</td>\n",
       "      <td>37</td>\n",
       "    </tr>\n",
       "    <tr>\n",
       "      <th>1</th>\n",
       "      <td>Kafr el sheikh</td>\n",
       "      <td>34</td>\n",
       "      <td>23</td>\n",
       "    </tr>\n",
       "    <tr>\n",
       "      <th>2</th>\n",
       "      <td>Cairo</td>\n",
       "      <td>40</td>\n",
       "      <td>44</td>\n",
       "    </tr>\n",
       "    <tr>\n",
       "      <th>3</th>\n",
       "      <td>Luxor</td>\n",
       "      <td>45</td>\n",
       "      <td>31</td>\n",
       "    </tr>\n",
       "    <tr>\n",
       "      <th>4</th>\n",
       "      <td>Sinai</td>\n",
       "      <td>42</td>\n",
       "      <td>32</td>\n",
       "    </tr>\n",
       "    <tr>\n",
       "      <th>0</th>\n",
       "      <td>Assiut</td>\n",
       "      <td>12</td>\n",
       "      <td>33</td>\n",
       "    </tr>\n",
       "    <tr>\n",
       "      <th>1</th>\n",
       "      <td>Portsaid</td>\n",
       "      <td>24</td>\n",
       "      <td>23</td>\n",
       "    </tr>\n",
       "    <tr>\n",
       "      <th>2</th>\n",
       "      <td>Suez</td>\n",
       "      <td>30</td>\n",
       "      <td>41</td>\n",
       "    </tr>\n",
       "    <tr>\n",
       "      <th>3</th>\n",
       "      <td>Matrouh</td>\n",
       "      <td>25</td>\n",
       "      <td>31</td>\n",
       "    </tr>\n",
       "    <tr>\n",
       "      <th>4</th>\n",
       "      <td>Giza</td>\n",
       "      <td>28</td>\n",
       "      <td>32</td>\n",
       "    </tr>\n",
       "  </tbody>\n",
       "</table>\n",
       "</div>"
      ],
      "text/plain": [
       "              GOV  Today_TEMP  NextDay_TEMP\n",
       "0            Alex          32            37\n",
       "1  Kafr el sheikh          34            23\n",
       "2           Cairo          40            44\n",
       "3           Luxor          45            31\n",
       "4           Sinai          42            32\n",
       "0          Assiut          12            33\n",
       "1        Portsaid          24            23\n",
       "2            Suez          30            41\n",
       "3         Matrouh          25            31\n",
       "4            Giza          28            32"
      ]
     },
     "execution_count": 85,
     "metadata": {},
     "output_type": "execute_result"
    }
   ],
   "source": [
    "#Appending Way\n",
    "dic_df=dic_1_df.append(dic_2_df) \n",
    "dic_df      "
   ]
  },
  {
   "cell_type": "code",
   "execution_count": 86,
   "metadata": {
    "colab": {
     "background_save": true,
     "base_uri": "https://localhost:8080/"
    },
    "id": "CFnHOu5jF1af",
    "outputId": "bc8dc2d7-f198-46eb-8939-6627357b6453"
   },
   "outputs": [
    {
     "data": {
      "text/html": [
       "<div>\n",
       "<style scoped>\n",
       "    .dataframe tbody tr th:only-of-type {\n",
       "        vertical-align: middle;\n",
       "    }\n",
       "\n",
       "    .dataframe tbody tr th {\n",
       "        vertical-align: top;\n",
       "    }\n",
       "\n",
       "    .dataframe thead th {\n",
       "        text-align: right;\n",
       "    }\n",
       "</style>\n",
       "<table border=\"1\" class=\"dataframe\">\n",
       "  <thead>\n",
       "    <tr style=\"text-align: right;\">\n",
       "      <th></th>\n",
       "      <th>GOV</th>\n",
       "      <th>Today_TEMP</th>\n",
       "      <th>NextDay_TEMP</th>\n",
       "    </tr>\n",
       "  </thead>\n",
       "  <tbody>\n",
       "    <tr>\n",
       "      <th>0</th>\n",
       "      <td>Alex</td>\n",
       "      <td>32</td>\n",
       "      <td>37</td>\n",
       "    </tr>\n",
       "    <tr>\n",
       "      <th>1</th>\n",
       "      <td>Kafr el sheikh</td>\n",
       "      <td>34</td>\n",
       "      <td>23</td>\n",
       "    </tr>\n",
       "    <tr>\n",
       "      <th>2</th>\n",
       "      <td>Cairo</td>\n",
       "      <td>40</td>\n",
       "      <td>44</td>\n",
       "    </tr>\n",
       "    <tr>\n",
       "      <th>3</th>\n",
       "      <td>Luxor</td>\n",
       "      <td>45</td>\n",
       "      <td>31</td>\n",
       "    </tr>\n",
       "    <tr>\n",
       "      <th>4</th>\n",
       "      <td>Sinai</td>\n",
       "      <td>42</td>\n",
       "      <td>32</td>\n",
       "    </tr>\n",
       "    <tr>\n",
       "      <th>0</th>\n",
       "      <td>Assiut</td>\n",
       "      <td>12</td>\n",
       "      <td>33</td>\n",
       "    </tr>\n",
       "    <tr>\n",
       "      <th>1</th>\n",
       "      <td>Portsaid</td>\n",
       "      <td>24</td>\n",
       "      <td>23</td>\n",
       "    </tr>\n",
       "    <tr>\n",
       "      <th>2</th>\n",
       "      <td>Suez</td>\n",
       "      <td>30</td>\n",
       "      <td>41</td>\n",
       "    </tr>\n",
       "    <tr>\n",
       "      <th>3</th>\n",
       "      <td>Matrouh</td>\n",
       "      <td>25</td>\n",
       "      <td>31</td>\n",
       "    </tr>\n",
       "    <tr>\n",
       "      <th>4</th>\n",
       "      <td>Giza</td>\n",
       "      <td>28</td>\n",
       "      <td>32</td>\n",
       "    </tr>\n",
       "  </tbody>\n",
       "</table>\n",
       "</div>"
      ],
      "text/plain": [
       "              GOV  Today_TEMP  NextDay_TEMP\n",
       "0            Alex          32            37\n",
       "1  Kafr el sheikh          34            23\n",
       "2           Cairo          40            44\n",
       "3           Luxor          45            31\n",
       "4           Sinai          42            32\n",
       "0          Assiut          12            33\n",
       "1        Portsaid          24            23\n",
       "2            Suez          30            41\n",
       "3         Matrouh          25            31\n",
       "4            Giza          28            32"
      ]
     },
     "execution_count": 86,
     "metadata": {},
     "output_type": "execute_result"
    }
   ],
   "source": [
    "#Concatination Way\n",
    "dic_df_2=pd.concat([dic_1_df,dic_2_df]) \n",
    "dic_df_2"
   ]
  },
  {
   "cell_type": "code",
   "execution_count": 87,
   "metadata": {
    "colab": {
     "background_save": true,
     "base_uri": "https://localhost:8080/"
    },
    "id": "EOFbfHW255Et",
    "outputId": "3485e807-df30-4307-c8e8-6cc2d612e9ec"
   },
   "outputs": [
    {
     "data": {
      "text/html": [
       "<div>\n",
       "<style scoped>\n",
       "    .dataframe tbody tr th:only-of-type {\n",
       "        vertical-align: middle;\n",
       "    }\n",
       "\n",
       "    .dataframe tbody tr th {\n",
       "        vertical-align: top;\n",
       "    }\n",
       "\n",
       "    .dataframe thead th {\n",
       "        text-align: right;\n",
       "    }\n",
       "</style>\n",
       "<table border=\"1\" class=\"dataframe\">\n",
       "  <thead>\n",
       "    <tr style=\"text-align: right;\">\n",
       "      <th></th>\n",
       "      <th>GOV</th>\n",
       "      <th>Today_TEMP</th>\n",
       "      <th>NextDay_TEMP</th>\n",
       "      <th>GOV</th>\n",
       "      <th>Today_TEMP</th>\n",
       "      <th>NextDay_TEMP</th>\n",
       "    </tr>\n",
       "  </thead>\n",
       "  <tbody>\n",
       "    <tr>\n",
       "      <th>0</th>\n",
       "      <td>Alex</td>\n",
       "      <td>32</td>\n",
       "      <td>37</td>\n",
       "      <td>Assiut</td>\n",
       "      <td>12</td>\n",
       "      <td>33</td>\n",
       "    </tr>\n",
       "    <tr>\n",
       "      <th>1</th>\n",
       "      <td>Kafr el sheikh</td>\n",
       "      <td>34</td>\n",
       "      <td>23</td>\n",
       "      <td>Portsaid</td>\n",
       "      <td>24</td>\n",
       "      <td>23</td>\n",
       "    </tr>\n",
       "    <tr>\n",
       "      <th>2</th>\n",
       "      <td>Cairo</td>\n",
       "      <td>40</td>\n",
       "      <td>44</td>\n",
       "      <td>Suez</td>\n",
       "      <td>30</td>\n",
       "      <td>41</td>\n",
       "    </tr>\n",
       "    <tr>\n",
       "      <th>3</th>\n",
       "      <td>Luxor</td>\n",
       "      <td>45</td>\n",
       "      <td>31</td>\n",
       "      <td>Matrouh</td>\n",
       "      <td>25</td>\n",
       "      <td>31</td>\n",
       "    </tr>\n",
       "    <tr>\n",
       "      <th>4</th>\n",
       "      <td>Sinai</td>\n",
       "      <td>42</td>\n",
       "      <td>32</td>\n",
       "      <td>Giza</td>\n",
       "      <td>28</td>\n",
       "      <td>32</td>\n",
       "    </tr>\n",
       "  </tbody>\n",
       "</table>\n",
       "</div>"
      ],
      "text/plain": [
       "              GOV  Today_TEMP  NextDay_TEMP       GOV  Today_TEMP  \\\n",
       "0            Alex          32            37    Assiut          12   \n",
       "1  Kafr el sheikh          34            23  Portsaid          24   \n",
       "2           Cairo          40            44      Suez          30   \n",
       "3           Luxor          45            31   Matrouh          25   \n",
       "4           Sinai          42            32      Giza          28   \n",
       "\n",
       "   NextDay_TEMP  \n",
       "0            33  \n",
       "1            23  \n",
       "2            41  \n",
       "3            31  \n",
       "4            32  "
      ]
     },
     "execution_count": 87,
     "metadata": {},
     "output_type": "execute_result"
    }
   ],
   "source": [
    "#Concatination Way\n",
    "#We add axis in concat \n",
    "dic_df_2=pd.concat([dic_1_df,dic_2_df],axis=1) \n",
    "dic_df_2"
   ]
  },
  {
   "cell_type": "code",
   "execution_count": 88,
   "metadata": {
    "colab": {
     "background_save": true,
     "base_uri": "https://localhost:8080/"
    },
    "id": "_aAcBbpIHMYZ",
    "outputId": "877ed83f-c510-42e0-e515-b6f53a1f6bed"
   },
   "outputs": [
    {
     "data": {
      "text/html": [
       "<div>\n",
       "<style scoped>\n",
       "    .dataframe tbody tr th:only-of-type {\n",
       "        vertical-align: middle;\n",
       "    }\n",
       "\n",
       "    .dataframe tbody tr th {\n",
       "        vertical-align: top;\n",
       "    }\n",
       "\n",
       "    .dataframe thead th {\n",
       "        text-align: right;\n",
       "    }\n",
       "</style>\n",
       "<table border=\"1\" class=\"dataframe\">\n",
       "  <thead>\n",
       "    <tr style=\"text-align: right;\">\n",
       "      <th></th>\n",
       "      <th>GOV</th>\n",
       "      <th>Today_TEMP</th>\n",
       "      <th>NextDay_TEMP</th>\n",
       "    </tr>\n",
       "  </thead>\n",
       "  <tbody>\n",
       "    <tr>\n",
       "      <th>0</th>\n",
       "      <td>Alex</td>\n",
       "      <td>32</td>\n",
       "      <td>37</td>\n",
       "    </tr>\n",
       "    <tr>\n",
       "      <th>1</th>\n",
       "      <td>Kafr el sheikh</td>\n",
       "      <td>34</td>\n",
       "      <td>23</td>\n",
       "    </tr>\n",
       "    <tr>\n",
       "      <th>2</th>\n",
       "      <td>Cairo</td>\n",
       "      <td>40</td>\n",
       "      <td>44</td>\n",
       "    </tr>\n",
       "    <tr>\n",
       "      <th>3</th>\n",
       "      <td>Luxor</td>\n",
       "      <td>45</td>\n",
       "      <td>31</td>\n",
       "    </tr>\n",
       "    <tr>\n",
       "      <th>4</th>\n",
       "      <td>Sinai</td>\n",
       "      <td>42</td>\n",
       "      <td>32</td>\n",
       "    </tr>\n",
       "  </tbody>\n",
       "</table>\n",
       "</div>"
      ],
      "text/plain": [
       "              GOV  Today_TEMP  NextDay_TEMP\n",
       "0            Alex          32            37\n",
       "1  Kafr el sheikh          34            23\n",
       "2           Cairo          40            44\n",
       "3           Luxor          45            31\n",
       "4           Sinai          42            32"
      ]
     },
     "execution_count": 88,
     "metadata": {},
     "output_type": "execute_result"
    }
   ],
   "source": [
    "dic_1_df"
   ]
  },
  {
   "cell_type": "code",
   "execution_count": 89,
   "metadata": {
    "colab": {
     "background_save": true,
     "base_uri": "https://localhost:8080/"
    },
    "id": "0k06Sl2cHMSJ",
    "outputId": "64a56fbc-0299-4d90-f220-41dec0e0ff32",
    "scrolled": true
   },
   "outputs": [
    {
     "data": {
      "text/html": [
       "<div>\n",
       "<style scoped>\n",
       "    .dataframe tbody tr th:only-of-type {\n",
       "        vertical-align: middle;\n",
       "    }\n",
       "\n",
       "    .dataframe tbody tr th {\n",
       "        vertical-align: top;\n",
       "    }\n",
       "\n",
       "    .dataframe thead th {\n",
       "        text-align: right;\n",
       "    }\n",
       "</style>\n",
       "<table border=\"1\" class=\"dataframe\">\n",
       "  <thead>\n",
       "    <tr style=\"text-align: right;\">\n",
       "      <th></th>\n",
       "      <th>GOV</th>\n",
       "      <th>Today_TEMP</th>\n",
       "      <th>NextDay_TEMP</th>\n",
       "    </tr>\n",
       "  </thead>\n",
       "  <tbody>\n",
       "    <tr>\n",
       "      <th>0</th>\n",
       "      <td>Assiut</td>\n",
       "      <td>12</td>\n",
       "      <td>33</td>\n",
       "    </tr>\n",
       "    <tr>\n",
       "      <th>1</th>\n",
       "      <td>Portsaid</td>\n",
       "      <td>24</td>\n",
       "      <td>23</td>\n",
       "    </tr>\n",
       "    <tr>\n",
       "      <th>2</th>\n",
       "      <td>Suez</td>\n",
       "      <td>30</td>\n",
       "      <td>41</td>\n",
       "    </tr>\n",
       "    <tr>\n",
       "      <th>3</th>\n",
       "      <td>Matrouh</td>\n",
       "      <td>25</td>\n",
       "      <td>31</td>\n",
       "    </tr>\n",
       "    <tr>\n",
       "      <th>4</th>\n",
       "      <td>Giza</td>\n",
       "      <td>28</td>\n",
       "      <td>32</td>\n",
       "    </tr>\n",
       "  </tbody>\n",
       "</table>\n",
       "</div>"
      ],
      "text/plain": [
       "        GOV  Today_TEMP  NextDay_TEMP\n",
       "0    Assiut          12            33\n",
       "1  Portsaid          24            23\n",
       "2      Suez          30            41\n",
       "3   Matrouh          25            31\n",
       "4      Giza          28            32"
      ]
     },
     "execution_count": 89,
     "metadata": {},
     "output_type": "execute_result"
    }
   ],
   "source": [
    "dic_2_df"
   ]
  },
  {
   "cell_type": "code",
   "execution_count": 90,
   "metadata": {
    "colab": {
     "background_save": true,
     "base_uri": "https://localhost:8080/"
    },
    "id": "4GTTV1eHHMLk",
    "outputId": "9bf8edb8-f4f5-44c6-9922-fba53ee8bebd"
   },
   "outputs": [
    {
     "data": {
      "text/html": [
       "<div>\n",
       "<style scoped>\n",
       "    .dataframe tbody tr th:only-of-type {\n",
       "        vertical-align: middle;\n",
       "    }\n",
       "\n",
       "    .dataframe tbody tr th {\n",
       "        vertical-align: top;\n",
       "    }\n",
       "\n",
       "    .dataframe thead th {\n",
       "        text-align: right;\n",
       "    }\n",
       "</style>\n",
       "<table border=\"1\" class=\"dataframe\">\n",
       "  <thead>\n",
       "    <tr style=\"text-align: right;\">\n",
       "      <th></th>\n",
       "      <th>GOV_x</th>\n",
       "      <th>Today_TEMP_x</th>\n",
       "      <th>NextDay_TEMP</th>\n",
       "      <th>GOV_y</th>\n",
       "      <th>Today_TEMP_y</th>\n",
       "    </tr>\n",
       "  </thead>\n",
       "  <tbody>\n",
       "    <tr>\n",
       "      <th>0</th>\n",
       "      <td>Kafr el sheikh</td>\n",
       "      <td>34</td>\n",
       "      <td>23</td>\n",
       "      <td>Portsaid</td>\n",
       "      <td>24</td>\n",
       "    </tr>\n",
       "    <tr>\n",
       "      <th>1</th>\n",
       "      <td>Luxor</td>\n",
       "      <td>45</td>\n",
       "      <td>31</td>\n",
       "      <td>Matrouh</td>\n",
       "      <td>25</td>\n",
       "    </tr>\n",
       "    <tr>\n",
       "      <th>2</th>\n",
       "      <td>Sinai</td>\n",
       "      <td>42</td>\n",
       "      <td>32</td>\n",
       "      <td>Giza</td>\n",
       "      <td>28</td>\n",
       "    </tr>\n",
       "  </tbody>\n",
       "</table>\n",
       "</div>"
      ],
      "text/plain": [
       "            GOV_x  Today_TEMP_x  NextDay_TEMP     GOV_y  Today_TEMP_y\n",
       "0  Kafr el sheikh            34            23  Portsaid            24\n",
       "1           Luxor            45            31   Matrouh            25\n",
       "2           Sinai            42            32      Giza            28"
      ]
     },
     "execution_count": 90,
     "metadata": {},
     "output_type": "execute_result"
    }
   ],
   "source": [
    "#Inner Merging (Intersection)\n",
    "merg_1 = pd.merge(dic_1_df,dic_2_df,how='inner',on='NextDay_TEMP')\n",
    "merg_1"
   ]
  },
  {
   "cell_type": "code",
   "execution_count": null,
   "metadata": {
    "colab": {
     "background_save": true,
     "base_uri": "https://localhost:8080/"
    },
    "id": "YBDE5YoxHMFx",
    "outputId": "11a50c51-8f6f-4bb1-a88b-f5db48e61168",
    "scrolled": true
   },
   "outputs": [
    {
     "data": {
      "text/html": [
       "<div>\n",
       "<style scoped>\n",
       "    .dataframe tbody tr th:only-of-type {\n",
       "        vertical-align: middle;\n",
       "    }\n",
       "\n",
       "    .dataframe tbody tr th {\n",
       "        vertical-align: top;\n",
       "    }\n",
       "\n",
       "    .dataframe thead th {\n",
       "        text-align: right;\n",
       "    }\n",
       "</style>\n",
       "<table border=\"1\" class=\"dataframe\">\n",
       "  <thead>\n",
       "    <tr style=\"text-align: right;\">\n",
       "      <th></th>\n",
       "      <th>GOV_x</th>\n",
       "      <th>Today_TEMP_x</th>\n",
       "      <th>NextDay_TEMP</th>\n",
       "      <th>GOV_y</th>\n",
       "      <th>Today_TEMP_y</th>\n",
       "    </tr>\n",
       "  </thead>\n",
       "  <tbody>\n",
       "    <tr>\n",
       "      <th>0</th>\n",
       "      <td>Alex</td>\n",
       "      <td>32.0</td>\n",
       "      <td>37</td>\n",
       "      <td>NaN</td>\n",
       "      <td>NaN</td>\n",
       "    </tr>\n",
       "    <tr>\n",
       "      <th>1</th>\n",
       "      <td>Kafr el sheikh</td>\n",
       "      <td>34.0</td>\n",
       "      <td>23</td>\n",
       "      <td>Portsaid</td>\n",
       "      <td>24.0</td>\n",
       "    </tr>\n",
       "    <tr>\n",
       "      <th>2</th>\n",
       "      <td>Cairo</td>\n",
       "      <td>40.0</td>\n",
       "      <td>44</td>\n",
       "      <td>NaN</td>\n",
       "      <td>NaN</td>\n",
       "    </tr>\n",
       "    <tr>\n",
       "      <th>3</th>\n",
       "      <td>Luxor</td>\n",
       "      <td>45.0</td>\n",
       "      <td>31</td>\n",
       "      <td>Matrouh</td>\n",
       "      <td>25.0</td>\n",
       "    </tr>\n",
       "    <tr>\n",
       "      <th>4</th>\n",
       "      <td>Sinai</td>\n",
       "      <td>42.0</td>\n",
       "      <td>32</td>\n",
       "      <td>Giza</td>\n",
       "      <td>28.0</td>\n",
       "    </tr>\n",
       "    <tr>\n",
       "      <th>5</th>\n",
       "      <td>NaN</td>\n",
       "      <td>NaN</td>\n",
       "      <td>33</td>\n",
       "      <td>Assiut</td>\n",
       "      <td>12.0</td>\n",
       "    </tr>\n",
       "    <tr>\n",
       "      <th>6</th>\n",
       "      <td>NaN</td>\n",
       "      <td>NaN</td>\n",
       "      <td>41</td>\n",
       "      <td>Suez</td>\n",
       "      <td>30.0</td>\n",
       "    </tr>\n",
       "  </tbody>\n",
       "</table>\n",
       "</div>"
      ],
      "text/plain": [
       "            GOV_x  Today_TEMP_x  NextDay_TEMP     GOV_y  Today_TEMP_y\n",
       "0            Alex          32.0            37       NaN           NaN\n",
       "1  Kafr el sheikh          34.0            23  Portsaid          24.0\n",
       "2           Cairo          40.0            44       NaN           NaN\n",
       "3           Luxor          45.0            31   Matrouh          25.0\n",
       "4           Sinai          42.0            32      Giza          28.0\n",
       "5             NaN           NaN            33    Assiut          12.0\n",
       "6             NaN           NaN            41      Suez          30.0"
      ]
     },
     "execution_count": 0,
     "metadata": {
      "tags": []
     },
     "output_type": "execute_result"
    }
   ],
   "source": [
    "#Outer Merging (Union)\n",
    "merg_2 = pd.merge(dic_1_df,dic_2_df,how='outer',on='NextDay_TEMP')\n",
    "merg_2"
   ]
  },
  {
   "cell_type": "code",
   "execution_count": null,
   "metadata": {
    "colab": {
     "background_save": true,
     "base_uri": "https://localhost:8080/"
    },
    "id": "kzAoX32kHLsn",
    "outputId": "66502fcc-f3b3-452e-8151-ec1b5efaa629"
   },
   "outputs": [
    {
     "data": {
      "text/html": [
       "<div>\n",
       "<style scoped>\n",
       "    .dataframe tbody tr th:only-of-type {\n",
       "        vertical-align: middle;\n",
       "    }\n",
       "\n",
       "    .dataframe tbody tr th {\n",
       "        vertical-align: top;\n",
       "    }\n",
       "\n",
       "    .dataframe thead th {\n",
       "        text-align: right;\n",
       "    }\n",
       "</style>\n",
       "<table border=\"1\" class=\"dataframe\">\n",
       "  <thead>\n",
       "    <tr style=\"text-align: right;\">\n",
       "      <th></th>\n",
       "      <th>GOV</th>\n",
       "      <th>Today_TEMP</th>\n",
       "      <th>NextDay_TEMP</th>\n",
       "    </tr>\n",
       "  </thead>\n",
       "  <tbody>\n",
       "    <tr>\n",
       "      <th>0</th>\n",
       "      <td>Alex</td>\n",
       "      <td>32</td>\n",
       "      <td>37</td>\n",
       "    </tr>\n",
       "    <tr>\n",
       "      <th>1</th>\n",
       "      <td>Kafr el sheikh</td>\n",
       "      <td>34</td>\n",
       "      <td>23</td>\n",
       "    </tr>\n",
       "    <tr>\n",
       "      <th>2</th>\n",
       "      <td>Cairo</td>\n",
       "      <td>40</td>\n",
       "      <td>44</td>\n",
       "    </tr>\n",
       "    <tr>\n",
       "      <th>3</th>\n",
       "      <td>Luxor</td>\n",
       "      <td>45</td>\n",
       "      <td>31</td>\n",
       "    </tr>\n",
       "    <tr>\n",
       "      <th>4</th>\n",
       "      <td>Sinai</td>\n",
       "      <td>42</td>\n",
       "      <td>32</td>\n",
       "    </tr>\n",
       "    <tr>\n",
       "      <th>5</th>\n",
       "      <td>Assiut</td>\n",
       "      <td>12</td>\n",
       "      <td>33</td>\n",
       "    </tr>\n",
       "    <tr>\n",
       "      <th>6</th>\n",
       "      <td>Portsaid</td>\n",
       "      <td>24</td>\n",
       "      <td>23</td>\n",
       "    </tr>\n",
       "    <tr>\n",
       "      <th>7</th>\n",
       "      <td>Suez</td>\n",
       "      <td>30</td>\n",
       "      <td>41</td>\n",
       "    </tr>\n",
       "    <tr>\n",
       "      <th>8</th>\n",
       "      <td>Matrouh</td>\n",
       "      <td>25</td>\n",
       "      <td>31</td>\n",
       "    </tr>\n",
       "    <tr>\n",
       "      <th>9</th>\n",
       "      <td>Giza</td>\n",
       "      <td>28</td>\n",
       "      <td>32</td>\n",
       "    </tr>\n",
       "  </tbody>\n",
       "</table>\n",
       "</div>"
      ],
      "text/plain": [
       "              GOV  Today_TEMP  NextDay_TEMP\n",
       "0            Alex          32            37\n",
       "1  Kafr el sheikh          34            23\n",
       "2           Cairo          40            44\n",
       "3           Luxor          45            31\n",
       "4           Sinai          42            32\n",
       "5          Assiut          12            33\n",
       "6        Portsaid          24            23\n",
       "7            Suez          30            41\n",
       "8         Matrouh          25            31\n",
       "9            Giza          28            32"
      ]
     },
     "execution_count": 0,
     "metadata": {
      "tags": []
     },
     "output_type": "execute_result"
    }
   ],
   "source": [
    "#Outer Merging (Union) act as Append without on\n",
    "merg_3 = pd.merge(dic_1_df,dic_2_df,how='outer')\n",
    "merg_3"
   ]
  },
  {
   "cell_type": "markdown",
   "metadata": {
    "id": "iGkvP9D7kSCG"
   },
   "source": [
    "<a id='accessFile'></a>\n",
    "\n",
    "## Access and operate on files in pandas dataframe :"
   ]
  },
  {
   "cell_type": "code",
   "execution_count": 31,
   "metadata": {
    "colab": {
     "background_save": true
    },
    "id": "P372WXznovun"
   },
   "outputs": [
    {
     "ename": "FileNotFoundError",
     "evalue": "[Errno 2] No such file or directory: 'california_housing_train.csv'",
     "output_type": "error",
     "traceback": [
      "\u001B[1;31m---------------------------------------------------------------------------\u001B[0m",
      "\u001B[1;31mFileNotFoundError\u001B[0m                         Traceback (most recent call last)",
      "\u001B[1;32m~\\AppData\\Local\\Temp\\ipykernel_10152\\2478098305.py\u001B[0m in \u001B[0;36m<module>\u001B[1;34m\u001B[0m\n\u001B[1;32m----> 1\u001B[1;33m \u001B[0mfile__\u001B[0m \u001B[1;33m=\u001B[0m \u001B[0mpd\u001B[0m\u001B[1;33m.\u001B[0m\u001B[0mread_csv\u001B[0m\u001B[1;33m(\u001B[0m\u001B[1;34m'california_housing_train.csv'\u001B[0m\u001B[1;33m)\u001B[0m\u001B[1;33m\u001B[0m\u001B[1;33m\u001B[0m\u001B[0m\n\u001B[0m",
      "\u001B[1;32mE:\\conda\\lib\\site-packages\\pandas\\util\\_decorators.py\u001B[0m in \u001B[0;36mwrapper\u001B[1;34m(*args, **kwargs)\u001B[0m\n\u001B[0;32m    309\u001B[0m                     \u001B[0mstacklevel\u001B[0m\u001B[1;33m=\u001B[0m\u001B[0mstacklevel\u001B[0m\u001B[1;33m,\u001B[0m\u001B[1;33m\u001B[0m\u001B[1;33m\u001B[0m\u001B[0m\n\u001B[0;32m    310\u001B[0m                 )\n\u001B[1;32m--> 311\u001B[1;33m             \u001B[1;32mreturn\u001B[0m \u001B[0mfunc\u001B[0m\u001B[1;33m(\u001B[0m\u001B[1;33m*\u001B[0m\u001B[0margs\u001B[0m\u001B[1;33m,\u001B[0m \u001B[1;33m**\u001B[0m\u001B[0mkwargs\u001B[0m\u001B[1;33m)\u001B[0m\u001B[1;33m\u001B[0m\u001B[1;33m\u001B[0m\u001B[0m\n\u001B[0m\u001B[0;32m    312\u001B[0m \u001B[1;33m\u001B[0m\u001B[0m\n\u001B[0;32m    313\u001B[0m         \u001B[1;32mreturn\u001B[0m \u001B[0mwrapper\u001B[0m\u001B[1;33m\u001B[0m\u001B[1;33m\u001B[0m\u001B[0m\n",
      "\u001B[1;32mE:\\conda\\lib\\site-packages\\pandas\\io\\parsers\\readers.py\u001B[0m in \u001B[0;36mread_csv\u001B[1;34m(filepath_or_buffer, sep, delimiter, header, names, index_col, usecols, squeeze, prefix, mangle_dupe_cols, dtype, engine, converters, true_values, false_values, skipinitialspace, skiprows, skipfooter, nrows, na_values, keep_default_na, na_filter, verbose, skip_blank_lines, parse_dates, infer_datetime_format, keep_date_col, date_parser, dayfirst, cache_dates, iterator, chunksize, compression, thousands, decimal, lineterminator, quotechar, quoting, doublequote, escapechar, comment, encoding, encoding_errors, dialect, error_bad_lines, warn_bad_lines, on_bad_lines, delim_whitespace, low_memory, memory_map, float_precision, storage_options)\u001B[0m\n\u001B[0;32m    676\u001B[0m     \u001B[0mkwds\u001B[0m\u001B[1;33m.\u001B[0m\u001B[0mupdate\u001B[0m\u001B[1;33m(\u001B[0m\u001B[0mkwds_defaults\u001B[0m\u001B[1;33m)\u001B[0m\u001B[1;33m\u001B[0m\u001B[1;33m\u001B[0m\u001B[0m\n\u001B[0;32m    677\u001B[0m \u001B[1;33m\u001B[0m\u001B[0m\n\u001B[1;32m--> 678\u001B[1;33m     \u001B[1;32mreturn\u001B[0m \u001B[0m_read\u001B[0m\u001B[1;33m(\u001B[0m\u001B[0mfilepath_or_buffer\u001B[0m\u001B[1;33m,\u001B[0m \u001B[0mkwds\u001B[0m\u001B[1;33m)\u001B[0m\u001B[1;33m\u001B[0m\u001B[1;33m\u001B[0m\u001B[0m\n\u001B[0m\u001B[0;32m    679\u001B[0m \u001B[1;33m\u001B[0m\u001B[0m\n\u001B[0;32m    680\u001B[0m \u001B[1;33m\u001B[0m\u001B[0m\n",
      "\u001B[1;32mE:\\conda\\lib\\site-packages\\pandas\\io\\parsers\\readers.py\u001B[0m in \u001B[0;36m_read\u001B[1;34m(filepath_or_buffer, kwds)\u001B[0m\n\u001B[0;32m    573\u001B[0m \u001B[1;33m\u001B[0m\u001B[0m\n\u001B[0;32m    574\u001B[0m     \u001B[1;31m# Create the parser.\u001B[0m\u001B[1;33m\u001B[0m\u001B[1;33m\u001B[0m\u001B[0m\n\u001B[1;32m--> 575\u001B[1;33m     \u001B[0mparser\u001B[0m \u001B[1;33m=\u001B[0m \u001B[0mTextFileReader\u001B[0m\u001B[1;33m(\u001B[0m\u001B[0mfilepath_or_buffer\u001B[0m\u001B[1;33m,\u001B[0m \u001B[1;33m**\u001B[0m\u001B[0mkwds\u001B[0m\u001B[1;33m)\u001B[0m\u001B[1;33m\u001B[0m\u001B[1;33m\u001B[0m\u001B[0m\n\u001B[0m\u001B[0;32m    576\u001B[0m \u001B[1;33m\u001B[0m\u001B[0m\n\u001B[0;32m    577\u001B[0m     \u001B[1;32mif\u001B[0m \u001B[0mchunksize\u001B[0m \u001B[1;32mor\u001B[0m \u001B[0miterator\u001B[0m\u001B[1;33m:\u001B[0m\u001B[1;33m\u001B[0m\u001B[1;33m\u001B[0m\u001B[0m\n",
      "\u001B[1;32mE:\\conda\\lib\\site-packages\\pandas\\io\\parsers\\readers.py\u001B[0m in \u001B[0;36m__init__\u001B[1;34m(self, f, engine, **kwds)\u001B[0m\n\u001B[0;32m    930\u001B[0m \u001B[1;33m\u001B[0m\u001B[0m\n\u001B[0;32m    931\u001B[0m         \u001B[0mself\u001B[0m\u001B[1;33m.\u001B[0m\u001B[0mhandles\u001B[0m\u001B[1;33m:\u001B[0m \u001B[0mIOHandles\u001B[0m \u001B[1;33m|\u001B[0m \u001B[1;32mNone\u001B[0m \u001B[1;33m=\u001B[0m \u001B[1;32mNone\u001B[0m\u001B[1;33m\u001B[0m\u001B[1;33m\u001B[0m\u001B[0m\n\u001B[1;32m--> 932\u001B[1;33m         \u001B[0mself\u001B[0m\u001B[1;33m.\u001B[0m\u001B[0m_engine\u001B[0m \u001B[1;33m=\u001B[0m \u001B[0mself\u001B[0m\u001B[1;33m.\u001B[0m\u001B[0m_make_engine\u001B[0m\u001B[1;33m(\u001B[0m\u001B[0mf\u001B[0m\u001B[1;33m,\u001B[0m \u001B[0mself\u001B[0m\u001B[1;33m.\u001B[0m\u001B[0mengine\u001B[0m\u001B[1;33m)\u001B[0m\u001B[1;33m\u001B[0m\u001B[1;33m\u001B[0m\u001B[0m\n\u001B[0m\u001B[0;32m    933\u001B[0m \u001B[1;33m\u001B[0m\u001B[0m\n\u001B[0;32m    934\u001B[0m     \u001B[1;32mdef\u001B[0m \u001B[0mclose\u001B[0m\u001B[1;33m(\u001B[0m\u001B[0mself\u001B[0m\u001B[1;33m)\u001B[0m\u001B[1;33m:\u001B[0m\u001B[1;33m\u001B[0m\u001B[1;33m\u001B[0m\u001B[0m\n",
      "\u001B[1;32mE:\\conda\\lib\\site-packages\\pandas\\io\\parsers\\readers.py\u001B[0m in \u001B[0;36m_make_engine\u001B[1;34m(self, f, engine)\u001B[0m\n\u001B[0;32m   1214\u001B[0m             \u001B[1;31m# \"Union[str, PathLike[str], ReadCsvBuffer[bytes], ReadCsvBuffer[str]]\"\u001B[0m\u001B[1;33m\u001B[0m\u001B[1;33m\u001B[0m\u001B[0m\n\u001B[0;32m   1215\u001B[0m             \u001B[1;31m# , \"str\", \"bool\", \"Any\", \"Any\", \"Any\", \"Any\", \"Any\"\u001B[0m\u001B[1;33m\u001B[0m\u001B[1;33m\u001B[0m\u001B[0m\n\u001B[1;32m-> 1216\u001B[1;33m             self.handles = get_handle(  # type: ignore[call-overload]\n\u001B[0m\u001B[0;32m   1217\u001B[0m                 \u001B[0mf\u001B[0m\u001B[1;33m,\u001B[0m\u001B[1;33m\u001B[0m\u001B[1;33m\u001B[0m\u001B[0m\n\u001B[0;32m   1218\u001B[0m                 \u001B[0mmode\u001B[0m\u001B[1;33m,\u001B[0m\u001B[1;33m\u001B[0m\u001B[1;33m\u001B[0m\u001B[0m\n",
      "\u001B[1;32mE:\\conda\\lib\\site-packages\\pandas\\io\\common.py\u001B[0m in \u001B[0;36mget_handle\u001B[1;34m(path_or_buf, mode, encoding, compression, memory_map, is_text, errors, storage_options)\u001B[0m\n\u001B[0;32m    784\u001B[0m         \u001B[1;32mif\u001B[0m \u001B[0mioargs\u001B[0m\u001B[1;33m.\u001B[0m\u001B[0mencoding\u001B[0m \u001B[1;32mand\u001B[0m \u001B[1;34m\"b\"\u001B[0m \u001B[1;32mnot\u001B[0m \u001B[1;32min\u001B[0m \u001B[0mioargs\u001B[0m\u001B[1;33m.\u001B[0m\u001B[0mmode\u001B[0m\u001B[1;33m:\u001B[0m\u001B[1;33m\u001B[0m\u001B[1;33m\u001B[0m\u001B[0m\n\u001B[0;32m    785\u001B[0m             \u001B[1;31m# Encoding\u001B[0m\u001B[1;33m\u001B[0m\u001B[1;33m\u001B[0m\u001B[0m\n\u001B[1;32m--> 786\u001B[1;33m             handle = open(\n\u001B[0m\u001B[0;32m    787\u001B[0m                 \u001B[0mhandle\u001B[0m\u001B[1;33m,\u001B[0m\u001B[1;33m\u001B[0m\u001B[1;33m\u001B[0m\u001B[0m\n\u001B[0;32m    788\u001B[0m                 \u001B[0mioargs\u001B[0m\u001B[1;33m.\u001B[0m\u001B[0mmode\u001B[0m\u001B[1;33m,\u001B[0m\u001B[1;33m\u001B[0m\u001B[1;33m\u001B[0m\u001B[0m\n",
      "\u001B[1;31mFileNotFoundError\u001B[0m: [Errno 2] No such file or directory: 'california_housing_train.csv'"
     ]
    }
   ],
   "source": [
    "file__ = pd.read_csv('california_housing_train.csv')"
   ]
  },
  {
   "cell_type": "code",
   "execution_count": 6,
   "metadata": {
    "colab": {
     "background_save": true,
     "base_uri": "https://localhost:8080/"
    },
    "id": "Oxt1TOQUpIOt",
    "outputId": "20f14550-d9d6-4df9-d98e-d7f3c06da710"
   },
   "outputs": [
    {
     "name": "stdout",
     "output_type": "stream",
     "text": [
      "<class 'pandas.core.frame.DataFrame'>\n",
      "RangeIndex: 17000 entries, 0 to 16999\n",
      "Data columns (total 9 columns):\n",
      " #   Column              Non-Null Count  Dtype  \n",
      "---  ------              --------------  -----  \n",
      " 0   longitude           17000 non-null  float64\n",
      " 1   latitude            17000 non-null  float64\n",
      " 2   housing_median_age  17000 non-null  float64\n",
      " 3   total_rooms         17000 non-null  float64\n",
      " 4   total_bedrooms      17000 non-null  float64\n",
      " 5   population          17000 non-null  float64\n",
      " 6   households          17000 non-null  float64\n",
      " 7   median_income       17000 non-null  float64\n",
      " 8   median_house_value  17000 non-null  float64\n",
      "dtypes: float64(9)\n",
      "memory usage: 1.2 MB\n"
     ]
    }
   ],
   "source": [
    "#getting information in dataset \n",
    "file__.info()"
   ]
  },
  {
   "cell_type": "code",
   "execution_count": 7,
   "metadata": {
    "colab": {
     "background_save": true,
     "base_uri": "https://localhost:8080/",
     "height": 317
    },
    "id": "DlkQVfF6qve5",
    "outputId": "9a8f5515-71bc-4533-fe19-66920f173287"
   },
   "outputs": [
    {
     "data": {
      "text/html": [
       "<div>\n",
       "<style scoped>\n",
       "    .dataframe tbody tr th:only-of-type {\n",
       "        vertical-align: middle;\n",
       "    }\n",
       "\n",
       "    .dataframe tbody tr th {\n",
       "        vertical-align: top;\n",
       "    }\n",
       "\n",
       "    .dataframe thead th {\n",
       "        text-align: right;\n",
       "    }\n",
       "</style>\n",
       "<table border=\"1\" class=\"dataframe\">\n",
       "  <thead>\n",
       "    <tr style=\"text-align: right;\">\n",
       "      <th></th>\n",
       "      <th>longitude</th>\n",
       "      <th>latitude</th>\n",
       "      <th>housing_median_age</th>\n",
       "      <th>total_rooms</th>\n",
       "      <th>total_bedrooms</th>\n",
       "      <th>population</th>\n",
       "      <th>households</th>\n",
       "      <th>median_income</th>\n",
       "      <th>median_house_value</th>\n",
       "    </tr>\n",
       "  </thead>\n",
       "  <tbody>\n",
       "    <tr>\n",
       "      <th>count</th>\n",
       "      <td>17000.000000</td>\n",
       "      <td>17000.000000</td>\n",
       "      <td>17000.000000</td>\n",
       "      <td>17000.000000</td>\n",
       "      <td>17000.000000</td>\n",
       "      <td>17000.000000</td>\n",
       "      <td>17000.000000</td>\n",
       "      <td>17000.000000</td>\n",
       "      <td>17000.000000</td>\n",
       "    </tr>\n",
       "    <tr>\n",
       "      <th>mean</th>\n",
       "      <td>-119.562108</td>\n",
       "      <td>35.625225</td>\n",
       "      <td>28.589353</td>\n",
       "      <td>2643.664412</td>\n",
       "      <td>539.410824</td>\n",
       "      <td>1429.573941</td>\n",
       "      <td>501.221941</td>\n",
       "      <td>3.883578</td>\n",
       "      <td>207300.912353</td>\n",
       "    </tr>\n",
       "    <tr>\n",
       "      <th>std</th>\n",
       "      <td>2.005166</td>\n",
       "      <td>2.137340</td>\n",
       "      <td>12.586937</td>\n",
       "      <td>2179.947071</td>\n",
       "      <td>421.499452</td>\n",
       "      <td>1147.852959</td>\n",
       "      <td>384.520841</td>\n",
       "      <td>1.908157</td>\n",
       "      <td>115983.764387</td>\n",
       "    </tr>\n",
       "    <tr>\n",
       "      <th>min</th>\n",
       "      <td>-124.350000</td>\n",
       "      <td>32.540000</td>\n",
       "      <td>1.000000</td>\n",
       "      <td>2.000000</td>\n",
       "      <td>1.000000</td>\n",
       "      <td>3.000000</td>\n",
       "      <td>1.000000</td>\n",
       "      <td>0.499900</td>\n",
       "      <td>14999.000000</td>\n",
       "    </tr>\n",
       "    <tr>\n",
       "      <th>25%</th>\n",
       "      <td>-121.790000</td>\n",
       "      <td>33.930000</td>\n",
       "      <td>18.000000</td>\n",
       "      <td>1462.000000</td>\n",
       "      <td>297.000000</td>\n",
       "      <td>790.000000</td>\n",
       "      <td>282.000000</td>\n",
       "      <td>2.566375</td>\n",
       "      <td>119400.000000</td>\n",
       "    </tr>\n",
       "    <tr>\n",
       "      <th>50%</th>\n",
       "      <td>-118.490000</td>\n",
       "      <td>34.250000</td>\n",
       "      <td>29.000000</td>\n",
       "      <td>2127.000000</td>\n",
       "      <td>434.000000</td>\n",
       "      <td>1167.000000</td>\n",
       "      <td>409.000000</td>\n",
       "      <td>3.544600</td>\n",
       "      <td>180400.000000</td>\n",
       "    </tr>\n",
       "    <tr>\n",
       "      <th>75%</th>\n",
       "      <td>-118.000000</td>\n",
       "      <td>37.720000</td>\n",
       "      <td>37.000000</td>\n",
       "      <td>3151.250000</td>\n",
       "      <td>648.250000</td>\n",
       "      <td>1721.000000</td>\n",
       "      <td>605.250000</td>\n",
       "      <td>4.767000</td>\n",
       "      <td>265000.000000</td>\n",
       "    </tr>\n",
       "    <tr>\n",
       "      <th>max</th>\n",
       "      <td>-114.310000</td>\n",
       "      <td>41.950000</td>\n",
       "      <td>52.000000</td>\n",
       "      <td>37937.000000</td>\n",
       "      <td>6445.000000</td>\n",
       "      <td>35682.000000</td>\n",
       "      <td>6082.000000</td>\n",
       "      <td>15.000100</td>\n",
       "      <td>500001.000000</td>\n",
       "    </tr>\n",
       "  </tbody>\n",
       "</table>\n",
       "</div>"
      ],
      "text/plain": [
       "          longitude      latitude  housing_median_age   total_rooms  \\\n",
       "count  17000.000000  17000.000000        17000.000000  17000.000000   \n",
       "mean    -119.562108     35.625225           28.589353   2643.664412   \n",
       "std        2.005166      2.137340           12.586937   2179.947071   \n",
       "min     -124.350000     32.540000            1.000000      2.000000   \n",
       "25%     -121.790000     33.930000           18.000000   1462.000000   \n",
       "50%     -118.490000     34.250000           29.000000   2127.000000   \n",
       "75%     -118.000000     37.720000           37.000000   3151.250000   \n",
       "max     -114.310000     41.950000           52.000000  37937.000000   \n",
       "\n",
       "       total_bedrooms    population    households  median_income  \\\n",
       "count    17000.000000  17000.000000  17000.000000   17000.000000   \n",
       "mean       539.410824   1429.573941    501.221941       3.883578   \n",
       "std        421.499452   1147.852959    384.520841       1.908157   \n",
       "min          1.000000      3.000000      1.000000       0.499900   \n",
       "25%        297.000000    790.000000    282.000000       2.566375   \n",
       "50%        434.000000   1167.000000    409.000000       3.544600   \n",
       "75%        648.250000   1721.000000    605.250000       4.767000   \n",
       "max       6445.000000  35682.000000   6082.000000      15.000100   \n",
       "\n",
       "       median_house_value  \n",
       "count        17000.000000  \n",
       "mean        207300.912353  \n",
       "std         115983.764387  \n",
       "min          14999.000000  \n",
       "25%         119400.000000  \n",
       "50%         180400.000000  \n",
       "75%         265000.000000  \n",
       "max         500001.000000  "
      ]
     },
     "execution_count": 7,
     "metadata": {},
     "output_type": "execute_result"
    }
   ],
   "source": [
    "#getting statical information in dataset\n",
    "file__.describe() "
   ]
  },
  {
   "cell_type": "code",
   "execution_count": 8,
   "metadata": {
    "colab": {
     "background_save": true,
     "base_uri": "https://localhost:8080/",
     "height": 224
    },
    "id": "EFoMGHk9rCdU",
    "outputId": "30c0adf0-8b1d-416e-875b-bf14dd7cd09e"
   },
   "outputs": [
    {
     "data": {
      "text/html": [
       "<div>\n",
       "<style scoped>\n",
       "    .dataframe tbody tr th:only-of-type {\n",
       "        vertical-align: middle;\n",
       "    }\n",
       "\n",
       "    .dataframe tbody tr th {\n",
       "        vertical-align: top;\n",
       "    }\n",
       "\n",
       "    .dataframe thead th {\n",
       "        text-align: right;\n",
       "    }\n",
       "</style>\n",
       "<table border=\"1\" class=\"dataframe\">\n",
       "  <thead>\n",
       "    <tr style=\"text-align: right;\">\n",
       "      <th></th>\n",
       "      <th>longitude</th>\n",
       "      <th>latitude</th>\n",
       "      <th>housing_median_age</th>\n",
       "      <th>total_rooms</th>\n",
       "      <th>total_bedrooms</th>\n",
       "      <th>population</th>\n",
       "      <th>households</th>\n",
       "      <th>median_income</th>\n",
       "      <th>median_house_value</th>\n",
       "    </tr>\n",
       "  </thead>\n",
       "  <tbody>\n",
       "    <tr>\n",
       "      <th>0</th>\n",
       "      <td>-114.31</td>\n",
       "      <td>34.19</td>\n",
       "      <td>15.0</td>\n",
       "      <td>5612.0</td>\n",
       "      <td>1283.0</td>\n",
       "      <td>1015.0</td>\n",
       "      <td>472.0</td>\n",
       "      <td>1.4936</td>\n",
       "      <td>66900.0</td>\n",
       "    </tr>\n",
       "    <tr>\n",
       "      <th>1</th>\n",
       "      <td>-114.47</td>\n",
       "      <td>34.40</td>\n",
       "      <td>19.0</td>\n",
       "      <td>7650.0</td>\n",
       "      <td>1901.0</td>\n",
       "      <td>1129.0</td>\n",
       "      <td>463.0</td>\n",
       "      <td>1.8200</td>\n",
       "      <td>80100.0</td>\n",
       "    </tr>\n",
       "    <tr>\n",
       "      <th>2</th>\n",
       "      <td>-114.56</td>\n",
       "      <td>33.69</td>\n",
       "      <td>17.0</td>\n",
       "      <td>720.0</td>\n",
       "      <td>174.0</td>\n",
       "      <td>333.0</td>\n",
       "      <td>117.0</td>\n",
       "      <td>1.6509</td>\n",
       "      <td>85700.0</td>\n",
       "    </tr>\n",
       "    <tr>\n",
       "      <th>3</th>\n",
       "      <td>-114.57</td>\n",
       "      <td>33.64</td>\n",
       "      <td>14.0</td>\n",
       "      <td>1501.0</td>\n",
       "      <td>337.0</td>\n",
       "      <td>515.0</td>\n",
       "      <td>226.0</td>\n",
       "      <td>3.1917</td>\n",
       "      <td>73400.0</td>\n",
       "    </tr>\n",
       "    <tr>\n",
       "      <th>4</th>\n",
       "      <td>-114.57</td>\n",
       "      <td>33.57</td>\n",
       "      <td>20.0</td>\n",
       "      <td>1454.0</td>\n",
       "      <td>326.0</td>\n",
       "      <td>624.0</td>\n",
       "      <td>262.0</td>\n",
       "      <td>1.9250</td>\n",
       "      <td>65500.0</td>\n",
       "    </tr>\n",
       "  </tbody>\n",
       "</table>\n",
       "</div>"
      ],
      "text/plain": [
       "   longitude  latitude  housing_median_age  total_rooms  total_bedrooms  \\\n",
       "0    -114.31     34.19                15.0       5612.0          1283.0   \n",
       "1    -114.47     34.40                19.0       7650.0          1901.0   \n",
       "2    -114.56     33.69                17.0        720.0           174.0   \n",
       "3    -114.57     33.64                14.0       1501.0           337.0   \n",
       "4    -114.57     33.57                20.0       1454.0           326.0   \n",
       "\n",
       "   population  households  median_income  median_house_value  \n",
       "0      1015.0       472.0         1.4936             66900.0  \n",
       "1      1129.0       463.0         1.8200             80100.0  \n",
       "2       333.0       117.0         1.6509             85700.0  \n",
       "3       515.0       226.0         3.1917             73400.0  \n",
       "4       624.0       262.0         1.9250             65500.0  "
      ]
     },
     "execution_count": 8,
     "metadata": {},
     "output_type": "execute_result"
    }
   ],
   "source": [
    "#getting frist 5 rows\n",
    "file__.head()"
   ]
  },
  {
   "cell_type": "code",
   "execution_count": 9,
   "metadata": {
    "colab": {
     "background_save": true,
     "base_uri": "https://localhost:8080/",
     "height": 379
    },
    "id": "v5KRKknQrR6w",
    "outputId": "dc1f80fd-4fdb-4540-9af8-7861b6081aae"
   },
   "outputs": [
    {
     "data": {
      "text/html": [
       "<div>\n",
       "<style scoped>\n",
       "    .dataframe tbody tr th:only-of-type {\n",
       "        vertical-align: middle;\n",
       "    }\n",
       "\n",
       "    .dataframe tbody tr th {\n",
       "        vertical-align: top;\n",
       "    }\n",
       "\n",
       "    .dataframe thead th {\n",
       "        text-align: right;\n",
       "    }\n",
       "</style>\n",
       "<table border=\"1\" class=\"dataframe\">\n",
       "  <thead>\n",
       "    <tr style=\"text-align: right;\">\n",
       "      <th></th>\n",
       "      <th>longitude</th>\n",
       "      <th>latitude</th>\n",
       "      <th>housing_median_age</th>\n",
       "      <th>total_rooms</th>\n",
       "      <th>total_bedrooms</th>\n",
       "      <th>population</th>\n",
       "      <th>households</th>\n",
       "      <th>median_income</th>\n",
       "      <th>median_house_value</th>\n",
       "    </tr>\n",
       "  </thead>\n",
       "  <tbody>\n",
       "    <tr>\n",
       "      <th>0</th>\n",
       "      <td>-114.31</td>\n",
       "      <td>34.19</td>\n",
       "      <td>15.0</td>\n",
       "      <td>5612.0</td>\n",
       "      <td>1283.0</td>\n",
       "      <td>1015.0</td>\n",
       "      <td>472.0</td>\n",
       "      <td>1.4936</td>\n",
       "      <td>66900.0</td>\n",
       "    </tr>\n",
       "    <tr>\n",
       "      <th>1</th>\n",
       "      <td>-114.47</td>\n",
       "      <td>34.40</td>\n",
       "      <td>19.0</td>\n",
       "      <td>7650.0</td>\n",
       "      <td>1901.0</td>\n",
       "      <td>1129.0</td>\n",
       "      <td>463.0</td>\n",
       "      <td>1.8200</td>\n",
       "      <td>80100.0</td>\n",
       "    </tr>\n",
       "    <tr>\n",
       "      <th>2</th>\n",
       "      <td>-114.56</td>\n",
       "      <td>33.69</td>\n",
       "      <td>17.0</td>\n",
       "      <td>720.0</td>\n",
       "      <td>174.0</td>\n",
       "      <td>333.0</td>\n",
       "      <td>117.0</td>\n",
       "      <td>1.6509</td>\n",
       "      <td>85700.0</td>\n",
       "    </tr>\n",
       "    <tr>\n",
       "      <th>3</th>\n",
       "      <td>-114.57</td>\n",
       "      <td>33.64</td>\n",
       "      <td>14.0</td>\n",
       "      <td>1501.0</td>\n",
       "      <td>337.0</td>\n",
       "      <td>515.0</td>\n",
       "      <td>226.0</td>\n",
       "      <td>3.1917</td>\n",
       "      <td>73400.0</td>\n",
       "    </tr>\n",
       "    <tr>\n",
       "      <th>4</th>\n",
       "      <td>-114.57</td>\n",
       "      <td>33.57</td>\n",
       "      <td>20.0</td>\n",
       "      <td>1454.0</td>\n",
       "      <td>326.0</td>\n",
       "      <td>624.0</td>\n",
       "      <td>262.0</td>\n",
       "      <td>1.9250</td>\n",
       "      <td>65500.0</td>\n",
       "    </tr>\n",
       "    <tr>\n",
       "      <th>5</th>\n",
       "      <td>-114.58</td>\n",
       "      <td>33.63</td>\n",
       "      <td>29.0</td>\n",
       "      <td>1387.0</td>\n",
       "      <td>236.0</td>\n",
       "      <td>671.0</td>\n",
       "      <td>239.0</td>\n",
       "      <td>3.3438</td>\n",
       "      <td>74000.0</td>\n",
       "    </tr>\n",
       "    <tr>\n",
       "      <th>6</th>\n",
       "      <td>-114.58</td>\n",
       "      <td>33.61</td>\n",
       "      <td>25.0</td>\n",
       "      <td>2907.0</td>\n",
       "      <td>680.0</td>\n",
       "      <td>1841.0</td>\n",
       "      <td>633.0</td>\n",
       "      <td>2.6768</td>\n",
       "      <td>82400.0</td>\n",
       "    </tr>\n",
       "    <tr>\n",
       "      <th>7</th>\n",
       "      <td>-114.59</td>\n",
       "      <td>34.83</td>\n",
       "      <td>41.0</td>\n",
       "      <td>812.0</td>\n",
       "      <td>168.0</td>\n",
       "      <td>375.0</td>\n",
       "      <td>158.0</td>\n",
       "      <td>1.7083</td>\n",
       "      <td>48500.0</td>\n",
       "    </tr>\n",
       "    <tr>\n",
       "      <th>8</th>\n",
       "      <td>-114.59</td>\n",
       "      <td>33.61</td>\n",
       "      <td>34.0</td>\n",
       "      <td>4789.0</td>\n",
       "      <td>1175.0</td>\n",
       "      <td>3134.0</td>\n",
       "      <td>1056.0</td>\n",
       "      <td>2.1782</td>\n",
       "      <td>58400.0</td>\n",
       "    </tr>\n",
       "    <tr>\n",
       "      <th>9</th>\n",
       "      <td>-114.60</td>\n",
       "      <td>34.83</td>\n",
       "      <td>46.0</td>\n",
       "      <td>1497.0</td>\n",
       "      <td>309.0</td>\n",
       "      <td>787.0</td>\n",
       "      <td>271.0</td>\n",
       "      <td>2.1908</td>\n",
       "      <td>48100.0</td>\n",
       "    </tr>\n",
       "  </tbody>\n",
       "</table>\n",
       "</div>"
      ],
      "text/plain": [
       "   longitude  latitude  housing_median_age  total_rooms  total_bedrooms  \\\n",
       "0    -114.31     34.19                15.0       5612.0          1283.0   \n",
       "1    -114.47     34.40                19.0       7650.0          1901.0   \n",
       "2    -114.56     33.69                17.0        720.0           174.0   \n",
       "3    -114.57     33.64                14.0       1501.0           337.0   \n",
       "4    -114.57     33.57                20.0       1454.0           326.0   \n",
       "5    -114.58     33.63                29.0       1387.0           236.0   \n",
       "6    -114.58     33.61                25.0       2907.0           680.0   \n",
       "7    -114.59     34.83                41.0        812.0           168.0   \n",
       "8    -114.59     33.61                34.0       4789.0          1175.0   \n",
       "9    -114.60     34.83                46.0       1497.0           309.0   \n",
       "\n",
       "   population  households  median_income  median_house_value  \n",
       "0      1015.0       472.0         1.4936             66900.0  \n",
       "1      1129.0       463.0         1.8200             80100.0  \n",
       "2       333.0       117.0         1.6509             85700.0  \n",
       "3       515.0       226.0         3.1917             73400.0  \n",
       "4       624.0       262.0         1.9250             65500.0  \n",
       "5       671.0       239.0         3.3438             74000.0  \n",
       "6      1841.0       633.0         2.6768             82400.0  \n",
       "7       375.0       158.0         1.7083             48500.0  \n",
       "8      3134.0      1056.0         2.1782             58400.0  \n",
       "9       787.0       271.0         2.1908             48100.0  "
      ]
     },
     "execution_count": 9,
     "metadata": {},
     "output_type": "execute_result"
    }
   ],
   "source": [
    "#getting frist 10 rows\n",
    "file__.head(10)"
   ]
  },
  {
   "cell_type": "code",
   "execution_count": 10,
   "metadata": {
    "colab": {
     "background_save": true,
     "base_uri": "https://localhost:8080/",
     "height": 224
    },
    "id": "1mcJggTcrhGn",
    "outputId": "0e896f6a-a635-4783-b879-2fb3414d4144"
   },
   "outputs": [
    {
     "data": {
      "text/html": [
       "<div>\n",
       "<style scoped>\n",
       "    .dataframe tbody tr th:only-of-type {\n",
       "        vertical-align: middle;\n",
       "    }\n",
       "\n",
       "    .dataframe tbody tr th {\n",
       "        vertical-align: top;\n",
       "    }\n",
       "\n",
       "    .dataframe thead th {\n",
       "        text-align: right;\n",
       "    }\n",
       "</style>\n",
       "<table border=\"1\" class=\"dataframe\">\n",
       "  <thead>\n",
       "    <tr style=\"text-align: right;\">\n",
       "      <th></th>\n",
       "      <th>longitude</th>\n",
       "      <th>latitude</th>\n",
       "      <th>housing_median_age</th>\n",
       "      <th>total_rooms</th>\n",
       "      <th>total_bedrooms</th>\n",
       "      <th>population</th>\n",
       "      <th>households</th>\n",
       "      <th>median_income</th>\n",
       "      <th>median_house_value</th>\n",
       "    </tr>\n",
       "  </thead>\n",
       "  <tbody>\n",
       "    <tr>\n",
       "      <th>16995</th>\n",
       "      <td>-124.26</td>\n",
       "      <td>40.58</td>\n",
       "      <td>52.0</td>\n",
       "      <td>2217.0</td>\n",
       "      <td>394.0</td>\n",
       "      <td>907.0</td>\n",
       "      <td>369.0</td>\n",
       "      <td>2.3571</td>\n",
       "      <td>111400.0</td>\n",
       "    </tr>\n",
       "    <tr>\n",
       "      <th>16996</th>\n",
       "      <td>-124.27</td>\n",
       "      <td>40.69</td>\n",
       "      <td>36.0</td>\n",
       "      <td>2349.0</td>\n",
       "      <td>528.0</td>\n",
       "      <td>1194.0</td>\n",
       "      <td>465.0</td>\n",
       "      <td>2.5179</td>\n",
       "      <td>79000.0</td>\n",
       "    </tr>\n",
       "    <tr>\n",
       "      <th>16997</th>\n",
       "      <td>-124.30</td>\n",
       "      <td>41.84</td>\n",
       "      <td>17.0</td>\n",
       "      <td>2677.0</td>\n",
       "      <td>531.0</td>\n",
       "      <td>1244.0</td>\n",
       "      <td>456.0</td>\n",
       "      <td>3.0313</td>\n",
       "      <td>103600.0</td>\n",
       "    </tr>\n",
       "    <tr>\n",
       "      <th>16998</th>\n",
       "      <td>-124.30</td>\n",
       "      <td>41.80</td>\n",
       "      <td>19.0</td>\n",
       "      <td>2672.0</td>\n",
       "      <td>552.0</td>\n",
       "      <td>1298.0</td>\n",
       "      <td>478.0</td>\n",
       "      <td>1.9797</td>\n",
       "      <td>85800.0</td>\n",
       "    </tr>\n",
       "    <tr>\n",
       "      <th>16999</th>\n",
       "      <td>-124.35</td>\n",
       "      <td>40.54</td>\n",
       "      <td>52.0</td>\n",
       "      <td>1820.0</td>\n",
       "      <td>300.0</td>\n",
       "      <td>806.0</td>\n",
       "      <td>270.0</td>\n",
       "      <td>3.0147</td>\n",
       "      <td>94600.0</td>\n",
       "    </tr>\n",
       "  </tbody>\n",
       "</table>\n",
       "</div>"
      ],
      "text/plain": [
       "       longitude  latitude  housing_median_age  total_rooms  total_bedrooms  \\\n",
       "16995    -124.26     40.58                52.0       2217.0           394.0   \n",
       "16996    -124.27     40.69                36.0       2349.0           528.0   \n",
       "16997    -124.30     41.84                17.0       2677.0           531.0   \n",
       "16998    -124.30     41.80                19.0       2672.0           552.0   \n",
       "16999    -124.35     40.54                52.0       1820.0           300.0   \n",
       "\n",
       "       population  households  median_income  median_house_value  \n",
       "16995       907.0       369.0         2.3571            111400.0  \n",
       "16996      1194.0       465.0         2.5179             79000.0  \n",
       "16997      1244.0       456.0         3.0313            103600.0  \n",
       "16998      1298.0       478.0         1.9797             85800.0  \n",
       "16999       806.0       270.0         3.0147             94600.0  "
      ]
     },
     "execution_count": 10,
     "metadata": {},
     "output_type": "execute_result"
    }
   ],
   "source": [
    "#getting last 5 rows\n",
    "file__.tail()"
   ]
  },
  {
   "cell_type": "code",
   "execution_count": 11,
   "metadata": {
    "colab": {
     "background_save": true,
     "base_uri": "https://localhost:8080/",
     "height": 379
    },
    "id": "ScKhEzf5royk",
    "outputId": "004b9789-4fbc-429a-f567-27ecd8b3a199"
   },
   "outputs": [
    {
     "data": {
      "text/html": [
       "<div>\n",
       "<style scoped>\n",
       "    .dataframe tbody tr th:only-of-type {\n",
       "        vertical-align: middle;\n",
       "    }\n",
       "\n",
       "    .dataframe tbody tr th {\n",
       "        vertical-align: top;\n",
       "    }\n",
       "\n",
       "    .dataframe thead th {\n",
       "        text-align: right;\n",
       "    }\n",
       "</style>\n",
       "<table border=\"1\" class=\"dataframe\">\n",
       "  <thead>\n",
       "    <tr style=\"text-align: right;\">\n",
       "      <th></th>\n",
       "      <th>longitude</th>\n",
       "      <th>latitude</th>\n",
       "      <th>housing_median_age</th>\n",
       "      <th>total_rooms</th>\n",
       "      <th>total_bedrooms</th>\n",
       "      <th>population</th>\n",
       "      <th>households</th>\n",
       "      <th>median_income</th>\n",
       "      <th>median_house_value</th>\n",
       "    </tr>\n",
       "  </thead>\n",
       "  <tbody>\n",
       "    <tr>\n",
       "      <th>16990</th>\n",
       "      <td>-124.22</td>\n",
       "      <td>41.73</td>\n",
       "      <td>28.0</td>\n",
       "      <td>3003.0</td>\n",
       "      <td>699.0</td>\n",
       "      <td>1530.0</td>\n",
       "      <td>653.0</td>\n",
       "      <td>1.7038</td>\n",
       "      <td>78300.0</td>\n",
       "    </tr>\n",
       "    <tr>\n",
       "      <th>16991</th>\n",
       "      <td>-124.23</td>\n",
       "      <td>41.75</td>\n",
       "      <td>11.0</td>\n",
       "      <td>3159.0</td>\n",
       "      <td>616.0</td>\n",
       "      <td>1343.0</td>\n",
       "      <td>479.0</td>\n",
       "      <td>2.4805</td>\n",
       "      <td>73200.0</td>\n",
       "    </tr>\n",
       "    <tr>\n",
       "      <th>16992</th>\n",
       "      <td>-124.23</td>\n",
       "      <td>40.81</td>\n",
       "      <td>52.0</td>\n",
       "      <td>1112.0</td>\n",
       "      <td>209.0</td>\n",
       "      <td>544.0</td>\n",
       "      <td>172.0</td>\n",
       "      <td>3.3462</td>\n",
       "      <td>50800.0</td>\n",
       "    </tr>\n",
       "    <tr>\n",
       "      <th>16993</th>\n",
       "      <td>-124.23</td>\n",
       "      <td>40.54</td>\n",
       "      <td>52.0</td>\n",
       "      <td>2694.0</td>\n",
       "      <td>453.0</td>\n",
       "      <td>1152.0</td>\n",
       "      <td>435.0</td>\n",
       "      <td>3.0806</td>\n",
       "      <td>106700.0</td>\n",
       "    </tr>\n",
       "    <tr>\n",
       "      <th>16994</th>\n",
       "      <td>-124.25</td>\n",
       "      <td>40.28</td>\n",
       "      <td>32.0</td>\n",
       "      <td>1430.0</td>\n",
       "      <td>419.0</td>\n",
       "      <td>434.0</td>\n",
       "      <td>187.0</td>\n",
       "      <td>1.9417</td>\n",
       "      <td>76100.0</td>\n",
       "    </tr>\n",
       "    <tr>\n",
       "      <th>16995</th>\n",
       "      <td>-124.26</td>\n",
       "      <td>40.58</td>\n",
       "      <td>52.0</td>\n",
       "      <td>2217.0</td>\n",
       "      <td>394.0</td>\n",
       "      <td>907.0</td>\n",
       "      <td>369.0</td>\n",
       "      <td>2.3571</td>\n",
       "      <td>111400.0</td>\n",
       "    </tr>\n",
       "    <tr>\n",
       "      <th>16996</th>\n",
       "      <td>-124.27</td>\n",
       "      <td>40.69</td>\n",
       "      <td>36.0</td>\n",
       "      <td>2349.0</td>\n",
       "      <td>528.0</td>\n",
       "      <td>1194.0</td>\n",
       "      <td>465.0</td>\n",
       "      <td>2.5179</td>\n",
       "      <td>79000.0</td>\n",
       "    </tr>\n",
       "    <tr>\n",
       "      <th>16997</th>\n",
       "      <td>-124.30</td>\n",
       "      <td>41.84</td>\n",
       "      <td>17.0</td>\n",
       "      <td>2677.0</td>\n",
       "      <td>531.0</td>\n",
       "      <td>1244.0</td>\n",
       "      <td>456.0</td>\n",
       "      <td>3.0313</td>\n",
       "      <td>103600.0</td>\n",
       "    </tr>\n",
       "    <tr>\n",
       "      <th>16998</th>\n",
       "      <td>-124.30</td>\n",
       "      <td>41.80</td>\n",
       "      <td>19.0</td>\n",
       "      <td>2672.0</td>\n",
       "      <td>552.0</td>\n",
       "      <td>1298.0</td>\n",
       "      <td>478.0</td>\n",
       "      <td>1.9797</td>\n",
       "      <td>85800.0</td>\n",
       "    </tr>\n",
       "    <tr>\n",
       "      <th>16999</th>\n",
       "      <td>-124.35</td>\n",
       "      <td>40.54</td>\n",
       "      <td>52.0</td>\n",
       "      <td>1820.0</td>\n",
       "      <td>300.0</td>\n",
       "      <td>806.0</td>\n",
       "      <td>270.0</td>\n",
       "      <td>3.0147</td>\n",
       "      <td>94600.0</td>\n",
       "    </tr>\n",
       "  </tbody>\n",
       "</table>\n",
       "</div>"
      ],
      "text/plain": [
       "       longitude  latitude  housing_median_age  total_rooms  total_bedrooms  \\\n",
       "16990    -124.22     41.73                28.0       3003.0           699.0   \n",
       "16991    -124.23     41.75                11.0       3159.0           616.0   \n",
       "16992    -124.23     40.81                52.0       1112.0           209.0   \n",
       "16993    -124.23     40.54                52.0       2694.0           453.0   \n",
       "16994    -124.25     40.28                32.0       1430.0           419.0   \n",
       "16995    -124.26     40.58                52.0       2217.0           394.0   \n",
       "16996    -124.27     40.69                36.0       2349.0           528.0   \n",
       "16997    -124.30     41.84                17.0       2677.0           531.0   \n",
       "16998    -124.30     41.80                19.0       2672.0           552.0   \n",
       "16999    -124.35     40.54                52.0       1820.0           300.0   \n",
       "\n",
       "       population  households  median_income  median_house_value  \n",
       "16990      1530.0       653.0         1.7038             78300.0  \n",
       "16991      1343.0       479.0         2.4805             73200.0  \n",
       "16992       544.0       172.0         3.3462             50800.0  \n",
       "16993      1152.0       435.0         3.0806            106700.0  \n",
       "16994       434.0       187.0         1.9417             76100.0  \n",
       "16995       907.0       369.0         2.3571            111400.0  \n",
       "16996      1194.0       465.0         2.5179             79000.0  \n",
       "16997      1244.0       456.0         3.0313            103600.0  \n",
       "16998      1298.0       478.0         1.9797             85800.0  \n",
       "16999       806.0       270.0         3.0147             94600.0  "
      ]
     },
     "execution_count": 11,
     "metadata": {},
     "output_type": "execute_result"
    }
   ],
   "source": [
    "#getting last 10 rows\n",
    "file__.tail(10)"
   ]
  },
  {
   "cell_type": "code",
   "execution_count": 12,
   "metadata": {
    "colab": {
     "background_save": true,
     "base_uri": "https://localhost:8080/",
     "height": 100
    },
    "id": "a0fBdmg0rxfb",
    "outputId": "71c5dffb-5149-47eb-a3ee-3337dd59611e"
   },
   "outputs": [
    {
     "data": {
      "text/html": [
       "<div>\n",
       "<style scoped>\n",
       "    .dataframe tbody tr th:only-of-type {\n",
       "        vertical-align: middle;\n",
       "    }\n",
       "\n",
       "    .dataframe tbody tr th {\n",
       "        vertical-align: top;\n",
       "    }\n",
       "\n",
       "    .dataframe thead th {\n",
       "        text-align: right;\n",
       "    }\n",
       "</style>\n",
       "<table border=\"1\" class=\"dataframe\">\n",
       "  <thead>\n",
       "    <tr style=\"text-align: right;\">\n",
       "      <th></th>\n",
       "      <th>longitude</th>\n",
       "      <th>latitude</th>\n",
       "      <th>housing_median_age</th>\n",
       "      <th>total_rooms</th>\n",
       "      <th>total_bedrooms</th>\n",
       "      <th>population</th>\n",
       "      <th>households</th>\n",
       "      <th>median_income</th>\n",
       "      <th>median_house_value</th>\n",
       "    </tr>\n",
       "  </thead>\n",
       "  <tbody>\n",
       "    <tr>\n",
       "      <th>3290</th>\n",
       "      <td>-117.87</td>\n",
       "      <td>34.09</td>\n",
       "      <td>36.0</td>\n",
       "      <td>1267.0</td>\n",
       "      <td>191.0</td>\n",
       "      <td>640.0</td>\n",
       "      <td>200.0</td>\n",
       "      <td>5.2405</td>\n",
       "      <td>220000.0</td>\n",
       "    </tr>\n",
       "  </tbody>\n",
       "</table>\n",
       "</div>"
      ],
      "text/plain": [
       "      longitude  latitude  housing_median_age  total_rooms  total_bedrooms  \\\n",
       "3290    -117.87     34.09                36.0       1267.0           191.0   \n",
       "\n",
       "      population  households  median_income  median_house_value  \n",
       "3290       640.0       200.0         5.2405            220000.0  "
      ]
     },
     "execution_count": 12,
     "metadata": {},
     "output_type": "execute_result"
    }
   ],
   "source": [
    "#getting a sample row\n",
    "file__.sample()"
   ]
  },
  {
   "cell_type": "code",
   "execution_count": 13,
   "metadata": {
    "colab": {
     "background_save": true,
     "base_uri": "https://localhost:8080/",
     "height": 224
    },
    "id": "9SrNbCGwswXL",
    "outputId": "440dc528-71c7-4092-9d52-8ea484ddf01b"
   },
   "outputs": [
    {
     "data": {
      "text/html": [
       "<div>\n",
       "<style scoped>\n",
       "    .dataframe tbody tr th:only-of-type {\n",
       "        vertical-align: middle;\n",
       "    }\n",
       "\n",
       "    .dataframe tbody tr th {\n",
       "        vertical-align: top;\n",
       "    }\n",
       "\n",
       "    .dataframe thead th {\n",
       "        text-align: right;\n",
       "    }\n",
       "</style>\n",
       "<table border=\"1\" class=\"dataframe\">\n",
       "  <thead>\n",
       "    <tr style=\"text-align: right;\">\n",
       "      <th></th>\n",
       "      <th>longitude</th>\n",
       "      <th>latitude</th>\n",
       "      <th>housing_median_age</th>\n",
       "      <th>total_rooms</th>\n",
       "      <th>total_bedrooms</th>\n",
       "      <th>population</th>\n",
       "      <th>households</th>\n",
       "      <th>median_income</th>\n",
       "      <th>median_house_value</th>\n",
       "    </tr>\n",
       "  </thead>\n",
       "  <tbody>\n",
       "    <tr>\n",
       "      <th>16199</th>\n",
       "      <td>-122.48</td>\n",
       "      <td>38.54</td>\n",
       "      <td>37.0</td>\n",
       "      <td>1898.0</td>\n",
       "      <td>359.0</td>\n",
       "      <td>973.0</td>\n",
       "      <td>340.0</td>\n",
       "      <td>4.2096</td>\n",
       "      <td>256600.0</td>\n",
       "    </tr>\n",
       "    <tr>\n",
       "      <th>4276</th>\n",
       "      <td>-118.01</td>\n",
       "      <td>34.15</td>\n",
       "      <td>52.0</td>\n",
       "      <td>2234.0</td>\n",
       "      <td>472.0</td>\n",
       "      <td>986.0</td>\n",
       "      <td>439.0</td>\n",
       "      <td>3.9125</td>\n",
       "      <td>265500.0</td>\n",
       "    </tr>\n",
       "    <tr>\n",
       "      <th>2219</th>\n",
       "      <td>-117.40</td>\n",
       "      <td>34.18</td>\n",
       "      <td>16.0</td>\n",
       "      <td>1769.0</td>\n",
       "      <td>254.0</td>\n",
       "      <td>1778.0</td>\n",
       "      <td>251.0</td>\n",
       "      <td>5.3671</td>\n",
       "      <td>181800.0</td>\n",
       "    </tr>\n",
       "    <tr>\n",
       "      <th>6126</th>\n",
       "      <td>-118.23</td>\n",
       "      <td>33.97</td>\n",
       "      <td>47.0</td>\n",
       "      <td>932.0</td>\n",
       "      <td>295.0</td>\n",
       "      <td>1226.0</td>\n",
       "      <td>264.0</td>\n",
       "      <td>1.6065</td>\n",
       "      <td>111400.0</td>\n",
       "    </tr>\n",
       "    <tr>\n",
       "      <th>13368</th>\n",
       "      <td>-121.93</td>\n",
       "      <td>37.27</td>\n",
       "      <td>30.0</td>\n",
       "      <td>2862.0</td>\n",
       "      <td>544.0</td>\n",
       "      <td>1387.0</td>\n",
       "      <td>542.0</td>\n",
       "      <td>5.1104</td>\n",
       "      <td>278100.0</td>\n",
       "    </tr>\n",
       "  </tbody>\n",
       "</table>\n",
       "</div>"
      ],
      "text/plain": [
       "       longitude  latitude  housing_median_age  total_rooms  total_bedrooms  \\\n",
       "16199    -122.48     38.54                37.0       1898.0           359.0   \n",
       "4276     -118.01     34.15                52.0       2234.0           472.0   \n",
       "2219     -117.40     34.18                16.0       1769.0           254.0   \n",
       "6126     -118.23     33.97                47.0        932.0           295.0   \n",
       "13368    -121.93     37.27                30.0       2862.0           544.0   \n",
       "\n",
       "       population  households  median_income  median_house_value  \n",
       "16199       973.0       340.0         4.2096            256600.0  \n",
       "4276        986.0       439.0         3.9125            265500.0  \n",
       "2219       1778.0       251.0         5.3671            181800.0  \n",
       "6126       1226.0       264.0         1.6065            111400.0  \n",
       "13368      1387.0       542.0         5.1104            278100.0  "
      ]
     },
     "execution_count": 13,
     "metadata": {},
     "output_type": "execute_result"
    }
   ],
   "source": [
    "#getting 5 sample row\n",
    "file__.sample(5)"
   ]
  },
  {
   "cell_type": "code",
   "execution_count": 14,
   "metadata": {
    "colab": {
     "background_save": true,
     "base_uri": "https://localhost:8080/"
    },
    "id": "pBZ8KIQos2nI",
    "outputId": "57ad40a8-bd5d-483c-e719-61bff9bd7bd0"
   },
   "outputs": [
    {
     "data": {
      "text/plain": [
       "Index(['longitude', 'latitude', 'housing_median_age', 'total_rooms',\n",
       "       'total_bedrooms', 'population', 'households', 'median_income',\n",
       "       'median_house_value'],\n",
       "      dtype='object')"
      ]
     },
     "execution_count": 14,
     "metadata": {},
     "output_type": "execute_result"
    }
   ],
   "source": [
    "file__.columns"
   ]
  },
  {
   "cell_type": "code",
   "execution_count": 15,
   "metadata": {
    "colab": {
     "background_save": true,
     "base_uri": "https://localhost:8080/"
    },
    "id": "bgPTK3iIvI0C",
    "outputId": "ab183ed2-35dd-466a-9f0d-dc566db98e40"
   },
   "outputs": [
    {
     "data": {
      "text/plain": [
       "RangeIndex(start=0, stop=17000, step=1)"
      ]
     },
     "execution_count": 15,
     "metadata": {},
     "output_type": "execute_result"
    }
   ],
   "source": [
    "file__.index"
   ]
  },
  {
   "cell_type": "code",
   "execution_count": 16,
   "metadata": {
    "colab": {
     "background_save": true,
     "base_uri": "https://localhost:8080/"
    },
    "id": "DY7KdUMSvPVE",
    "outputId": "b9e85d38-dcba-4c11-9a7f-b4846a861721"
   },
   "outputs": [
    {
     "data": {
      "text/plain": [
       "array([[-1.1431e+02,  3.4190e+01,  1.5000e+01, ...,  4.7200e+02,\n",
       "         1.4936e+00,  6.6900e+04],\n",
       "       [-1.1447e+02,  3.4400e+01,  1.9000e+01, ...,  4.6300e+02,\n",
       "         1.8200e+00,  8.0100e+04],\n",
       "       [-1.1456e+02,  3.3690e+01,  1.7000e+01, ...,  1.1700e+02,\n",
       "         1.6509e+00,  8.5700e+04],\n",
       "       ...,\n",
       "       [-1.2430e+02,  4.1840e+01,  1.7000e+01, ...,  4.5600e+02,\n",
       "         3.0313e+00,  1.0360e+05],\n",
       "       [-1.2430e+02,  4.1800e+01,  1.9000e+01, ...,  4.7800e+02,\n",
       "         1.9797e+00,  8.5800e+04],\n",
       "       [-1.2435e+02,  4.0540e+01,  5.2000e+01, ...,  2.7000e+02,\n",
       "         3.0147e+00,  9.4600e+04]])"
      ]
     },
     "execution_count": 16,
     "metadata": {},
     "output_type": "execute_result"
    }
   ],
   "source": [
    "file__.values"
   ]
  },
  {
   "cell_type": "code",
   "execution_count": 17,
   "metadata": {
    "colab": {
     "background_save": true,
     "base_uri": "https://localhost:8080/"
    },
    "id": "KCyCZ6Jd9kz-",
    "outputId": "13268bc7-a191-4531-aa33-2b9936604519"
   },
   "outputs": [
    {
     "data": {
      "text/plain": [
       "longitude             float64\n",
       "latitude              float64\n",
       "housing_median_age    float64\n",
       "total_rooms           float64\n",
       "total_bedrooms        float64\n",
       "population            float64\n",
       "households            float64\n",
       "median_income         float64\n",
       "median_house_value    float64\n",
       "dtype: object"
      ]
     },
     "execution_count": 17,
     "metadata": {},
     "output_type": "execute_result"
    }
   ],
   "source": [
    "file__.dtypes"
   ]
  },
  {
   "cell_type": "code",
   "execution_count": 18,
   "metadata": {
    "colab": {
     "background_save": true,
     "base_uri": "https://localhost:8080/",
     "height": 439
    },
    "id": "PL-LujnR6CQK",
    "outputId": "909e52db-4d98-4f5c-b7a1-5afe6e1f6bc9"
   },
   "outputs": [
    {
     "data": {
      "text/html": [
       "<div>\n",
       "<style scoped>\n",
       "    .dataframe tbody tr th:only-of-type {\n",
       "        vertical-align: middle;\n",
       "    }\n",
       "\n",
       "    .dataframe tbody tr th {\n",
       "        vertical-align: top;\n",
       "    }\n",
       "\n",
       "    .dataframe thead th {\n",
       "        text-align: right;\n",
       "    }\n",
       "</style>\n",
       "<table border=\"1\" class=\"dataframe\">\n",
       "  <thead>\n",
       "    <tr style=\"text-align: right;\">\n",
       "      <th></th>\n",
       "      <th>longitude</th>\n",
       "      <th>latitude</th>\n",
       "      <th>housing_median_age</th>\n",
       "      <th>total_rooms</th>\n",
       "      <th>total_bedrooms</th>\n",
       "      <th>population</th>\n",
       "      <th>households</th>\n",
       "      <th>median_income</th>\n",
       "      <th>median_house_value</th>\n",
       "    </tr>\n",
       "  </thead>\n",
       "  <tbody>\n",
       "    <tr>\n",
       "      <th>0</th>\n",
       "      <td>-114.31</td>\n",
       "      <td>34.19</td>\n",
       "      <td>15.0</td>\n",
       "      <td>5612.0</td>\n",
       "      <td>1283.0</td>\n",
       "      <td>1015.0</td>\n",
       "      <td>472.0</td>\n",
       "      <td>1.4936</td>\n",
       "      <td>66900.0</td>\n",
       "    </tr>\n",
       "    <tr>\n",
       "      <th>1</th>\n",
       "      <td>-114.47</td>\n",
       "      <td>34.40</td>\n",
       "      <td>19.0</td>\n",
       "      <td>7650.0</td>\n",
       "      <td>1901.0</td>\n",
       "      <td>1129.0</td>\n",
       "      <td>463.0</td>\n",
       "      <td>1.8200</td>\n",
       "      <td>80100.0</td>\n",
       "    </tr>\n",
       "    <tr>\n",
       "      <th>2</th>\n",
       "      <td>-114.56</td>\n",
       "      <td>33.69</td>\n",
       "      <td>17.0</td>\n",
       "      <td>720.0</td>\n",
       "      <td>174.0</td>\n",
       "      <td>333.0</td>\n",
       "      <td>117.0</td>\n",
       "      <td>1.6509</td>\n",
       "      <td>85700.0</td>\n",
       "    </tr>\n",
       "    <tr>\n",
       "      <th>3</th>\n",
       "      <td>-114.57</td>\n",
       "      <td>33.64</td>\n",
       "      <td>14.0</td>\n",
       "      <td>1501.0</td>\n",
       "      <td>337.0</td>\n",
       "      <td>515.0</td>\n",
       "      <td>226.0</td>\n",
       "      <td>3.1917</td>\n",
       "      <td>73400.0</td>\n",
       "    </tr>\n",
       "    <tr>\n",
       "      <th>4</th>\n",
       "      <td>-114.57</td>\n",
       "      <td>33.57</td>\n",
       "      <td>20.0</td>\n",
       "      <td>1454.0</td>\n",
       "      <td>326.0</td>\n",
       "      <td>624.0</td>\n",
       "      <td>262.0</td>\n",
       "      <td>1.9250</td>\n",
       "      <td>65500.0</td>\n",
       "    </tr>\n",
       "    <tr>\n",
       "      <th>...</th>\n",
       "      <td>...</td>\n",
       "      <td>...</td>\n",
       "      <td>...</td>\n",
       "      <td>...</td>\n",
       "      <td>...</td>\n",
       "      <td>...</td>\n",
       "      <td>...</td>\n",
       "      <td>...</td>\n",
       "      <td>...</td>\n",
       "    </tr>\n",
       "    <tr>\n",
       "      <th>10256</th>\n",
       "      <td>-119.99</td>\n",
       "      <td>38.94</td>\n",
       "      <td>22.0</td>\n",
       "      <td>3119.0</td>\n",
       "      <td>640.0</td>\n",
       "      <td>786.0</td>\n",
       "      <td>351.0</td>\n",
       "      <td>3.0806</td>\n",
       "      <td>118500.0</td>\n",
       "    </tr>\n",
       "    <tr>\n",
       "      <th>10257</th>\n",
       "      <td>-119.99</td>\n",
       "      <td>38.93</td>\n",
       "      <td>23.0</td>\n",
       "      <td>1882.0</td>\n",
       "      <td>414.0</td>\n",
       "      <td>673.0</td>\n",
       "      <td>277.0</td>\n",
       "      <td>2.9091</td>\n",
       "      <td>141900.0</td>\n",
       "    </tr>\n",
       "    <tr>\n",
       "      <th>10258</th>\n",
       "      <td>-119.99</td>\n",
       "      <td>37.51</td>\n",
       "      <td>14.0</td>\n",
       "      <td>2878.0</td>\n",
       "      <td>617.0</td>\n",
       "      <td>1011.0</td>\n",
       "      <td>509.0</td>\n",
       "      <td>1.3980</td>\n",
       "      <td>103800.0</td>\n",
       "    </tr>\n",
       "    <tr>\n",
       "      <th>10259</th>\n",
       "      <td>-119.99</td>\n",
       "      <td>36.80</td>\n",
       "      <td>45.0</td>\n",
       "      <td>1270.0</td>\n",
       "      <td>242.0</td>\n",
       "      <td>598.0</td>\n",
       "      <td>214.0</td>\n",
       "      <td>3.2813</td>\n",
       "      <td>105400.0</td>\n",
       "    </tr>\n",
       "    <tr>\n",
       "      <th>10260</th>\n",
       "      <td>-119.99</td>\n",
       "      <td>36.09</td>\n",
       "      <td>23.0</td>\n",
       "      <td>333.0</td>\n",
       "      <td>92.0</td>\n",
       "      <td>198.0</td>\n",
       "      <td>55.0</td>\n",
       "      <td>0.4999</td>\n",
       "      <td>100000.0</td>\n",
       "    </tr>\n",
       "  </tbody>\n",
       "</table>\n",
       "<p>10261 rows × 9 columns</p>\n",
       "</div>"
      ],
      "text/plain": [
       "       longitude  latitude  housing_median_age  total_rooms  total_bedrooms  \\\n",
       "0        -114.31     34.19                15.0       5612.0          1283.0   \n",
       "1        -114.47     34.40                19.0       7650.0          1901.0   \n",
       "2        -114.56     33.69                17.0        720.0           174.0   \n",
       "3        -114.57     33.64                14.0       1501.0           337.0   \n",
       "4        -114.57     33.57                20.0       1454.0           326.0   \n",
       "...          ...       ...                 ...          ...             ...   \n",
       "10256    -119.99     38.94                22.0       3119.0           640.0   \n",
       "10257    -119.99     38.93                23.0       1882.0           414.0   \n",
       "10258    -119.99     37.51                14.0       2878.0           617.0   \n",
       "10259    -119.99     36.80                45.0       1270.0           242.0   \n",
       "10260    -119.99     36.09                23.0        333.0            92.0   \n",
       "\n",
       "       population  households  median_income  median_house_value  \n",
       "0          1015.0       472.0         1.4936             66900.0  \n",
       "1          1129.0       463.0         1.8200             80100.0  \n",
       "2           333.0       117.0         1.6509             85700.0  \n",
       "3           515.0       226.0         3.1917             73400.0  \n",
       "4           624.0       262.0         1.9250             65500.0  \n",
       "...           ...         ...            ...                 ...  \n",
       "10256       786.0       351.0         3.0806            118500.0  \n",
       "10257       673.0       277.0         2.9091            141900.0  \n",
       "10258      1011.0       509.0         1.3980            103800.0  \n",
       "10259       598.0       214.0         3.2813            105400.0  \n",
       "10260       198.0        55.0         0.4999            100000.0  \n",
       "\n",
       "[10261 rows x 9 columns]"
      ]
     },
     "execution_count": 18,
     "metadata": {},
     "output_type": "execute_result"
    }
   ],
   "source": [
    "file__[(file__['longitude']>-120) & (file__['latitude']<40)]"
   ]
  },
  {
   "cell_type": "code",
   "execution_count": 32,
   "metadata": {
    "colab": {
     "background_save": true
    },
    "id": "YtQ4-B1uFzy1"
   },
   "outputs": [
    {
     "ename": "FileNotFoundError",
     "evalue": "[Errno 2] No such file or directory: 'Salaries.csv'",
     "output_type": "error",
     "traceback": [
      "\u001B[1;31m---------------------------------------------------------------------------\u001B[0m",
      "\u001B[1;31mFileNotFoundError\u001B[0m                         Traceback (most recent call last)",
      "\u001B[1;32m~\\AppData\\Local\\Temp\\ipykernel_10152\\2545341083.py\u001B[0m in \u001B[0;36m<module>\u001B[1;34m\u001B[0m\n\u001B[1;32m----> 1\u001B[1;33m \u001B[0mfile__2\u001B[0m \u001B[1;33m=\u001B[0m  \u001B[0mpd\u001B[0m\u001B[1;33m.\u001B[0m\u001B[0mread_csv\u001B[0m\u001B[1;33m(\u001B[0m\u001B[1;34m'Salaries.csv'\u001B[0m\u001B[1;33m)\u001B[0m\u001B[1;33m\u001B[0m\u001B[1;33m\u001B[0m\u001B[0m\n\u001B[0m",
      "\u001B[1;32mE:\\conda\\lib\\site-packages\\pandas\\util\\_decorators.py\u001B[0m in \u001B[0;36mwrapper\u001B[1;34m(*args, **kwargs)\u001B[0m\n\u001B[0;32m    309\u001B[0m                     \u001B[0mstacklevel\u001B[0m\u001B[1;33m=\u001B[0m\u001B[0mstacklevel\u001B[0m\u001B[1;33m,\u001B[0m\u001B[1;33m\u001B[0m\u001B[1;33m\u001B[0m\u001B[0m\n\u001B[0;32m    310\u001B[0m                 )\n\u001B[1;32m--> 311\u001B[1;33m             \u001B[1;32mreturn\u001B[0m \u001B[0mfunc\u001B[0m\u001B[1;33m(\u001B[0m\u001B[1;33m*\u001B[0m\u001B[0margs\u001B[0m\u001B[1;33m,\u001B[0m \u001B[1;33m**\u001B[0m\u001B[0mkwargs\u001B[0m\u001B[1;33m)\u001B[0m\u001B[1;33m\u001B[0m\u001B[1;33m\u001B[0m\u001B[0m\n\u001B[0m\u001B[0;32m    312\u001B[0m \u001B[1;33m\u001B[0m\u001B[0m\n\u001B[0;32m    313\u001B[0m         \u001B[1;32mreturn\u001B[0m \u001B[0mwrapper\u001B[0m\u001B[1;33m\u001B[0m\u001B[1;33m\u001B[0m\u001B[0m\n",
      "\u001B[1;32mE:\\conda\\lib\\site-packages\\pandas\\io\\parsers\\readers.py\u001B[0m in \u001B[0;36mread_csv\u001B[1;34m(filepath_or_buffer, sep, delimiter, header, names, index_col, usecols, squeeze, prefix, mangle_dupe_cols, dtype, engine, converters, true_values, false_values, skipinitialspace, skiprows, skipfooter, nrows, na_values, keep_default_na, na_filter, verbose, skip_blank_lines, parse_dates, infer_datetime_format, keep_date_col, date_parser, dayfirst, cache_dates, iterator, chunksize, compression, thousands, decimal, lineterminator, quotechar, quoting, doublequote, escapechar, comment, encoding, encoding_errors, dialect, error_bad_lines, warn_bad_lines, on_bad_lines, delim_whitespace, low_memory, memory_map, float_precision, storage_options)\u001B[0m\n\u001B[0;32m    676\u001B[0m     \u001B[0mkwds\u001B[0m\u001B[1;33m.\u001B[0m\u001B[0mupdate\u001B[0m\u001B[1;33m(\u001B[0m\u001B[0mkwds_defaults\u001B[0m\u001B[1;33m)\u001B[0m\u001B[1;33m\u001B[0m\u001B[1;33m\u001B[0m\u001B[0m\n\u001B[0;32m    677\u001B[0m \u001B[1;33m\u001B[0m\u001B[0m\n\u001B[1;32m--> 678\u001B[1;33m     \u001B[1;32mreturn\u001B[0m \u001B[0m_read\u001B[0m\u001B[1;33m(\u001B[0m\u001B[0mfilepath_or_buffer\u001B[0m\u001B[1;33m,\u001B[0m \u001B[0mkwds\u001B[0m\u001B[1;33m)\u001B[0m\u001B[1;33m\u001B[0m\u001B[1;33m\u001B[0m\u001B[0m\n\u001B[0m\u001B[0;32m    679\u001B[0m \u001B[1;33m\u001B[0m\u001B[0m\n\u001B[0;32m    680\u001B[0m \u001B[1;33m\u001B[0m\u001B[0m\n",
      "\u001B[1;32mE:\\conda\\lib\\site-packages\\pandas\\io\\parsers\\readers.py\u001B[0m in \u001B[0;36m_read\u001B[1;34m(filepath_or_buffer, kwds)\u001B[0m\n\u001B[0;32m    573\u001B[0m \u001B[1;33m\u001B[0m\u001B[0m\n\u001B[0;32m    574\u001B[0m     \u001B[1;31m# Create the parser.\u001B[0m\u001B[1;33m\u001B[0m\u001B[1;33m\u001B[0m\u001B[0m\n\u001B[1;32m--> 575\u001B[1;33m     \u001B[0mparser\u001B[0m \u001B[1;33m=\u001B[0m \u001B[0mTextFileReader\u001B[0m\u001B[1;33m(\u001B[0m\u001B[0mfilepath_or_buffer\u001B[0m\u001B[1;33m,\u001B[0m \u001B[1;33m**\u001B[0m\u001B[0mkwds\u001B[0m\u001B[1;33m)\u001B[0m\u001B[1;33m\u001B[0m\u001B[1;33m\u001B[0m\u001B[0m\n\u001B[0m\u001B[0;32m    576\u001B[0m \u001B[1;33m\u001B[0m\u001B[0m\n\u001B[0;32m    577\u001B[0m     \u001B[1;32mif\u001B[0m \u001B[0mchunksize\u001B[0m \u001B[1;32mor\u001B[0m \u001B[0miterator\u001B[0m\u001B[1;33m:\u001B[0m\u001B[1;33m\u001B[0m\u001B[1;33m\u001B[0m\u001B[0m\n",
      "\u001B[1;32mE:\\conda\\lib\\site-packages\\pandas\\io\\parsers\\readers.py\u001B[0m in \u001B[0;36m__init__\u001B[1;34m(self, f, engine, **kwds)\u001B[0m\n\u001B[0;32m    930\u001B[0m \u001B[1;33m\u001B[0m\u001B[0m\n\u001B[0;32m    931\u001B[0m         \u001B[0mself\u001B[0m\u001B[1;33m.\u001B[0m\u001B[0mhandles\u001B[0m\u001B[1;33m:\u001B[0m \u001B[0mIOHandles\u001B[0m \u001B[1;33m|\u001B[0m \u001B[1;32mNone\u001B[0m \u001B[1;33m=\u001B[0m \u001B[1;32mNone\u001B[0m\u001B[1;33m\u001B[0m\u001B[1;33m\u001B[0m\u001B[0m\n\u001B[1;32m--> 932\u001B[1;33m         \u001B[0mself\u001B[0m\u001B[1;33m.\u001B[0m\u001B[0m_engine\u001B[0m \u001B[1;33m=\u001B[0m \u001B[0mself\u001B[0m\u001B[1;33m.\u001B[0m\u001B[0m_make_engine\u001B[0m\u001B[1;33m(\u001B[0m\u001B[0mf\u001B[0m\u001B[1;33m,\u001B[0m \u001B[0mself\u001B[0m\u001B[1;33m.\u001B[0m\u001B[0mengine\u001B[0m\u001B[1;33m)\u001B[0m\u001B[1;33m\u001B[0m\u001B[1;33m\u001B[0m\u001B[0m\n\u001B[0m\u001B[0;32m    933\u001B[0m \u001B[1;33m\u001B[0m\u001B[0m\n\u001B[0;32m    934\u001B[0m     \u001B[1;32mdef\u001B[0m \u001B[0mclose\u001B[0m\u001B[1;33m(\u001B[0m\u001B[0mself\u001B[0m\u001B[1;33m)\u001B[0m\u001B[1;33m:\u001B[0m\u001B[1;33m\u001B[0m\u001B[1;33m\u001B[0m\u001B[0m\n",
      "\u001B[1;32mE:\\conda\\lib\\site-packages\\pandas\\io\\parsers\\readers.py\u001B[0m in \u001B[0;36m_make_engine\u001B[1;34m(self, f, engine)\u001B[0m\n\u001B[0;32m   1214\u001B[0m             \u001B[1;31m# \"Union[str, PathLike[str], ReadCsvBuffer[bytes], ReadCsvBuffer[str]]\"\u001B[0m\u001B[1;33m\u001B[0m\u001B[1;33m\u001B[0m\u001B[0m\n\u001B[0;32m   1215\u001B[0m             \u001B[1;31m# , \"str\", \"bool\", \"Any\", \"Any\", \"Any\", \"Any\", \"Any\"\u001B[0m\u001B[1;33m\u001B[0m\u001B[1;33m\u001B[0m\u001B[0m\n\u001B[1;32m-> 1216\u001B[1;33m             self.handles = get_handle(  # type: ignore[call-overload]\n\u001B[0m\u001B[0;32m   1217\u001B[0m                 \u001B[0mf\u001B[0m\u001B[1;33m,\u001B[0m\u001B[1;33m\u001B[0m\u001B[1;33m\u001B[0m\u001B[0m\n\u001B[0;32m   1218\u001B[0m                 \u001B[0mmode\u001B[0m\u001B[1;33m,\u001B[0m\u001B[1;33m\u001B[0m\u001B[1;33m\u001B[0m\u001B[0m\n",
      "\u001B[1;32mE:\\conda\\lib\\site-packages\\pandas\\io\\common.py\u001B[0m in \u001B[0;36mget_handle\u001B[1;34m(path_or_buf, mode, encoding, compression, memory_map, is_text, errors, storage_options)\u001B[0m\n\u001B[0;32m    784\u001B[0m         \u001B[1;32mif\u001B[0m \u001B[0mioargs\u001B[0m\u001B[1;33m.\u001B[0m\u001B[0mencoding\u001B[0m \u001B[1;32mand\u001B[0m \u001B[1;34m\"b\"\u001B[0m \u001B[1;32mnot\u001B[0m \u001B[1;32min\u001B[0m \u001B[0mioargs\u001B[0m\u001B[1;33m.\u001B[0m\u001B[0mmode\u001B[0m\u001B[1;33m:\u001B[0m\u001B[1;33m\u001B[0m\u001B[1;33m\u001B[0m\u001B[0m\n\u001B[0;32m    785\u001B[0m             \u001B[1;31m# Encoding\u001B[0m\u001B[1;33m\u001B[0m\u001B[1;33m\u001B[0m\u001B[0m\n\u001B[1;32m--> 786\u001B[1;33m             handle = open(\n\u001B[0m\u001B[0;32m    787\u001B[0m                 \u001B[0mhandle\u001B[0m\u001B[1;33m,\u001B[0m\u001B[1;33m\u001B[0m\u001B[1;33m\u001B[0m\u001B[0m\n\u001B[0;32m    788\u001B[0m                 \u001B[0mioargs\u001B[0m\u001B[1;33m.\u001B[0m\u001B[0mmode\u001B[0m\u001B[1;33m,\u001B[0m\u001B[1;33m\u001B[0m\u001B[1;33m\u001B[0m\u001B[0m\n",
      "\u001B[1;31mFileNotFoundError\u001B[0m: [Errno 2] No such file or directory: 'Salaries.csv'"
     ]
    }
   ],
   "source": [
    "file__2 =  pd.read_csv('Salaries.csv') "
   ]
  },
  {
   "cell_type": "code",
   "execution_count": 20,
   "metadata": {
    "colab": {
     "background_save": true,
     "base_uri": "https://localhost:8080/"
    },
    "id": "cbdJja2qF-Nj",
    "outputId": "9980e808-0a3b-49e4-ed90-254327dbd711"
   },
   "outputs": [
    {
     "name": "stdout",
     "output_type": "stream",
     "text": [
      "<class 'pandas.core.frame.DataFrame'>\n",
      "RangeIndex: 148654 entries, 0 to 148653\n",
      "Data columns (total 13 columns):\n",
      " #   Column            Non-Null Count   Dtype  \n",
      "---  ------            --------------   -----  \n",
      " 0   Id                148654 non-null  int64  \n",
      " 1   EmployeeName      148654 non-null  object \n",
      " 2   JobTitle          148654 non-null  object \n",
      " 3   BasePay           148045 non-null  float64\n",
      " 4   OvertimePay       148650 non-null  float64\n",
      " 5   OtherPay          148650 non-null  float64\n",
      " 6   Benefits          112491 non-null  float64\n",
      " 7   TotalPay          148654 non-null  float64\n",
      " 8   TotalPayBenefits  148654 non-null  float64\n",
      " 9   Year              148654 non-null  int64  \n",
      " 10  Notes             0 non-null       float64\n",
      " 11  Agency            148654 non-null  object \n",
      " 12  Status            0 non-null       float64\n",
      "dtypes: float64(8), int64(2), object(3)\n",
      "memory usage: 14.7+ MB\n"
     ]
    }
   ],
   "source": [
    "file__2.info()"
   ]
  },
  {
   "cell_type": "code",
   "execution_count": 21,
   "metadata": {
    "colab": {
     "background_save": true,
     "base_uri": "https://localhost:8080/",
     "height": 479
    },
    "id": "Ya1UOuXkHTWR",
    "outputId": "58fbda1c-cefd-4546-e58d-bc674e616f02"
   },
   "outputs": [
    {
     "data": {
      "text/html": [
       "<div>\n",
       "<style scoped>\n",
       "    .dataframe tbody tr th:only-of-type {\n",
       "        vertical-align: middle;\n",
       "    }\n",
       "\n",
       "    .dataframe tbody tr th {\n",
       "        vertical-align: top;\n",
       "    }\n",
       "\n",
       "    .dataframe thead th {\n",
       "        text-align: right;\n",
       "    }\n",
       "</style>\n",
       "<table border=\"1\" class=\"dataframe\">\n",
       "  <thead>\n",
       "    <tr style=\"text-align: right;\">\n",
       "      <th></th>\n",
       "      <th>Id</th>\n",
       "      <th>EmployeeName</th>\n",
       "      <th>JobTitle</th>\n",
       "      <th>BasePay</th>\n",
       "      <th>OvertimePay</th>\n",
       "      <th>OtherPay</th>\n",
       "      <th>Benefits</th>\n",
       "      <th>TotalPay</th>\n",
       "      <th>TotalPayBenefits</th>\n",
       "      <th>Year</th>\n",
       "      <th>Notes</th>\n",
       "      <th>Agency</th>\n",
       "      <th>Status</th>\n",
       "    </tr>\n",
       "  </thead>\n",
       "  <tbody>\n",
       "    <tr>\n",
       "      <th>0</th>\n",
       "      <td>1</td>\n",
       "      <td>NATHANIEL FORD</td>\n",
       "      <td>GENERAL MANAGER-METROPOLITAN TRANSIT AUTHORITY</td>\n",
       "      <td>167411.18</td>\n",
       "      <td>0.00</td>\n",
       "      <td>400184.25</td>\n",
       "      <td>NaN</td>\n",
       "      <td>567595.43</td>\n",
       "      <td>567595.43</td>\n",
       "      <td>2011</td>\n",
       "      <td>NaN</td>\n",
       "      <td>San Francisco</td>\n",
       "      <td>NaN</td>\n",
       "    </tr>\n",
       "    <tr>\n",
       "      <th>1</th>\n",
       "      <td>2</td>\n",
       "      <td>GARY JIMENEZ</td>\n",
       "      <td>CAPTAIN III (POLICE DEPARTMENT)</td>\n",
       "      <td>155966.02</td>\n",
       "      <td>245131.88</td>\n",
       "      <td>137811.38</td>\n",
       "      <td>NaN</td>\n",
       "      <td>538909.28</td>\n",
       "      <td>538909.28</td>\n",
       "      <td>2011</td>\n",
       "      <td>NaN</td>\n",
       "      <td>San Francisco</td>\n",
       "      <td>NaN</td>\n",
       "    </tr>\n",
       "    <tr>\n",
       "      <th>2</th>\n",
       "      <td>3</td>\n",
       "      <td>ALBERT PARDINI</td>\n",
       "      <td>CAPTAIN III (POLICE DEPARTMENT)</td>\n",
       "      <td>212739.13</td>\n",
       "      <td>106088.18</td>\n",
       "      <td>16452.60</td>\n",
       "      <td>NaN</td>\n",
       "      <td>335279.91</td>\n",
       "      <td>335279.91</td>\n",
       "      <td>2011</td>\n",
       "      <td>NaN</td>\n",
       "      <td>San Francisco</td>\n",
       "      <td>NaN</td>\n",
       "    </tr>\n",
       "    <tr>\n",
       "      <th>3</th>\n",
       "      <td>4</td>\n",
       "      <td>CHRISTOPHER CHONG</td>\n",
       "      <td>WIRE ROPE CABLE MAINTENANCE MECHANIC</td>\n",
       "      <td>77916.00</td>\n",
       "      <td>56120.71</td>\n",
       "      <td>198306.90</td>\n",
       "      <td>NaN</td>\n",
       "      <td>332343.61</td>\n",
       "      <td>332343.61</td>\n",
       "      <td>2011</td>\n",
       "      <td>NaN</td>\n",
       "      <td>San Francisco</td>\n",
       "      <td>NaN</td>\n",
       "    </tr>\n",
       "    <tr>\n",
       "      <th>4</th>\n",
       "      <td>5</td>\n",
       "      <td>PATRICK GARDNER</td>\n",
       "      <td>DEPUTY CHIEF OF DEPARTMENT,(FIRE DEPARTMENT)</td>\n",
       "      <td>134401.60</td>\n",
       "      <td>9737.00</td>\n",
       "      <td>182234.59</td>\n",
       "      <td>NaN</td>\n",
       "      <td>326373.19</td>\n",
       "      <td>326373.19</td>\n",
       "      <td>2011</td>\n",
       "      <td>NaN</td>\n",
       "      <td>San Francisco</td>\n",
       "      <td>NaN</td>\n",
       "    </tr>\n",
       "  </tbody>\n",
       "</table>\n",
       "</div>"
      ],
      "text/plain": [
       "   Id       EmployeeName                                        JobTitle  \\\n",
       "0   1     NATHANIEL FORD  GENERAL MANAGER-METROPOLITAN TRANSIT AUTHORITY   \n",
       "1   2       GARY JIMENEZ                 CAPTAIN III (POLICE DEPARTMENT)   \n",
       "2   3     ALBERT PARDINI                 CAPTAIN III (POLICE DEPARTMENT)   \n",
       "3   4  CHRISTOPHER CHONG            WIRE ROPE CABLE MAINTENANCE MECHANIC   \n",
       "4   5    PATRICK GARDNER    DEPUTY CHIEF OF DEPARTMENT,(FIRE DEPARTMENT)   \n",
       "\n",
       "     BasePay  OvertimePay   OtherPay  Benefits   TotalPay  TotalPayBenefits  \\\n",
       "0  167411.18         0.00  400184.25       NaN  567595.43         567595.43   \n",
       "1  155966.02    245131.88  137811.38       NaN  538909.28         538909.28   \n",
       "2  212739.13    106088.18   16452.60       NaN  335279.91         335279.91   \n",
       "3   77916.00     56120.71  198306.90       NaN  332343.61         332343.61   \n",
       "4  134401.60      9737.00  182234.59       NaN  326373.19         326373.19   \n",
       "\n",
       "   Year  Notes         Agency  Status  \n",
       "0  2011    NaN  San Francisco     NaN  \n",
       "1  2011    NaN  San Francisco     NaN  \n",
       "2  2011    NaN  San Francisco     NaN  \n",
       "3  2011    NaN  San Francisco     NaN  \n",
       "4  2011    NaN  San Francisco     NaN  "
      ]
     },
     "execution_count": 21,
     "metadata": {},
     "output_type": "execute_result"
    }
   ],
   "source": [
    "file__2.head()"
   ]
  },
  {
   "cell_type": "code",
   "execution_count": 33,
   "metadata": {
    "id": "fcw5ppaluQGn"
   },
   "outputs": [
    {
     "ename": "FileNotFoundError",
     "evalue": "[Errno 2] No such file or directory: 'Excel_Sample2.xlsx'",
     "output_type": "error",
     "traceback": [
      "\u001B[1;31m---------------------------------------------------------------------------\u001B[0m",
      "\u001B[1;31mFileNotFoundError\u001B[0m                         Traceback (most recent call last)",
      "\u001B[1;32m~\\AppData\\Local\\Temp\\ipykernel_10152\\326909996.py\u001B[0m in \u001B[0;36m<module>\u001B[1;34m\u001B[0m\n\u001B[1;32m----> 1\u001B[1;33m \u001B[0mdf_excel\u001B[0m \u001B[1;33m=\u001B[0m \u001B[0mpd\u001B[0m\u001B[1;33m.\u001B[0m\u001B[0mread_excel\u001B[0m\u001B[1;33m(\u001B[0m\u001B[1;34m'Excel_Sample2.xlsx'\u001B[0m\u001B[1;33m)\u001B[0m\u001B[1;33m\u001B[0m\u001B[1;33m\u001B[0m\u001B[0m\n\u001B[0m",
      "\u001B[1;32mE:\\conda\\lib\\site-packages\\pandas\\util\\_decorators.py\u001B[0m in \u001B[0;36mwrapper\u001B[1;34m(*args, **kwargs)\u001B[0m\n\u001B[0;32m    309\u001B[0m                     \u001B[0mstacklevel\u001B[0m\u001B[1;33m=\u001B[0m\u001B[0mstacklevel\u001B[0m\u001B[1;33m,\u001B[0m\u001B[1;33m\u001B[0m\u001B[1;33m\u001B[0m\u001B[0m\n\u001B[0;32m    310\u001B[0m                 )\n\u001B[1;32m--> 311\u001B[1;33m             \u001B[1;32mreturn\u001B[0m \u001B[0mfunc\u001B[0m\u001B[1;33m(\u001B[0m\u001B[1;33m*\u001B[0m\u001B[0margs\u001B[0m\u001B[1;33m,\u001B[0m \u001B[1;33m**\u001B[0m\u001B[0mkwargs\u001B[0m\u001B[1;33m)\u001B[0m\u001B[1;33m\u001B[0m\u001B[1;33m\u001B[0m\u001B[0m\n\u001B[0m\u001B[0;32m    312\u001B[0m \u001B[1;33m\u001B[0m\u001B[0m\n\u001B[0;32m    313\u001B[0m         \u001B[1;32mreturn\u001B[0m \u001B[0mwrapper\u001B[0m\u001B[1;33m\u001B[0m\u001B[1;33m\u001B[0m\u001B[0m\n",
      "\u001B[1;32mE:\\conda\\lib\\site-packages\\pandas\\io\\excel\\_base.py\u001B[0m in \u001B[0;36mread_excel\u001B[1;34m(io, sheet_name, header, names, index_col, usecols, squeeze, dtype, engine, converters, true_values, false_values, skiprows, nrows, na_values, keep_default_na, na_filter, verbose, parse_dates, date_parser, thousands, decimal, comment, skipfooter, convert_float, mangle_dupe_cols, storage_options)\u001B[0m\n\u001B[0;32m    455\u001B[0m     \u001B[1;32mif\u001B[0m \u001B[1;32mnot\u001B[0m \u001B[0misinstance\u001B[0m\u001B[1;33m(\u001B[0m\u001B[0mio\u001B[0m\u001B[1;33m,\u001B[0m \u001B[0mExcelFile\u001B[0m\u001B[1;33m)\u001B[0m\u001B[1;33m:\u001B[0m\u001B[1;33m\u001B[0m\u001B[1;33m\u001B[0m\u001B[0m\n\u001B[0;32m    456\u001B[0m         \u001B[0mshould_close\u001B[0m \u001B[1;33m=\u001B[0m \u001B[1;32mTrue\u001B[0m\u001B[1;33m\u001B[0m\u001B[1;33m\u001B[0m\u001B[0m\n\u001B[1;32m--> 457\u001B[1;33m         \u001B[0mio\u001B[0m \u001B[1;33m=\u001B[0m \u001B[0mExcelFile\u001B[0m\u001B[1;33m(\u001B[0m\u001B[0mio\u001B[0m\u001B[1;33m,\u001B[0m \u001B[0mstorage_options\u001B[0m\u001B[1;33m=\u001B[0m\u001B[0mstorage_options\u001B[0m\u001B[1;33m,\u001B[0m \u001B[0mengine\u001B[0m\u001B[1;33m=\u001B[0m\u001B[0mengine\u001B[0m\u001B[1;33m)\u001B[0m\u001B[1;33m\u001B[0m\u001B[1;33m\u001B[0m\u001B[0m\n\u001B[0m\u001B[0;32m    458\u001B[0m     \u001B[1;32melif\u001B[0m \u001B[0mengine\u001B[0m \u001B[1;32mand\u001B[0m \u001B[0mengine\u001B[0m \u001B[1;33m!=\u001B[0m \u001B[0mio\u001B[0m\u001B[1;33m.\u001B[0m\u001B[0mengine\u001B[0m\u001B[1;33m:\u001B[0m\u001B[1;33m\u001B[0m\u001B[1;33m\u001B[0m\u001B[0m\n\u001B[0;32m    459\u001B[0m         raise ValueError(\n",
      "\u001B[1;32mE:\\conda\\lib\\site-packages\\pandas\\io\\excel\\_base.py\u001B[0m in \u001B[0;36m__init__\u001B[1;34m(self, path_or_buffer, engine, storage_options)\u001B[0m\n\u001B[0;32m   1374\u001B[0m                 \u001B[0mext\u001B[0m \u001B[1;33m=\u001B[0m \u001B[1;34m\"xls\"\u001B[0m\u001B[1;33m\u001B[0m\u001B[1;33m\u001B[0m\u001B[0m\n\u001B[0;32m   1375\u001B[0m             \u001B[1;32melse\u001B[0m\u001B[1;33m:\u001B[0m\u001B[1;33m\u001B[0m\u001B[1;33m\u001B[0m\u001B[0m\n\u001B[1;32m-> 1376\u001B[1;33m                 ext = inspect_excel_format(\n\u001B[0m\u001B[0;32m   1377\u001B[0m                     \u001B[0mcontent_or_path\u001B[0m\u001B[1;33m=\u001B[0m\u001B[0mpath_or_buffer\u001B[0m\u001B[1;33m,\u001B[0m \u001B[0mstorage_options\u001B[0m\u001B[1;33m=\u001B[0m\u001B[0mstorage_options\u001B[0m\u001B[1;33m\u001B[0m\u001B[1;33m\u001B[0m\u001B[0m\n\u001B[0;32m   1378\u001B[0m                 )\n",
      "\u001B[1;32mE:\\conda\\lib\\site-packages\\pandas\\io\\excel\\_base.py\u001B[0m in \u001B[0;36minspect_excel_format\u001B[1;34m(content_or_path, storage_options)\u001B[0m\n\u001B[0;32m   1248\u001B[0m         \u001B[0mcontent_or_path\u001B[0m \u001B[1;33m=\u001B[0m \u001B[0mBytesIO\u001B[0m\u001B[1;33m(\u001B[0m\u001B[0mcontent_or_path\u001B[0m\u001B[1;33m)\u001B[0m\u001B[1;33m\u001B[0m\u001B[1;33m\u001B[0m\u001B[0m\n\u001B[0;32m   1249\u001B[0m \u001B[1;33m\u001B[0m\u001B[0m\n\u001B[1;32m-> 1250\u001B[1;33m     with get_handle(\n\u001B[0m\u001B[0;32m   1251\u001B[0m         \u001B[0mcontent_or_path\u001B[0m\u001B[1;33m,\u001B[0m \u001B[1;34m\"rb\"\u001B[0m\u001B[1;33m,\u001B[0m \u001B[0mstorage_options\u001B[0m\u001B[1;33m=\u001B[0m\u001B[0mstorage_options\u001B[0m\u001B[1;33m,\u001B[0m \u001B[0mis_text\u001B[0m\u001B[1;33m=\u001B[0m\u001B[1;32mFalse\u001B[0m\u001B[1;33m\u001B[0m\u001B[1;33m\u001B[0m\u001B[0m\n\u001B[0;32m   1252\u001B[0m     ) as handle:\n",
      "\u001B[1;32mE:\\conda\\lib\\site-packages\\pandas\\io\\common.py\u001B[0m in \u001B[0;36mget_handle\u001B[1;34m(path_or_buf, mode, encoding, compression, memory_map, is_text, errors, storage_options)\u001B[0m\n\u001B[0;32m    793\u001B[0m         \u001B[1;32melse\u001B[0m\u001B[1;33m:\u001B[0m\u001B[1;33m\u001B[0m\u001B[1;33m\u001B[0m\u001B[0m\n\u001B[0;32m    794\u001B[0m             \u001B[1;31m# Binary mode\u001B[0m\u001B[1;33m\u001B[0m\u001B[1;33m\u001B[0m\u001B[0m\n\u001B[1;32m--> 795\u001B[1;33m             \u001B[0mhandle\u001B[0m \u001B[1;33m=\u001B[0m \u001B[0mopen\u001B[0m\u001B[1;33m(\u001B[0m\u001B[0mhandle\u001B[0m\u001B[1;33m,\u001B[0m \u001B[0mioargs\u001B[0m\u001B[1;33m.\u001B[0m\u001B[0mmode\u001B[0m\u001B[1;33m)\u001B[0m\u001B[1;33m\u001B[0m\u001B[1;33m\u001B[0m\u001B[0m\n\u001B[0m\u001B[0;32m    796\u001B[0m         \u001B[0mhandles\u001B[0m\u001B[1;33m.\u001B[0m\u001B[0mappend\u001B[0m\u001B[1;33m(\u001B[0m\u001B[0mhandle\u001B[0m\u001B[1;33m)\u001B[0m\u001B[1;33m\u001B[0m\u001B[1;33m\u001B[0m\u001B[0m\n\u001B[0;32m    797\u001B[0m \u001B[1;33m\u001B[0m\u001B[0m\n",
      "\u001B[1;31mFileNotFoundError\u001B[0m: [Errno 2] No such file or directory: 'Excel_Sample2.xlsx'"
     ]
    }
   ],
   "source": [
    "df_excel = pd.read_excel('Excel_Sample2.xlsx')"
   ]
  },
  {
   "cell_type": "code",
   "execution_count": 23,
   "metadata": {
    "colab": {
     "base_uri": "https://localhost:8080/",
     "height": 175
    },
    "id": "_NHMkZcZvqnp",
    "outputId": "f4b4ad9c-cace-4a69-e3a9-4439853d5bb9"
   },
   "outputs": [
    {
     "data": {
      "text/html": [
       "<div>\n",
       "<style scoped>\n",
       "    .dataframe tbody tr th:only-of-type {\n",
       "        vertical-align: middle;\n",
       "    }\n",
       "\n",
       "    .dataframe tbody tr th {\n",
       "        vertical-align: top;\n",
       "    }\n",
       "\n",
       "    .dataframe thead th {\n",
       "        text-align: right;\n",
       "    }\n",
       "</style>\n",
       "<table border=\"1\" class=\"dataframe\">\n",
       "  <thead>\n",
       "    <tr style=\"text-align: right;\">\n",
       "      <th></th>\n",
       "      <th>a</th>\n",
       "      <th>b</th>\n",
       "      <th>c</th>\n",
       "      <th>d</th>\n",
       "    </tr>\n",
       "  </thead>\n",
       "  <tbody>\n",
       "    <tr>\n",
       "      <th>0</th>\n",
       "      <td>0</td>\n",
       "      <td>1</td>\n",
       "      <td>2</td>\n",
       "      <td>3</td>\n",
       "    </tr>\n",
       "    <tr>\n",
       "      <th>1</th>\n",
       "      <td>4</td>\n",
       "      <td>5</td>\n",
       "      <td>6</td>\n",
       "      <td>7</td>\n",
       "    </tr>\n",
       "    <tr>\n",
       "      <th>2</th>\n",
       "      <td>8</td>\n",
       "      <td>9</td>\n",
       "      <td>10</td>\n",
       "      <td>11</td>\n",
       "    </tr>\n",
       "    <tr>\n",
       "      <th>3</th>\n",
       "      <td>12</td>\n",
       "      <td>13</td>\n",
       "      <td>14</td>\n",
       "      <td>15</td>\n",
       "    </tr>\n",
       "  </tbody>\n",
       "</table>\n",
       "</div>"
      ],
      "text/plain": [
       "    a   b   c   d\n",
       "0   0   1   2   3\n",
       "1   4   5   6   7\n",
       "2   8   9  10  11\n",
       "3  12  13  14  15"
      ]
     },
     "execution_count": 23,
     "metadata": {},
     "output_type": "execute_result"
    }
   ],
   "source": [
    "df_excel"
   ]
  },
  {
   "cell_type": "code",
   "execution_count": 24,
   "metadata": {
    "colab": {
     "base_uri": "https://localhost:8080/",
     "height": 300
    },
    "id": "RKJ9dumqvtDb",
    "outputId": "6b7346f3-4448-46dd-acc7-7fbbc80bf34a"
   },
   "outputs": [
    {
     "data": {
      "text/html": [
       "<div>\n",
       "<style scoped>\n",
       "    .dataframe tbody tr th:only-of-type {\n",
       "        vertical-align: middle;\n",
       "    }\n",
       "\n",
       "    .dataframe tbody tr th {\n",
       "        vertical-align: top;\n",
       "    }\n",
       "\n",
       "    .dataframe thead th {\n",
       "        text-align: right;\n",
       "    }\n",
       "</style>\n",
       "<table border=\"1\" class=\"dataframe\">\n",
       "  <thead>\n",
       "    <tr style=\"text-align: right;\">\n",
       "      <th></th>\n",
       "      <th>a</th>\n",
       "      <th>b</th>\n",
       "      <th>c</th>\n",
       "      <th>d</th>\n",
       "    </tr>\n",
       "  </thead>\n",
       "  <tbody>\n",
       "    <tr>\n",
       "      <th>count</th>\n",
       "      <td>4.000000</td>\n",
       "      <td>4.000000</td>\n",
       "      <td>4.000000</td>\n",
       "      <td>4.000000</td>\n",
       "    </tr>\n",
       "    <tr>\n",
       "      <th>mean</th>\n",
       "      <td>6.000000</td>\n",
       "      <td>7.000000</td>\n",
       "      <td>8.000000</td>\n",
       "      <td>9.000000</td>\n",
       "    </tr>\n",
       "    <tr>\n",
       "      <th>std</th>\n",
       "      <td>5.163978</td>\n",
       "      <td>5.163978</td>\n",
       "      <td>5.163978</td>\n",
       "      <td>5.163978</td>\n",
       "    </tr>\n",
       "    <tr>\n",
       "      <th>min</th>\n",
       "      <td>0.000000</td>\n",
       "      <td>1.000000</td>\n",
       "      <td>2.000000</td>\n",
       "      <td>3.000000</td>\n",
       "    </tr>\n",
       "    <tr>\n",
       "      <th>25%</th>\n",
       "      <td>3.000000</td>\n",
       "      <td>4.000000</td>\n",
       "      <td>5.000000</td>\n",
       "      <td>6.000000</td>\n",
       "    </tr>\n",
       "    <tr>\n",
       "      <th>50%</th>\n",
       "      <td>6.000000</td>\n",
       "      <td>7.000000</td>\n",
       "      <td>8.000000</td>\n",
       "      <td>9.000000</td>\n",
       "    </tr>\n",
       "    <tr>\n",
       "      <th>75%</th>\n",
       "      <td>9.000000</td>\n",
       "      <td>10.000000</td>\n",
       "      <td>11.000000</td>\n",
       "      <td>12.000000</td>\n",
       "    </tr>\n",
       "    <tr>\n",
       "      <th>max</th>\n",
       "      <td>12.000000</td>\n",
       "      <td>13.000000</td>\n",
       "      <td>14.000000</td>\n",
       "      <td>15.000000</td>\n",
       "    </tr>\n",
       "  </tbody>\n",
       "</table>\n",
       "</div>"
      ],
      "text/plain": [
       "               a          b          c          d\n",
       "count   4.000000   4.000000   4.000000   4.000000\n",
       "mean    6.000000   7.000000   8.000000   9.000000\n",
       "std     5.163978   5.163978   5.163978   5.163978\n",
       "min     0.000000   1.000000   2.000000   3.000000\n",
       "25%     3.000000   4.000000   5.000000   6.000000\n",
       "50%     6.000000   7.000000   8.000000   9.000000\n",
       "75%     9.000000  10.000000  11.000000  12.000000\n",
       "max    12.000000  13.000000  14.000000  15.000000"
      ]
     },
     "execution_count": 24,
     "metadata": {},
     "output_type": "execute_result"
    }
   ],
   "source": [
    "df_excel.describe()"
   ]
  },
  {
   "cell_type": "code",
   "execution_count": 25,
   "metadata": {
    "colab": {
     "base_uri": "https://localhost:8080/"
    },
    "id": "RiUFZkaKv7iJ",
    "outputId": "9811c2a6-1d0a-4fe4-f08e-8c96302d439b"
   },
   "outputs": [
    {
     "name": "stdout",
     "output_type": "stream",
     "text": [
      "<class 'pandas.core.frame.DataFrame'>\n",
      "RangeIndex: 4 entries, 0 to 3\n",
      "Data columns (total 4 columns):\n",
      " #   Column  Non-Null Count  Dtype\n",
      "---  ------  --------------  -----\n",
      " 0   a       4 non-null      int64\n",
      " 1   b       4 non-null      int64\n",
      " 2   c       4 non-null      int64\n",
      " 3   d       4 non-null      int64\n",
      "dtypes: int64(4)\n",
      "memory usage: 256.0 bytes\n"
     ]
    }
   ],
   "source": [
    "df_excel.info()"
   ]
  },
  {
   "cell_type": "code",
   "execution_count": 26,
   "metadata": {
    "colab": {
     "base_uri": "https://localhost:8080/"
    },
    "id": "O0rWoSA9vwus",
    "outputId": "97bae2af-8530-4f88-8bb2-f70bffdb78a8"
   },
   "outputs": [
    {
     "data": {
      "text/plain": [
       "a    int64\n",
       "b    int64\n",
       "c    int64\n",
       "d    int64\n",
       "dtype: object"
      ]
     },
     "execution_count": 26,
     "metadata": {},
     "output_type": "execute_result"
    }
   ],
   "source": [
    "df_excel.dtypes"
   ]
  },
  {
   "cell_type": "code",
   "execution_count": 27,
   "metadata": {
    "colab": {
     "base_uri": "https://localhost:8080/"
    },
    "id": "9roq1oYNv0gb",
    "outputId": "a9bf26aa-0db8-4bff-a57f-768c4101067e"
   },
   "outputs": [
    {
     "data": {
      "text/plain": [
       "Index(['a', 'b', 'c', 'd'], dtype='object')"
      ]
     },
     "execution_count": 27,
     "metadata": {},
     "output_type": "execute_result"
    }
   ],
   "source": [
    "df_excel.columns"
   ]
  },
  {
   "cell_type": "code",
   "execution_count": 28,
   "metadata": {
    "colab": {
     "base_uri": "https://localhost:8080/"
    },
    "id": "pb6vqWzDv4Na",
    "outputId": "20e41bec-8b73-4103-f1a7-13d341fa23b0"
   },
   "outputs": [
    {
     "data": {
      "text/plain": [
       "array([[ 0,  1,  2,  3],\n",
       "       [ 4,  5,  6,  7],\n",
       "       [ 8,  9, 10, 11],\n",
       "       [12, 13, 14, 15]], dtype=int64)"
      ]
     },
     "execution_count": 28,
     "metadata": {},
     "output_type": "execute_result"
    }
   ],
   "source": [
    "df_excel.values"
   ]
  },
  {
   "cell_type": "code",
   "execution_count": null,
   "metadata": {
    "colab": {
     "background_save": true,
     "base_uri": "https://localhost:8080/",
     "height": 450
    },
    "id": "awOWS6s8Hbs_",
    "outputId": "dbb6bebb-a6ad-43f7-b0ff-b158219e9878"
   },
   "outputs": [
    {
     "data": {
      "text/html": [
       "<div>\n",
       "<style scoped>\n",
       "    .dataframe tbody tr th:only-of-type {\n",
       "        vertical-align: middle;\n",
       "    }\n",
       "\n",
       "    .dataframe tbody tr th {\n",
       "        vertical-align: top;\n",
       "    }\n",
       "\n",
       "    .dataframe thead th {\n",
       "        text-align: right;\n",
       "    }\n",
       "</style>\n",
       "<table border=\"1\" class=\"dataframe\">\n",
       "  <thead>\n",
       "    <tr style=\"text-align: right;\">\n",
       "      <th>Year</th>\n",
       "      <th>2011</th>\n",
       "      <th>2012</th>\n",
       "      <th>2013</th>\n",
       "      <th>2014</th>\n",
       "    </tr>\n",
       "    <tr>\n",
       "      <th>JobTitle</th>\n",
       "      <th></th>\n",
       "      <th></th>\n",
       "      <th></th>\n",
       "      <th></th>\n",
       "    </tr>\n",
       "  </thead>\n",
       "  <tbody>\n",
       "    <tr>\n",
       "      <th>ACCOUNT CLERK</th>\n",
       "      <td>44035.664337</td>\n",
       "      <td>NaN</td>\n",
       "      <td>NaN</td>\n",
       "      <td>NaN</td>\n",
       "    </tr>\n",
       "    <tr>\n",
       "      <th>ACCOUNTANT</th>\n",
       "      <td>47429.268000</td>\n",
       "      <td>NaN</td>\n",
       "      <td>NaN</td>\n",
       "      <td>NaN</td>\n",
       "    </tr>\n",
       "    <tr>\n",
       "      <th>ACCOUNTANT INTERN</th>\n",
       "      <td>29031.742917</td>\n",
       "      <td>NaN</td>\n",
       "      <td>NaN</td>\n",
       "      <td>NaN</td>\n",
       "    </tr>\n",
       "    <tr>\n",
       "      <th>ACPO,JuvP, Juv Prob (SFERS)</th>\n",
       "      <td>NaN</td>\n",
       "      <td>NaN</td>\n",
       "      <td>NaN</td>\n",
       "      <td>80266.37</td>\n",
       "    </tr>\n",
       "    <tr>\n",
       "      <th>ACUPUNCTURIST</th>\n",
       "      <td>67594.400000</td>\n",
       "      <td>NaN</td>\n",
       "      <td>NaN</td>\n",
       "      <td>NaN</td>\n",
       "    </tr>\n",
       "    <tr>\n",
       "      <th>...</th>\n",
       "      <td>...</td>\n",
       "      <td>...</td>\n",
       "      <td>...</td>\n",
       "      <td>...</td>\n",
       "    </tr>\n",
       "    <tr>\n",
       "      <th>X-RAY LABORATORY AIDE</th>\n",
       "      <td>52705.880385</td>\n",
       "      <td>NaN</td>\n",
       "      <td>NaN</td>\n",
       "      <td>NaN</td>\n",
       "    </tr>\n",
       "    <tr>\n",
       "      <th>X-Ray Laboratory Aide</th>\n",
       "      <td>NaN</td>\n",
       "      <td>75778.306774</td>\n",
       "      <td>64605.606176</td>\n",
       "      <td>68754.12</td>\n",
       "    </tr>\n",
       "    <tr>\n",
       "      <th>YOUTH COMMISSION ADVISOR, BOARD OF SUPERVISORS</th>\n",
       "      <td>53632.870000</td>\n",
       "      <td>NaN</td>\n",
       "      <td>NaN</td>\n",
       "      <td>NaN</td>\n",
       "    </tr>\n",
       "    <tr>\n",
       "      <th>Youth Comm Advisor</th>\n",
       "      <td>NaN</td>\n",
       "      <td>85774.390000</td>\n",
       "      <td>51344.310000</td>\n",
       "      <td>52011.19</td>\n",
       "    </tr>\n",
       "    <tr>\n",
       "      <th>ZOO CURATOR</th>\n",
       "      <td>66686.560000</td>\n",
       "      <td>NaN</td>\n",
       "      <td>NaN</td>\n",
       "      <td>NaN</td>\n",
       "    </tr>\n",
       "  </tbody>\n",
       "</table>\n",
       "<p>2159 rows × 4 columns</p>\n",
       "</div>"
      ],
      "text/plain": [
       "Year                                                    2011  ...      2014\n",
       "JobTitle                                                      ...          \n",
       "ACCOUNT CLERK                                   44035.664337  ...       NaN\n",
       "ACCOUNTANT                                      47429.268000  ...       NaN\n",
       "ACCOUNTANT INTERN                               29031.742917  ...       NaN\n",
       "ACPO,JuvP, Juv Prob (SFERS)                              NaN  ...  80266.37\n",
       "ACUPUNCTURIST                                   67594.400000  ...       NaN\n",
       "...                                                      ...  ...       ...\n",
       "X-RAY LABORATORY AIDE                           52705.880385  ...       NaN\n",
       "X-Ray Laboratory Aide                                    NaN  ...  68754.12\n",
       "YOUTH COMMISSION ADVISOR, BOARD OF SUPERVISORS  53632.870000  ...       NaN\n",
       "Youth Comm Advisor                                       NaN  ...  52011.19\n",
       "ZOO CURATOR                                     66686.560000  ...       NaN\n",
       "\n",
       "[2159 rows x 4 columns]"
      ]
     },
     "execution_count": 0,
     "metadata": {
      "tags": []
     },
     "output_type": "execute_result"
    }
   ],
   "source": [
    "pd.pivot_table(file__2, values ='TotalPayBenefits',index='JobTitle', columns='Year')"
   ]
  },
  {
   "cell_type": "code",
   "execution_count": 29,
   "metadata": {
    "colab": {
     "background_save": true,
     "base_uri": "https://localhost:8080/"
    },
    "id": "k0jkqt1OIgjj",
    "outputId": "b2617267-b860-4805-ee30-ac8197ded94e"
   },
   "outputs": [
    {
     "name": "stdout",
     "output_type": "stream",
     "text": [
      "<class 'pandas.core.frame.DataFrame'>\n",
      "RangeIndex: 1704 entries, 0 to 1703\n",
      "Data columns (total 6 columns):\n",
      " #   Column     Non-Null Count  Dtype  \n",
      "---  ------     --------------  -----  \n",
      " 0   country    1704 non-null   object \n",
      " 1   year       1704 non-null   int64  \n",
      " 2   pop        1704 non-null   float64\n",
      " 3   continent  1704 non-null   object \n",
      " 4   lifeExp    1704 non-null   float64\n",
      " 5   gdpPercap  1704 non-null   float64\n",
      "dtypes: float64(3), int64(1), object(2)\n",
      "memory usage: 80.0+ KB\n"
     ]
    }
   ],
   "source": [
    "__df__ = pd.read_csv('gapminder-FiveYearData.csv')\n",
    "__df__.info()"
   ]
  },
  {
   "cell_type": "code",
   "execution_count": null,
   "metadata": {
    "colab": {
     "background_save": true,
     "base_uri": "https://localhost:8080/",
     "height": 419
    },
    "id": "b1DIxFdIJ0DK",
    "outputId": "5d84de86-0991-4481-da05-0e77d01b3235"
   },
   "outputs": [
    {
     "data": {
      "text/html": [
       "<div>\n",
       "<style scoped>\n",
       "    .dataframe tbody tr th:only-of-type {\n",
       "        vertical-align: middle;\n",
       "    }\n",
       "\n",
       "    .dataframe tbody tr th {\n",
       "        vertical-align: top;\n",
       "    }\n",
       "\n",
       "    .dataframe thead th {\n",
       "        text-align: right;\n",
       "    }\n",
       "</style>\n",
       "<table border=\"1\" class=\"dataframe\">\n",
       "  <thead>\n",
       "    <tr style=\"text-align: right;\">\n",
       "      <th></th>\n",
       "      <th>country</th>\n",
       "      <th>year</th>\n",
       "      <th>pop</th>\n",
       "      <th>continent</th>\n",
       "      <th>lifeExp</th>\n",
       "      <th>gdpPercap</th>\n",
       "    </tr>\n",
       "  </thead>\n",
       "  <tbody>\n",
       "    <tr>\n",
       "      <th>0</th>\n",
       "      <td>Afghanistan</td>\n",
       "      <td>1952</td>\n",
       "      <td>8425333.0</td>\n",
       "      <td>Asia</td>\n",
       "      <td>28.801</td>\n",
       "      <td>779.445314</td>\n",
       "    </tr>\n",
       "    <tr>\n",
       "      <th>1</th>\n",
       "      <td>Afghanistan</td>\n",
       "      <td>1957</td>\n",
       "      <td>9240934.0</td>\n",
       "      <td>Asia</td>\n",
       "      <td>30.332</td>\n",
       "      <td>820.853030</td>\n",
       "    </tr>\n",
       "    <tr>\n",
       "      <th>2</th>\n",
       "      <td>Afghanistan</td>\n",
       "      <td>1962</td>\n",
       "      <td>10267083.0</td>\n",
       "      <td>Asia</td>\n",
       "      <td>31.997</td>\n",
       "      <td>853.100710</td>\n",
       "    </tr>\n",
       "    <tr>\n",
       "      <th>3</th>\n",
       "      <td>Afghanistan</td>\n",
       "      <td>1967</td>\n",
       "      <td>11537966.0</td>\n",
       "      <td>Asia</td>\n",
       "      <td>34.020</td>\n",
       "      <td>836.197138</td>\n",
       "    </tr>\n",
       "    <tr>\n",
       "      <th>4</th>\n",
       "      <td>Afghanistan</td>\n",
       "      <td>1972</td>\n",
       "      <td>13079460.0</td>\n",
       "      <td>Asia</td>\n",
       "      <td>36.088</td>\n",
       "      <td>739.981106</td>\n",
       "    </tr>\n",
       "    <tr>\n",
       "      <th>...</th>\n",
       "      <td>...</td>\n",
       "      <td>...</td>\n",
       "      <td>...</td>\n",
       "      <td>...</td>\n",
       "      <td>...</td>\n",
       "      <td>...</td>\n",
       "    </tr>\n",
       "    <tr>\n",
       "      <th>1699</th>\n",
       "      <td>Zimbabwe</td>\n",
       "      <td>1987</td>\n",
       "      <td>9216418.0</td>\n",
       "      <td>Africa</td>\n",
       "      <td>62.351</td>\n",
       "      <td>706.157306</td>\n",
       "    </tr>\n",
       "    <tr>\n",
       "      <th>1700</th>\n",
       "      <td>Zimbabwe</td>\n",
       "      <td>1992</td>\n",
       "      <td>10704340.0</td>\n",
       "      <td>Africa</td>\n",
       "      <td>60.377</td>\n",
       "      <td>693.420786</td>\n",
       "    </tr>\n",
       "    <tr>\n",
       "      <th>1701</th>\n",
       "      <td>Zimbabwe</td>\n",
       "      <td>1997</td>\n",
       "      <td>11404948.0</td>\n",
       "      <td>Africa</td>\n",
       "      <td>46.809</td>\n",
       "      <td>792.449960</td>\n",
       "    </tr>\n",
       "    <tr>\n",
       "      <th>1702</th>\n",
       "      <td>Zimbabwe</td>\n",
       "      <td>2002</td>\n",
       "      <td>11926563.0</td>\n",
       "      <td>Africa</td>\n",
       "      <td>39.989</td>\n",
       "      <td>672.038623</td>\n",
       "    </tr>\n",
       "    <tr>\n",
       "      <th>1703</th>\n",
       "      <td>Zimbabwe</td>\n",
       "      <td>2007</td>\n",
       "      <td>12311143.0</td>\n",
       "      <td>Africa</td>\n",
       "      <td>43.487</td>\n",
       "      <td>469.709298</td>\n",
       "    </tr>\n",
       "  </tbody>\n",
       "</table>\n",
       "<p>1704 rows × 6 columns</p>\n",
       "</div>"
      ],
      "text/plain": [
       "          country  year         pop continent  lifeExp   gdpPercap\n",
       "0     Afghanistan  1952   8425333.0      Asia   28.801  779.445314\n",
       "1     Afghanistan  1957   9240934.0      Asia   30.332  820.853030\n",
       "2     Afghanistan  1962  10267083.0      Asia   31.997  853.100710\n",
       "3     Afghanistan  1967  11537966.0      Asia   34.020  836.197138\n",
       "4     Afghanistan  1972  13079460.0      Asia   36.088  739.981106\n",
       "...           ...   ...         ...       ...      ...         ...\n",
       "1699     Zimbabwe  1987   9216418.0    Africa   62.351  706.157306\n",
       "1700     Zimbabwe  1992  10704340.0    Africa   60.377  693.420786\n",
       "1701     Zimbabwe  1997  11404948.0    Africa   46.809  792.449960\n",
       "1702     Zimbabwe  2002  11926563.0    Africa   39.989  672.038623\n",
       "1703     Zimbabwe  2007  12311143.0    Africa   43.487  469.709298\n",
       "\n",
       "[1704 rows x 6 columns]"
      ]
     },
     "execution_count": 0,
     "metadata": {
      "tags": []
     },
     "output_type": "execute_result"
    }
   ],
   "source": [
    "__df__"
   ]
  },
  {
   "cell_type": "code",
   "execution_count": null,
   "metadata": {
    "colab": {
     "background_save": true,
     "base_uri": "https://localhost:8080/",
     "height": 255
    },
    "id": "ntPK98CxJcYO",
    "outputId": "e2e8aec4-04b0-41e6-f5fb-987f445c6fdc"
   },
   "outputs": [
    {
     "data": {
      "text/html": [
       "<div>\n",
       "<style scoped>\n",
       "    .dataframe tbody tr th:only-of-type {\n",
       "        vertical-align: middle;\n",
       "    }\n",
       "\n",
       "    .dataframe tbody tr th {\n",
       "        vertical-align: top;\n",
       "    }\n",
       "\n",
       "    .dataframe thead th {\n",
       "        text-align: right;\n",
       "    }\n",
       "</style>\n",
       "<table border=\"1\" class=\"dataframe\">\n",
       "  <thead>\n",
       "    <tr style=\"text-align: right;\">\n",
       "      <th>year</th>\n",
       "      <th>1952</th>\n",
       "      <th>1957</th>\n",
       "      <th>1962</th>\n",
       "      <th>1967</th>\n",
       "      <th>1972</th>\n",
       "      <th>1977</th>\n",
       "      <th>1982</th>\n",
       "      <th>1987</th>\n",
       "      <th>1992</th>\n",
       "      <th>1997</th>\n",
       "      <th>2002</th>\n",
       "      <th>2007</th>\n",
       "    </tr>\n",
       "    <tr>\n",
       "      <th>continent</th>\n",
       "      <th></th>\n",
       "      <th></th>\n",
       "      <th></th>\n",
       "      <th></th>\n",
       "      <th></th>\n",
       "      <th></th>\n",
       "      <th></th>\n",
       "      <th></th>\n",
       "      <th></th>\n",
       "      <th></th>\n",
       "      <th></th>\n",
       "      <th></th>\n",
       "    </tr>\n",
       "  </thead>\n",
       "  <tbody>\n",
       "    <tr>\n",
       "      <th>Africa</th>\n",
       "      <td>39.135500</td>\n",
       "      <td>41.266346</td>\n",
       "      <td>43.319442</td>\n",
       "      <td>45.334538</td>\n",
       "      <td>47.450942</td>\n",
       "      <td>49.580423</td>\n",
       "      <td>51.592865</td>\n",
       "      <td>53.344788</td>\n",
       "      <td>53.629577</td>\n",
       "      <td>53.598269</td>\n",
       "      <td>53.325231</td>\n",
       "      <td>54.806038</td>\n",
       "    </tr>\n",
       "    <tr>\n",
       "      <th>Americas</th>\n",
       "      <td>53.279840</td>\n",
       "      <td>55.960280</td>\n",
       "      <td>58.398760</td>\n",
       "      <td>60.410920</td>\n",
       "      <td>62.394920</td>\n",
       "      <td>64.391560</td>\n",
       "      <td>66.228840</td>\n",
       "      <td>68.090720</td>\n",
       "      <td>69.568360</td>\n",
       "      <td>71.150480</td>\n",
       "      <td>72.422040</td>\n",
       "      <td>73.608120</td>\n",
       "    </tr>\n",
       "    <tr>\n",
       "      <th>Asia</th>\n",
       "      <td>46.314394</td>\n",
       "      <td>49.318544</td>\n",
       "      <td>51.563223</td>\n",
       "      <td>54.663640</td>\n",
       "      <td>57.319269</td>\n",
       "      <td>59.610556</td>\n",
       "      <td>62.617939</td>\n",
       "      <td>64.851182</td>\n",
       "      <td>66.537212</td>\n",
       "      <td>68.020515</td>\n",
       "      <td>69.233879</td>\n",
       "      <td>70.728485</td>\n",
       "    </tr>\n",
       "    <tr>\n",
       "      <th>Europe</th>\n",
       "      <td>64.408500</td>\n",
       "      <td>66.703067</td>\n",
       "      <td>68.539233</td>\n",
       "      <td>69.737600</td>\n",
       "      <td>70.775033</td>\n",
       "      <td>71.937767</td>\n",
       "      <td>72.806400</td>\n",
       "      <td>73.642167</td>\n",
       "      <td>74.440100</td>\n",
       "      <td>75.505167</td>\n",
       "      <td>76.700600</td>\n",
       "      <td>77.648600</td>\n",
       "    </tr>\n",
       "    <tr>\n",
       "      <th>Oceania</th>\n",
       "      <td>69.255000</td>\n",
       "      <td>70.295000</td>\n",
       "      <td>71.085000</td>\n",
       "      <td>71.310000</td>\n",
       "      <td>71.910000</td>\n",
       "      <td>72.855000</td>\n",
       "      <td>74.290000</td>\n",
       "      <td>75.320000</td>\n",
       "      <td>76.945000</td>\n",
       "      <td>78.190000</td>\n",
       "      <td>79.740000</td>\n",
       "      <td>80.719500</td>\n",
       "    </tr>\n",
       "  </tbody>\n",
       "</table>\n",
       "</div>"
      ],
      "text/plain": [
       "year            1952       1957       1962  ...       1997       2002       2007\n",
       "continent                                   ...                                 \n",
       "Africa     39.135500  41.266346  43.319442  ...  53.598269  53.325231  54.806038\n",
       "Americas   53.279840  55.960280  58.398760  ...  71.150480  72.422040  73.608120\n",
       "Asia       46.314394  49.318544  51.563223  ...  68.020515  69.233879  70.728485\n",
       "Europe     64.408500  66.703067  68.539233  ...  75.505167  76.700600  77.648600\n",
       "Oceania    69.255000  70.295000  71.085000  ...  78.190000  79.740000  80.719500\n",
       "\n",
       "[5 rows x 12 columns]"
      ]
     },
     "execution_count": 0,
     "metadata": {
      "tags": []
     },
     "output_type": "execute_result"
    }
   ],
   "source": [
    "pd.pivot_table(__df__, index=['continent'], columns='year', values='lifeExp')"
   ]
  },
  {
   "cell_type": "code",
   "execution_count": null,
   "metadata": {
    "colab": {
     "background_save": true,
     "base_uri": "https://localhost:8080/",
     "height": 450
    },
    "id": "0LPqJ0yDKJNw",
    "outputId": "ce5af75f-ef29-4ae0-8db0-4d571b44b8fa"
   },
   "outputs": [
    {
     "data": {
      "text/html": [
       "<div>\n",
       "<style scoped>\n",
       "    .dataframe tbody tr th:only-of-type {\n",
       "        vertical-align: middle;\n",
       "    }\n",
       "\n",
       "    .dataframe tbody tr th {\n",
       "        vertical-align: top;\n",
       "    }\n",
       "\n",
       "    .dataframe thead th {\n",
       "        text-align: right;\n",
       "    }\n",
       "</style>\n",
       "<table border=\"1\" class=\"dataframe\">\n",
       "  <thead>\n",
       "    <tr style=\"text-align: right;\">\n",
       "      <th>year</th>\n",
       "      <th>1952</th>\n",
       "      <th>1957</th>\n",
       "      <th>1962</th>\n",
       "      <th>1967</th>\n",
       "      <th>1972</th>\n",
       "      <th>1977</th>\n",
       "      <th>1982</th>\n",
       "      <th>1987</th>\n",
       "      <th>1992</th>\n",
       "      <th>1997</th>\n",
       "      <th>2002</th>\n",
       "      <th>2007</th>\n",
       "    </tr>\n",
       "    <tr>\n",
       "      <th>country</th>\n",
       "      <th></th>\n",
       "      <th></th>\n",
       "      <th></th>\n",
       "      <th></th>\n",
       "      <th></th>\n",
       "      <th></th>\n",
       "      <th></th>\n",
       "      <th></th>\n",
       "      <th></th>\n",
       "      <th></th>\n",
       "      <th></th>\n",
       "      <th></th>\n",
       "    </tr>\n",
       "  </thead>\n",
       "  <tbody>\n",
       "    <tr>\n",
       "      <th>Afghanistan</th>\n",
       "      <td>28.801</td>\n",
       "      <td>30.332</td>\n",
       "      <td>31.997</td>\n",
       "      <td>34.020</td>\n",
       "      <td>36.088</td>\n",
       "      <td>38.438</td>\n",
       "      <td>39.854</td>\n",
       "      <td>40.822</td>\n",
       "      <td>41.674</td>\n",
       "      <td>41.763</td>\n",
       "      <td>42.129</td>\n",
       "      <td>43.828</td>\n",
       "    </tr>\n",
       "    <tr>\n",
       "      <th>Albania</th>\n",
       "      <td>55.230</td>\n",
       "      <td>59.280</td>\n",
       "      <td>64.820</td>\n",
       "      <td>66.220</td>\n",
       "      <td>67.690</td>\n",
       "      <td>68.930</td>\n",
       "      <td>70.420</td>\n",
       "      <td>72.000</td>\n",
       "      <td>71.581</td>\n",
       "      <td>72.950</td>\n",
       "      <td>75.651</td>\n",
       "      <td>76.423</td>\n",
       "    </tr>\n",
       "    <tr>\n",
       "      <th>Algeria</th>\n",
       "      <td>43.077</td>\n",
       "      <td>45.685</td>\n",
       "      <td>48.303</td>\n",
       "      <td>51.407</td>\n",
       "      <td>54.518</td>\n",
       "      <td>58.014</td>\n",
       "      <td>61.368</td>\n",
       "      <td>65.799</td>\n",
       "      <td>67.744</td>\n",
       "      <td>69.152</td>\n",
       "      <td>70.994</td>\n",
       "      <td>72.301</td>\n",
       "    </tr>\n",
       "    <tr>\n",
       "      <th>Angola</th>\n",
       "      <td>30.015</td>\n",
       "      <td>31.999</td>\n",
       "      <td>34.000</td>\n",
       "      <td>35.985</td>\n",
       "      <td>37.928</td>\n",
       "      <td>39.483</td>\n",
       "      <td>39.942</td>\n",
       "      <td>39.906</td>\n",
       "      <td>40.647</td>\n",
       "      <td>40.963</td>\n",
       "      <td>41.003</td>\n",
       "      <td>42.731</td>\n",
       "    </tr>\n",
       "    <tr>\n",
       "      <th>Argentina</th>\n",
       "      <td>62.485</td>\n",
       "      <td>64.399</td>\n",
       "      <td>65.142</td>\n",
       "      <td>65.634</td>\n",
       "      <td>67.065</td>\n",
       "      <td>68.481</td>\n",
       "      <td>69.942</td>\n",
       "      <td>70.774</td>\n",
       "      <td>71.868</td>\n",
       "      <td>73.275</td>\n",
       "      <td>74.340</td>\n",
       "      <td>75.320</td>\n",
       "    </tr>\n",
       "    <tr>\n",
       "      <th>...</th>\n",
       "      <td>...</td>\n",
       "      <td>...</td>\n",
       "      <td>...</td>\n",
       "      <td>...</td>\n",
       "      <td>...</td>\n",
       "      <td>...</td>\n",
       "      <td>...</td>\n",
       "      <td>...</td>\n",
       "      <td>...</td>\n",
       "      <td>...</td>\n",
       "      <td>...</td>\n",
       "      <td>...</td>\n",
       "    </tr>\n",
       "    <tr>\n",
       "      <th>Vietnam</th>\n",
       "      <td>40.412</td>\n",
       "      <td>42.887</td>\n",
       "      <td>45.363</td>\n",
       "      <td>47.838</td>\n",
       "      <td>50.254</td>\n",
       "      <td>55.764</td>\n",
       "      <td>58.816</td>\n",
       "      <td>62.820</td>\n",
       "      <td>67.662</td>\n",
       "      <td>70.672</td>\n",
       "      <td>73.017</td>\n",
       "      <td>74.249</td>\n",
       "    </tr>\n",
       "    <tr>\n",
       "      <th>West Bank and Gaza</th>\n",
       "      <td>43.160</td>\n",
       "      <td>45.671</td>\n",
       "      <td>48.127</td>\n",
       "      <td>51.631</td>\n",
       "      <td>56.532</td>\n",
       "      <td>60.765</td>\n",
       "      <td>64.406</td>\n",
       "      <td>67.046</td>\n",
       "      <td>69.718</td>\n",
       "      <td>71.096</td>\n",
       "      <td>72.370</td>\n",
       "      <td>73.422</td>\n",
       "    </tr>\n",
       "    <tr>\n",
       "      <th>Yemen Rep.</th>\n",
       "      <td>32.548</td>\n",
       "      <td>33.970</td>\n",
       "      <td>35.180</td>\n",
       "      <td>36.984</td>\n",
       "      <td>39.848</td>\n",
       "      <td>44.175</td>\n",
       "      <td>49.113</td>\n",
       "      <td>52.922</td>\n",
       "      <td>55.599</td>\n",
       "      <td>58.020</td>\n",
       "      <td>60.308</td>\n",
       "      <td>62.698</td>\n",
       "    </tr>\n",
       "    <tr>\n",
       "      <th>Zambia</th>\n",
       "      <td>42.038</td>\n",
       "      <td>44.077</td>\n",
       "      <td>46.023</td>\n",
       "      <td>47.768</td>\n",
       "      <td>50.107</td>\n",
       "      <td>51.386</td>\n",
       "      <td>51.821</td>\n",
       "      <td>50.821</td>\n",
       "      <td>46.100</td>\n",
       "      <td>40.238</td>\n",
       "      <td>39.193</td>\n",
       "      <td>42.384</td>\n",
       "    </tr>\n",
       "    <tr>\n",
       "      <th>Zimbabwe</th>\n",
       "      <td>48.451</td>\n",
       "      <td>50.469</td>\n",
       "      <td>52.358</td>\n",
       "      <td>53.995</td>\n",
       "      <td>55.635</td>\n",
       "      <td>57.674</td>\n",
       "      <td>60.363</td>\n",
       "      <td>62.351</td>\n",
       "      <td>60.377</td>\n",
       "      <td>46.809</td>\n",
       "      <td>39.989</td>\n",
       "      <td>43.487</td>\n",
       "    </tr>\n",
       "  </tbody>\n",
       "</table>\n",
       "<p>142 rows × 12 columns</p>\n",
       "</div>"
      ],
      "text/plain": [
       "year                  1952    1957    1962  ...    1997    2002    2007\n",
       "country                                     ...                        \n",
       "Afghanistan         28.801  30.332  31.997  ...  41.763  42.129  43.828\n",
       "Albania             55.230  59.280  64.820  ...  72.950  75.651  76.423\n",
       "Algeria             43.077  45.685  48.303  ...  69.152  70.994  72.301\n",
       "Angola              30.015  31.999  34.000  ...  40.963  41.003  42.731\n",
       "Argentina           62.485  64.399  65.142  ...  73.275  74.340  75.320\n",
       "...                    ...     ...     ...  ...     ...     ...     ...\n",
       "Vietnam             40.412  42.887  45.363  ...  70.672  73.017  74.249\n",
       "West Bank and Gaza  43.160  45.671  48.127  ...  71.096  72.370  73.422\n",
       "Yemen Rep.          32.548  33.970  35.180  ...  58.020  60.308  62.698\n",
       "Zambia              42.038  44.077  46.023  ...  40.238  39.193  42.384\n",
       "Zimbabwe            48.451  50.469  52.358  ...  46.809  39.989  43.487\n",
       "\n",
       "[142 rows x 12 columns]"
      ]
     },
     "execution_count": 0,
     "metadata": {
      "tags": []
     },
     "output_type": "execute_result"
    }
   ],
   "source": [
    "pd.pivot_table(__df__, index=['country'], columns='year', values='lifeExp')"
   ]
  },
  {
   "cell_type": "markdown",
   "metadata": {
    "id": "6vR6VKkxt0fb"
   },
   "source": [
    "In Pandas you can read more than type using following commnads: \n",
    "\n",
    "read_json()\n",
    "\n",
    "read_html()\n",
    "\n",
    "read_sql()\n",
    "\n",
    "read_pickle()\n",
    "read_csv()\n",
    "read_excel()"
   ]
  },
  {
   "cell_type": "code",
   "execution_count": null,
   "metadata": {
    "colab": {
     "background_save": true
    },
    "id": "BOk_LWm775zq"
   },
   "outputs": [],
   "source": []
  }
 ],
 "metadata": {
  "colab": {
   "collapsed_sections": [
    "J-sHGTA_qq6-",
    "5X-qAWJmwurK",
    "HWNKB7Qb2M8T",
    "2BI0GygdTNuS",
    "X5z_ZxOmVzwE",
    "hrXCJt7z51if"
   ],
   "name": "IEEE___Pandas___.ipynb",
   "provenance": []
  },
  "kernelspec": {
   "display_name": "Python 3",
   "language": "python",
   "name": "python3"
  },
  "language_info": {
   "codemirror_mode": {
    "name": "ipython",
    "version": 3
   },
   "file_extension": ".py",
   "mimetype": "text/x-python",
   "name": "python",
   "nbconvert_exporter": "python",
   "pygments_lexer": "ipython3",
   "version": "3.8.5"
  }
 },
 "nbformat": 4,
 "nbformat_minor": 1
}
